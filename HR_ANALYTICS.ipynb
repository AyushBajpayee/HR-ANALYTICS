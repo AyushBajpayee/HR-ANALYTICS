{
 "cells": [
  {
   "cell_type": "markdown",
   "metadata": {
    "heading_collapsed": true,
    "id": "OJZooLs8Qf0J"
   },
   "source": [
    "## **IMPORTING LIBRARIES**"
   ]
  },
  {
   "cell_type": "code",
   "execution_count": 1,
   "metadata": {
    "ExecuteTime": {
     "end_time": "2021-05-31T15:38:35.268390Z",
     "start_time": "2021-05-31T15:38:29.851935Z"
    },
    "hidden": true,
    "id": "6ZiTKJixltUL"
   },
   "outputs": [],
   "source": [
    "#Importing Libraries\n",
    "import numpy as np\n",
    "import pandas as pd\n",
    "import seaborn as sns\n",
    "import matplotlib.pyplot as plt\n",
    "import warnings\n",
    "warnings.filterwarnings(\"ignore\")\n",
    "from sklearn.ensemble import RandomForestClassifier\n",
    "from sklearn.metrics import roc_auc_score\n",
    "from mlxtend.feature_selection import SequentialFeatureSelector\n",
    "from sklearn.linear_model import LogisticRegression\n",
    "from sklearn.svm import SVC\n",
    "from sklearn.neighbors import KNeighborsClassifier\n",
    "from sklearn.tree import DecisionTreeClassifier\n",
    "from xgboost import XGBClassifier\n",
    "from sklearn.metrics import classification_report, confusion_matrix\n",
    "from sklearn.model_selection import GridSearchCV\n",
    "from sklearn.metrics import roc_auc_score"
   ]
  },
  {
   "cell_type": "markdown",
   "metadata": {
    "heading_collapsed": true,
    "id": "oRXxVT5vQmtQ"
   },
   "source": [
    "## **DATA PREPROCESSING**"
   ]
  },
  {
   "cell_type": "code",
   "execution_count": 3,
   "metadata": {
    "ExecuteTime": {
     "end_time": "2021-05-31T15:38:52.399074Z",
     "start_time": "2021-05-31T15:38:52.287354Z"
    },
    "hidden": true,
    "id": "vRFSkrobmblu"
   },
   "outputs": [
    {
     "data": {
      "text/html": [
       "<div>\n",
       "<style scoped>\n",
       "    .dataframe tbody tr th:only-of-type {\n",
       "        vertical-align: middle;\n",
       "    }\n",
       "\n",
       "    .dataframe tbody tr th {\n",
       "        vertical-align: top;\n",
       "    }\n",
       "\n",
       "    .dataframe thead th {\n",
       "        text-align: right;\n",
       "    }\n",
       "</style>\n",
       "<table border=\"1\" class=\"dataframe\">\n",
       "  <thead>\n",
       "    <tr style=\"text-align: right;\">\n",
       "      <th></th>\n",
       "      <th>employee_id</th>\n",
       "      <th>department</th>\n",
       "      <th>region</th>\n",
       "      <th>education</th>\n",
       "      <th>gender</th>\n",
       "      <th>recruitment_channel</th>\n",
       "      <th>no_of_trainings</th>\n",
       "      <th>age</th>\n",
       "      <th>previous_year_rating</th>\n",
       "      <th>length_of_service</th>\n",
       "      <th>KPIs_met &gt;80%</th>\n",
       "      <th>awards_won?</th>\n",
       "      <th>avg_training_score</th>\n",
       "      <th>is_promoted</th>\n",
       "    </tr>\n",
       "  </thead>\n",
       "  <tbody>\n",
       "    <tr>\n",
       "      <th>0</th>\n",
       "      <td>65438</td>\n",
       "      <td>Sales &amp; Marketing</td>\n",
       "      <td>region_7</td>\n",
       "      <td>Master's &amp; above</td>\n",
       "      <td>f</td>\n",
       "      <td>sourcing</td>\n",
       "      <td>1</td>\n",
       "      <td>35</td>\n",
       "      <td>5.0</td>\n",
       "      <td>8</td>\n",
       "      <td>1</td>\n",
       "      <td>0</td>\n",
       "      <td>49</td>\n",
       "      <td>0</td>\n",
       "    </tr>\n",
       "    <tr>\n",
       "      <th>1</th>\n",
       "      <td>65141</td>\n",
       "      <td>Operations</td>\n",
       "      <td>region_22</td>\n",
       "      <td>Bachelor's</td>\n",
       "      <td>m</td>\n",
       "      <td>other</td>\n",
       "      <td>1</td>\n",
       "      <td>30</td>\n",
       "      <td>5.0</td>\n",
       "      <td>4</td>\n",
       "      <td>0</td>\n",
       "      <td>0</td>\n",
       "      <td>60</td>\n",
       "      <td>0</td>\n",
       "    </tr>\n",
       "    <tr>\n",
       "      <th>2</th>\n",
       "      <td>7513</td>\n",
       "      <td>Sales &amp; Marketing</td>\n",
       "      <td>region_19</td>\n",
       "      <td>Bachelor's</td>\n",
       "      <td>m</td>\n",
       "      <td>sourcing</td>\n",
       "      <td>1</td>\n",
       "      <td>34</td>\n",
       "      <td>3.0</td>\n",
       "      <td>7</td>\n",
       "      <td>0</td>\n",
       "      <td>0</td>\n",
       "      <td>50</td>\n",
       "      <td>0</td>\n",
       "    </tr>\n",
       "    <tr>\n",
       "      <th>3</th>\n",
       "      <td>2542</td>\n",
       "      <td>Sales &amp; Marketing</td>\n",
       "      <td>region_23</td>\n",
       "      <td>Bachelor's</td>\n",
       "      <td>m</td>\n",
       "      <td>other</td>\n",
       "      <td>2</td>\n",
       "      <td>39</td>\n",
       "      <td>1.0</td>\n",
       "      <td>10</td>\n",
       "      <td>0</td>\n",
       "      <td>0</td>\n",
       "      <td>50</td>\n",
       "      <td>0</td>\n",
       "    </tr>\n",
       "    <tr>\n",
       "      <th>4</th>\n",
       "      <td>48945</td>\n",
       "      <td>Technology</td>\n",
       "      <td>region_26</td>\n",
       "      <td>Bachelor's</td>\n",
       "      <td>m</td>\n",
       "      <td>other</td>\n",
       "      <td>1</td>\n",
       "      <td>45</td>\n",
       "      <td>3.0</td>\n",
       "      <td>2</td>\n",
       "      <td>0</td>\n",
       "      <td>0</td>\n",
       "      <td>73</td>\n",
       "      <td>0</td>\n",
       "    </tr>\n",
       "    <tr>\n",
       "      <th>...</th>\n",
       "      <td>...</td>\n",
       "      <td>...</td>\n",
       "      <td>...</td>\n",
       "      <td>...</td>\n",
       "      <td>...</td>\n",
       "      <td>...</td>\n",
       "      <td>...</td>\n",
       "      <td>...</td>\n",
       "      <td>...</td>\n",
       "      <td>...</td>\n",
       "      <td>...</td>\n",
       "      <td>...</td>\n",
       "      <td>...</td>\n",
       "      <td>...</td>\n",
       "    </tr>\n",
       "    <tr>\n",
       "      <th>54803</th>\n",
       "      <td>3030</td>\n",
       "      <td>Technology</td>\n",
       "      <td>region_14</td>\n",
       "      <td>Bachelor's</td>\n",
       "      <td>m</td>\n",
       "      <td>sourcing</td>\n",
       "      <td>1</td>\n",
       "      <td>48</td>\n",
       "      <td>3.0</td>\n",
       "      <td>17</td>\n",
       "      <td>0</td>\n",
       "      <td>0</td>\n",
       "      <td>78</td>\n",
       "      <td>0</td>\n",
       "    </tr>\n",
       "    <tr>\n",
       "      <th>54804</th>\n",
       "      <td>74592</td>\n",
       "      <td>Operations</td>\n",
       "      <td>region_27</td>\n",
       "      <td>Master's &amp; above</td>\n",
       "      <td>f</td>\n",
       "      <td>other</td>\n",
       "      <td>1</td>\n",
       "      <td>37</td>\n",
       "      <td>2.0</td>\n",
       "      <td>6</td>\n",
       "      <td>0</td>\n",
       "      <td>0</td>\n",
       "      <td>56</td>\n",
       "      <td>0</td>\n",
       "    </tr>\n",
       "    <tr>\n",
       "      <th>54805</th>\n",
       "      <td>13918</td>\n",
       "      <td>Analytics</td>\n",
       "      <td>region_1</td>\n",
       "      <td>Bachelor's</td>\n",
       "      <td>m</td>\n",
       "      <td>other</td>\n",
       "      <td>1</td>\n",
       "      <td>27</td>\n",
       "      <td>5.0</td>\n",
       "      <td>3</td>\n",
       "      <td>1</td>\n",
       "      <td>0</td>\n",
       "      <td>79</td>\n",
       "      <td>0</td>\n",
       "    </tr>\n",
       "    <tr>\n",
       "      <th>54806</th>\n",
       "      <td>13614</td>\n",
       "      <td>Sales &amp; Marketing</td>\n",
       "      <td>region_9</td>\n",
       "      <td>NaN</td>\n",
       "      <td>m</td>\n",
       "      <td>sourcing</td>\n",
       "      <td>1</td>\n",
       "      <td>29</td>\n",
       "      <td>1.0</td>\n",
       "      <td>2</td>\n",
       "      <td>0</td>\n",
       "      <td>0</td>\n",
       "      <td>45</td>\n",
       "      <td>0</td>\n",
       "    </tr>\n",
       "    <tr>\n",
       "      <th>54807</th>\n",
       "      <td>51526</td>\n",
       "      <td>HR</td>\n",
       "      <td>region_22</td>\n",
       "      <td>Bachelor's</td>\n",
       "      <td>m</td>\n",
       "      <td>other</td>\n",
       "      <td>1</td>\n",
       "      <td>27</td>\n",
       "      <td>1.0</td>\n",
       "      <td>5</td>\n",
       "      <td>0</td>\n",
       "      <td>0</td>\n",
       "      <td>49</td>\n",
       "      <td>0</td>\n",
       "    </tr>\n",
       "  </tbody>\n",
       "</table>\n",
       "<p>54808 rows × 14 columns</p>\n",
       "</div>"
      ],
      "text/plain": [
       "       employee_id         department     region         education gender  \\\n",
       "0            65438  Sales & Marketing   region_7  Master's & above      f   \n",
       "1            65141         Operations  region_22        Bachelor's      m   \n",
       "2             7513  Sales & Marketing  region_19        Bachelor's      m   \n",
       "3             2542  Sales & Marketing  region_23        Bachelor's      m   \n",
       "4            48945         Technology  region_26        Bachelor's      m   \n",
       "...            ...                ...        ...               ...    ...   \n",
       "54803         3030         Technology  region_14        Bachelor's      m   \n",
       "54804        74592         Operations  region_27  Master's & above      f   \n",
       "54805        13918          Analytics   region_1        Bachelor's      m   \n",
       "54806        13614  Sales & Marketing   region_9               NaN      m   \n",
       "54807        51526                 HR  region_22        Bachelor's      m   \n",
       "\n",
       "      recruitment_channel  no_of_trainings  age  previous_year_rating  \\\n",
       "0                sourcing                1   35                   5.0   \n",
       "1                   other                1   30                   5.0   \n",
       "2                sourcing                1   34                   3.0   \n",
       "3                   other                2   39                   1.0   \n",
       "4                   other                1   45                   3.0   \n",
       "...                   ...              ...  ...                   ...   \n",
       "54803            sourcing                1   48                   3.0   \n",
       "54804               other                1   37                   2.0   \n",
       "54805               other                1   27                   5.0   \n",
       "54806            sourcing                1   29                   1.0   \n",
       "54807               other                1   27                   1.0   \n",
       "\n",
       "       length_of_service  KPIs_met >80%  awards_won?  avg_training_score  \\\n",
       "0                      8              1            0                  49   \n",
       "1                      4              0            0                  60   \n",
       "2                      7              0            0                  50   \n",
       "3                     10              0            0                  50   \n",
       "4                      2              0            0                  73   \n",
       "...                  ...            ...          ...                 ...   \n",
       "54803                 17              0            0                  78   \n",
       "54804                  6              0            0                  56   \n",
       "54805                  3              1            0                  79   \n",
       "54806                  2              0            0                  45   \n",
       "54807                  5              0            0                  49   \n",
       "\n",
       "       is_promoted  \n",
       "0                0  \n",
       "1                0  \n",
       "2                0  \n",
       "3                0  \n",
       "4                0  \n",
       "...            ...  \n",
       "54803            0  \n",
       "54804            0  \n",
       "54805            0  \n",
       "54806            0  \n",
       "54807            0  \n",
       "\n",
       "[54808 rows x 14 columns]"
      ]
     },
     "execution_count": 3,
     "metadata": {},
     "output_type": "execute_result"
    }
   ],
   "source": [
    "#Importing Dataset\n",
    "dataset = pd.read_csv('train.csv')\n",
    "dataset"
   ]
  },
  {
   "cell_type": "code",
   "execution_count": 4,
   "metadata": {
    "ExecuteTime": {
     "end_time": "2021-05-31T15:39:03.016271Z",
     "start_time": "2021-05-31T15:39:02.969046Z"
    },
    "hidden": true,
    "id": "TPPoZT_DIWO8"
   },
   "outputs": [
    {
     "data": {
      "text/plain": [
       "employee_id             54808\n",
       "department                  9\n",
       "region                     34\n",
       "education                   3\n",
       "gender                      2\n",
       "recruitment_channel         3\n",
       "no_of_trainings            10\n",
       "age                        41\n",
       "previous_year_rating        5\n",
       "length_of_service          35\n",
       "KPIs_met >80%               2\n",
       "awards_won?                 2\n",
       "avg_training_score         61\n",
       "is_promoted                 2\n",
       "dtype: int64"
      ]
     },
     "execution_count": 4,
     "metadata": {},
     "output_type": "execute_result"
    }
   ],
   "source": [
    "#Observing how many unique values dataset has for each coloumn\n",
    "dataset.nunique()"
   ]
  },
  {
   "cell_type": "code",
   "execution_count": 5,
   "metadata": {
    "ExecuteTime": {
     "end_time": "2021-05-31T15:40:01.408498Z",
     "start_time": "2021-05-31T15:40:01.401455Z"
    },
    "hidden": true,
    "id": "tIhL78L9OlZr"
   },
   "outputs": [
    {
     "data": {
      "text/plain": [
       "employee_id               int64\n",
       "department               object\n",
       "region                   object\n",
       "education                object\n",
       "gender                   object\n",
       "recruitment_channel      object\n",
       "no_of_trainings           int64\n",
       "age                       int64\n",
       "previous_year_rating    float64\n",
       "length_of_service         int64\n",
       "KPIs_met >80%             int64\n",
       "awards_won?               int64\n",
       "avg_training_score        int64\n",
       "is_promoted               int64\n",
       "dtype: object"
      ]
     },
     "execution_count": 5,
     "metadata": {},
     "output_type": "execute_result"
    }
   ],
   "source": [
    "#Observing data types\n",
    "dataset.dtypes"
   ]
  },
  {
   "cell_type": "code",
   "execution_count": 6,
   "metadata": {
    "ExecuteTime": {
     "end_time": "2021-05-31T15:40:20.003694Z",
     "start_time": "2021-05-31T15:40:19.983251Z"
    },
    "hidden": true,
    "id": "twiIR06EIWO9"
   },
   "outputs": [
    {
     "name": "stdout",
     "output_type": "stream",
     "text": [
      "<class 'pandas.core.frame.DataFrame'>\n",
      "RangeIndex: 54808 entries, 0 to 54807\n",
      "Data columns (total 14 columns):\n",
      " #   Column                Non-Null Count  Dtype  \n",
      "---  ------                --------------  -----  \n",
      " 0   employee_id           54808 non-null  int64  \n",
      " 1   department            54808 non-null  object \n",
      " 2   region                54808 non-null  object \n",
      " 3   education             52399 non-null  object \n",
      " 4   gender                54808 non-null  object \n",
      " 5   recruitment_channel   54808 non-null  object \n",
      " 6   no_of_trainings       54808 non-null  int64  \n",
      " 7   age                   54808 non-null  int64  \n",
      " 8   previous_year_rating  50684 non-null  float64\n",
      " 9   length_of_service     54808 non-null  int64  \n",
      " 10  KPIs_met >80%         54808 non-null  int64  \n",
      " 11  awards_won?           54808 non-null  int64  \n",
      " 12  avg_training_score    54808 non-null  int64  \n",
      " 13  is_promoted           54808 non-null  int64  \n",
      "dtypes: float64(1), int64(8), object(5)\n",
      "memory usage: 5.9+ MB\n"
     ]
    }
   ],
   "source": [
    "#A general inference about the dataset\n",
    "dataset.info()"
   ]
  },
  {
   "cell_type": "markdown",
   "metadata": {
    "heading_collapsed": true,
    "hidden": true,
    "id": "0uO11jjG0NBb"
   },
   "source": [
    "### Handling Null"
   ]
  },
  {
   "cell_type": "code",
   "execution_count": 7,
   "metadata": {
    "ExecuteTime": {
     "end_time": "2021-05-31T15:40:29.943830Z",
     "start_time": "2021-05-31T15:40:29.926294Z"
    },
    "hidden": true,
    "id": "yvG2QqP_mls6"
   },
   "outputs": [
    {
     "data": {
      "text/plain": [
       "employee_id                0\n",
       "department                 0\n",
       "region                     0\n",
       "education               2409\n",
       "gender                     0\n",
       "recruitment_channel        0\n",
       "no_of_trainings            0\n",
       "age                        0\n",
       "previous_year_rating    4124\n",
       "length_of_service          0\n",
       "KPIs_met >80%              0\n",
       "awards_won?                0\n",
       "avg_training_score         0\n",
       "is_promoted                0\n",
       "dtype: int64"
      ]
     },
     "execution_count": 7,
     "metadata": {},
     "output_type": "execute_result"
    }
   ],
   "source": [
    "#Checking for null values\n",
    "dataset.isna().sum()"
   ]
  },
  {
   "cell_type": "code",
   "execution_count": 8,
   "metadata": {
    "ExecuteTime": {
     "end_time": "2021-05-31T15:40:33.765762Z",
     "start_time": "2021-05-31T15:40:33.684365Z"
    },
    "hidden": true,
    "id": "0oMtAuK9Q_UQ"
   },
   "outputs": [
    {
     "data": {
      "text/plain": [
       "employee_id             0.000000\n",
       "department              0.000000\n",
       "region                  0.000000\n",
       "education               4.395344\n",
       "gender                  0.000000\n",
       "recruitment_channel     0.000000\n",
       "no_of_trainings         0.000000\n",
       "age                     0.000000\n",
       "previous_year_rating    7.524449\n",
       "length_of_service       0.000000\n",
       "KPIs_met >80%           0.000000\n",
       "awards_won?             0.000000\n",
       "avg_training_score      0.000000\n",
       "is_promoted             0.000000\n",
       "dtype: float64"
      ]
     },
     "execution_count": 8,
     "metadata": {},
     "output_type": "execute_result"
    }
   ],
   "source": [
    "#Observing null value percentage\n",
    "dataset.isna().mean()*100"
   ]
  },
  {
   "cell_type": "code",
   "execution_count": 9,
   "metadata": {
    "ExecuteTime": {
     "end_time": "2021-05-31T15:40:37.642580Z",
     "start_time": "2021-05-31T15:40:37.632607Z"
    },
    "hidden": true,
    "id": "oJLD1MHiTEO9"
   },
   "outputs": [
    {
     "data": {
      "text/plain": [
       "Bachelor's          36669\n",
       "Master's & above    14925\n",
       "Below Secondary       805\n",
       "Name: education, dtype: int64"
      ]
     },
     "execution_count": 9,
     "metadata": {},
     "output_type": "execute_result"
    }
   ],
   "source": [
    "#Analysing education\n",
    "dataset.education.value_counts()"
   ]
  },
  {
   "cell_type": "markdown",
   "metadata": {
    "hidden": true,
    "id": "2gMGP7yrWznc"
   },
   "source": [
    "**NULL IN EDUCATION**\n",
    "\n",
    "Education is a nominal categorical variable so null imputation can be done with mode. If education turns out to be a very good feature then null imputation with mode will change data integrity resulting in a bad model. Imputing nulls with a 'Not Defined' will help us in identifying patterns of these null values. So we will **impute null with 'Not Defined'**."
   ]
  },
  {
   "cell_type": "code",
   "execution_count": 10,
   "metadata": {
    "ExecuteTime": {
     "end_time": "2021-05-31T15:44:12.989211Z",
     "start_time": "2021-05-31T15:44:12.979201Z"
    },
    "hidden": true,
    "id": "EghfSDWZRwjX"
   },
   "outputs": [
    {
     "data": {
      "text/plain": [
       "3.0    18618\n",
       "5.0    11741\n",
       "4.0     9877\n",
       "1.0     6223\n",
       "2.0     4225\n",
       "Name: previous_year_rating, dtype: int64"
      ]
     },
     "execution_count": 10,
     "metadata": {},
     "output_type": "execute_result"
    }
   ],
   "source": [
    "#Analysing previous_year_rating\n",
    "dataset.previous_year_rating.value_counts()"
   ]
  },
  {
   "cell_type": "code",
   "execution_count": 11,
   "metadata": {
    "ExecuteTime": {
     "end_time": "2021-05-31T15:44:22.220982Z",
     "start_time": "2021-05-31T15:44:22.210009Z"
    },
    "hidden": true,
    "id": "NOJkvExPZ9TB"
   },
   "outputs": [
    {
     "data": {
      "text/plain": [
       "Bachelor's          3265\n",
       "Below Secondary      347\n",
       "Master's & above     127\n",
       "Name: education, dtype: int64"
      ]
     },
     "execution_count": 11,
     "metadata": {},
     "output_type": "execute_result"
    }
   ],
   "source": [
    "#Observing Null values of previous year rating with respect to education\n",
    "dataset[dataset.previous_year_rating.isna()]['education'].value_counts()"
   ]
  },
  {
   "cell_type": "code",
   "execution_count": 12,
   "metadata": {
    "ExecuteTime": {
     "end_time": "2021-05-31T15:45:15.471147Z",
     "start_time": "2021-05-31T15:45:15.463167Z"
    },
    "hidden": true,
    "id": "VMhiZ9COa2j7"
   },
   "outputs": [
    {
     "data": {
      "text/plain": [
       "1    4124\n",
       "Name: length_of_service, dtype: int64"
      ]
     },
     "execution_count": 12,
     "metadata": {},
     "output_type": "execute_result"
    }
   ],
   "source": [
    "#Observing Null values of previous year rating with respect to length of service\n",
    "dataset[dataset.previous_year_rating.isna()]['length_of_service'].value_counts()"
   ]
  },
  {
   "cell_type": "markdown",
   "metadata": {
    "hidden": true,
    "id": "IeW10_VWe6Pf"
   },
   "source": [
    "**NULL IN PREVIOUS_YEAR_RATING**\n",
    "\n",
    "Ordinal categorical variable with null value percentage ~7.5%\n",
    "\n",
    "\n",
    "**Missing Values might indicate FRESHERS or NEW JOINEES** because\n",
    "\n",
    "- Length of service for all is equal to 1. This 1 might indicate their training period.\n",
    "\n",
    "- Maximum have their education qualification as bachelors. Minimum have their education qualification as masters. Usually, people having masters already has some cooperate experience. If length of service indicates total work experience, then it means they are all freshers. If length of service indicates work experience in this specific company, then it means they are all new joinees\n",
    "\n",
    "- Ratings include (1, 2, 3, 4, 5). There is nothing as 0, which means the people who did not have a previous year might have left the previous year rating column as null. \n",
    "\n",
    "Based on these inferences, null values are **MNAR** (Missing Not at Random) and should be imputed with 0 indicating they are all new joinees or freshers and did not have a previous year in the company.\n",
    "{In the EDA PPT, it is written NULL is **MAR**. Please Ignore that}\n",
    "\n"
   ]
  },
  {
   "cell_type": "code",
   "execution_count": 14,
   "metadata": {
    "ExecuteTime": {
     "end_time": "2021-05-31T15:50:05.719655Z",
     "start_time": "2021-05-31T15:50:05.711643Z"
    },
    "hidden": true,
    "id": "jjNTp5UjIWPA"
   },
   "outputs": [],
   "source": [
    "#Handling nulls in education (filling it with 'Not Defined')\n",
    "dataset['education'].fillna(value = 'Not Defined', inplace=True)"
   ]
  },
  {
   "cell_type": "code",
   "execution_count": 15,
   "metadata": {
    "ExecuteTime": {
     "end_time": "2021-05-31T15:50:20.759622Z",
     "start_time": "2021-05-31T15:50:20.745662Z"
    },
    "hidden": true,
    "id": "gM21HHUeydtX"
   },
   "outputs": [],
   "source": [
    "#Null imputation in previous_year_rating (filling it with 0)\n",
    "dataset.fillna(value=0, inplace = True)"
   ]
  },
  {
   "cell_type": "markdown",
   "metadata": {
    "heading_collapsed": true,
    "hidden": true,
    "id": "afNZY8wx0YZ7"
   },
   "source": [
    "### Handling Duplicates"
   ]
  },
  {
   "cell_type": "code",
   "execution_count": 16,
   "metadata": {
    "ExecuteTime": {
     "end_time": "2021-05-31T15:50:41.697385Z",
     "start_time": "2021-05-31T15:50:41.649466Z"
    },
    "hidden": true,
    "id": "MiSWkTqp0cSv"
   },
   "outputs": [
    {
     "data": {
      "text/plain": [
       "0"
      ]
     },
     "execution_count": 16,
     "metadata": {},
     "output_type": "execute_result"
    }
   ],
   "source": [
    "#Checking Duplicate rows\n",
    "dataset.duplicated().sum()"
   ]
  },
  {
   "cell_type": "code",
   "execution_count": 17,
   "metadata": {
    "ExecuteTime": {
     "end_time": "2021-05-31T15:50:57.690148Z",
     "start_time": "2021-05-31T15:50:44.688992Z"
    },
    "hidden": true,
    "id": "ercdszBx07aV"
   },
   "outputs": [
    {
     "data": {
      "text/plain": [
       "0"
      ]
     },
     "execution_count": 17,
     "metadata": {},
     "output_type": "execute_result"
    }
   ],
   "source": [
    "#Checking Duplicate columns\n",
    "dataset_transposed = dataset.T\n",
    "dataset_transposed.duplicated().sum()"
   ]
  },
  {
   "cell_type": "markdown",
   "metadata": {
    "hidden": true,
    "id": "FApQBFRe2KLa"
   },
   "source": [
    "There are no duplicates in the dataframe"
   ]
  },
  {
   "cell_type": "markdown",
   "metadata": {
    "heading_collapsed": true,
    "hidden": true,
    "id": "BilSlXbAIWPC"
   },
   "source": [
    "### Splitting Data"
   ]
  },
  {
   "cell_type": "code",
   "execution_count": 18,
   "metadata": {
    "ExecuteTime": {
     "end_time": "2021-05-31T15:52:06.961373Z",
     "start_time": "2021-05-31T15:52:05.105945Z"
    },
    "hidden": true,
    "id": "iuYU2Z8-IWPC"
   },
   "outputs": [],
   "source": [
    "#Splitting the dataset into Dependent and Independent variables\n",
    "from sklearn.model_selection import train_test_split\n",
    "X = dataset.iloc[:, :-1] #X is the featureset. Dataframe excluding Target Variable (is_promoted)\n",
    "y = dataset.iloc[:, -1:] #y is the target variable (is_promoted)"
   ]
  },
  {
   "cell_type": "code",
   "execution_count": 19,
   "metadata": {
    "ExecuteTime": {
     "end_time": "2021-05-31T15:52:12.446509Z",
     "start_time": "2021-05-31T15:52:12.429387Z"
    },
    "hidden": true,
    "id": "txT0BAKDIWPC"
   },
   "outputs": [],
   "source": [
    "#Splitting the dataframe into training and test sets (72 percent train, 28 percent test)\n",
    "X_train, X_test, y_train, y_test = train_test_split(X, y, train_size = 0.72, random_state = 42)"
   ]
  },
  {
   "cell_type": "code",
   "execution_count": 20,
   "metadata": {
    "ExecuteTime": {
     "end_time": "2021-05-31T15:53:14.663169Z",
     "start_time": "2021-05-31T15:53:14.653684Z"
    },
    "hidden": true,
    "id": "8ghe-gbPIWPC"
   },
   "outputs": [],
   "source": [
    "#Further splitting the test set into validation and testing sets (40 percent Validation, 60 percent test)\n",
    "X_validation, X_test, y_validation, y_test = train_test_split(X_test, y_test, train_size = 0.4, random_state = 42)"
   ]
  },
  {
   "cell_type": "code",
   "execution_count": 21,
   "metadata": {
    "ExecuteTime": {
     "end_time": "2021-05-31T15:53:16.436654Z",
     "start_time": "2021-05-31T15:53:16.430265Z"
    },
    "hidden": true,
    "id": "DkaMfBD4IWPD"
   },
   "outputs": [
    {
     "name": "stdout",
     "output_type": "stream",
     "text": [
      "(39461, 13) (39461, 1)\n",
      "(9209, 13) (9209, 1)\n",
      "(6138, 13) (6138, 1)\n"
     ]
    }
   ],
   "source": [
    "#Observing Shapes of the splitted dataframes\n",
    "print(X_train.shape, y_train.shape)\n",
    "print(X_test.shape, y_test.shape)\n",
    "print(X_validation.shape, y_validation.shape)"
   ]
  },
  {
   "cell_type": "markdown",
   "metadata": {
    "heading_collapsed": true,
    "id": "B20tn--U3dfA"
   },
   "source": [
    "## **EDA**"
   ]
  },
  {
   "cell_type": "code",
   "execution_count": 22,
   "metadata": {
    "ExecuteTime": {
     "end_time": "2021-05-31T15:53:24.106063Z",
     "start_time": "2021-05-31T15:53:24.085104Z"
    },
    "hidden": true,
    "id": "U9mGcKBFIWPD",
    "outputId": "6a573c82-e7cd-499a-a800-0ffe0076168e"
   },
   "outputs": [
    {
     "data": {
      "text/html": [
       "<div>\n",
       "<style scoped>\n",
       "    .dataframe tbody tr th:only-of-type {\n",
       "        vertical-align: middle;\n",
       "    }\n",
       "\n",
       "    .dataframe tbody tr th {\n",
       "        vertical-align: top;\n",
       "    }\n",
       "\n",
       "    .dataframe thead th {\n",
       "        text-align: right;\n",
       "    }\n",
       "</style>\n",
       "<table border=\"1\" class=\"dataframe\">\n",
       "  <thead>\n",
       "    <tr style=\"text-align: right;\">\n",
       "      <th></th>\n",
       "      <th>employee_id</th>\n",
       "      <th>department</th>\n",
       "      <th>region</th>\n",
       "      <th>education</th>\n",
       "      <th>gender</th>\n",
       "      <th>recruitment_channel</th>\n",
       "      <th>no_of_trainings</th>\n",
       "      <th>age</th>\n",
       "      <th>previous_year_rating</th>\n",
       "      <th>length_of_service</th>\n",
       "      <th>KPIs_met &gt;80%</th>\n",
       "      <th>awards_won?</th>\n",
       "      <th>avg_training_score</th>\n",
       "      <th>is_promoted</th>\n",
       "    </tr>\n",
       "  </thead>\n",
       "  <tbody>\n",
       "    <tr>\n",
       "      <th>50114</th>\n",
       "      <td>6829</td>\n",
       "      <td>Sales &amp; Marketing</td>\n",
       "      <td>region_14</td>\n",
       "      <td>Bachelor's</td>\n",
       "      <td>m</td>\n",
       "      <td>other</td>\n",
       "      <td>1</td>\n",
       "      <td>41</td>\n",
       "      <td>4.0</td>\n",
       "      <td>6</td>\n",
       "      <td>0</td>\n",
       "      <td>0</td>\n",
       "      <td>52</td>\n",
       "      <td>0</td>\n",
       "    </tr>\n",
       "    <tr>\n",
       "      <th>5038</th>\n",
       "      <td>20709</td>\n",
       "      <td>Finance</td>\n",
       "      <td>region_7</td>\n",
       "      <td>Master's &amp; above</td>\n",
       "      <td>m</td>\n",
       "      <td>sourcing</td>\n",
       "      <td>1</td>\n",
       "      <td>33</td>\n",
       "      <td>5.0</td>\n",
       "      <td>7</td>\n",
       "      <td>0</td>\n",
       "      <td>0</td>\n",
       "      <td>71</td>\n",
       "      <td>1</td>\n",
       "    </tr>\n",
       "    <tr>\n",
       "      <th>26158</th>\n",
       "      <td>74525</td>\n",
       "      <td>Technology</td>\n",
       "      <td>region_33</td>\n",
       "      <td>Bachelor's</td>\n",
       "      <td>f</td>\n",
       "      <td>other</td>\n",
       "      <td>1</td>\n",
       "      <td>33</td>\n",
       "      <td>1.0</td>\n",
       "      <td>2</td>\n",
       "      <td>0</td>\n",
       "      <td>0</td>\n",
       "      <td>79</td>\n",
       "      <td>0</td>\n",
       "    </tr>\n",
       "    <tr>\n",
       "      <th>48838</th>\n",
       "      <td>74802</td>\n",
       "      <td>Finance</td>\n",
       "      <td>region_2</td>\n",
       "      <td>Bachelor's</td>\n",
       "      <td>m</td>\n",
       "      <td>sourcing</td>\n",
       "      <td>1</td>\n",
       "      <td>27</td>\n",
       "      <td>3.0</td>\n",
       "      <td>5</td>\n",
       "      <td>0</td>\n",
       "      <td>0</td>\n",
       "      <td>59</td>\n",
       "      <td>0</td>\n",
       "    </tr>\n",
       "    <tr>\n",
       "      <th>13179</th>\n",
       "      <td>11415</td>\n",
       "      <td>Operations</td>\n",
       "      <td>region_27</td>\n",
       "      <td>Bachelor's</td>\n",
       "      <td>f</td>\n",
       "      <td>other</td>\n",
       "      <td>1</td>\n",
       "      <td>32</td>\n",
       "      <td>3.0</td>\n",
       "      <td>3</td>\n",
       "      <td>0</td>\n",
       "      <td>0</td>\n",
       "      <td>55</td>\n",
       "      <td>0</td>\n",
       "    </tr>\n",
       "    <tr>\n",
       "      <th>...</th>\n",
       "      <td>...</td>\n",
       "      <td>...</td>\n",
       "      <td>...</td>\n",
       "      <td>...</td>\n",
       "      <td>...</td>\n",
       "      <td>...</td>\n",
       "      <td>...</td>\n",
       "      <td>...</td>\n",
       "      <td>...</td>\n",
       "      <td>...</td>\n",
       "      <td>...</td>\n",
       "      <td>...</td>\n",
       "      <td>...</td>\n",
       "      <td>...</td>\n",
       "    </tr>\n",
       "    <tr>\n",
       "      <th>44732</th>\n",
       "      <td>70143</td>\n",
       "      <td>Procurement</td>\n",
       "      <td>region_22</td>\n",
       "      <td>Master's &amp; above</td>\n",
       "      <td>f</td>\n",
       "      <td>sourcing</td>\n",
       "      <td>3</td>\n",
       "      <td>36</td>\n",
       "      <td>3.0</td>\n",
       "      <td>4</td>\n",
       "      <td>0</td>\n",
       "      <td>0</td>\n",
       "      <td>67</td>\n",
       "      <td>0</td>\n",
       "    </tr>\n",
       "    <tr>\n",
       "      <th>54343</th>\n",
       "      <td>48082</td>\n",
       "      <td>Procurement</td>\n",
       "      <td>region_2</td>\n",
       "      <td>Bachelor's</td>\n",
       "      <td>f</td>\n",
       "      <td>sourcing</td>\n",
       "      <td>1</td>\n",
       "      <td>27</td>\n",
       "      <td>0.0</td>\n",
       "      <td>1</td>\n",
       "      <td>0</td>\n",
       "      <td>0</td>\n",
       "      <td>68</td>\n",
       "      <td>0</td>\n",
       "    </tr>\n",
       "    <tr>\n",
       "      <th>38158</th>\n",
       "      <td>62588</td>\n",
       "      <td>Operations</td>\n",
       "      <td>region_11</td>\n",
       "      <td>Bachelor's</td>\n",
       "      <td>f</td>\n",
       "      <td>sourcing</td>\n",
       "      <td>1</td>\n",
       "      <td>34</td>\n",
       "      <td>5.0</td>\n",
       "      <td>7</td>\n",
       "      <td>1</td>\n",
       "      <td>0</td>\n",
       "      <td>65</td>\n",
       "      <td>0</td>\n",
       "    </tr>\n",
       "    <tr>\n",
       "      <th>860</th>\n",
       "      <td>61087</td>\n",
       "      <td>Analytics</td>\n",
       "      <td>region_15</td>\n",
       "      <td>Master's &amp; above</td>\n",
       "      <td>m</td>\n",
       "      <td>other</td>\n",
       "      <td>3</td>\n",
       "      <td>35</td>\n",
       "      <td>5.0</td>\n",
       "      <td>3</td>\n",
       "      <td>0</td>\n",
       "      <td>0</td>\n",
       "      <td>86</td>\n",
       "      <td>0</td>\n",
       "    </tr>\n",
       "    <tr>\n",
       "      <th>15795</th>\n",
       "      <td>59512</td>\n",
       "      <td>HR</td>\n",
       "      <td>region_22</td>\n",
       "      <td>Bachelor's</td>\n",
       "      <td>m</td>\n",
       "      <td>sourcing</td>\n",
       "      <td>1</td>\n",
       "      <td>30</td>\n",
       "      <td>1.0</td>\n",
       "      <td>2</td>\n",
       "      <td>0</td>\n",
       "      <td>0</td>\n",
       "      <td>53</td>\n",
       "      <td>0</td>\n",
       "    </tr>\n",
       "  </tbody>\n",
       "</table>\n",
       "<p>39461 rows × 14 columns</p>\n",
       "</div>"
      ],
      "text/plain": [
       "       employee_id         department     region         education gender  \\\n",
       "50114         6829  Sales & Marketing  region_14        Bachelor's      m   \n",
       "5038         20709            Finance   region_7  Master's & above      m   \n",
       "26158        74525         Technology  region_33        Bachelor's      f   \n",
       "48838        74802            Finance   region_2        Bachelor's      m   \n",
       "13179        11415         Operations  region_27        Bachelor's      f   \n",
       "...            ...                ...        ...               ...    ...   \n",
       "44732        70143        Procurement  region_22  Master's & above      f   \n",
       "54343        48082        Procurement   region_2        Bachelor's      f   \n",
       "38158        62588         Operations  region_11        Bachelor's      f   \n",
       "860          61087          Analytics  region_15  Master's & above      m   \n",
       "15795        59512                 HR  region_22        Bachelor's      m   \n",
       "\n",
       "      recruitment_channel  no_of_trainings  age  previous_year_rating  \\\n",
       "50114               other                1   41                   4.0   \n",
       "5038             sourcing                1   33                   5.0   \n",
       "26158               other                1   33                   1.0   \n",
       "48838            sourcing                1   27                   3.0   \n",
       "13179               other                1   32                   3.0   \n",
       "...                   ...              ...  ...                   ...   \n",
       "44732            sourcing                3   36                   3.0   \n",
       "54343            sourcing                1   27                   0.0   \n",
       "38158            sourcing                1   34                   5.0   \n",
       "860                 other                3   35                   5.0   \n",
       "15795            sourcing                1   30                   1.0   \n",
       "\n",
       "       length_of_service  KPIs_met >80%  awards_won?  avg_training_score  \\\n",
       "50114                  6              0            0                  52   \n",
       "5038                   7              0            0                  71   \n",
       "26158                  2              0            0                  79   \n",
       "48838                  5              0            0                  59   \n",
       "13179                  3              0            0                  55   \n",
       "...                  ...            ...          ...                 ...   \n",
       "44732                  4              0            0                  67   \n",
       "54343                  1              0            0                  68   \n",
       "38158                  7              1            0                  65   \n",
       "860                    3              0            0                  86   \n",
       "15795                  2              0            0                  53   \n",
       "\n",
       "       is_promoted  \n",
       "50114            0  \n",
       "5038             1  \n",
       "26158            0  \n",
       "48838            0  \n",
       "13179            0  \n",
       "...            ...  \n",
       "44732            0  \n",
       "54343            0  \n",
       "38158            0  \n",
       "860              0  \n",
       "15795            0  \n",
       "\n",
       "[39461 rows x 14 columns]"
      ]
     },
     "execution_count": 22,
     "metadata": {},
     "output_type": "execute_result"
    }
   ],
   "source": [
    "#Concating Featureset with target of the training set for EDA\n",
    "dataset_eda = pd.concat([X_train, y_train], axis = 1)\n",
    "dataset_eda"
   ]
  },
  {
   "cell_type": "code",
   "execution_count": 23,
   "metadata": {
    "ExecuteTime": {
     "end_time": "2021-05-31T15:53:38.986988Z",
     "start_time": "2021-05-31T15:53:38.602987Z"
    },
    "hidden": true,
    "hide_input": false,
    "id": "8dH3Bty94JgA"
   },
   "outputs": [
    {
     "name": "stdout",
     "output_type": "stream",
     "text": [
      "department\n",
      "Analytics            0.099526\n",
      "Finance              0.085929\n",
      "HR                   0.053695\n",
      "Legal                0.052069\n",
      "Operations           0.091076\n",
      "Procurement          0.096960\n",
      "R&D                  0.066298\n",
      "Sales & Marketing    0.073800\n",
      "Technology           0.109237\n",
      "Name: is_promoted, dtype: float64\n"
     ]
    },
    {
     "data": {
      "text/plain": [
       "<AxesSubplot:title={'center':'Department as a factor for promotion'}, xlabel='Department', ylabel='Probability of getting a promotion'>"
      ]
     },
     "execution_count": 23,
     "metadata": {},
     "output_type": "execute_result"
    },
    {
     "data": {
      "image/png": "[encoded data removed]",
      "text/plain": [
       "<Figure size 432x288 with 1 Axes>"
      ]
     },
     "metadata": {
      "needs_background": "light"
     },
     "output_type": "display_data"
    }
   ],
   "source": [
    "#Grouping by Department on the basis of getting a promotion\n",
    "print(dataset_eda.groupby('department')['is_promoted'].mean())\n",
    "dataset_eda.groupby('department')['is_promoted'].mean().plot(kind = 'bar', xlabel = 'Department', ylabel = 'Probability of getting a promotion', title = 'Department as a factor for promotion')"
   ]
  },
  {
   "cell_type": "markdown",
   "metadata": {
    "hidden": true,
    "id": "y6v_7mR0IWPE"
   },
   "source": [
    "This gives us a brief idea about what kind of a growth each department has. Departments with less probability of getting a promotion signifies leveling up in that department is tough or there aren't many levels to climb. HR and Legal has low probability as compared to others which is quite reasonable as in an organization this department has very few members and thus not much levels to climb hence lower promotions. Departments like Technology, Analytics and Procurement is usually a bigger division where there are more levels depending upon the company and hence more promotion opportunities which is quite evident from the barplot. "
   ]
  },
  {
   "cell_type": "code",
   "execution_count": 24,
   "metadata": {
    "ExecuteTime": {
     "end_time": "2021-05-31T15:54:32.730787Z",
     "start_time": "2021-05-31T15:54:32.532825Z"
    },
    "hidden": true,
    "id": "XiUOUbnBJ7EB"
   },
   "outputs": [
    {
     "name": "stdout",
     "output_type": "stream",
     "text": [
      "education\n",
      "Bachelor's          0.082789\n",
      "Below Secondary     0.090278\n",
      "Master's & above    0.100769\n",
      "Not Defined         0.057143\n",
      "Name: is_promoted, dtype: float64\n"
     ]
    },
    {
     "data": {
      "text/plain": [
       "<AxesSubplot:title={'center':'Education as a factor for promotion'}, xlabel='Education', ylabel='Probability of getting a promotion'>"
      ]
     },
     "execution_count": 24,
     "metadata": {},
     "output_type": "execute_result"
    },
    {
     "data": {
      "image/png": "[encoded data removed]",
      "text/plain": [
       "<Figure size 432x288 with 1 Axes>"
      ]
     },
     "metadata": {
      "needs_background": "light"
     },
     "output_type": "display_data"
    }
   ],
   "source": [
    "#Grouping by education on the basis of getting a promotion\n",
    "print(dataset_eda.groupby('education')['is_promoted'].mean())\n",
    "dataset_eda.groupby('education')['is_promoted'].mean().plot(kind = 'bar', xlabel = 'Education', ylabel = 'Probability of getting a promotion', title = 'Education as a factor for promotion')"
   ]
  },
  {
   "cell_type": "markdown",
   "metadata": {
    "hidden": true,
    "id": "medkeDcCIWPF"
   },
   "source": [
    "Not defined are those which had null values in education. According to the barplot, Not Defined has a low probability of getting a promotion as compared to the others. This might imply those categories who somehow managed to get the job without the bare minimum education qualification and now facing difficulties in getting a promotion. Employees with a master's and above education qualification has a higher probability in getting a promotion as it should be. This can be considered as a good feature."
   ]
  },
  {
   "cell_type": "code",
   "execution_count": 25,
   "metadata": {
    "ExecuteTime": {
     "end_time": "2021-05-31T15:54:38.715728Z",
     "start_time": "2021-05-31T15:54:38.705969Z"
    },
    "hidden": true,
    "id": "RLdCoc1cKnrw"
   },
   "outputs": [
    {
     "data": {
      "text/plain": [
       "gender\n",
       "f    0.089934\n",
       "m    0.083151\n",
       "Name: is_promoted, dtype: float64"
      ]
     },
     "execution_count": 25,
     "metadata": {},
     "output_type": "execute_result"
    }
   ],
   "source": [
    "#Grouping by Gender, to observe promotion ratio\n",
    "dataset.groupby('gender')['is_promoted'].mean()"
   ]
  },
  {
   "cell_type": "code",
   "execution_count": 26,
   "metadata": {
    "ExecuteTime": {
     "end_time": "2021-05-31T15:55:38.790113Z",
     "start_time": "2021-05-31T15:55:38.600621Z"
    },
    "hidden": true,
    "id": "Ep5WMw0mK0IU"
   },
   "outputs": [
    {
     "name": "stdout",
     "output_type": "stream",
     "text": [
      "recruitment_channel\n",
      "other       0.084993\n",
      "referred    0.124853\n",
      "sourcing    0.086808\n",
      "Name: is_promoted, dtype: float64\n"
     ]
    },
    {
     "data": {
      "text/plain": [
       "<AxesSubplot:title={'center':'Recruitment Channel as a factor for promotion'}, xlabel='Recruitment Channel', ylabel='Probability of getting a promotion'>"
      ]
     },
     "execution_count": 26,
     "metadata": {},
     "output_type": "execute_result"
    },
    {
     "data": {
      "image/png": "[encoded data removed]",
      "text/plain": [
       "<Figure size 432x288 with 1 Axes>"
      ]
     },
     "metadata": {
      "needs_background": "light"
     },
     "output_type": "display_data"
    }
   ],
   "source": [
    "#Grouping by recruitment channel on the basis of getting a promotion\n",
    "print(dataset_eda.groupby('recruitment_channel')['is_promoted'].mean())\n",
    "dataset_eda.groupby('recruitment_channel')['is_promoted'].mean().plot(kind = 'bar', xlabel = 'Recruitment Channel', ylabel = 'Probability of getting a promotion', title = 'Recruitment Channel as a factor for promotion')"
   ]
  },
  {
   "cell_type": "markdown",
   "metadata": {
    "hidden": true,
    "id": "KD_IuMS-IWPG"
   },
   "source": [
    "The above figure shows that employees whose recruitment channel was **referred** has a higher probability of getting promoted.\n",
    "Recruiment Channel can be a good feature"
   ]
  },
  {
   "cell_type": "code",
   "execution_count": 27,
   "metadata": {
    "ExecuteTime": {
     "end_time": "2021-05-31T15:55:52.203500Z",
     "start_time": "2021-05-31T15:55:51.816456Z"
    },
    "hidden": true,
    "id": "MjoU8iwVLBuE"
   },
   "outputs": [
    {
     "name": "stdout",
     "output_type": "stream",
     "text": [
      "no_of_trainings\n",
      "1     0.089555\n",
      "2     0.077601\n",
      "3     0.069785\n",
      "4     0.060172\n",
      "5     0.021505\n",
      "6     0.000000\n",
      "7     0.000000\n",
      "8     0.000000\n",
      "9     0.000000\n",
      "10    0.000000\n",
      "Name: is_promoted, dtype: float64\n"
     ]
    },
    {
     "data": {
      "text/plain": [
       "<AxesSubplot:title={'center':'No of Trainings as a factor for promotion'}, xlabel='No of Trainings', ylabel='Probability of getting a promotion'>"
      ]
     },
     "execution_count": 27,
     "metadata": {},
     "output_type": "execute_result"
    },
    {
     "data": {
      "image/png": "[encoded data removed]",
      "text/plain": [
       "<Figure size 432x288 with 1 Axes>"
      ]
     },
     "metadata": {
      "needs_background": "light"
     },
     "output_type": "display_data"
    }
   ],
   "source": [
    "#Grouping by No of Trainings on the basis of getting a promotion\n",
    "print(dataset_eda.groupby('no_of_trainings')['is_promoted'].mean())\n",
    "dataset_eda.groupby('no_of_trainings')['is_promoted'].mean().plot(kind = 'bar', xlabel = 'No of Trainings', ylabel = 'Probability of getting a promotion', title = 'No of Trainings as a factor for promotion')"
   ]
  },
  {
   "cell_type": "markdown",
   "metadata": {
    "hidden": true,
    "id": "oUlDVSBvIWPG"
   },
   "source": [
    "Employees with lesser no of trainings has a higher probability in getting promotion. This is because this organization might conduct extra trainings for the weaker employees who aren't promotion deserving. This can be a good feature."
   ]
  },
  {
   "cell_type": "code",
   "execution_count": 28,
   "metadata": {
    "ExecuteTime": {
     "end_time": "2021-05-31T15:56:00.331235Z",
     "start_time": "2021-05-31T15:56:00.158738Z"
    },
    "hidden": true,
    "id": "ICJhk4rVVVsf"
   },
   "outputs": [
    {
     "name": "stdout",
     "output_type": "stream",
     "text": [
      "{'20 - 30': 0.08605769230769231, '30 - 40': 0.09371245494593512, '40 up': 0.07230010384215992}\n"
     ]
    },
    {
     "data": {
      "image/png": "[encoded data removed]",
      "text/plain": [
       "<Figure size 432x288 with 1 Axes>"
      ]
     },
     "metadata": {
      "needs_background": "light"
     },
     "output_type": "display_data"
    }
   ],
   "source": [
    "#Finding promotion probability on the basis of age of employees (binning into segments)\n",
    "age = {'20 - 30': dataset_eda.query('age > 20 and age < 30')['is_promoted'].mean(),\n",
    "      '30 - 40': dataset_eda.query('age > 30 and age < 40')['is_promoted'].mean(),\n",
    "      '40 up': dataset_eda.query('age > 40')['is_promoted'].mean()}\n",
    "print(age)\n",
    "plt.bar(*zip(*age.items()))\n",
    "plt.title('Age as a factor for promotion')\n",
    "plt.xlabel('Age')\n",
    "plt.ylabel('Probability of getting a promotion')\n",
    "plt.show()"
   ]
  },
  {
   "cell_type": "markdown",
   "metadata": {
    "ExecuteTime": {
     "end_time": "2021-05-21T04:02:22.547297Z",
     "start_time": "2021-05-21T04:02:22.540316Z"
    },
    "hidden": true,
    "id": "upOvHBIeIWPH"
   },
   "source": [
    "Employees having age between 30 - 40 has a slightly higher probability in getting a promotion. Might be a feature though not a good one since the difference between these categories probabilities is not that high."
   ]
  },
  {
   "cell_type": "code",
   "execution_count": 29,
   "metadata": {
    "ExecuteTime": {
     "end_time": "2021-05-31T15:56:11.930207Z",
     "start_time": "2021-05-31T15:56:11.405598Z"
    },
    "hidden": true,
    "id": "yFtqFijQVxfd"
   },
   "outputs": [
    {
     "name": "stdout",
     "output_type": "stream",
     "text": [
      "region\n",
      "region_17    0.143106\n",
      "region_4     0.140638\n",
      "region_28    0.131303\n",
      "region_25    0.123729\n",
      "region_3     0.123404\n",
      "region_23    0.120425\n",
      "region_22    0.115933\n",
      "region_7     0.107891\n",
      "region_1     0.103365\n",
      "region_13    0.095289\n",
      "region_30    0.088983\n",
      "region_15    0.080271\n",
      "region_12    0.080229\n",
      "region_2     0.079920\n",
      "region_8     0.079914\n",
      "region_14    0.079310\n",
      "region_16    0.077216\n",
      "region_27    0.076539\n",
      "region_10    0.073375\n",
      "region_20    0.067769\n",
      "region_26    0.061300\n",
      "region_19    0.057994\n",
      "region_31    0.054519\n",
      "region_5     0.052727\n",
      "region_11    0.052687\n",
      "region_6     0.048980\n",
      "region_32    0.043210\n",
      "region_29    0.041429\n",
      "region_33    0.040404\n",
      "region_21    0.039604\n",
      "region_24    0.032609\n",
      "region_9     0.022436\n",
      "region_34    0.019324\n",
      "region_18    0.000000\n",
      "Name: is_promoted, dtype: float64\n"
     ]
    },
    {
     "data": {
      "text/plain": [
       "<AxesSubplot:title={'center':'Region as a factor for promotion'}, xlabel='Region', ylabel='Probability of getting a promotion'>"
      ]
     },
     "execution_count": 29,
     "metadata": {},
     "output_type": "execute_result"
    },
    {
     "data": {
      "image/png": "[encoded data removed]",
      "text/plain": [
       "<Figure size 864x288 with 1 Axes>"
      ]
     },
     "metadata": {
      "needs_background": "light"
     },
     "output_type": "display_data"
    }
   ],
   "source": [
    "#Grouping on the basis of region on the basis of promotion\n",
    "print(dataset_eda.groupby('region')['is_promoted'].mean().sort_values(ascending = False))\n",
    "dataset_eda.groupby('region')['is_promoted'].mean().plot(kind = 'bar', xlabel = 'Region', ylabel = 'Probability of getting a promotion', title = 'Region as a factor for promotion', figsize = (12,4))"
   ]
  },
  {
   "cell_type": "markdown",
   "metadata": {
    "hidden": true,
    "id": "9C1FPHTHIWPH"
   },
   "source": [
    "Regions with a higher promotion probability might signify that specific region has growth, good upper management so that employees learn from the best and perform better or that region might include headquarters where there is higher opportunities for promotions. All in all this could be used as a feature."
   ]
  },
  {
   "cell_type": "code",
   "execution_count": 30,
   "metadata": {
    "ExecuteTime": {
     "end_time": "2021-05-31T15:56:16.397507Z",
     "start_time": "2021-05-31T15:56:16.168776Z"
    },
    "hidden": true,
    "id": "uYDLYw_Yjzb7"
   },
   "outputs": [
    {
     "name": "stdout",
     "output_type": "stream",
     "text": [
      "previous_year_rating\n",
      "5.0    0.166765\n",
      "0.0    0.085953\n",
      "4.0    0.078459\n",
      "3.0    0.074926\n",
      "2.0    0.041859\n",
      "1.0    0.014263\n",
      "Name: is_promoted, dtype: float64\n"
     ]
    },
    {
     "data": {
      "text/plain": [
       "<AxesSubplot:title={'center':'Previous Year Rating as a factor for promotion'}, xlabel='Previous Year Rating', ylabel='Probability of getting a promotion'>"
      ]
     },
     "execution_count": 30,
     "metadata": {},
     "output_type": "execute_result"
    },
    {
     "data": {
      "image/png": "[encoded data removed]",
      "text/plain": [
       "<Figure size 432x288 with 1 Axes>"
      ]
     },
     "metadata": {
      "needs_background": "light"
     },
     "output_type": "display_data"
    }
   ],
   "source": [
    "#Grouping by previous year rating on the basis of getting a promotion\n",
    "print(dataset_eda.groupby('previous_year_rating')['is_promoted'].mean().sort_values(ascending = False))\n",
    "dataset_eda.groupby('previous_year_rating')['is_promoted'].mean().plot(kind = 'bar', xlabel = 'Previous Year Rating', ylabel = 'Probability of getting a promotion', title = 'Previous Year Rating as a factor for promotion')"
   ]
  },
  {
   "cell_type": "markdown",
   "metadata": {
    "hidden": true,
    "id": "M8VEUmi-IWPI"
   },
   "source": [
    "There is high difference between values. It clearly shows employees with higher previous year rating has a higher chance of getting a promotion. 0.0 signifies employees with no previous year (new joinees or freshers) and their probability of getting a promotion is also very high. This might be because freshers start from a very grassroot level and getting a promotion is easy in that level (Intern to a Full Time Employee). All in all this is a very good feature."
   ]
  },
  {
   "cell_type": "code",
   "execution_count": 31,
   "metadata": {
    "ExecuteTime": {
     "end_time": "2021-05-31T15:56:23.817140Z",
     "start_time": "2021-05-31T15:56:23.636758Z"
    },
    "hidden": true,
    "id": "BxWy--TQmy4D"
   },
   "outputs": [
    {
     "name": "stdout",
     "output_type": "stream",
     "text": [
      "{'Less than 10': 0.08747917162580338, '10 - 20': 0.08331786973464465, '20 - 30': 0.061465721040189124, 'More than 30': 0.07317073170731707}\n"
     ]
    },
    {
     "data": {
      "image/png": "[encoded data removed]",
      "text/plain": [
       "<Figure size 432x288 with 1 Axes>"
      ]
     },
     "metadata": {
      "needs_background": "light"
     },
     "output_type": "display_data"
    }
   ],
   "source": [
    "#Finding promotion probability on the basis of length of Service (binning into segments)\n",
    "los = {'Less than 10': dataset_eda.query('length_of_service < 10')['is_promoted'].mean(),\n",
    "      '10 - 20': dataset_eda.query('length_of_service >= 10 and length_of_service < 20')['is_promoted'].mean(),\n",
    "      '20 - 30': dataset_eda.query('length_of_service >= 20 and length_of_service < 30')['is_promoted'].mean(),\n",
    "      'More than 30': dataset_eda.query('length_of_service >= 30')['is_promoted'].mean()}\n",
    "\n",
    "print(los)\n",
    "plt.bar(*zip(*los.items()))\n",
    "plt.title('Length of Service as a factor for promotion')\n",
    "plt.xlabel('Length of Service')\n",
    "plt.ylabel('Probability of getting a promotion')\n",
    "plt.show()"
   ]
  },
  {
   "cell_type": "markdown",
   "metadata": {
    "hidden": true,
    "id": "l-zeT3xtIWPI"
   },
   "source": [
    "Employees with lesser length of service are more prone to getting promotions. It might be because employees with higher length of service might be inefficient since they are stuck on the same profile for a long time. Although the differences between the values are very less, still it can be considered as a feature."
   ]
  },
  {
   "cell_type": "code",
   "execution_count": 32,
   "metadata": {
    "ExecuteTime": {
     "end_time": "2021-05-31T15:56:39.615157Z",
     "start_time": "2021-05-31T15:56:39.426627Z"
    },
    "hidden": true,
    "id": "bZcsYiZqn-dc"
   },
   "outputs": [
    {
     "name": "stdout",
     "output_type": "stream",
     "text": [
      "KPIs_met >80%\n",
      "0    0.041071\n",
      "1    0.169966\n",
      "Name: is_promoted, dtype: float64\n"
     ]
    },
    {
     "data": {
      "text/plain": [
       "<AxesSubplot:title={'center':'KPI as a factor for promotion'}, xlabel=\"KPI's met > 80 %\", ylabel='Probability of getting a promotion'>"
      ]
     },
     "execution_count": 32,
     "metadata": {},
     "output_type": "execute_result"
    },
    {
     "data": {
      "image/png": "[encoded data removed]",
      "text/plain": [
       "<Figure size 432x288 with 1 Axes>"
      ]
     },
     "metadata": {
      "needs_background": "light"
     },
     "output_type": "display_data"
    }
   ],
   "source": [
    "#Grouping by KPI's met on the basis of getting a promotion\n",
    "print(dataset_eda.groupby('KPIs_met >80%')['is_promoted'].mean())\n",
    "dataset_eda.groupby('KPIs_met >80%')['is_promoted'].mean().plot(kind = 'bar', xlabel = \"KPI's met > 80 %\", ylabel = 'Probability of getting a promotion', title = 'KPI as a factor for promotion')"
   ]
  },
  {
   "cell_type": "markdown",
   "metadata": {
    "hidden": true,
    "id": "6ilH0M80IWPJ"
   },
   "source": [
    "1 denotes yes and 0 denotes no on the x-axis. Employees who met the KPI criteria (more than 80 %) has significantly a higher probability of getting a promotion as compared to those who couldn't. This is a very good feature as KPI is one of the key factors for promotion."
   ]
  },
  {
   "cell_type": "code",
   "execution_count": 33,
   "metadata": {
    "ExecuteTime": {
     "end_time": "2021-05-31T15:56:44.589316Z",
     "start_time": "2021-05-31T15:56:44.419667Z"
    },
    "hidden": true,
    "id": "HXZrfmUKorKr"
   },
   "outputs": [
    {
     "name": "stdout",
     "output_type": "stream",
     "text": [
      "awards_won?\n",
      "0    0.077993\n",
      "1    0.448313\n",
      "Name: is_promoted, dtype: float64\n"
     ]
    },
    {
     "data": {
      "text/plain": [
       "<AxesSubplot:title={'center':'Awards won as a factor for promotion'}, xlabel='Awards Won?', ylabel='Probability of getting a promotion'>"
      ]
     },
     "execution_count": 33,
     "metadata": {},
     "output_type": "execute_result"
    },
    {
     "data": {
      "image/png": "[encoded data removed]",
      "text/plain": [
       "<Figure size 432x288 with 1 Axes>"
      ]
     },
     "metadata": {
      "needs_background": "light"
     },
     "output_type": "display_data"
    }
   ],
   "source": [
    "#Grouping by awards won on the basis of getting a promotion\n",
    "print(dataset_eda.groupby('awards_won?')['is_promoted'].mean())\n",
    "dataset_eda.groupby('awards_won?')['is_promoted'].mean().plot(kind = 'bar', xlabel = \"Awards Won?\", ylabel = 'Probability of getting a promotion', title = 'Awards won as a factor for promotion')"
   ]
  },
  {
   "cell_type": "markdown",
   "metadata": {
    "hidden": true,
    "id": "hbzG2wjPIWPJ"
   },
   "source": [
    "1 denotes yes and 0 denotes on the x-axis. Employees who have won an award has a very high chance in getting a promotion. This is a very good feature and is one of the biggest factors for promotion. "
   ]
  },
  {
   "cell_type": "code",
   "execution_count": 34,
   "metadata": {
    "ExecuteTime": {
     "end_time": "2021-05-31T15:56:54.734876Z",
     "start_time": "2021-05-31T15:56:54.490254Z"
    },
    "hidden": true,
    "id": "kPizUEALo7dO"
   },
   "outputs": [
    {
     "name": "stdout",
     "output_type": "stream",
     "text": [
      "{'99 - 89': 0.7679558011049724, '89 - 79': 0.12115136760704569, '79 - 69': 0.10847714773373791, '69 - 59': 0.08574264797121231, '59 - 49': 0.052733226971198255, '49 - 39': 0.039444195428059166}\n"
     ]
    },
    {
     "data": {
      "image/png": "[encoded data removed]",
      "text/plain": [
       "<Figure size 432x288 with 1 Axes>"
      ]
     },
     "metadata": {
      "needs_background": "light"
     },
     "output_type": "display_data"
    }
   ],
   "source": [
    "#Finding promotion probability on the basis of training score (binning into segments)\n",
    "training_score = {\n",
    "    '99 - 89': dataset_eda.query('avg_training_score <= 99 and avg_training_score > 89')['is_promoted'].mean(),\n",
    "    '89 - 79': dataset_eda.query('avg_training_score <= 89 and avg_training_score > 79')['is_promoted'].mean(),\n",
    "    '79 - 69': dataset_eda.query('avg_training_score <= 79 and avg_training_score > 69')['is_promoted'].mean(),\n",
    "    '69 - 59': dataset_eda.query('avg_training_score <= 69 and avg_training_score > 59')['is_promoted'].mean(),\n",
    "    '59 - 49': dataset_eda.query('avg_training_score <= 59 and avg_training_score > 49')['is_promoted'].mean(),\n",
    "    '49 - 39': dataset_eda.query('avg_training_score <= 49 and avg_training_score > 39')['is_promoted'].mean()\n",
    "}\n",
    "\n",
    "print(training_score)\n",
    "plt.bar(*zip(*training_score.items()))\n",
    "plt.title('Training Score as a factor for promotion')\n",
    "plt.xlabel('Training Score')\n",
    "plt.ylabel('Probability of getting a promotion')\n",
    "plt.show()"
   ]
  },
  {
   "cell_type": "markdown",
   "metadata": {
    "hidden": true,
    "id": "48qVmae-IWPJ"
   },
   "source": [
    "From the bar plot, it is quite evident that employees with a higher training score especially in the bracket (99 - 89) is more probable in getting a promotion. Training Score is an extremely good feature."
   ]
  },
  {
   "cell_type": "code",
   "execution_count": 35,
   "metadata": {
    "ExecuteTime": {
     "end_time": "2021-05-31T15:59:05.907453Z",
     "start_time": "2021-05-31T15:59:05.369969Z"
    },
    "hidden": true,
    "id": "Zj8FlnRUIWPK",
    "outputId": "5ceb3843-2e8c-42db-ddab-4a6734323400"
   },
   "outputs": [
    {
     "data": {
      "text/plain": [
       "<AxesSubplot:>"
      ]
     },
     "execution_count": 35,
     "metadata": {},
     "output_type": "execute_result"
    },
    {
     "data": {
      "image/png": "[encoded data removed]",
      "text/plain": [
       "<Figure size 432x288 with 2 Axes>"
      ]
     },
     "metadata": {
      "needs_background": "light"
     },
     "output_type": "display_data"
    }
   ],
   "source": [
    "#Plotting a heatmap to understand the correlation between the variables (**THIS IS NOT PRESENT IN THE EDA PPT**)\n",
    "sns.heatmap(dataset_eda.corr())"
   ]
  },
  {
   "cell_type": "markdown",
   "metadata": {
    "hidden": true,
    "id": "UI0h0_jIIWPK"
   },
   "source": [
    "From the above heatmap, it can be observed that **Age** and **Length of Service** has **high correlation**. Only one of these features should be used since multicollinearity undermines statistical significance of an independent variable, Age or length of service in this case."
   ]
  },
  {
   "cell_type": "markdown",
   "metadata": {
    "heading_collapsed": true,
    "id": "p5e_2hhTIWPK"
   },
   "source": [
    "## **FEATURE ENGINEERING**"
   ]
  },
  {
   "cell_type": "markdown",
   "metadata": {
    "hidden": true,
    "id": "8HM1DiG4IWPL"
   },
   "source": [
    "From the above Feature Set, employee_id has all unique values. It should be dropped.\n",
    "\n",
    "\n",
    "There are 5 categories [Deparment, Region, Education, Gender, Recruitment Channel] which has to be encoded."
   ]
  },
  {
   "cell_type": "code",
   "execution_count": 36,
   "metadata": {
    "ExecuteTime": {
     "end_time": "2021-05-31T16:00:39.209861Z",
     "start_time": "2021-05-31T16:00:39.200868Z"
    },
    "hidden": true,
    "id": "wmbwm3TQIWPL"
   },
   "outputs": [],
   "source": [
    "#Dropping employee_id because all unique values\n",
    "X_train = X_train.iloc[:, 1:]\n",
    "X_validation = X_validation.iloc[:, 1:]\n",
    "X_test = X_test.iloc[:, 1:]"
   ]
  },
  {
   "cell_type": "markdown",
   "metadata": {
    "heading_collapsed": true,
    "hidden": true,
    "id": "hQXTNT6KIWPL"
   },
   "source": [
    "### Department"
   ]
  },
  {
   "cell_type": "code",
   "execution_count": 38,
   "metadata": {
    "ExecuteTime": {
     "end_time": "2021-05-31T16:01:12.688778Z",
     "start_time": "2021-05-31T16:01:12.677810Z"
    },
    "hidden": true,
    "id": "6kjAfEcAIWPL"
   },
   "outputs": [
    {
     "data": {
      "text/plain": [
       "Sales & Marketing    12141\n",
       "Operations            8158\n",
       "Procurement           5198\n",
       "Technology            5099\n",
       "Analytics             3798\n",
       "Finance               1862\n",
       "HR                    1732\n",
       "Legal                  749\n",
       "R&D                    724\n",
       "Name: department, dtype: int64"
      ]
     },
     "execution_count": 38,
     "metadata": {},
     "output_type": "execute_result"
    }
   ],
   "source": [
    "#Observing Department\n",
    "X_train['department'].value_counts()"
   ]
  },
  {
   "cell_type": "markdown",
   "metadata": {
    "hidden": true,
    "id": "_kTixQg2IWPL"
   },
   "source": [
    "All values are unique in value counts. So we will perform **frequency encoding** for department categorical variable."
   ]
  },
  {
   "cell_type": "code",
   "execution_count": 39,
   "metadata": {
    "ExecuteTime": {
     "end_time": "2021-05-31T16:01:18.973256Z",
     "start_time": "2021-05-31T16:01:18.963266Z"
    },
    "hidden": true,
    "id": "LAp5M36LIWPM"
   },
   "outputs": [
    {
     "data": {
      "text/plain": [
       "{'Sales & Marketing': 0.30767086490458934,\n",
       " 'Operations': 0.20673576442563543,\n",
       " 'Procurement': 0.1317249942981678,\n",
       " 'Technology': 0.12921618813512076,\n",
       " 'Analytics': 0.09624692734598718,\n",
       " 'Finance': 0.04718582904640024,\n",
       " 'HR': 0.04389143711512633,\n",
       " 'Legal': 0.01898076581941664,\n",
       " 'R&D': 0.01834722890955627}"
      ]
     },
     "execution_count": 39,
     "metadata": {},
     "output_type": "execute_result"
    }
   ],
   "source": [
    "#Creating the encoding dictionary for department\n",
    "department_encoder = dict(X_train['department'].value_counts(normalize=True))\n",
    "department_encoder"
   ]
  },
  {
   "cell_type": "code",
   "execution_count": 40,
   "metadata": {
    "ExecuteTime": {
     "end_time": "2021-05-31T16:01:22.115980Z",
     "start_time": "2021-05-31T16:01:22.105971Z"
    },
    "hidden": true,
    "id": "4BK5Xe1WIWPM"
   },
   "outputs": [],
   "source": [
    "#Mapping the department encoder to all the three sets\n",
    "X_train['department'] = X_train['department'].map(department_encoder)\n",
    "X_validation['department'] = X_validation['department'].map(department_encoder)\n",
    "X_test['department'] = X_test['department'].map(department_encoder)"
   ]
  },
  {
   "cell_type": "markdown",
   "metadata": {
    "ExecuteTime": {
     "end_time": "2021-05-26T19:15:16.827602Z",
     "start_time": "2021-05-26T19:15:16.804663Z"
    },
    "heading_collapsed": true,
    "hidden": true,
    "id": "KGbvMC13IWPM"
   },
   "source": [
    "### Region"
   ]
  },
  {
   "cell_type": "code",
   "execution_count": 41,
   "metadata": {
    "ExecuteTime": {
     "end_time": "2021-05-31T16:01:32.271222Z",
     "start_time": "2021-05-31T16:01:32.260707Z"
    },
    "hidden": true,
    "id": "hhXvvkF7IWPM"
   },
   "outputs": [
    {
     "name": "stdout",
     "output_type": "stream",
     "text": [
      "34\n",
      "34\n"
     ]
    }
   ],
   "source": [
    "#Observing Region\n",
    "print(X_train['region'].nunique())\n",
    "\n",
    "#This is just to observe no value has been repeated after normalisation\n",
    "print(X_train['region'].value_counts(normalize = True).nunique()) "
   ]
  },
  {
   "cell_type": "markdown",
   "metadata": {
    "hidden": true,
    "id": "KLDNecRnIWPM"
   },
   "source": [
    "All values are unique in value counts. So here also, we will perform frequency encoding for Region categorical variable"
   ]
  },
  {
   "cell_type": "code",
   "execution_count": 42,
   "metadata": {
    "ExecuteTime": {
     "end_time": "2021-05-31T16:02:44.277204Z",
     "start_time": "2021-05-31T16:02:44.267229Z"
    },
    "hidden": true,
    "id": "zRquUnFGIWPM"
   },
   "outputs": [
    {
     "data": {
      "text/plain": [
       "{'region_2': 0.22703428701756165,\n",
       " 'region_22': 0.11738171865892907,\n",
       " 'region_7': 0.08831504523453536,\n",
       " 'region_15': 0.05240617318364968,\n",
       " 'region_13': 0.04787004890904944,\n",
       " 'region_26': 0.0409264843769798,\n",
       " 'region_31': 0.035326018093814145,\n",
       " 'region_4': 0.030992625630369225,\n",
       " 'region_27': 0.030460454626086517,\n",
       " 'region_16': 0.02658320873774106,\n",
       " 'region_28': 0.024125085527482833,\n",
       " 'region_11': 0.024049061098299587,\n",
       " 'region_23': 0.021464230506069285,\n",
       " 'region_29': 0.017739033476090318,\n",
       " 'region_32': 0.01642127670358075,\n",
       " 'region_19': 0.016167861939636603,\n",
       " 'region_20': 0.015331593218620918,\n",
       " 'region_25': 0.014951471072704696,\n",
       " 'region_14': 0.014698056308760548,\n",
       " 'region_17': 0.014520665973999645,\n",
       " 'region_5': 0.013937812016928106,\n",
       " 'region_6': 0.012417323433263221,\n",
       " 'region_10': 0.01208788424013583,\n",
       " 'region_30': 0.011961176858163756,\n",
       " 'region_8': 0.011733103570614025,\n",
       " 'region_1': 0.01054205418007653,\n",
       " 'region_24': 0.009325663313144624,\n",
       " 'region_12': 0.008844175261650744,\n",
       " 'region_9': 0.007906540635057399,\n",
       " 'region_21': 0.0076784673475076655,\n",
       " 'region_3': 0.005955246952687464,\n",
       " 'region_34': 0.005245685613643851,\n",
       " 'region_33': 0.005017612326094118,\n",
       " 'region_18': 0.000582853957071539}"
      ]
     },
     "execution_count": 42,
     "metadata": {},
     "output_type": "execute_result"
    }
   ],
   "source": [
    "#Creating the encoding dictionary for region\n",
    "region_encoder = dict(X_train['region'].value_counts(normalize=True))\n",
    "region_encoder"
   ]
  },
  {
   "cell_type": "code",
   "execution_count": 43,
   "metadata": {
    "ExecuteTime": {
     "end_time": "2021-05-31T16:02:47.834045Z",
     "start_time": "2021-05-31T16:02:47.820085Z"
    },
    "hidden": true,
    "id": "suG2wEaaIWPN"
   },
   "outputs": [],
   "source": [
    "#Mapping the region encoder to all the three sets\n",
    "X_train['region'] = X_train['region'].map(region_encoder)\n",
    "X_validation['region'] = X_validation['region'].map(region_encoder)\n",
    "X_test['region'] = X_test['region'].map(region_encoder)"
   ]
  },
  {
   "cell_type": "markdown",
   "metadata": {
    "heading_collapsed": true,
    "hidden": true,
    "id": "bDAGMYJ-IWPN"
   },
   "source": [
    "### Education"
   ]
  },
  {
   "cell_type": "code",
   "execution_count": 44,
   "metadata": {
    "ExecuteTime": {
     "end_time": "2021-05-31T16:02:54.520096Z",
     "start_time": "2021-05-31T16:02:54.509080Z"
    },
    "hidden": true,
    "id": "GENkTB2aIWPN"
   },
   "outputs": [
    {
     "data": {
      "text/plain": [
       "Bachelor's          26477\n",
       "Master's & above    10658\n",
       "Not Defined          1750\n",
       "Below Secondary       576\n",
       "Name: education, dtype: int64"
      ]
     },
     "execution_count": 44,
     "metadata": {},
     "output_type": "execute_result"
    }
   ],
   "source": [
    "#Observing Education\n",
    "X_train['education'].value_counts()"
   ]
  },
  {
   "cell_type": "markdown",
   "metadata": {
    "hidden": true,
    "id": "c5zfQyLUIWPN"
   },
   "source": [
    "Education has ordinal values. So we will make a custom encoder"
   ]
  },
  {
   "cell_type": "code",
   "execution_count": 45,
   "metadata": {
    "ExecuteTime": {
     "end_time": "2021-05-31T16:06:11.301180Z",
     "start_time": "2021-05-31T16:06:11.294236Z"
    },
    "hidden": true,
    "id": "v77WtS3GIWPN"
   },
   "outputs": [
    {
     "data": {
      "text/plain": [
       "{'Not Defined': 0,\n",
       " 'Below Secondary': 1,\n",
       " \"Bachelor's\": 2,\n",
       " \"Master's & above\": 3}"
      ]
     },
     "execution_count": 45,
     "metadata": {},
     "output_type": "execute_result"
    }
   ],
   "source": [
    "#Creating the encoding dictionary for education (Higher the value, richer the education)\n",
    "education_encoder = {'Not Defined': 0,\n",
    "                    'Below Secondary': 1,\n",
    "                    \"Bachelor's\": 2,\n",
    "                    \"Master's & above\": 3}\n",
    "education_encoder"
   ]
  },
  {
   "cell_type": "code",
   "execution_count": 46,
   "metadata": {
    "ExecuteTime": {
     "end_time": "2021-05-31T16:06:14.739751Z",
     "start_time": "2021-05-31T16:06:14.727784Z"
    },
    "hidden": true,
    "id": "GZViUEXHIWPO"
   },
   "outputs": [],
   "source": [
    "#Mapping the education encoder to all the three sets\n",
    "X_train['education'] = X_train['education'].map(education_encoder)\n",
    "X_validation['education'] = X_validation['education'].map(education_encoder)\n",
    "X_test['education'] = X_test['education'].map(education_encoder)"
   ]
  },
  {
   "cell_type": "markdown",
   "metadata": {
    "heading_collapsed": true,
    "hidden": true,
    "id": "TuFPfd5SIWPO"
   },
   "source": [
    "### Gender"
   ]
  },
  {
   "cell_type": "code",
   "execution_count": 47,
   "metadata": {
    "ExecuteTime": {
     "end_time": "2021-05-31T16:06:26.735182Z",
     "start_time": "2021-05-31T16:06:26.723167Z"
    },
    "hidden": true,
    "id": "YIUO89dsIWPO"
   },
   "outputs": [
    {
     "data": {
      "text/plain": [
       "m    27777\n",
       "f    11684\n",
       "Name: gender, dtype: int64"
      ]
     },
     "execution_count": 47,
     "metadata": {},
     "output_type": "execute_result"
    }
   ],
   "source": [
    "#Observing Gender\n",
    "X_train['gender'].value_counts()"
   ]
  },
  {
   "cell_type": "markdown",
   "metadata": {
    "hidden": true,
    "id": "59GyqxW9IWPO"
   },
   "source": [
    "Gender has two categories. So, we will encode gender with labelencoder."
   ]
  },
  {
   "cell_type": "code",
   "execution_count": 48,
   "metadata": {
    "ExecuteTime": {
     "end_time": "2021-05-31T16:06:32.648379Z",
     "start_time": "2021-05-31T16:06:32.625707Z"
    },
    "hidden": true,
    "id": "sLXh9OBtIWPO"
   },
   "outputs": [
    {
     "data": {
      "text/plain": [
       "LabelEncoder()"
      ]
     },
     "execution_count": 48,
     "metadata": {},
     "output_type": "execute_result"
    }
   ],
   "source": [
    "#Creating Encoder for gender (Label Encoder)\n",
    "from sklearn.preprocessing import LabelEncoder\n",
    "gender_encoder = LabelEncoder()\n",
    "gender_encoder.fit(X_train['gender'])"
   ]
  },
  {
   "cell_type": "code",
   "execution_count": 49,
   "metadata": {
    "ExecuteTime": {
     "end_time": "2021-05-31T16:06:44.931994Z",
     "start_time": "2021-05-31T16:06:44.920366Z"
    },
    "hidden": true,
    "id": "S5E7v_fDIWPO"
   },
   "outputs": [],
   "source": [
    "#Transforming the gender with label encoder\n",
    "X_train['gender'] = gender_encoder.transform(X_train['gender'])\n",
    "X_validation['gender'] = gender_encoder.transform(X_validation['gender'])\n",
    "X_test['gender'] = gender_encoder.transform(X_test['gender'])"
   ]
  },
  {
   "cell_type": "markdown",
   "metadata": {
    "heading_collapsed": true,
    "hidden": true,
    "id": "pygqBBSdIWPP"
   },
   "source": [
    "### Recruitment Channel"
   ]
  },
  {
   "cell_type": "code",
   "execution_count": 50,
   "metadata": {
    "ExecuteTime": {
     "end_time": "2021-05-31T16:06:52.495693Z",
     "start_time": "2021-05-31T16:06:52.484732Z"
    },
    "hidden": true,
    "id": "vKooWctLIWPP"
   },
   "outputs": [
    {
     "data": {
      "text/plain": [
       "other       21943\n",
       "sourcing    16669\n",
       "referred      849\n",
       "Name: recruitment_channel, dtype: int64"
      ]
     },
     "execution_count": 50,
     "metadata": {},
     "output_type": "execute_result"
    }
   ],
   "source": [
    "#Observing Recruitment Channel\n",
    "X_train['recruitment_channel'].value_counts()"
   ]
  },
  {
   "cell_type": "markdown",
   "metadata": {
    "hidden": true,
    "id": "U7clqbdnIWPP"
   },
   "source": [
    "All values are unique in value counts. So we will perform frequency encoding for recruitment channel categorical variable."
   ]
  },
  {
   "cell_type": "code",
   "execution_count": 51,
   "metadata": {
    "ExecuteTime": {
     "end_time": "2021-05-31T16:06:58.169604Z",
     "start_time": "2021-05-31T16:06:58.159434Z"
    },
    "hidden": true,
    "id": "QBDls9xMIWPP"
   },
   "outputs": [
    {
     "data": {
      "text/plain": [
       "{'other': 0.5560680165226426,\n",
       " 'sourcing': 0.42241707001849926,\n",
       " 'referred': 0.021514913458858115}"
      ]
     },
     "execution_count": 51,
     "metadata": {},
     "output_type": "execute_result"
    }
   ],
   "source": [
    "#Creating the encoding dictionary for recruitment channel\n",
    "rc_encoder = dict(X_train['recruitment_channel'].value_counts(normalize=True))\n",
    "rc_encoder"
   ]
  },
  {
   "cell_type": "code",
   "execution_count": 52,
   "metadata": {
    "ExecuteTime": {
     "end_time": "2021-05-31T16:07:03.112915Z",
     "start_time": "2021-05-31T16:07:03.101946Z"
    },
    "hidden": true,
    "id": "_-oXVUcyIWPP"
   },
   "outputs": [],
   "source": [
    "#Mapping the recruitment channel encoder to all the three sets\n",
    "X_train['recruitment_channel'] = X_train['recruitment_channel'].map(rc_encoder)\n",
    "X_validation['recruitment_channel'] = X_validation['recruitment_channel'].map(rc_encoder)\n",
    "X_test['recruitment_channel'] = X_test['recruitment_channel'].map(rc_encoder)"
   ]
  },
  {
   "cell_type": "markdown",
   "metadata": {
    "heading_collapsed": true,
    "id": "uZjkSUmaIWPP"
   },
   "source": [
    "## **FEATURE SELECTION**"
   ]
  },
  {
   "cell_type": "markdown",
   "metadata": {
    "heading_collapsed": true,
    "hidden": true,
    "id": "VVypu8R1IWPQ"
   },
   "source": [
    "### Wrapper Methods"
   ]
  },
  {
   "cell_type": "markdown",
   "metadata": {
    "hidden": true,
    "id": "urossnG-IWPQ"
   },
   "source": [
    "The model which we will use for feature selection is **Random Forest Classifier**"
   ]
  },
  {
   "cell_type": "markdown",
   "metadata": {
    "heading_collapsed": true,
    "hidden": true,
    "id": "e6ehegxxIWPR"
   },
   "source": [
    "#### Step Forward Feature Selection"
   ]
  },
  {
   "cell_type": "code",
   "execution_count": 54,
   "metadata": {
    "ExecuteTime": {
     "end_time": "2021-05-31T16:08:30.470122Z",
     "start_time": "2021-05-31T16:08:30.465169Z"
    },
    "hidden": true,
    "id": "kLr_6dXMIWPR"
   },
   "outputs": [],
   "source": [
    "#Initialising step forward feature selector\n",
    "sfs_feature_selector = SequentialFeatureSelector(RandomForestClassifier(n_jobs=-1, random_state=42),\n",
    "           forward=True,\n",
    "           verbose=2,\n",
    "           scoring='roc_auc',\n",
    "           cv=4,\n",
    "           k_features = 12)"
   ]
  },
  {
   "cell_type": "code",
   "execution_count": 55,
   "metadata": {
    "ExecuteTime": {
     "end_time": "2021-05-31T16:11:56.821374Z",
     "start_time": "2021-05-31T16:08:33.035705Z"
    },
    "collapsed": true,
    "hidden": true,
    "id": "aJon3yXmIWPR"
   },
   "outputs": [
    {
     "name": "stderr",
     "output_type": "stream",
     "text": [
      "[Parallel(n_jobs=1)]: Using backend SequentialBackend with 1 concurrent workers.\n",
      "[Parallel(n_jobs=1)]: Done   1 out of   1 | elapsed:    8.9s remaining:    0.0s\n",
      "[Parallel(n_jobs=1)]: Done  12 out of  12 | elapsed:   23.5s finished\n",
      "\n",
      "[2021-05-31 21:38:56] Features: 1/12 -- score: 0.6861374169578304[Parallel(n_jobs=1)]: Using backend SequentialBackend with 1 concurrent workers.\n",
      "[Parallel(n_jobs=1)]: Done   1 out of   1 | elapsed:    1.4s remaining:    0.0s\n",
      "[Parallel(n_jobs=1)]: Done  11 out of  11 | elapsed:   16.2s finished\n",
      "\n",
      "[2021-05-31 21:39:12] Features: 2/12 -- score: 0.7836430181943014[Parallel(n_jobs=1)]: Using backend SequentialBackend with 1 concurrent workers.\n",
      "[Parallel(n_jobs=1)]: Done   1 out of   1 | elapsed:    1.9s remaining:    0.0s\n",
      "[Parallel(n_jobs=1)]: Done  10 out of  10 | elapsed:   20.6s finished\n",
      "\n",
      "[2021-05-31 21:39:33] Features: 3/12 -- score: 0.8810392371783518[Parallel(n_jobs=1)]: Using backend SequentialBackend with 1 concurrent workers.\n",
      "[Parallel(n_jobs=1)]: Done   1 out of   1 | elapsed:    2.6s remaining:    0.0s\n",
      "[Parallel(n_jobs=1)]: Done   9 out of   9 | elapsed:   21.7s finished\n",
      "\n",
      "[2021-05-31 21:39:55] Features: 4/12 -- score: 0.8828876813134869[Parallel(n_jobs=1)]: Using backend SequentialBackend with 1 concurrent workers.\n",
      "[Parallel(n_jobs=1)]: Done   1 out of   1 | elapsed:    2.7s remaining:    0.0s\n",
      "[Parallel(n_jobs=1)]: Done   8 out of   8 | elapsed:   22.0s finished\n",
      "\n",
      "[2021-05-31 21:40:17] Features: 5/12 -- score: 0.8785326735082963[Parallel(n_jobs=1)]: Using backend SequentialBackend with 1 concurrent workers.\n",
      "[Parallel(n_jobs=1)]: Done   1 out of   1 | elapsed:    3.6s remaining:    0.0s\n",
      "[Parallel(n_jobs=1)]: Done   7 out of   7 | elapsed:   20.9s finished\n",
      "\n",
      "[2021-05-31 21:40:38] Features: 6/12 -- score: 0.874274009922244[Parallel(n_jobs=1)]: Using backend SequentialBackend with 1 concurrent workers.\n",
      "[Parallel(n_jobs=1)]: Done   1 out of   1 | elapsed:    3.3s remaining:    0.0s\n",
      "[Parallel(n_jobs=1)]: Done   6 out of   6 | elapsed:   19.5s finished\n",
      "\n",
      "[2021-05-31 21:40:58] Features: 7/12 -- score: 0.862020028938618[Parallel(n_jobs=1)]: Using backend SequentialBackend with 1 concurrent workers.\n",
      "[Parallel(n_jobs=1)]: Done   1 out of   1 | elapsed:    3.4s remaining:    0.0s\n",
      "[Parallel(n_jobs=1)]: Done   5 out of   5 | elapsed:   17.2s finished\n",
      "\n",
      "[2021-05-31 21:41:15] Features: 8/12 -- score: 0.8524306245468365[Parallel(n_jobs=1)]: Using backend SequentialBackend with 1 concurrent workers.\n",
      "[Parallel(n_jobs=1)]: Done   1 out of   1 | elapsed:    3.9s remaining:    0.0s\n",
      "[Parallel(n_jobs=1)]: Done   4 out of   4 | elapsed:   15.9s finished\n",
      "\n",
      "[2021-05-31 21:41:31] Features: 9/12 -- score: 0.8760904475784504[Parallel(n_jobs=1)]: Using backend SequentialBackend with 1 concurrent workers.\n",
      "[Parallel(n_jobs=1)]: Done   1 out of   1 | elapsed:    4.1s remaining:    0.0s\n",
      "[Parallel(n_jobs=1)]: Done   3 out of   3 | elapsed:   12.3s finished\n",
      "\n",
      "[2021-05-31 21:41:44] Features: 10/12 -- score: 0.8824804737808631[Parallel(n_jobs=1)]: Using backend SequentialBackend with 1 concurrent workers.\n",
      "[Parallel(n_jobs=1)]: Done   1 out of   1 | elapsed:    4.1s remaining:    0.0s\n",
      "[Parallel(n_jobs=1)]: Done   2 out of   2 | elapsed:    8.4s finished\n",
      "\n",
      "[2021-05-31 21:41:52] Features: 11/12 -- score: 0.8816362924557256[Parallel(n_jobs=1)]: Using backend SequentialBackend with 1 concurrent workers.\n",
      "[Parallel(n_jobs=1)]: Done   1 out of   1 | elapsed:    4.2s remaining:    0.0s\n",
      "[Parallel(n_jobs=1)]: Done   1 out of   1 | elapsed:    4.2s finished\n",
      "\n",
      "[2021-05-31 21:41:56] Features: 12/12 -- score: 0.8808824741211869"
     ]
    },
    {
     "data": {
      "text/html": [
       "<div>\n",
       "<style scoped>\n",
       "    .dataframe tbody tr th:only-of-type {\n",
       "        vertical-align: middle;\n",
       "    }\n",
       "\n",
       "    .dataframe tbody tr th {\n",
       "        vertical-align: top;\n",
       "    }\n",
       "\n",
       "    .dataframe thead th {\n",
       "        text-align: right;\n",
       "    }\n",
       "</style>\n",
       "<table border=\"1\" class=\"dataframe\">\n",
       "  <thead>\n",
       "    <tr style=\"text-align: right;\">\n",
       "      <th></th>\n",
       "      <th>feature_idx</th>\n",
       "      <th>cv_scores</th>\n",
       "      <th>avg_score</th>\n",
       "      <th>feature_names</th>\n",
       "      <th>ci_bound</th>\n",
       "      <th>std_dev</th>\n",
       "      <th>std_err</th>\n",
       "    </tr>\n",
       "  </thead>\n",
       "  <tbody>\n",
       "    <tr>\n",
       "      <th>1</th>\n",
       "      <td>(9,)</td>\n",
       "      <td>[0.6794320911218971, 0.6871879464521244, 0.689...</td>\n",
       "      <td>0.686137</td>\n",
       "      <td>(KPIs_met &gt;80%,)</td>\n",
       "      <td>0.00637043</td>\n",
       "      <td>0.00397412</td>\n",
       "      <td>0.00229446</td>\n",
       "    </tr>\n",
       "    <tr>\n",
       "      <th>2</th>\n",
       "      <td>(9, 11)</td>\n",
       "      <td>[0.7851433043823631, 0.7854649807404274, 0.787...</td>\n",
       "      <td>0.783643</td>\n",
       "      <td>(KPIs_met &gt;80%, avg_training_score)</td>\n",
       "      <td>0.00640457</td>\n",
       "      <td>0.00399541</td>\n",
       "      <td>0.00230675</td>\n",
       "    </tr>\n",
       "    <tr>\n",
       "      <th>3</th>\n",
       "      <td>(0, 9, 11)</td>\n",
       "      <td>[0.888811270954733, 0.8799661849672674, 0.8768...</td>\n",
       "      <td>0.881039</td>\n",
       "      <td>(department, KPIs_met &gt;80%, avg_training_score)</td>\n",
       "      <td>0.00740511</td>\n",
       "      <td>0.00461959</td>\n",
       "      <td>0.00266712</td>\n",
       "    </tr>\n",
       "    <tr>\n",
       "      <th>4</th>\n",
       "      <td>(0, 9, 10, 11)</td>\n",
       "      <td>[0.8911424697948771, 0.881561230003298, 0.8760...</td>\n",
       "      <td>0.882888</td>\n",
       "      <td>(department, KPIs_met &gt;80%, awards_won?, avg_t...</td>\n",
       "      <td>0.0086607</td>\n",
       "      <td>0.00540287</td>\n",
       "      <td>0.00311935</td>\n",
       "    </tr>\n",
       "    <tr>\n",
       "      <th>5</th>\n",
       "      <td>(0, 3, 9, 10, 11)</td>\n",
       "      <td>[0.8827890667741377, 0.8777641534663463, 0.873...</td>\n",
       "      <td>0.878533</td>\n",
       "      <td>(department, gender, KPIs_met &gt;80%, awards_won...</td>\n",
       "      <td>0.00509911</td>\n",
       "      <td>0.00318102</td>\n",
       "      <td>0.00183656</td>\n",
       "    </tr>\n",
       "    <tr>\n",
       "      <th>6</th>\n",
       "      <td>(0, 3, 5, 9, 10, 11)</td>\n",
       "      <td>[0.8787648754186728, 0.8726764997347765, 0.867...</td>\n",
       "      <td>0.874274</td>\n",
       "      <td>(department, gender, no_of_trainings, KPIs_met...</td>\n",
       "      <td>0.00702972</td>\n",
       "      <td>0.0043854</td>\n",
       "      <td>0.00253191</td>\n",
       "    </tr>\n",
       "    <tr>\n",
       "      <th>7</th>\n",
       "      <td>(0, 3, 5, 7, 9, 10, 11)</td>\n",
       "      <td>[0.8741198054878996, 0.8517383905229543, 0.863...</td>\n",
       "      <td>0.86202</td>\n",
       "      <td>(department, gender, no_of_trainings, previous...</td>\n",
       "      <td>0.0129471</td>\n",
       "      <td>0.0080769</td>\n",
       "      <td>0.0046632</td>\n",
       "    </tr>\n",
       "    <tr>\n",
       "      <th>8</th>\n",
       "      <td>(0, 3, 5, 6, 7, 9, 10, 11)</td>\n",
       "      <td>[0.8614630201813117, 0.845337093851205, 0.8590...</td>\n",
       "      <td>0.852431</td>\n",
       "      <td>(department, gender, no_of_trainings, age, pre...</td>\n",
       "      <td>0.0126294</td>\n",
       "      <td>0.0078787</td>\n",
       "      <td>0.00454877</td>\n",
       "    </tr>\n",
       "    <tr>\n",
       "      <th>9</th>\n",
       "      <td>(0, 1, 3, 5, 6, 7, 9, 10, 11)</td>\n",
       "      <td>[0.880064910917845, 0.8786587795244791, 0.8747...</td>\n",
       "      <td>0.87609</td>\n",
       "      <td>(department, region, gender, no_of_trainings, ...</td>\n",
       "      <td>0.00573396</td>\n",
       "      <td>0.00357706</td>\n",
       "      <td>0.00206522</td>\n",
       "    </tr>\n",
       "    <tr>\n",
       "      <th>10</th>\n",
       "      <td>(0, 1, 3, 5, 6, 7, 8, 9, 10, 11)</td>\n",
       "      <td>[0.8874787215884938, 0.8854666180834926, 0.882...</td>\n",
       "      <td>0.88248</td>\n",
       "      <td>(department, region, gender, no_of_trainings, ...</td>\n",
       "      <td>0.00782091</td>\n",
       "      <td>0.00487898</td>\n",
       "      <td>0.00281688</td>\n",
       "    </tr>\n",
       "    <tr>\n",
       "      <th>11</th>\n",
       "      <td>(0, 1, 3, 4, 5, 6, 7, 8, 9, 10, 11)</td>\n",
       "      <td>[0.8806134282919965, 0.8866500532656287, 0.885...</td>\n",
       "      <td>0.881636</td>\n",
       "      <td>(department, region, gender, recruitment_chann...</td>\n",
       "      <td>0.00850687</td>\n",
       "      <td>0.0053069</td>\n",
       "      <td>0.00306394</td>\n",
       "    </tr>\n",
       "    <tr>\n",
       "      <th>12</th>\n",
       "      <td>(0, 1, 2, 3, 4, 5, 6, 7, 8, 9, 10, 11)</td>\n",
       "      <td>[0.8830839630055792, 0.881480467406867, 0.8851...</td>\n",
       "      <td>0.880882</td>\n",
       "      <td>(department, region, education, gender, recrui...</td>\n",
       "      <td>0.006817</td>\n",
       "      <td>0.0042527</td>\n",
       "      <td>0.0024553</td>\n",
       "    </tr>\n",
       "  </tbody>\n",
       "</table>\n",
       "</div>"
      ],
      "text/plain": [
       "                               feature_idx  \\\n",
       "1                                     (9,)   \n",
       "2                                  (9, 11)   \n",
       "3                               (0, 9, 11)   \n",
       "4                           (0, 9, 10, 11)   \n",
       "5                        (0, 3, 9, 10, 11)   \n",
       "6                     (0, 3, 5, 9, 10, 11)   \n",
       "7                  (0, 3, 5, 7, 9, 10, 11)   \n",
       "8               (0, 3, 5, 6, 7, 9, 10, 11)   \n",
       "9            (0, 1, 3, 5, 6, 7, 9, 10, 11)   \n",
       "10        (0, 1, 3, 5, 6, 7, 8, 9, 10, 11)   \n",
       "11     (0, 1, 3, 4, 5, 6, 7, 8, 9, 10, 11)   \n",
       "12  (0, 1, 2, 3, 4, 5, 6, 7, 8, 9, 10, 11)   \n",
       "\n",
       "                                            cv_scores avg_score  \\\n",
       "1   [0.6794320911218971, 0.6871879464521244, 0.689...  0.686137   \n",
       "2   [0.7851433043823631, 0.7854649807404274, 0.787...  0.783643   \n",
       "3   [0.888811270954733, 0.8799661849672674, 0.8768...  0.881039   \n",
       "4   [0.8911424697948771, 0.881561230003298, 0.8760...  0.882888   \n",
       "5   [0.8827890667741377, 0.8777641534663463, 0.873...  0.878533   \n",
       "6   [0.8787648754186728, 0.8726764997347765, 0.867...  0.874274   \n",
       "7   [0.8741198054878996, 0.8517383905229543, 0.863...   0.86202   \n",
       "8   [0.8614630201813117, 0.845337093851205, 0.8590...  0.852431   \n",
       "9   [0.880064910917845, 0.8786587795244791, 0.8747...   0.87609   \n",
       "10  [0.8874787215884938, 0.8854666180834926, 0.882...   0.88248   \n",
       "11  [0.8806134282919965, 0.8866500532656287, 0.885...  0.881636   \n",
       "12  [0.8830839630055792, 0.881480467406867, 0.8851...  0.880882   \n",
       "\n",
       "                                        feature_names    ci_bound     std_dev  \\\n",
       "1                                    (KPIs_met >80%,)  0.00637043  0.00397412   \n",
       "2                 (KPIs_met >80%, avg_training_score)  0.00640457  0.00399541   \n",
       "3     (department, KPIs_met >80%, avg_training_score)  0.00740511  0.00461959   \n",
       "4   (department, KPIs_met >80%, awards_won?, avg_t...   0.0086607  0.00540287   \n",
       "5   (department, gender, KPIs_met >80%, awards_won...  0.00509911  0.00318102   \n",
       "6   (department, gender, no_of_trainings, KPIs_met...  0.00702972   0.0043854   \n",
       "7   (department, gender, no_of_trainings, previous...   0.0129471   0.0080769   \n",
       "8   (department, gender, no_of_trainings, age, pre...   0.0126294   0.0078787   \n",
       "9   (department, region, gender, no_of_trainings, ...  0.00573396  0.00357706   \n",
       "10  (department, region, gender, no_of_trainings, ...  0.00782091  0.00487898   \n",
       "11  (department, region, gender, recruitment_chann...  0.00850687   0.0053069   \n",
       "12  (department, region, education, gender, recrui...    0.006817   0.0042527   \n",
       "\n",
       "       std_err  \n",
       "1   0.00229446  \n",
       "2   0.00230675  \n",
       "3   0.00266712  \n",
       "4   0.00311935  \n",
       "5   0.00183656  \n",
       "6   0.00253191  \n",
       "7    0.0046632  \n",
       "8   0.00454877  \n",
       "9   0.00206522  \n",
       "10  0.00281688  \n",
       "11  0.00306394  \n",
       "12   0.0024553  "
      ]
     },
     "execution_count": 55,
     "metadata": {},
     "output_type": "execute_result"
    }
   ],
   "source": [
    "#Fitting the feature selector and observing features\n",
    "features_sfs = sfs_feature_selector.fit(X_train, y_train)\n",
    "pd.DataFrame.from_dict(features_sfs.get_metric_dict()).T"
   ]
  },
  {
   "cell_type": "markdown",
   "metadata": {
    "hidden": true,
    "id": "khcyOYibIWPR"
   },
   "source": [
    "Sfs feature selection suggests **[department, KPI's met, awards won, avg training score]** as features."
   ]
  },
  {
   "cell_type": "markdown",
   "metadata": {
    "heading_collapsed": true,
    "hidden": true,
    "id": "n4o6sj6GIWPS"
   },
   "source": [
    "#### Step Backwards Feature Selection"
   ]
  },
  {
   "cell_type": "code",
   "execution_count": 56,
   "metadata": {
    "ExecuteTime": {
     "end_time": "2021-05-31T16:13:18.206447Z",
     "start_time": "2021-05-31T16:13:18.200427Z"
    },
    "hidden": true,
    "id": "-0V8z-yMIWPS"
   },
   "outputs": [],
   "source": [
    "#Initialising Step Backwards feature selector\n",
    "sbs_feature_selector = SequentialFeatureSelector(RandomForestClassifier(n_jobs=-1, random_state=42),\n",
    "           forward=False,\n",
    "           verbose=2,\n",
    "           scoring='roc_auc',\n",
    "           cv=4)"
   ]
  },
  {
   "cell_type": "code",
   "execution_count": 57,
   "metadata": {
    "ExecuteTime": {
     "end_time": "2021-05-31T16:18:24.577971Z",
     "start_time": "2021-05-31T16:13:24.583262Z"
    },
    "collapsed": true,
    "hidden": true,
    "id": "5aJOPxF6IWPS",
    "outputId": "aed61a7c-3273-4a73-f94d-da09662df565"
   },
   "outputs": [
    {
     "name": "stderr",
     "output_type": "stream",
     "text": [
      "[Parallel(n_jobs=1)]: Using backend SequentialBackend with 1 concurrent workers.\n",
      "[Parallel(n_jobs=1)]: Done   1 out of   1 | elapsed:    3.7s remaining:    0.0s\n",
      "[Parallel(n_jobs=1)]: Done  12 out of  12 | elapsed:   51.1s finished\n",
      "\n",
      "[2021-05-31 21:44:19] Features: 11/1 -- score: 0.8816362762294403[Parallel(n_jobs=1)]: Using backend SequentialBackend with 1 concurrent workers.\n",
      "[Parallel(n_jobs=1)]: Done   1 out of   1 | elapsed:    4.3s remaining:    0.0s\n",
      "[Parallel(n_jobs=1)]: Done  11 out of  11 | elapsed:   48.6s finished\n",
      "\n",
      "[2021-05-31 21:45:08] Features: 10/1 -- score: 0.8824805387547944[Parallel(n_jobs=1)]: Using backend SequentialBackend with 1 concurrent workers.\n",
      "[Parallel(n_jobs=1)]: Done   1 out of   1 | elapsed:    4.3s remaining:    0.0s\n",
      "[Parallel(n_jobs=1)]: Done  10 out of  10 | elapsed:   44.5s finished\n",
      "\n",
      "[2021-05-31 21:45:52] Features: 9/1 -- score: 0.8802792488228388[Parallel(n_jobs=1)]: Using backend SequentialBackend with 1 concurrent workers.\n",
      "[Parallel(n_jobs=1)]: Done   1 out of   1 | elapsed:    4.2s remaining:    0.0s\n",
      "[Parallel(n_jobs=1)]: Done   9 out of   9 | elapsed:   35.7s finished\n",
      "\n",
      "[2021-05-31 21:46:28] Features: 8/1 -- score: 0.8736764953306512[Parallel(n_jobs=1)]: Using backend SequentialBackend with 1 concurrent workers.\n",
      "[Parallel(n_jobs=1)]: Done   1 out of   1 | elapsed:    3.7s remaining:    0.0s\n",
      "[Parallel(n_jobs=1)]: Done   8 out of   8 | elapsed:   31.8s finished\n",
      "\n",
      "[2021-05-31 21:47:00] Features: 7/1 -- score: 0.8696393666043921[Parallel(n_jobs=1)]: Using backend SequentialBackend with 1 concurrent workers.\n",
      "[Parallel(n_jobs=1)]: Done   1 out of   1 | elapsed:    3.8s remaining:    0.0s\n",
      "[Parallel(n_jobs=1)]: Done   7 out of   7 | elapsed:   27.5s finished\n",
      "\n",
      "[2021-05-31 21:47:28] Features: 6/1 -- score: 0.8615778791364515[Parallel(n_jobs=1)]: Using backend SequentialBackend with 1 concurrent workers.\n",
      "[Parallel(n_jobs=1)]: Done   1 out of   1 | elapsed:    3.3s remaining:    0.0s\n",
      "[Parallel(n_jobs=1)]: Done   6 out of   6 | elapsed:   20.8s finished\n",
      "\n",
      "[2021-05-31 21:47:49] Features: 5/1 -- score: 0.8450042495948143[Parallel(n_jobs=1)]: Using backend SequentialBackend with 1 concurrent workers.\n",
      "[Parallel(n_jobs=1)]: Done   1 out of   1 | elapsed:    3.0s remaining:    0.0s\n",
      "[Parallel(n_jobs=1)]: Done   5 out of   5 | elapsed:   15.9s finished\n",
      "\n",
      "[2021-05-31 21:48:05] Features: 4/1 -- score: 0.8475060718216685[Parallel(n_jobs=1)]: Using backend SequentialBackend with 1 concurrent workers.\n",
      "[Parallel(n_jobs=1)]: Done   1 out of   1 | elapsed:    2.4s remaining:    0.0s\n",
      "[Parallel(n_jobs=1)]: Done   4 out of   4 | elapsed:   11.0s finished\n",
      "\n",
      "[2021-05-31 21:48:16] Features: 3/1 -- score: 0.8811163554900006[Parallel(n_jobs=1)]: Using backend SequentialBackend with 1 concurrent workers.\n",
      "[Parallel(n_jobs=1)]: Done   1 out of   1 | elapsed:    1.4s remaining:    0.0s\n",
      "[Parallel(n_jobs=1)]: Done   3 out of   3 | elapsed:    5.2s finished\n",
      "\n",
      "[2021-05-31 21:48:21] Features: 2/1 -- score: 0.7836430181943014[Parallel(n_jobs=1)]: Using backend SequentialBackend with 1 concurrent workers.\n",
      "[Parallel(n_jobs=1)]: Done   1 out of   1 | elapsed:    1.2s remaining:    0.0s\n",
      "[Parallel(n_jobs=1)]: Done   2 out of   2 | elapsed:    3.0s finished\n",
      "\n",
      "[2021-05-31 21:48:24] Features: 1/1 -- score: 0.6861374169578304"
     ]
    },
    {
     "data": {
      "text/html": [
       "<div>\n",
       "<style scoped>\n",
       "    .dataframe tbody tr th:only-of-type {\n",
       "        vertical-align: middle;\n",
       "    }\n",
       "\n",
       "    .dataframe tbody tr th {\n",
       "        vertical-align: top;\n",
       "    }\n",
       "\n",
       "    .dataframe thead th {\n",
       "        text-align: right;\n",
       "    }\n",
       "</style>\n",
       "<table border=\"1\" class=\"dataframe\">\n",
       "  <thead>\n",
       "    <tr style=\"text-align: right;\">\n",
       "      <th></th>\n",
       "      <th>feature_idx</th>\n",
       "      <th>cv_scores</th>\n",
       "      <th>avg_score</th>\n",
       "      <th>feature_names</th>\n",
       "      <th>ci_bound</th>\n",
       "      <th>std_dev</th>\n",
       "      <th>std_err</th>\n",
       "    </tr>\n",
       "  </thead>\n",
       "  <tbody>\n",
       "    <tr>\n",
       "      <th>12</th>\n",
       "      <td>(0, 1, 2, 3, 4, 5, 6, 7, 8, 9, 10, 11)</td>\n",
       "      <td>[0.8830839630055792, 0.881480467406867, 0.8851...</td>\n",
       "      <td>0.880882</td>\n",
       "      <td>(department, region, education, gender, recrui...</td>\n",
       "      <td>0.006817</td>\n",
       "      <td>0.0042527</td>\n",
       "      <td>0.0024553</td>\n",
       "    </tr>\n",
       "    <tr>\n",
       "      <th>11</th>\n",
       "      <td>(0, 1, 3, 4, 5, 6, 7, 8, 9, 10, 11)</td>\n",
       "      <td>[0.8806134282919965, 0.8866500532656287, 0.885...</td>\n",
       "      <td>0.881636</td>\n",
       "      <td>(department, region, gender, recruitment_chann...</td>\n",
       "      <td>0.00850691</td>\n",
       "      <td>0.00530693</td>\n",
       "      <td>0.00306396</td>\n",
       "    </tr>\n",
       "    <tr>\n",
       "      <th>10</th>\n",
       "      <td>(0, 1, 3, 5, 6, 7, 8, 9, 10, 11)</td>\n",
       "      <td>[0.8874787215884937, 0.8854666180834926, 0.882...</td>\n",
       "      <td>0.882481</td>\n",
       "      <td>(department, region, gender, no_of_trainings, ...</td>\n",
       "      <td>0.0078209</td>\n",
       "      <td>0.00487897</td>\n",
       "      <td>0.00281688</td>\n",
       "    </tr>\n",
       "    <tr>\n",
       "      <th>9</th>\n",
       "      <td>(0, 1, 3, 6, 7, 8, 9, 10, 11)</td>\n",
       "      <td>[0.8823377665114956, 0.8859441115035827, 0.879...</td>\n",
       "      <td>0.880279</td>\n",
       "      <td>(department, region, gender, age, previous_yea...</td>\n",
       "      <td>0.0075152</td>\n",
       "      <td>0.00468827</td>\n",
       "      <td>0.00270677</td>\n",
       "    </tr>\n",
       "    <tr>\n",
       "      <th>8</th>\n",
       "      <td>(0, 1, 3, 6, 7, 8, 9, 11)</td>\n",
       "      <td>[0.8759527179581031, 0.8781030574912734, 0.872...</td>\n",
       "      <td>0.873676</td>\n",
       "      <td>(department, region, gender, age, previous_yea...</td>\n",
       "      <td>0.00614057</td>\n",
       "      <td>0.00383072</td>\n",
       "      <td>0.00221167</td>\n",
       "    </tr>\n",
       "    <tr>\n",
       "      <th>7</th>\n",
       "      <td>(0, 1, 6, 7, 8, 9, 11)</td>\n",
       "      <td>[0.8719759020975661, 0.8733548925500111, 0.871...</td>\n",
       "      <td>0.869639</td>\n",
       "      <td>(department, region, age, previous_year_rating...</td>\n",
       "      <td>0.00703492</td>\n",
       "      <td>0.00438865</td>\n",
       "      <td>0.00253379</td>\n",
       "    </tr>\n",
       "    <tr>\n",
       "      <th>6</th>\n",
       "      <td>(0, 1, 6, 7, 9, 11)</td>\n",
       "      <td>[0.8645522918382406, 0.8661891775781719, 0.862...</td>\n",
       "      <td>0.861578</td>\n",
       "      <td>(department, region, age, previous_year_rating...</td>\n",
       "      <td>0.00815574</td>\n",
       "      <td>0.00508786</td>\n",
       "      <td>0.00293747</td>\n",
       "    </tr>\n",
       "    <tr>\n",
       "      <th>5</th>\n",
       "      <td>(0, 1, 6, 9, 11)</td>\n",
       "      <td>[0.8490449294916349, 0.8555813386553046, 0.840...</td>\n",
       "      <td>0.845004</td>\n",
       "      <td>(department, region, age, KPIs_met &gt;80%, avg_t...</td>\n",
       "      <td>0.0126629</td>\n",
       "      <td>0.00789961</td>\n",
       "      <td>0.00456084</td>\n",
       "    </tr>\n",
       "    <tr>\n",
       "      <th>4</th>\n",
       "      <td>(0, 1, 9, 11)</td>\n",
       "      <td>[0.8518321661439138, 0.8399100163032589, 0.851...</td>\n",
       "      <td>0.847506</td>\n",
       "      <td>(department, region, KPIs_met &gt;80%, avg_traini...</td>\n",
       "      <td>0.00781355</td>\n",
       "      <td>0.00487439</td>\n",
       "      <td>0.00281423</td>\n",
       "    </tr>\n",
       "    <tr>\n",
       "      <th>3</th>\n",
       "      <td>(0, 9, 11)</td>\n",
       "      <td>[0.8887391044473908, 0.8802592173967962, 0.876...</td>\n",
       "      <td>0.881116</td>\n",
       "      <td>(department, KPIs_met &gt;80%, avg_training_score)</td>\n",
       "      <td>0.00732466</td>\n",
       "      <td>0.0045694</td>\n",
       "      <td>0.00263814</td>\n",
       "    </tr>\n",
       "    <tr>\n",
       "      <th>2</th>\n",
       "      <td>(9, 11)</td>\n",
       "      <td>[0.7851433043823631, 0.7854649807404274, 0.787...</td>\n",
       "      <td>0.783643</td>\n",
       "      <td>(KPIs_met &gt;80%, avg_training_score)</td>\n",
       "      <td>0.00640457</td>\n",
       "      <td>0.00399541</td>\n",
       "      <td>0.00230675</td>\n",
       "    </tr>\n",
       "    <tr>\n",
       "      <th>1</th>\n",
       "      <td>(9,)</td>\n",
       "      <td>[0.6794320911218971, 0.6871879464521244, 0.689...</td>\n",
       "      <td>0.686137</td>\n",
       "      <td>(KPIs_met &gt;80%,)</td>\n",
       "      <td>0.00637043</td>\n",
       "      <td>0.00397412</td>\n",
       "      <td>0.00229446</td>\n",
       "    </tr>\n",
       "  </tbody>\n",
       "</table>\n",
       "</div>"
      ],
      "text/plain": [
       "                               feature_idx  \\\n",
       "12  (0, 1, 2, 3, 4, 5, 6, 7, 8, 9, 10, 11)   \n",
       "11     (0, 1, 3, 4, 5, 6, 7, 8, 9, 10, 11)   \n",
       "10        (0, 1, 3, 5, 6, 7, 8, 9, 10, 11)   \n",
       "9            (0, 1, 3, 6, 7, 8, 9, 10, 11)   \n",
       "8                (0, 1, 3, 6, 7, 8, 9, 11)   \n",
       "7                   (0, 1, 6, 7, 8, 9, 11)   \n",
       "6                      (0, 1, 6, 7, 9, 11)   \n",
       "5                         (0, 1, 6, 9, 11)   \n",
       "4                            (0, 1, 9, 11)   \n",
       "3                               (0, 9, 11)   \n",
       "2                                  (9, 11)   \n",
       "1                                     (9,)   \n",
       "\n",
       "                                            cv_scores avg_score  \\\n",
       "12  [0.8830839630055792, 0.881480467406867, 0.8851...  0.880882   \n",
       "11  [0.8806134282919965, 0.8866500532656287, 0.885...  0.881636   \n",
       "10  [0.8874787215884937, 0.8854666180834926, 0.882...  0.882481   \n",
       "9   [0.8823377665114956, 0.8859441115035827, 0.879...  0.880279   \n",
       "8   [0.8759527179581031, 0.8781030574912734, 0.872...  0.873676   \n",
       "7   [0.8719759020975661, 0.8733548925500111, 0.871...  0.869639   \n",
       "6   [0.8645522918382406, 0.8661891775781719, 0.862...  0.861578   \n",
       "5   [0.8490449294916349, 0.8555813386553046, 0.840...  0.845004   \n",
       "4   [0.8518321661439138, 0.8399100163032589, 0.851...  0.847506   \n",
       "3   [0.8887391044473908, 0.8802592173967962, 0.876...  0.881116   \n",
       "2   [0.7851433043823631, 0.7854649807404274, 0.787...  0.783643   \n",
       "1   [0.6794320911218971, 0.6871879464521244, 0.689...  0.686137   \n",
       "\n",
       "                                        feature_names    ci_bound     std_dev  \\\n",
       "12  (department, region, education, gender, recrui...    0.006817   0.0042527   \n",
       "11  (department, region, gender, recruitment_chann...  0.00850691  0.00530693   \n",
       "10  (department, region, gender, no_of_trainings, ...   0.0078209  0.00487897   \n",
       "9   (department, region, gender, age, previous_yea...   0.0075152  0.00468827   \n",
       "8   (department, region, gender, age, previous_yea...  0.00614057  0.00383072   \n",
       "7   (department, region, age, previous_year_rating...  0.00703492  0.00438865   \n",
       "6   (department, region, age, previous_year_rating...  0.00815574  0.00508786   \n",
       "5   (department, region, age, KPIs_met >80%, avg_t...   0.0126629  0.00789961   \n",
       "4   (department, region, KPIs_met >80%, avg_traini...  0.00781355  0.00487439   \n",
       "3     (department, KPIs_met >80%, avg_training_score)  0.00732466   0.0045694   \n",
       "2                 (KPIs_met >80%, avg_training_score)  0.00640457  0.00399541   \n",
       "1                                    (KPIs_met >80%,)  0.00637043  0.00397412   \n",
       "\n",
       "       std_err  \n",
       "12   0.0024553  \n",
       "11  0.00306396  \n",
       "10  0.00281688  \n",
       "9   0.00270677  \n",
       "8   0.00221167  \n",
       "7   0.00253379  \n",
       "6   0.00293747  \n",
       "5   0.00456084  \n",
       "4   0.00281423  \n",
       "3   0.00263814  \n",
       "2   0.00230675  \n",
       "1   0.00229446  "
      ]
     },
     "execution_count": 57,
     "metadata": {},
     "output_type": "execute_result"
    }
   ],
   "source": [
    "#Fitting the step backward feature selector\n",
    "features_sbs = sbs_feature_selector.fit(X_train, y_train)\n",
    "pd.DataFrame.from_dict(features_sbs.get_metric_dict()).T"
   ]
  },
  {
   "cell_type": "markdown",
   "metadata": {
    "hidden": true,
    "id": "4ITGW9pKIWPT"
   },
   "source": [
    "Sbs feature selection suggests we take 10 features. [department, KPI's, avg training score] are good features according to both sbs and sfs. "
   ]
  },
  {
   "cell_type": "markdown",
   "metadata": {
    "heading_collapsed": true,
    "hidden": true
   },
   "source": [
    "#### INFERENCE"
   ]
  },
  {
   "cell_type": "markdown",
   "metadata": {
    "hidden": true
   },
   "source": [
    "Analysing both, We will consider the features **[department, KPI's met, Awards won, Avg Training Score]**"
   ]
  },
  {
   "cell_type": "code",
   "execution_count": 58,
   "metadata": {
    "ExecuteTime": {
     "end_time": "2021-05-31T16:20:52.598456Z",
     "start_time": "2021-05-31T16:20:52.587976Z"
    },
    "hidden": true,
    "id": "nEzcHJjAIWPR"
   },
   "outputs": [],
   "source": [
    "#Dropping all the columns except selected features\n",
    "X_train_W = X_train.drop(X_train.columns.difference(['department', 'KPIs_met >80%', 'awards_won?', 'avg_training_score']), 1)\n",
    "X_validation_W = X_validation.drop(X_validation.columns.difference(['department', 'KPIs_met >80%', 'awards_won?', 'avg_training_score']), 1)\n",
    "X_test_W = X_test.drop(X_test.columns.difference(['department', 'KPIs_met >80%', 'awards_won?', 'avg_training_score']), 1)"
   ]
  },
  {
   "cell_type": "code",
   "execution_count": 59,
   "metadata": {
    "ExecuteTime": {
     "end_time": "2021-05-31T16:20:54.115902Z",
     "start_time": "2021-05-31T16:20:54.102951Z"
    },
    "collapsed": true,
    "hidden": true,
    "id": "J1CcoyHoIWPS"
   },
   "outputs": [
    {
     "data": {
      "text/html": [
       "<div>\n",
       "<style scoped>\n",
       "    .dataframe tbody tr th:only-of-type {\n",
       "        vertical-align: middle;\n",
       "    }\n",
       "\n",
       "    .dataframe tbody tr th {\n",
       "        vertical-align: top;\n",
       "    }\n",
       "\n",
       "    .dataframe thead th {\n",
       "        text-align: right;\n",
       "    }\n",
       "</style>\n",
       "<table border=\"1\" class=\"dataframe\">\n",
       "  <thead>\n",
       "    <tr style=\"text-align: right;\">\n",
       "      <th></th>\n",
       "      <th>department</th>\n",
       "      <th>KPIs_met &gt;80%</th>\n",
       "      <th>awards_won?</th>\n",
       "      <th>avg_training_score</th>\n",
       "    </tr>\n",
       "  </thead>\n",
       "  <tbody>\n",
       "    <tr>\n",
       "      <th>50114</th>\n",
       "      <td>0.307671</td>\n",
       "      <td>0</td>\n",
       "      <td>0</td>\n",
       "      <td>52</td>\n",
       "    </tr>\n",
       "    <tr>\n",
       "      <th>5038</th>\n",
       "      <td>0.047186</td>\n",
       "      <td>0</td>\n",
       "      <td>0</td>\n",
       "      <td>71</td>\n",
       "    </tr>\n",
       "    <tr>\n",
       "      <th>26158</th>\n",
       "      <td>0.129216</td>\n",
       "      <td>0</td>\n",
       "      <td>0</td>\n",
       "      <td>79</td>\n",
       "    </tr>\n",
       "    <tr>\n",
       "      <th>48838</th>\n",
       "      <td>0.047186</td>\n",
       "      <td>0</td>\n",
       "      <td>0</td>\n",
       "      <td>59</td>\n",
       "    </tr>\n",
       "    <tr>\n",
       "      <th>13179</th>\n",
       "      <td>0.206736</td>\n",
       "      <td>0</td>\n",
       "      <td>0</td>\n",
       "      <td>55</td>\n",
       "    </tr>\n",
       "    <tr>\n",
       "      <th>...</th>\n",
       "      <td>...</td>\n",
       "      <td>...</td>\n",
       "      <td>...</td>\n",
       "      <td>...</td>\n",
       "    </tr>\n",
       "    <tr>\n",
       "      <th>44732</th>\n",
       "      <td>0.131725</td>\n",
       "      <td>0</td>\n",
       "      <td>0</td>\n",
       "      <td>67</td>\n",
       "    </tr>\n",
       "    <tr>\n",
       "      <th>54343</th>\n",
       "      <td>0.131725</td>\n",
       "      <td>0</td>\n",
       "      <td>0</td>\n",
       "      <td>68</td>\n",
       "    </tr>\n",
       "    <tr>\n",
       "      <th>38158</th>\n",
       "      <td>0.206736</td>\n",
       "      <td>1</td>\n",
       "      <td>0</td>\n",
       "      <td>65</td>\n",
       "    </tr>\n",
       "    <tr>\n",
       "      <th>860</th>\n",
       "      <td>0.096247</td>\n",
       "      <td>0</td>\n",
       "      <td>0</td>\n",
       "      <td>86</td>\n",
       "    </tr>\n",
       "    <tr>\n",
       "      <th>15795</th>\n",
       "      <td>0.043891</td>\n",
       "      <td>0</td>\n",
       "      <td>0</td>\n",
       "      <td>53</td>\n",
       "    </tr>\n",
       "  </tbody>\n",
       "</table>\n",
       "<p>39461 rows × 4 columns</p>\n",
       "</div>"
      ],
      "text/plain": [
       "       department  KPIs_met >80%  awards_won?  avg_training_score\n",
       "50114    0.307671              0            0                  52\n",
       "5038     0.047186              0            0                  71\n",
       "26158    0.129216              0            0                  79\n",
       "48838    0.047186              0            0                  59\n",
       "13179    0.206736              0            0                  55\n",
       "...           ...            ...          ...                 ...\n",
       "44732    0.131725              0            0                  67\n",
       "54343    0.131725              0            0                  68\n",
       "38158    0.206736              1            0                  65\n",
       "860      0.096247              0            0                  86\n",
       "15795    0.043891              0            0                  53\n",
       "\n",
       "[39461 rows x 4 columns]"
      ]
     },
     "execution_count": 59,
     "metadata": {},
     "output_type": "execute_result"
    }
   ],
   "source": [
    "#Feature train set\n",
    "X_train_W"
   ]
  },
  {
   "cell_type": "markdown",
   "metadata": {
    "heading_collapsed": true,
    "hidden": true,
    "id": "8k_oRq-KIWPT"
   },
   "source": [
    "### Embedded Methods"
   ]
  },
  {
   "cell_type": "markdown",
   "metadata": {
    "heading_collapsed": true,
    "hidden": true,
    "id": "wBukZRnJIWPT"
   },
   "source": [
    "#### Random Forest Feature Importance"
   ]
  },
  {
   "cell_type": "code",
   "execution_count": 60,
   "metadata": {
    "ExecuteTime": {
     "end_time": "2021-05-31T16:39:10.848728Z",
     "start_time": "2021-05-31T16:39:05.566148Z"
    },
    "hidden": true,
    "id": "qT-nzsU3IWPT",
    "outputId": "c7378490-6eb2-4358-a43e-afdd3b80ec86"
   },
   "outputs": [
    {
     "name": "stderr",
     "output_type": "stream",
     "text": [
      "[Parallel(n_jobs=1)]: Using backend SequentialBackend with 1 concurrent workers.\n",
      "[Parallel(n_jobs=1)]: Done 200 out of 200 | elapsed:    4.8s finished\n"
     ]
    },
    {
     "data": {
      "image/png": "[encoded data removed]",
      "text/plain": [
       "<Figure size 432x288 with 1 Axes>"
      ]
     },
     "metadata": {
      "needs_background": "light"
     },
     "output_type": "display_data"
    }
   ],
   "source": [
    "#Finding Feature Importance using Random Forest Classifier and displaying all the features importance\n",
    "model = RandomForestClassifier(random_state = 42, verbose = 1, n_estimators=200, criterion='entropy', max_features=2)\n",
    "model.fit(X_train,y_train)\n",
    "feat_importances = pd.Series(model.feature_importances_, index=X_train.columns)\n",
    "feat_importances.nlargest(12).plot(kind='barh')\n",
    "plt.show()"
   ]
  },
  {
   "cell_type": "markdown",
   "metadata": {
    "hidden": true,
    "id": "b9DbSlKAIWPT"
   },
   "source": [
    "From the above plot, **[gender, education, no of trainings, recruitment channel, awards won]** aren't considered good features. Rest all are acceptable."
   ]
  },
  {
   "cell_type": "code",
   "execution_count": 61,
   "metadata": {
    "ExecuteTime": {
     "end_time": "2021-05-31T16:39:35.415693Z",
     "start_time": "2021-05-31T16:39:35.405069Z"
    },
    "hidden": true,
    "id": "YoUqQ1ZnIWPU"
   },
   "outputs": [],
   "source": [
    "#Creating a featureset based on these\n",
    "X_trainF = X_train.drop(columns=['gender', 'education', 'no_of_trainings', 'recruitment_channel', 'awards_won?'], axis=1)\n",
    "X_validationF = X_validation.drop(columns=['gender', 'education', 'no_of_trainings', 'recruitment_channel', 'awards_won?'], axis=1)\n",
    "X_testF = X_test.drop(columns=['gender', 'education', 'no_of_trainings', 'recruitment_channel', 'awards_won?'], axis=1)"
   ]
  },
  {
   "cell_type": "code",
   "execution_count": 62,
   "metadata": {
    "ExecuteTime": {
     "end_time": "2021-05-31T16:39:36.817854Z",
     "start_time": "2021-05-31T16:39:36.803782Z"
    },
    "hidden": true,
    "id": "K4Qg0tiDIWPU"
   },
   "outputs": [
    {
     "data": {
      "text/html": [
       "<div>\n",
       "<style scoped>\n",
       "    .dataframe tbody tr th:only-of-type {\n",
       "        vertical-align: middle;\n",
       "    }\n",
       "\n",
       "    .dataframe tbody tr th {\n",
       "        vertical-align: top;\n",
       "    }\n",
       "\n",
       "    .dataframe thead th {\n",
       "        text-align: right;\n",
       "    }\n",
       "</style>\n",
       "<table border=\"1\" class=\"dataframe\">\n",
       "  <thead>\n",
       "    <tr style=\"text-align: right;\">\n",
       "      <th></th>\n",
       "      <th>department</th>\n",
       "      <th>region</th>\n",
       "      <th>age</th>\n",
       "      <th>previous_year_rating</th>\n",
       "      <th>length_of_service</th>\n",
       "      <th>KPIs_met &gt;80%</th>\n",
       "      <th>avg_training_score</th>\n",
       "    </tr>\n",
       "  </thead>\n",
       "  <tbody>\n",
       "    <tr>\n",
       "      <th>50114</th>\n",
       "      <td>0.307671</td>\n",
       "      <td>0.014698</td>\n",
       "      <td>41</td>\n",
       "      <td>4.0</td>\n",
       "      <td>6</td>\n",
       "      <td>0</td>\n",
       "      <td>52</td>\n",
       "    </tr>\n",
       "    <tr>\n",
       "      <th>5038</th>\n",
       "      <td>0.047186</td>\n",
       "      <td>0.088315</td>\n",
       "      <td>33</td>\n",
       "      <td>5.0</td>\n",
       "      <td>7</td>\n",
       "      <td>0</td>\n",
       "      <td>71</td>\n",
       "    </tr>\n",
       "    <tr>\n",
       "      <th>26158</th>\n",
       "      <td>0.129216</td>\n",
       "      <td>0.005018</td>\n",
       "      <td>33</td>\n",
       "      <td>1.0</td>\n",
       "      <td>2</td>\n",
       "      <td>0</td>\n",
       "      <td>79</td>\n",
       "    </tr>\n",
       "    <tr>\n",
       "      <th>48838</th>\n",
       "      <td>0.047186</td>\n",
       "      <td>0.227034</td>\n",
       "      <td>27</td>\n",
       "      <td>3.0</td>\n",
       "      <td>5</td>\n",
       "      <td>0</td>\n",
       "      <td>59</td>\n",
       "    </tr>\n",
       "    <tr>\n",
       "      <th>13179</th>\n",
       "      <td>0.206736</td>\n",
       "      <td>0.030460</td>\n",
       "      <td>32</td>\n",
       "      <td>3.0</td>\n",
       "      <td>3</td>\n",
       "      <td>0</td>\n",
       "      <td>55</td>\n",
       "    </tr>\n",
       "    <tr>\n",
       "      <th>...</th>\n",
       "      <td>...</td>\n",
       "      <td>...</td>\n",
       "      <td>...</td>\n",
       "      <td>...</td>\n",
       "      <td>...</td>\n",
       "      <td>...</td>\n",
       "      <td>...</td>\n",
       "    </tr>\n",
       "    <tr>\n",
       "      <th>44732</th>\n",
       "      <td>0.131725</td>\n",
       "      <td>0.117382</td>\n",
       "      <td>36</td>\n",
       "      <td>3.0</td>\n",
       "      <td>4</td>\n",
       "      <td>0</td>\n",
       "      <td>67</td>\n",
       "    </tr>\n",
       "    <tr>\n",
       "      <th>54343</th>\n",
       "      <td>0.131725</td>\n",
       "      <td>0.227034</td>\n",
       "      <td>27</td>\n",
       "      <td>0.0</td>\n",
       "      <td>1</td>\n",
       "      <td>0</td>\n",
       "      <td>68</td>\n",
       "    </tr>\n",
       "    <tr>\n",
       "      <th>38158</th>\n",
       "      <td>0.206736</td>\n",
       "      <td>0.024049</td>\n",
       "      <td>34</td>\n",
       "      <td>5.0</td>\n",
       "      <td>7</td>\n",
       "      <td>1</td>\n",
       "      <td>65</td>\n",
       "    </tr>\n",
       "    <tr>\n",
       "      <th>860</th>\n",
       "      <td>0.096247</td>\n",
       "      <td>0.052406</td>\n",
       "      <td>35</td>\n",
       "      <td>5.0</td>\n",
       "      <td>3</td>\n",
       "      <td>0</td>\n",
       "      <td>86</td>\n",
       "    </tr>\n",
       "    <tr>\n",
       "      <th>15795</th>\n",
       "      <td>0.043891</td>\n",
       "      <td>0.117382</td>\n",
       "      <td>30</td>\n",
       "      <td>1.0</td>\n",
       "      <td>2</td>\n",
       "      <td>0</td>\n",
       "      <td>53</td>\n",
       "    </tr>\n",
       "  </tbody>\n",
       "</table>\n",
       "<p>39461 rows × 7 columns</p>\n",
       "</div>"
      ],
      "text/plain": [
       "       department    region  age  previous_year_rating  length_of_service  \\\n",
       "50114    0.307671  0.014698   41                   4.0                  6   \n",
       "5038     0.047186  0.088315   33                   5.0                  7   \n",
       "26158    0.129216  0.005018   33                   1.0                  2   \n",
       "48838    0.047186  0.227034   27                   3.0                  5   \n",
       "13179    0.206736  0.030460   32                   3.0                  3   \n",
       "...           ...       ...  ...                   ...                ...   \n",
       "44732    0.131725  0.117382   36                   3.0                  4   \n",
       "54343    0.131725  0.227034   27                   0.0                  1   \n",
       "38158    0.206736  0.024049   34                   5.0                  7   \n",
       "860      0.096247  0.052406   35                   5.0                  3   \n",
       "15795    0.043891  0.117382   30                   1.0                  2   \n",
       "\n",
       "       KPIs_met >80%  avg_training_score  \n",
       "50114              0                  52  \n",
       "5038               0                  71  \n",
       "26158              0                  79  \n",
       "48838              0                  59  \n",
       "13179              0                  55  \n",
       "...              ...                 ...  \n",
       "44732              0                  67  \n",
       "54343              0                  68  \n",
       "38158              1                  65  \n",
       "860                0                  86  \n",
       "15795              0                  53  \n",
       "\n",
       "[39461 rows x 7 columns]"
      ]
     },
     "execution_count": 62,
     "metadata": {},
     "output_type": "execute_result"
    }
   ],
   "source": [
    "#Feature Train Set\n",
    "X_trainF"
   ]
  },
  {
   "cell_type": "markdown",
   "metadata": {
    "heading_collapsed": true,
    "id": "yi8fhsbWIWPU"
   },
   "source": [
    "## **MODEL TRAINING**"
   ]
  },
  {
   "cell_type": "markdown",
   "metadata": {
    "heading_collapsed": true,
    "hidden": true,
    "id": "zqEmh8a9IWPV"
   },
   "source": [
    "### **With WRAPPER method suggested features**"
   ]
  },
  {
   "cell_type": "markdown",
   "metadata": {
    "heading_collapsed": true,
    "hidden": true,
    "id": "kodkMKKBIWPV"
   },
   "source": [
    "#### Logistic Regression Classifier"
   ]
  },
  {
   "cell_type": "code",
   "execution_count": 64,
   "metadata": {
    "ExecuteTime": {
     "end_time": "2021-05-31T16:42:34.945454Z",
     "start_time": "2021-05-31T16:42:34.749491Z"
    },
    "hidden": true,
    "id": "AFse4oqyIWPV",
    "outputId": "bc03eb44-99f3-4d60-816d-29d79305ce4b"
   },
   "outputs": [
    {
     "data": {
      "text/plain": [
       "LogisticRegression()"
      ]
     },
     "execution_count": 64,
     "metadata": {},
     "output_type": "execute_result"
    }
   ],
   "source": [
    "#Fitting Logistic Regression in training Set\n",
    "classifier = LogisticRegression()\n",
    "classifier.fit(X_train_W, y_train)"
   ]
  },
  {
   "cell_type": "code",
   "execution_count": 65,
   "metadata": {
    "ExecuteTime": {
     "end_time": "2021-05-31T16:42:36.763626Z",
     "start_time": "2021-05-31T16:42:36.748667Z"
    },
    "hidden": true,
    "id": "g7GigKtCIWPV"
   },
   "outputs": [],
   "source": [
    "#Predicting Test Set Results\n",
    "y_pred = classifier.predict(X_test_W)"
   ]
  },
  {
   "cell_type": "code",
   "execution_count": 66,
   "metadata": {
    "ExecuteTime": {
     "end_time": "2021-05-31T16:42:45.898762Z",
     "start_time": "2021-05-31T16:42:45.867810Z"
    },
    "hidden": true,
    "id": "dhT5S15jIWPV",
    "outputId": "93813cb5-eb06-483b-eaf2-f4d7aa2077ff"
   },
   "outputs": [
    {
     "name": "stdout",
     "output_type": "stream",
     "text": [
      "[[8433   30]\n",
      " [ 665   81]]\n",
      "              precision    recall  f1-score   support\n",
      "\n",
      "           0       0.93      1.00      0.96      8463\n",
      "           1       0.73      0.11      0.19       746\n",
      "\n",
      "    accuracy                           0.92      9209\n",
      "   macro avg       0.83      0.55      0.57      9209\n",
      "weighted avg       0.91      0.92      0.90      9209\n",
      "\n"
     ]
    }
   ],
   "source": [
    "#Checking Accuracies\n",
    "print(confusion_matrix(y_test, y_pred))\n",
    "print(classification_report(y_test, y_pred))"
   ]
  },
  {
   "cell_type": "markdown",
   "metadata": {
    "heading_collapsed": true,
    "hidden": true,
    "id": "WtLoJ9zjIWPW"
   },
   "source": [
    "#### KNN Classifier"
   ]
  },
  {
   "cell_type": "code",
   "execution_count": 67,
   "metadata": {
    "ExecuteTime": {
     "end_time": "2021-05-31T16:42:52.992470Z",
     "start_time": "2021-05-31T16:42:52.864384Z"
    },
    "hidden": true,
    "id": "jkaDyjAuIWPW",
    "outputId": "7f7182e8-e4c4-4da8-82f8-4ae57e2de7a4"
   },
   "outputs": [
    {
     "data": {
      "text/plain": [
       "KNeighborsClassifier()"
      ]
     },
     "execution_count": 67,
     "metadata": {},
     "output_type": "execute_result"
    }
   ],
   "source": [
    "#Fitting KNN to the training Set\n",
    "classifier = KNeighborsClassifier()\n",
    "classifier.fit(X_train_W, y_train)"
   ]
  },
  {
   "cell_type": "code",
   "execution_count": 68,
   "metadata": {
    "ExecuteTime": {
     "end_time": "2021-05-31T16:42:55.583033Z",
     "start_time": "2021-05-31T16:42:55.106874Z"
    },
    "hidden": true,
    "id": "dS_H2OCdIWPW"
   },
   "outputs": [],
   "source": [
    "#Predicting Test Set Results\n",
    "y_pred = classifier.predict(X_test_W)"
   ]
  },
  {
   "cell_type": "code",
   "execution_count": 69,
   "metadata": {
    "ExecuteTime": {
     "end_time": "2021-05-31T16:42:58.473065Z",
     "start_time": "2021-05-31T16:42:58.443327Z"
    },
    "hidden": true,
    "id": "foVaQD1iIWPW",
    "outputId": "224b113c-06b7-44b1-9afc-ab04cb76bbdd"
   },
   "outputs": [
    {
     "name": "stdout",
     "output_type": "stream",
     "text": [
      "[[8376   87]\n",
      " [ 487  259]]\n",
      "              precision    recall  f1-score   support\n",
      "\n",
      "           0       0.95      0.99      0.97      8463\n",
      "           1       0.75      0.35      0.47       746\n",
      "\n",
      "    accuracy                           0.94      9209\n",
      "   macro avg       0.85      0.67      0.72      9209\n",
      "weighted avg       0.93      0.94      0.93      9209\n",
      "\n"
     ]
    }
   ],
   "source": [
    "#Checking Accuracies\n",
    "print(confusion_matrix(y_test, y_pred))\n",
    "print(classification_report(y_test, y_pred))"
   ]
  },
  {
   "cell_type": "markdown",
   "metadata": {
    "heading_collapsed": true,
    "hidden": true,
    "id": "Ug9B0TA7IWPW"
   },
   "source": [
    "#### SVM Classifier"
   ]
  },
  {
   "cell_type": "markdown",
   "metadata": {
    "heading_collapsed": true,
    "hidden": true,
    "id": "JUg312-bIWPX"
   },
   "source": [
    "##### Linear Kernel"
   ]
  },
  {
   "cell_type": "code",
   "execution_count": 70,
   "metadata": {
    "ExecuteTime": {
     "end_time": "2021-05-31T16:47:10.480740Z",
     "start_time": "2021-05-31T16:43:25.978952Z"
    },
    "hidden": true,
    "id": "IunmZ4BoIWPX",
    "outputId": "bd631173-9f51-44c4-caa6-88a3643be2a3"
   },
   "outputs": [
    {
     "data": {
      "text/plain": [
       "SVC(kernel='linear')"
      ]
     },
     "execution_count": 70,
     "metadata": {},
     "output_type": "execute_result"
    }
   ],
   "source": [
    "# Fitting Linear Kernel SVM to the Training Set\n",
    "classifier = SVC(kernel = 'linear')\n",
    "classifier.fit(X_train_W, y_train)"
   ]
  },
  {
   "cell_type": "code",
   "execution_count": 71,
   "metadata": {
    "ExecuteTime": {
     "end_time": "2021-05-31T16:47:12.235384Z",
     "start_time": "2021-05-31T16:47:11.792331Z"
    },
    "hidden": true,
    "id": "NHdKwfI1IWPX"
   },
   "outputs": [],
   "source": [
    "#Predicting Test Set Results\n",
    "y_pred = classifier.predict(X_test_W)"
   ]
  },
  {
   "cell_type": "code",
   "execution_count": 72,
   "metadata": {
    "ExecuteTime": {
     "end_time": "2021-05-31T16:47:13.552140Z",
     "start_time": "2021-05-31T16:47:13.523896Z"
    },
    "hidden": true,
    "id": "UxgK6x5PIWPX",
    "outputId": "f5dc1f24-bb5d-46e2-92bb-5840653023eb"
   },
   "outputs": [
    {
     "name": "stdout",
     "output_type": "stream",
     "text": [
      "[[8463    0]\n",
      " [ 746    0]]\n",
      "              precision    recall  f1-score   support\n",
      "\n",
      "           0       0.92      1.00      0.96      8463\n",
      "           1       0.00      0.00      0.00       746\n",
      "\n",
      "    accuracy                           0.92      9209\n",
      "   macro avg       0.46      0.50      0.48      9209\n",
      "weighted avg       0.84      0.92      0.88      9209\n",
      "\n"
     ]
    }
   ],
   "source": [
    "#Checking Accuracies\n",
    "print(confusion_matrix(y_test, y_pred))\n",
    "print(classification_report(y_test, y_pred))"
   ]
  },
  {
   "cell_type": "markdown",
   "metadata": {
    "heading_collapsed": true,
    "hidden": true,
    "id": "FUIkT43SIWPX"
   },
   "source": [
    "##### Gaussian Kernel"
   ]
  },
  {
   "cell_type": "code",
   "execution_count": 73,
   "metadata": {
    "ExecuteTime": {
     "end_time": "2021-05-31T16:48:40.328117Z",
     "start_time": "2021-05-31T16:48:28.172581Z"
    },
    "hidden": true,
    "id": "EjcJDMGGIWPY",
    "outputId": "fbe93b7a-b0f4-4c1c-d191-4f41e8fc7e6d"
   },
   "outputs": [
    {
     "data": {
      "text/plain": [
       "SVC()"
      ]
     },
     "execution_count": 73,
     "metadata": {},
     "output_type": "execute_result"
    }
   ],
   "source": [
    "# Fitting Gaussian Kernel SVM to the Training Set\n",
    "classifier = SVC(kernel = 'rbf')\n",
    "classifier.fit(X_train_W, y_train)"
   ]
  },
  {
   "cell_type": "code",
   "execution_count": 74,
   "metadata": {
    "ExecuteTime": {
     "end_time": "2021-05-31T16:48:43.707585Z",
     "start_time": "2021-05-31T16:48:42.665523Z"
    },
    "hidden": true,
    "id": "1EjLGB10IWPY"
   },
   "outputs": [],
   "source": [
    "#Predicting Test Set Results\n",
    "y_pred = classifier.predict(X_test_W)"
   ]
  },
  {
   "cell_type": "code",
   "execution_count": 75,
   "metadata": {
    "ExecuteTime": {
     "end_time": "2021-05-31T16:48:45.102154Z",
     "start_time": "2021-05-31T16:48:45.070144Z"
    },
    "hidden": true,
    "id": "-aFZXZ3FIWPY",
    "outputId": "7a47069c-f301-4287-af89-54d42d2c655f"
   },
   "outputs": [
    {
     "name": "stdout",
     "output_type": "stream",
     "text": [
      "[[8463    0]\n",
      " [ 746    0]]\n",
      "              precision    recall  f1-score   support\n",
      "\n",
      "           0       0.92      1.00      0.96      8463\n",
      "           1       0.00      0.00      0.00       746\n",
      "\n",
      "    accuracy                           0.92      9209\n",
      "   macro avg       0.46      0.50      0.48      9209\n",
      "weighted avg       0.84      0.92      0.88      9209\n",
      "\n"
     ]
    }
   ],
   "source": [
    "#Checking Accuracies\n",
    "print(confusion_matrix(y_test, y_pred))\n",
    "print(classification_report(y_test, y_pred))"
   ]
  },
  {
   "cell_type": "markdown",
   "metadata": {
    "heading_collapsed": true,
    "hidden": true,
    "id": "VhVqS34YIWPY"
   },
   "source": [
    "##### Poly Kernel"
   ]
  },
  {
   "cell_type": "code",
   "execution_count": 76,
   "metadata": {
    "ExecuteTime": {
     "end_time": "2021-05-31T16:49:17.776019Z",
     "start_time": "2021-05-31T16:48:52.339511Z"
    },
    "hidden": true,
    "id": "lx2h7zDAIWPZ",
    "outputId": "2114c23d-e9b6-4d3b-9f5c-c6571aaa6b37"
   },
   "outputs": [
    {
     "data": {
      "text/plain": [
       "SVC(kernel='poly')"
      ]
     },
     "execution_count": 76,
     "metadata": {},
     "output_type": "execute_result"
    }
   ],
   "source": [
    "# Fitting Gaussian Kernel SVM to the Training Set\n",
    "classifier = SVC(kernel = 'poly')\n",
    "classifier.fit(X_train_W, y_train)"
   ]
  },
  {
   "cell_type": "code",
   "execution_count": 77,
   "metadata": {
    "ExecuteTime": {
     "end_time": "2021-05-31T16:49:19.673145Z",
     "start_time": "2021-05-31T16:49:19.108429Z"
    },
    "hidden": true,
    "id": "c17GfWH_IWPZ"
   },
   "outputs": [],
   "source": [
    "#Predicting Test Set Results\n",
    "y_pred = classifier.predict(X_test_W)"
   ]
  },
  {
   "cell_type": "code",
   "execution_count": 78,
   "metadata": {
    "ExecuteTime": {
     "end_time": "2021-05-31T16:49:21.100274Z",
     "start_time": "2021-05-31T16:49:21.071420Z"
    },
    "hidden": true,
    "id": "1st6lBxOIWPZ",
    "outputId": "fb7cb3f7-e670-4e94-dcc2-e71c305c7eeb"
   },
   "outputs": [
    {
     "name": "stdout",
     "output_type": "stream",
     "text": [
      "[[8463    0]\n",
      " [ 746    0]]\n",
      "              precision    recall  f1-score   support\n",
      "\n",
      "           0       0.92      1.00      0.96      8463\n",
      "           1       0.00      0.00      0.00       746\n",
      "\n",
      "    accuracy                           0.92      9209\n",
      "   macro avg       0.46      0.50      0.48      9209\n",
      "weighted avg       0.84      0.92      0.88      9209\n",
      "\n"
     ]
    }
   ],
   "source": [
    "#Checking Accuracies\n",
    "print(confusion_matrix(y_test, y_pred))\n",
    "print(classification_report(y_test, y_pred))"
   ]
  },
  {
   "cell_type": "markdown",
   "metadata": {
    "heading_collapsed": true,
    "hidden": true,
    "id": "4Ug4gZG1IWPZ"
   },
   "source": [
    "#### Decision Tree Classifier"
   ]
  },
  {
   "cell_type": "code",
   "execution_count": 79,
   "metadata": {
    "ExecuteTime": {
     "end_time": "2021-05-31T16:49:30.951116Z",
     "start_time": "2021-05-31T16:49:30.915245Z"
    },
    "hidden": true,
    "id": "jRPsFImTIWPZ",
    "outputId": "8d2bf8a8-1931-4144-b482-4df2cb09b5d1"
   },
   "outputs": [
    {
     "data": {
      "text/plain": [
       "DecisionTreeClassifier()"
      ]
     },
     "execution_count": 79,
     "metadata": {},
     "output_type": "execute_result"
    }
   ],
   "source": [
    "# Fitting Decision Tree Classifier to the Training Set\n",
    "classifier = DecisionTreeClassifier()\n",
    "classifier.fit(X_train_W, y_train)"
   ]
  },
  {
   "cell_type": "code",
   "execution_count": 80,
   "metadata": {
    "ExecuteTime": {
     "end_time": "2021-05-31T16:49:34.683686Z",
     "start_time": "2021-05-31T16:49:34.664712Z"
    },
    "hidden": true,
    "id": "fKQ2r_rnIWPa"
   },
   "outputs": [],
   "source": [
    "# Predicting the Test Set Results\n",
    "y_pred = classifier.predict(X_test_W)"
   ]
  },
  {
   "cell_type": "code",
   "execution_count": 81,
   "metadata": {
    "ExecuteTime": {
     "end_time": "2021-05-31T16:49:36.671237Z",
     "start_time": "2021-05-31T16:49:36.634354Z"
    },
    "hidden": true,
    "id": "zP2SaK0xIWPa",
    "outputId": "0e11974d-7ade-4749-fc32-d54a963848c0"
   },
   "outputs": [
    {
     "name": "stdout",
     "output_type": "stream",
     "text": [
      "[[8439   24]\n",
      " [ 496  250]]\n",
      "              precision    recall  f1-score   support\n",
      "\n",
      "           0       0.94      1.00      0.97      8463\n",
      "           1       0.91      0.34      0.49       746\n",
      "\n",
      "    accuracy                           0.94      9209\n",
      "   macro avg       0.93      0.67      0.73      9209\n",
      "weighted avg       0.94      0.94      0.93      9209\n",
      "\n"
     ]
    }
   ],
   "source": [
    "#Checking Accuracies\n",
    "print(confusion_matrix(y_test, y_pred))\n",
    "print(classification_report(y_test, y_pred))"
   ]
  },
  {
   "cell_type": "markdown",
   "metadata": {
    "heading_collapsed": true,
    "hidden": true,
    "id": "DMAfguNIIWPa"
   },
   "source": [
    "#### Random Forest Classifier"
   ]
  },
  {
   "cell_type": "code",
   "execution_count": 82,
   "metadata": {
    "ExecuteTime": {
     "end_time": "2021-05-31T16:49:53.946179Z",
     "start_time": "2021-05-31T16:49:52.694595Z"
    },
    "hidden": true,
    "id": "Ztp-9pDzIWPa",
    "outputId": "ecaf1411-af9c-4d17-d725-12a2f61d3996"
   },
   "outputs": [
    {
     "data": {
      "text/plain": [
       "RandomForestClassifier(random_state=42)"
      ]
     },
     "execution_count": 82,
     "metadata": {},
     "output_type": "execute_result"
    }
   ],
   "source": [
    "#Fitting Random Forest Classifier to the Training Set\n",
    "classifier = RandomForestClassifier(random_state=42)\n",
    "classifier.fit(X_train_W, y_train)"
   ]
  },
  {
   "cell_type": "code",
   "execution_count": 83,
   "metadata": {
    "ExecuteTime": {
     "end_time": "2021-05-31T16:49:55.494367Z",
     "start_time": "2021-05-31T16:49:55.365931Z"
    },
    "hidden": true,
    "id": "yqTAke2OIWPa"
   },
   "outputs": [],
   "source": [
    "# Predicting the Test Set Results\n",
    "y_pred = classifier.predict(X_test_W)"
   ]
  },
  {
   "cell_type": "code",
   "execution_count": 84,
   "metadata": {
    "ExecuteTime": {
     "end_time": "2021-05-31T16:49:56.965865Z",
     "start_time": "2021-05-31T16:49:56.937543Z"
    },
    "hidden": true,
    "id": "T2H6-NnXIWPb",
    "outputId": "bd524cd5-d500-4304-9e82-71759ef66923"
   },
   "outputs": [
    {
     "name": "stdout",
     "output_type": "stream",
     "text": [
      "[[8432   31]\n",
      " [ 492  254]]\n",
      "              precision    recall  f1-score   support\n",
      "\n",
      "           0       0.94      1.00      0.97      8463\n",
      "           1       0.89      0.34      0.49       746\n",
      "\n",
      "    accuracy                           0.94      9209\n",
      "   macro avg       0.92      0.67      0.73      9209\n",
      "weighted avg       0.94      0.94      0.93      9209\n",
      "\n"
     ]
    }
   ],
   "source": [
    "#Checking Accuracies\n",
    "print(confusion_matrix(y_test, y_pred))\n",
    "print(classification_report(y_test, y_pred))"
   ]
  },
  {
   "cell_type": "markdown",
   "metadata": {
    "heading_collapsed": true,
    "hidden": true,
    "id": "rbAJp-_xIWPb"
   },
   "source": [
    "#### XGBoost Classifier"
   ]
  },
  {
   "cell_type": "code",
   "execution_count": 85,
   "metadata": {
    "ExecuteTime": {
     "end_time": "2021-05-31T16:50:12.841056Z",
     "start_time": "2021-05-31T16:50:11.839432Z"
    },
    "hidden": true,
    "id": "DzcoWo2wIWPb",
    "outputId": "9059fd31-dc88-496b-de5e-2c825531be18"
   },
   "outputs": [
    {
     "name": "stdout",
     "output_type": "stream",
     "text": [
      "[22:20:12] WARNING: C:/Users/Administrator/workspace/xgboost-win64_release_1.4.0/src/learner.cc:1095: Starting in XGBoost 1.3.0, the default evaluation metric used with the objective 'binary:logistic' was changed from 'error' to 'logloss'. Explicitly set eval_metric if you'd like to restore the old behavior.\n"
     ]
    },
    {
     "data": {
      "text/plain": [
       "XGBClassifier(base_score=0.5, booster='gbtree', colsample_bylevel=1,\n",
       "              colsample_bynode=1, colsample_bytree=1, gamma=0, gpu_id=-1,\n",
       "              importance_type='gain', interaction_constraints='',\n",
       "              learning_rate=0.300000012, max_delta_step=0, max_depth=6,\n",
       "              min_child_weight=1, missing=nan, monotone_constraints='()',\n",
       "              n_estimators=100, n_jobs=8, num_parallel_tree=1, random_state=0,\n",
       "              reg_alpha=0, reg_lambda=1, scale_pos_weight=1, subsample=1,\n",
       "              tree_method='exact', validate_parameters=1, verbosity=None)"
      ]
     },
     "execution_count": 85,
     "metadata": {},
     "output_type": "execute_result"
    }
   ],
   "source": [
    "# Fitting XGBoost to the Training Set\n",
    "classifier = XGBClassifier()\n",
    "classifier.fit(X_train_W, y_train)"
   ]
  },
  {
   "cell_type": "code",
   "execution_count": 86,
   "metadata": {
    "ExecuteTime": {
     "end_time": "2021-05-31T16:50:16.556748Z",
     "start_time": "2021-05-31T16:50:16.533793Z"
    },
    "hidden": true,
    "id": "L_0fr9lXIWPb"
   },
   "outputs": [],
   "source": [
    "# Predicting the Test Set Results\n",
    "y_pred = classifier.predict(X_test_W)"
   ]
  },
  {
   "cell_type": "code",
   "execution_count": 87,
   "metadata": {
    "ExecuteTime": {
     "end_time": "2021-05-31T16:50:18.729756Z",
     "start_time": "2021-05-31T16:50:18.700357Z"
    },
    "hidden": true,
    "id": "5_CE4RvAIWPb",
    "outputId": "6946d8fe-25aa-40f7-c0d5-825906878ed9"
   },
   "outputs": [
    {
     "name": "stdout",
     "output_type": "stream",
     "text": [
      "[[8439   24]\n",
      " [ 491  255]]\n",
      "              precision    recall  f1-score   support\n",
      "\n",
      "           0       0.95      1.00      0.97      8463\n",
      "           1       0.91      0.34      0.50       746\n",
      "\n",
      "    accuracy                           0.94      9209\n",
      "   macro avg       0.93      0.67      0.73      9209\n",
      "weighted avg       0.94      0.94      0.93      9209\n",
      "\n"
     ]
    }
   ],
   "source": [
    "#Checking Accuracies\n",
    "print(confusion_matrix(y_test, y_pred))\n",
    "print(classification_report(y_test, y_pred))"
   ]
  },
  {
   "cell_type": "markdown",
   "metadata": {
    "heading_collapsed": true,
    "hidden": true,
    "id": "gQT0j8FjIWPc"
   },
   "source": [
    "### **With EMBEDDED suggested features**"
   ]
  },
  {
   "cell_type": "markdown",
   "metadata": {
    "heading_collapsed": true,
    "hidden": true,
    "id": "CTDu00A7IWPc"
   },
   "source": [
    "#### Logistic Regression Classifier"
   ]
  },
  {
   "cell_type": "code",
   "execution_count": 88,
   "metadata": {
    "ExecuteTime": {
     "end_time": "2021-05-31T16:50:36.651483Z",
     "start_time": "2021-05-31T16:50:36.296827Z"
    },
    "hidden": true,
    "id": "w_UaleF4IWPc",
    "outputId": "97ea3efd-ecca-4f5d-9de9-33fe681c872c"
   },
   "outputs": [
    {
     "data": {
      "text/plain": [
       "LogisticRegression()"
      ]
     },
     "execution_count": 88,
     "metadata": {},
     "output_type": "execute_result"
    }
   ],
   "source": [
    "#Fitting Logistic Regression in training Set\n",
    "classifier = LogisticRegression()\n",
    "classifier.fit(X_trainF, y_train)"
   ]
  },
  {
   "cell_type": "code",
   "execution_count": 89,
   "metadata": {
    "ExecuteTime": {
     "end_time": "2021-05-31T16:50:38.106148Z",
     "start_time": "2021-05-31T16:50:38.092679Z"
    },
    "hidden": true,
    "id": "wSF36q1dIWPc"
   },
   "outputs": [],
   "source": [
    "#Predicting Test Set Results\n",
    "y_pred = classifier.predict(X_testF)"
   ]
  },
  {
   "cell_type": "code",
   "execution_count": 90,
   "metadata": {
    "ExecuteTime": {
     "end_time": "2021-05-31T16:50:39.571311Z",
     "start_time": "2021-05-31T16:50:39.541961Z"
    },
    "hidden": true,
    "id": "tpT5KjO8IWPd",
    "outputId": "aa2e36af-67a3-4c9d-def8-88598745c83a"
   },
   "outputs": [
    {
     "name": "stdout",
     "output_type": "stream",
     "text": [
      "[[8463    0]\n",
      " [ 679   67]]\n",
      "              precision    recall  f1-score   support\n",
      "\n",
      "           0       0.93      1.00      0.96      8463\n",
      "           1       1.00      0.09      0.16       746\n",
      "\n",
      "    accuracy                           0.93      9209\n",
      "   macro avg       0.96      0.54      0.56      9209\n",
      "weighted avg       0.93      0.93      0.90      9209\n",
      "\n"
     ]
    }
   ],
   "source": [
    "#Checking Accuracies\n",
    "print(confusion_matrix(y_test, y_pred))\n",
    "print(classification_report(y_test, y_pred))"
   ]
  },
  {
   "cell_type": "markdown",
   "metadata": {
    "heading_collapsed": true,
    "hidden": true,
    "id": "LMFJSJVTIWPd"
   },
   "source": [
    "#### KNN Classifier"
   ]
  },
  {
   "cell_type": "code",
   "execution_count": 91,
   "metadata": {
    "ExecuteTime": {
     "end_time": "2021-05-31T16:51:19.072235Z",
     "start_time": "2021-05-31T16:51:18.940320Z"
    },
    "hidden": true,
    "id": "Hnk_DJkAIWPd",
    "outputId": "97f2199d-e9c7-467d-ae0e-4942041ce0e8"
   },
   "outputs": [
    {
     "data": {
      "text/plain": [
       "KNeighborsClassifier()"
      ]
     },
     "execution_count": 91,
     "metadata": {},
     "output_type": "execute_result"
    }
   ],
   "source": [
    "#Fitting KNN to the training Set\n",
    "classifier = KNeighborsClassifier()\n",
    "classifier.fit(X_trainF, y_train)"
   ]
  },
  {
   "cell_type": "code",
   "execution_count": 92,
   "metadata": {
    "ExecuteTime": {
     "end_time": "2021-05-31T16:51:20.816050Z",
     "start_time": "2021-05-31T16:51:20.408974Z"
    },
    "hidden": true,
    "id": "XhIbjxeFIWPd"
   },
   "outputs": [],
   "source": [
    "#Predicting Test Set Results\n",
    "y_pred = classifier.predict(X_testF)"
   ]
  },
  {
   "cell_type": "code",
   "execution_count": 93,
   "metadata": {
    "ExecuteTime": {
     "end_time": "2021-05-31T16:51:22.163120Z",
     "start_time": "2021-05-31T16:51:22.133573Z"
    },
    "hidden": true,
    "id": "7JXpbCwWIWPd",
    "outputId": "b068f639-e8df-4f67-bb44-341731da3788"
   },
   "outputs": [
    {
     "name": "stdout",
     "output_type": "stream",
     "text": [
      "[[8364   99]\n",
      " [ 637  109]]\n",
      "              precision    recall  f1-score   support\n",
      "\n",
      "           0       0.93      0.99      0.96      8463\n",
      "           1       0.52      0.15      0.23       746\n",
      "\n",
      "    accuracy                           0.92      9209\n",
      "   macro avg       0.73      0.57      0.59      9209\n",
      "weighted avg       0.90      0.92      0.90      9209\n",
      "\n"
     ]
    }
   ],
   "source": [
    "#Checking Accuracies\n",
    "print(confusion_matrix(y_test, y_pred))\n",
    "print(classification_report(y_test, y_pred))"
   ]
  },
  {
   "cell_type": "markdown",
   "metadata": {
    "heading_collapsed": true,
    "hidden": true,
    "id": "x763yDHHIWPe"
   },
   "source": [
    "#### SVM Classifier"
   ]
  },
  {
   "cell_type": "markdown",
   "metadata": {
    "heading_collapsed": true,
    "hidden": true,
    "id": "mWmLWcWzIWPe"
   },
   "source": [
    "##### Linear kernel"
   ]
  },
  {
   "cell_type": "code",
   "execution_count": 94,
   "metadata": {
    "ExecuteTime": {
     "end_time": "2021-05-31T16:54:36.408513Z",
     "start_time": "2021-05-31T16:51:34.839420Z"
    },
    "hidden": true,
    "id": "z9z29g-NIWPe",
    "outputId": "0a2c9911-c919-4eb1-a14a-835290b1d87a"
   },
   "outputs": [
    {
     "data": {
      "text/plain": [
       "SVC(kernel='linear')"
      ]
     },
     "execution_count": 94,
     "metadata": {},
     "output_type": "execute_result"
    }
   ],
   "source": [
    "# Fitting Linear Kernel SVM to the Training Set\n",
    "classifier = SVC(kernel = 'linear')\n",
    "classifier.fit(X_trainF, y_train)"
   ]
  },
  {
   "cell_type": "code",
   "execution_count": 95,
   "metadata": {
    "ExecuteTime": {
     "end_time": "2021-05-31T16:54:38.298763Z",
     "start_time": "2021-05-31T16:54:37.706365Z"
    },
    "hidden": true,
    "id": "F2W2w6oYIWPe"
   },
   "outputs": [],
   "source": [
    "#Predicting Test Set Results\n",
    "y_pred = classifier.predict(X_testF)"
   ]
  },
  {
   "cell_type": "code",
   "execution_count": 96,
   "metadata": {
    "ExecuteTime": {
     "end_time": "2021-05-31T16:54:38.331722Z",
     "start_time": "2021-05-31T16:54:38.300719Z"
    },
    "hidden": true,
    "id": "FkV7aA2IIWPe",
    "outputId": "aca0b546-186e-4cf2-b109-aabe071aa224"
   },
   "outputs": [
    {
     "name": "stdout",
     "output_type": "stream",
     "text": [
      "[[8463    0]\n",
      " [ 746    0]]\n",
      "              precision    recall  f1-score   support\n",
      "\n",
      "           0       0.92      1.00      0.96      8463\n",
      "           1       0.00      0.00      0.00       746\n",
      "\n",
      "    accuracy                           0.92      9209\n",
      "   macro avg       0.46      0.50      0.48      9209\n",
      "weighted avg       0.84      0.92      0.88      9209\n",
      "\n"
     ]
    }
   ],
   "source": [
    "#Checking Accuracies\n",
    "print(confusion_matrix(y_test, y_pred))\n",
    "print(classification_report(y_test, y_pred))"
   ]
  },
  {
   "cell_type": "markdown",
   "metadata": {
    "heading_collapsed": true,
    "hidden": true,
    "id": "NK4RPASbIWPf"
   },
   "source": [
    "##### Gaussian Kernel"
   ]
  },
  {
   "cell_type": "code",
   "execution_count": 97,
   "metadata": {
    "ExecuteTime": {
     "end_time": "2021-05-31T16:54:59.584343Z",
     "start_time": "2021-05-31T16:54:43.909115Z"
    },
    "hidden": true,
    "id": "Db942EaEIWPf",
    "outputId": "aa4992f7-5bbd-4050-a0f1-1f1e17284bb1"
   },
   "outputs": [
    {
     "data": {
      "text/plain": [
       "SVC()"
      ]
     },
     "execution_count": 97,
     "metadata": {},
     "output_type": "execute_result"
    }
   ],
   "source": [
    "# Fitting Gaussian Kernel SVM to the Training Set\n",
    "classifier = SVC(kernel = 'rbf')\n",
    "classifier.fit(X_trainF, y_train)"
   ]
  },
  {
   "cell_type": "code",
   "execution_count": 98,
   "metadata": {
    "ExecuteTime": {
     "end_time": "2021-05-31T16:55:02.131308Z",
     "start_time": "2021-05-31T16:55:00.876064Z"
    },
    "hidden": true,
    "id": "amcu4ZTPIWPf"
   },
   "outputs": [],
   "source": [
    "#Predicting Test Set Results\n",
    "y_pred = classifier.predict(X_testF)"
   ]
  },
  {
   "cell_type": "code",
   "execution_count": 99,
   "metadata": {
    "ExecuteTime": {
     "end_time": "2021-05-31T16:55:03.491170Z",
     "start_time": "2021-05-31T16:55:03.445440Z"
    },
    "hidden": true,
    "id": "iPnXMJ97IWPf",
    "outputId": "aa06542d-51af-495c-e39c-0f62d75708a0"
   },
   "outputs": [
    {
     "name": "stdout",
     "output_type": "stream",
     "text": [
      "[[8463    0]\n",
      " [ 746    0]]\n",
      "              precision    recall  f1-score   support\n",
      "\n",
      "           0       0.92      1.00      0.96      8463\n",
      "           1       0.00      0.00      0.00       746\n",
      "\n",
      "    accuracy                           0.92      9209\n",
      "   macro avg       0.46      0.50      0.48      9209\n",
      "weighted avg       0.84      0.92      0.88      9209\n",
      "\n"
     ]
    }
   ],
   "source": [
    "#Checking Accuracies\n",
    "print(confusion_matrix(y_test, y_pred))\n",
    "print(classification_report(y_test, y_pred))"
   ]
  },
  {
   "cell_type": "markdown",
   "metadata": {
    "heading_collapsed": true,
    "hidden": true,
    "id": "qaKNgX5gIWPf"
   },
   "source": [
    "##### Poly Kernel"
   ]
  },
  {
   "cell_type": "code",
   "execution_count": 100,
   "metadata": {
    "ExecuteTime": {
     "end_time": "2021-05-31T16:55:58.089434Z",
     "start_time": "2021-05-31T16:55:12.475125Z"
    },
    "hidden": true,
    "id": "rzuf-9czIWPg",
    "outputId": "bc2fb7c6-dbb6-43a8-f94a-649a137fdffb"
   },
   "outputs": [
    {
     "data": {
      "text/plain": [
       "SVC(kernel='poly')"
      ]
     },
     "execution_count": 100,
     "metadata": {},
     "output_type": "execute_result"
    }
   ],
   "source": [
    "# Fitting Gaussian Kernel SVM to the Training Set\n",
    "classifier = SVC(kernel = 'poly')\n",
    "classifier.fit(X_trainF, y_train)"
   ]
  },
  {
   "cell_type": "code",
   "execution_count": 101,
   "metadata": {
    "ExecuteTime": {
     "end_time": "2021-05-31T16:56:00.299897Z",
     "start_time": "2021-05-31T16:55:59.581611Z"
    },
    "hidden": true,
    "id": "WTGjrC4sIWPg"
   },
   "outputs": [],
   "source": [
    "#Predicting Test Set Results\n",
    "y_pred = classifier.predict(X_testF)"
   ]
  },
  {
   "cell_type": "code",
   "execution_count": 102,
   "metadata": {
    "ExecuteTime": {
     "end_time": "2021-05-31T16:56:01.753228Z",
     "start_time": "2021-05-31T16:56:01.725498Z"
    },
    "hidden": true,
    "id": "LrTTLbIjIWPg",
    "outputId": "592e22e5-0fc7-4568-e3f5-ee71e23a619c"
   },
   "outputs": [
    {
     "name": "stdout",
     "output_type": "stream",
     "text": [
      "[[8463    0]\n",
      " [ 746    0]]\n",
      "              precision    recall  f1-score   support\n",
      "\n",
      "           0       0.92      1.00      0.96      8463\n",
      "           1       0.00      0.00      0.00       746\n",
      "\n",
      "    accuracy                           0.92      9209\n",
      "   macro avg       0.46      0.50      0.48      9209\n",
      "weighted avg       0.84      0.92      0.88      9209\n",
      "\n"
     ]
    }
   ],
   "source": [
    "#Checking Accuracies\n",
    "print(confusion_matrix(y_test, y_pred))\n",
    "print(classification_report(y_test, y_pred))"
   ]
  },
  {
   "cell_type": "markdown",
   "metadata": {
    "heading_collapsed": true,
    "hidden": true,
    "id": "BRc_tOWAIWPg"
   },
   "source": [
    "#### Decision Tree Classifier"
   ]
  },
  {
   "cell_type": "code",
   "execution_count": 103,
   "metadata": {
    "ExecuteTime": {
     "end_time": "2021-05-31T16:56:14.516739Z",
     "start_time": "2021-05-31T16:56:14.382100Z"
    },
    "hidden": true,
    "id": "0f7filmQIWPh",
    "outputId": "a9fd9c94-91d4-4d32-f6ab-8c1bd6e2da86"
   },
   "outputs": [
    {
     "data": {
      "text/plain": [
       "DecisionTreeClassifier()"
      ]
     },
     "execution_count": 103,
     "metadata": {},
     "output_type": "execute_result"
    }
   ],
   "source": [
    "# Fitting Decision Tree Classifier to the Training Set\n",
    "classifier = DecisionTreeClassifier()\n",
    "classifier.fit(X_trainF, y_train)"
   ]
  },
  {
   "cell_type": "code",
   "execution_count": 104,
   "metadata": {
    "ExecuteTime": {
     "end_time": "2021-05-31T16:56:16.002132Z",
     "start_time": "2021-05-31T16:56:15.993157Z"
    },
    "hidden": true,
    "id": "VU6JSKrmIWPh"
   },
   "outputs": [],
   "source": [
    "# Predicting the Test Set Results\n",
    "y_pred = classifier.predict(X_testF)"
   ]
  },
  {
   "cell_type": "code",
   "execution_count": 105,
   "metadata": {
    "ExecuteTime": {
     "end_time": "2021-05-31T16:56:17.329189Z",
     "start_time": "2021-05-31T16:56:17.298317Z"
    },
    "hidden": true,
    "id": "qnJkrRemIWPh",
    "outputId": "f080efee-9ade-4fb9-8f8d-49920b867e15"
   },
   "outputs": [
    {
     "name": "stdout",
     "output_type": "stream",
     "text": [
      "[[7928  535]\n",
      " [ 414  332]]\n",
      "              precision    recall  f1-score   support\n",
      "\n",
      "           0       0.95      0.94      0.94      8463\n",
      "           1       0.38      0.45      0.41       746\n",
      "\n",
      "    accuracy                           0.90      9209\n",
      "   macro avg       0.67      0.69      0.68      9209\n",
      "weighted avg       0.90      0.90      0.90      9209\n",
      "\n"
     ]
    }
   ],
   "source": [
    "#Checking Accuracies\n",
    "print(confusion_matrix(y_test, y_pred))\n",
    "print(classification_report(y_test, y_pred))"
   ]
  },
  {
   "cell_type": "markdown",
   "metadata": {
    "heading_collapsed": true,
    "hidden": true,
    "id": "3mv6g6NTIWPh"
   },
   "source": [
    "#### Random Forest Classifier"
   ]
  },
  {
   "cell_type": "code",
   "execution_count": 106,
   "metadata": {
    "ExecuteTime": {
     "end_time": "2021-05-31T16:57:19.917761Z",
     "start_time": "2021-05-31T16:57:17.376288Z"
    },
    "hidden": true,
    "id": "hf7zkAQUIWPh",
    "outputId": "7c83a736-41e1-4ff2-f0ef-3c220e1f786b"
   },
   "outputs": [
    {
     "data": {
      "text/plain": [
       "RandomForestClassifier(random_state=42)"
      ]
     },
     "execution_count": 106,
     "metadata": {},
     "output_type": "execute_result"
    }
   ],
   "source": [
    "#Fitting Random Forest Classifier to the Training Set\n",
    "classifier = RandomForestClassifier(random_state=42)\n",
    "classifier.fit(X_trainF, y_train)"
   ]
  },
  {
   "cell_type": "code",
   "execution_count": 107,
   "metadata": {
    "ExecuteTime": {
     "end_time": "2021-05-31T16:57:21.528981Z",
     "start_time": "2021-05-31T16:57:21.338172Z"
    },
    "hidden": true,
    "id": "qr_cb82eIWPi"
   },
   "outputs": [],
   "source": [
    "# Predicting the Test Set Results\n",
    "y_pred = classifier.predict(X_testF)"
   ]
  },
  {
   "cell_type": "code",
   "execution_count": 108,
   "metadata": {
    "ExecuteTime": {
     "end_time": "2021-05-31T16:57:22.842778Z",
     "start_time": "2021-05-31T16:57:22.814854Z"
    },
    "hidden": true,
    "id": "eAN3CPCPIWPi",
    "outputId": "41eccec2-835e-45a0-d536-d098e1c6409d"
   },
   "outputs": [
    {
     "name": "stdout",
     "output_type": "stream",
     "text": [
      "[[8376   87]\n",
      " [ 507  239]]\n",
      "              precision    recall  f1-score   support\n",
      "\n",
      "           0       0.94      0.99      0.97      8463\n",
      "           1       0.73      0.32      0.45       746\n",
      "\n",
      "    accuracy                           0.94      9209\n",
      "   macro avg       0.84      0.66      0.71      9209\n",
      "weighted avg       0.93      0.94      0.92      9209\n",
      "\n"
     ]
    }
   ],
   "source": [
    "#Checking Accuracies\n",
    "print(confusion_matrix(y_test, y_pred))\n",
    "print(classification_report(y_test, y_pred))"
   ]
  },
  {
   "cell_type": "markdown",
   "metadata": {
    "heading_collapsed": true,
    "hidden": true,
    "id": "md8jNUobIWPi"
   },
   "source": [
    "#### XGBoost Classifier"
   ]
  },
  {
   "cell_type": "code",
   "execution_count": 109,
   "metadata": {
    "ExecuteTime": {
     "end_time": "2021-05-31T16:57:34.420226Z",
     "start_time": "2021-05-31T16:57:33.418769Z"
    },
    "hidden": true,
    "id": "8mGnzzIcIWPi",
    "outputId": "3cf13090-29e8-4531-a71a-53ec03ed9d26"
   },
   "outputs": [
    {
     "name": "stdout",
     "output_type": "stream",
     "text": [
      "[22:27:33] WARNING: C:/Users/Administrator/workspace/xgboost-win64_release_1.4.0/src/learner.cc:1095: Starting in XGBoost 1.3.0, the default evaluation metric used with the objective 'binary:logistic' was changed from 'error' to 'logloss'. Explicitly set eval_metric if you'd like to restore the old behavior.\n"
     ]
    },
    {
     "data": {
      "text/plain": [
       "XGBClassifier(base_score=0.5, booster='gbtree', colsample_bylevel=1,\n",
       "              colsample_bynode=1, colsample_bytree=1, gamma=0, gpu_id=-1,\n",
       "              importance_type='gain', interaction_constraints='',\n",
       "              learning_rate=0.300000012, max_delta_step=0, max_depth=6,\n",
       "              min_child_weight=1, missing=nan, monotone_constraints='()',\n",
       "              n_estimators=100, n_jobs=8, num_parallel_tree=1, random_state=0,\n",
       "              reg_alpha=0, reg_lambda=1, scale_pos_weight=1, subsample=1,\n",
       "              tree_method='exact', validate_parameters=1, verbosity=None)"
      ]
     },
     "execution_count": 109,
     "metadata": {},
     "output_type": "execute_result"
    }
   ],
   "source": [
    "# Fitting XGBoost to the Training Set\n",
    "classifier = XGBClassifier()\n",
    "classifier.fit(X_trainF, y_train)"
   ]
  },
  {
   "cell_type": "code",
   "execution_count": 110,
   "metadata": {
    "ExecuteTime": {
     "end_time": "2021-05-31T16:57:35.777865Z",
     "start_time": "2021-05-31T16:57:35.760348Z"
    },
    "hidden": true,
    "id": "H4lzoBJXIWPi"
   },
   "outputs": [],
   "source": [
    "# Predicting the Test Set Results\n",
    "y_pred = classifier.predict(X_testF)"
   ]
  },
  {
   "cell_type": "code",
   "execution_count": 111,
   "metadata": {
    "ExecuteTime": {
     "end_time": "2021-05-31T16:57:37.292095Z",
     "start_time": "2021-05-31T16:57:37.264204Z"
    },
    "hidden": true,
    "id": "GHithyzgIWPj",
    "outputId": "28abf3e1-98ef-4f59-f5ad-4f45c2f5f431"
   },
   "outputs": [
    {
     "name": "stdout",
     "output_type": "stream",
     "text": [
      "[[8431   32]\n",
      " [ 492  254]]\n",
      "              precision    recall  f1-score   support\n",
      "\n",
      "           0       0.94      1.00      0.97      8463\n",
      "           1       0.89      0.34      0.49       746\n",
      "\n",
      "    accuracy                           0.94      9209\n",
      "   macro avg       0.92      0.67      0.73      9209\n",
      "weighted avg       0.94      0.94      0.93      9209\n",
      "\n"
     ]
    }
   ],
   "source": [
    "#Checking Accuracies\n",
    "print(confusion_matrix(y_test, y_pred))\n",
    "print(classification_report(y_test, y_pred))"
   ]
  },
  {
   "cell_type": "markdown",
   "metadata": {
    "heading_collapsed": true,
    "hidden": true,
    "id": "3-NyigmcIWPj"
   },
   "source": [
    "### **INFERENCE** "
   ]
  },
  {
   "cell_type": "markdown",
   "metadata": {
    "hidden": true,
    "id": "7xguqmq3IWPj"
   },
   "source": [
    "Based on all the Model Scores, **Random Forest** and **XGBoost** performs very good on both the subset of features (**Wrapper** suggested & **Embedded** suggested). So, we will focus on these models and try to make them perform even better with hyper-parameter tuning."
   ]
  },
  {
   "cell_type": "markdown",
   "metadata": {
    "heading_collapsed": true,
    "id": "QDRBfb41IWPj"
   },
   "source": [
    "## **HYPER-PARAMETER TUNING**"
   ]
  },
  {
   "cell_type": "markdown",
   "metadata": {
    "heading_collapsed": true,
    "hidden": true,
    "id": "9-zBGhs1IWPj"
   },
   "source": [
    "### **Wrapper** suggested Features"
   ]
  },
  {
   "cell_type": "markdown",
   "metadata": {
    "heading_collapsed": true,
    "hidden": true,
    "id": "73ktaGvrIWPk"
   },
   "source": [
    "#### Random Forest"
   ]
  },
  {
   "cell_type": "markdown",
   "metadata": {
    "heading_collapsed": true,
    "hidden": true,
    "id": "0mU6nZVlIWPk"
   },
   "source": [
    "##### Default Parameters"
   ]
  },
  {
   "cell_type": "code",
   "execution_count": 112,
   "metadata": {
    "ExecuteTime": {
     "end_time": "2021-05-31T16:58:50.301446Z",
     "start_time": "2021-05-31T16:58:49.047678Z"
    },
    "colab": {
     "base_uri": "https://localhost:8080/"
    },
    "hidden": true,
    "id": "-mSp7qcAIWPk",
    "outputId": "8a907ec3-b707-4359-b17a-702835fd49f7"
   },
   "outputs": [
    {
     "data": {
      "text/plain": [
       "RandomForestClassifier(random_state=42)"
      ]
     },
     "execution_count": 112,
     "metadata": {},
     "output_type": "execute_result"
    }
   ],
   "source": [
    "#Fitting Random Forest Classifier with default parameters to the Training Set\n",
    "classifier = RandomForestClassifier(random_state=42)\n",
    "classifier.fit(X_train_W, y_train)"
   ]
  },
  {
   "cell_type": "code",
   "execution_count": 113,
   "metadata": {
    "ExecuteTime": {
     "end_time": "2021-05-31T16:58:58.329901Z",
     "start_time": "2021-05-31T16:58:57.824487Z"
    },
    "colab": {
     "base_uri": "https://localhost:8080/"
    },
    "hidden": true,
    "id": "gGWCwfMOIWPk",
    "outputId": "90e316da-1590-43a5-ef54-6211d01db15d"
   },
   "outputs": [
    {
     "name": "stdout",
     "output_type": "stream",
     "text": [
      "[[35989    54]\n",
      " [ 2194  1224]]\n",
      "              precision    recall  f1-score   support\n",
      "\n",
      "           0       0.94      1.00      0.97     36043\n",
      "           1       0.96      0.36      0.52      3418\n",
      "\n",
      "    accuracy                           0.94     39461\n",
      "   macro avg       0.95      0.68      0.75     39461\n",
      "weighted avg       0.94      0.94      0.93     39461\n",
      "\n"
     ]
    }
   ],
   "source": [
    "#Checking Training Accuracy\n",
    "y_pred = classifier.predict(X_train_W)\n",
    "print(confusion_matrix(y_train, y_pred))\n",
    "print(classification_report(y_train, y_pred))"
   ]
  },
  {
   "cell_type": "code",
   "execution_count": 114,
   "metadata": {
    "ExecuteTime": {
     "end_time": "2021-05-31T16:59:02.670319Z",
     "start_time": "2021-05-31T16:59:02.563604Z"
    },
    "colab": {
     "base_uri": "https://localhost:8080/"
    },
    "hidden": true,
    "id": "HjMUQ3V1IWPk",
    "outputId": "f4c9b260-c38c-4d13-cf94-d807b7f83629"
   },
   "outputs": [
    {
     "name": "stdout",
     "output_type": "stream",
     "text": [
      "[[5613   21]\n",
      " [ 318  186]]\n",
      "              precision    recall  f1-score   support\n",
      "\n",
      "           0       0.95      1.00      0.97      5634\n",
      "           1       0.90      0.37      0.52       504\n",
      "\n",
      "    accuracy                           0.94      6138\n",
      "   macro avg       0.92      0.68      0.75      6138\n",
      "weighted avg       0.94      0.94      0.93      6138\n",
      "\n"
     ]
    }
   ],
   "source": [
    "#Checking Validation Accuracy\n",
    "y_pred = classifier.predict(X_validation_W)\n",
    "print(confusion_matrix(y_validation, y_pred))\n",
    "print(classification_report(y_validation, y_pred))"
   ]
  },
  {
   "cell_type": "code",
   "execution_count": 115,
   "metadata": {
    "ExecuteTime": {
     "end_time": "2021-05-31T16:59:05.564705Z",
     "start_time": "2021-05-31T16:59:05.402829Z"
    },
    "colab": {
     "base_uri": "https://localhost:8080/"
    },
    "hidden": true,
    "id": "bmCK2XcJIWPl",
    "outputId": "61c55ca9-ee43-4953-a4a1-fd4d1d83b73d"
   },
   "outputs": [
    {
     "name": "stdout",
     "output_type": "stream",
     "text": [
      "[[8432   31]\n",
      " [ 492  254]]\n",
      "              precision    recall  f1-score   support\n",
      "\n",
      "           0       0.94      1.00      0.97      8463\n",
      "           1       0.89      0.34      0.49       746\n",
      "\n",
      "    accuracy                           0.94      9209\n",
      "   macro avg       0.92      0.67      0.73      9209\n",
      "weighted avg       0.94      0.94      0.93      9209\n",
      "\n"
     ]
    }
   ],
   "source": [
    "#Checking test Accuracy\n",
    "y_pred = classifier.predict(X_test_W)\n",
    "print(confusion_matrix(y_test, y_pred))\n",
    "print(classification_report(y_test, y_pred))"
   ]
  },
  {
   "cell_type": "markdown",
   "metadata": {
    "heading_collapsed": true,
    "hidden": true,
    "id": "hou7NKuNIWPl"
   },
   "source": [
    "##### Grid Search Cross Validation"
   ]
  },
  {
   "cell_type": "code",
   "execution_count": 117,
   "metadata": {
    "ExecuteTime": {
     "end_time": "2021-05-31T16:59:53.466391Z",
     "start_time": "2021-05-31T16:59:53.457416Z"
    },
    "colab": {
     "base_uri": "https://localhost:8080/"
    },
    "hidden": true,
    "id": "ydhEn4zLIWPl",
    "outputId": "29a88707-698e-4d49-a8ca-9448f8896501"
   },
   "outputs": [
    {
     "data": {
      "text/plain": [
       "[{'n_estimators': [10, 50, 75, 100, 200, 300, 400],\n",
       "  'max_depth': [1, 2, 3, 4, 5, None],\n",
       "  'min_samples_split': [2, 3],\n",
       "  'min_samples_leaf': [1, 2],\n",
       "  'max_leaf_nodes': [1, 2, None]}]"
      ]
     },
     "execution_count": 117,
     "metadata": {},
     "output_type": "execute_result"
    }
   ],
   "source": [
    "#Making a matrix of hyperparameters\n",
    "parameters = [{'n_estimators': [10, 50, 75, 100, 200, 300, 400],\n",
    "               'max_depth': [1,2,3,4,5, None],\n",
    "               'min_samples_split': [2, 3],\n",
    "               'min_samples_leaf': [1, 2],\n",
    "               'max_leaf_nodes': [1, 2, None]}]\n",
    "\n",
    "parameters"
   ]
  },
  {
   "cell_type": "code",
   "execution_count": 118,
   "metadata": {
    "ExecuteTime": {
     "end_time": "2021-05-31T17:04:13.347431Z",
     "start_time": "2021-05-31T17:00:30.712936Z"
    },
    "hidden": true,
    "id": "tVK74EirIWPm"
   },
   "outputs": [],
   "source": [
    "#Fitting grid search CV with the validation set and our matrix of hyperparameters\n",
    "grid_search = GridSearchCV(estimator=classifier, param_grid=parameters, scoring='roc_auc', n_jobs=-1)\n",
    "grid_search = grid_search.fit(X_validation_W, y_validation)"
   ]
  },
  {
   "cell_type": "code",
   "execution_count": 119,
   "metadata": {
    "ExecuteTime": {
     "end_time": "2021-05-31T17:04:30.344904Z",
     "start_time": "2021-05-31T17:04:30.338922Z"
    },
    "colab": {
     "base_uri": "https://localhost:8080/"
    },
    "hidden": true,
    "id": "1wxnPHBxIWPm",
    "outputId": "1a43d670-0219-444f-888c-2e1f979bc3ab"
   },
   "outputs": [
    {
     "data": {
      "text/plain": [
       "0.8821157396922858"
      ]
     },
     "execution_count": 119,
     "metadata": {},
     "output_type": "execute_result"
    }
   ],
   "source": [
    "#Observing roc_auc score (higher the better)\n",
    "grid_search.best_score_"
   ]
  },
  {
   "cell_type": "code",
   "execution_count": 120,
   "metadata": {
    "ExecuteTime": {
     "end_time": "2021-05-31T17:04:33.695856Z",
     "start_time": "2021-05-31T17:04:33.689874Z"
    },
    "colab": {
     "base_uri": "https://localhost:8080/"
    },
    "hidden": true,
    "id": "0h_lPiczIWPm",
    "outputId": "aba3449f-8f70-41ec-ce8b-6662b504051d"
   },
   "outputs": [
    {
     "data": {
      "text/plain": [
       "{'max_depth': None,\n",
       " 'max_leaf_nodes': None,\n",
       " 'min_samples_leaf': 2,\n",
       " 'min_samples_split': 2,\n",
       " 'n_estimators': 200}"
      ]
     },
     "execution_count": 120,
     "metadata": {},
     "output_type": "execute_result"
    }
   ],
   "source": [
    "#Finding the best hyperparameters\n",
    "grid_search.best_params_"
   ]
  },
  {
   "cell_type": "markdown",
   "metadata": {
    "heading_collapsed": true,
    "hidden": true,
    "id": "Xr0uYNcNIWPm"
   },
   "source": [
    "##### NEW HYPER-PARAMETERS"
   ]
  },
  {
   "cell_type": "code",
   "execution_count": 121,
   "metadata": {
    "ExecuteTime": {
     "end_time": "2021-05-31T17:04:56.283597Z",
     "start_time": "2021-05-31T17:04:53.735995Z"
    },
    "colab": {
     "base_uri": "https://localhost:8080/"
    },
    "hidden": true,
    "id": "RWvF8IZdIWPm",
    "outputId": "ba846dcb-5a6d-4c82-a5c7-59fd099bfe27"
   },
   "outputs": [
    {
     "data": {
      "text/plain": [
       "RandomForestClassifier(min_samples_leaf=2, n_estimators=200, random_state=42)"
      ]
     },
     "execution_count": 121,
     "metadata": {},
     "output_type": "execute_result"
    }
   ],
   "source": [
    "#Fitting Random Forest Classifier to the Training Set with new hyperparameters\n",
    "classifier = RandomForestClassifier(random_state=42, n_estimators = 200, min_samples_leaf=2, min_samples_split=2)\n",
    "classifier.fit(X_train_W, y_train)"
   ]
  },
  {
   "cell_type": "code",
   "execution_count": 122,
   "metadata": {
    "ExecuteTime": {
     "end_time": "2021-05-31T17:04:58.569779Z",
     "start_time": "2021-05-31T17:04:57.615627Z"
    },
    "colab": {
     "base_uri": "https://localhost:8080/"
    },
    "hidden": true,
    "id": "8JpnB3oLIWPn",
    "outputId": "8d189589-0d27-49e3-8929-d2cc8f41c267"
   },
   "outputs": [
    {
     "name": "stdout",
     "output_type": "stream",
     "text": [
      "[[35993    50]\n",
      " [ 2204  1214]]\n",
      "              precision    recall  f1-score   support\n",
      "\n",
      "           0       0.94      1.00      0.97     36043\n",
      "           1       0.96      0.36      0.52      3418\n",
      "\n",
      "    accuracy                           0.94     39461\n",
      "   macro avg       0.95      0.68      0.74     39461\n",
      "weighted avg       0.94      0.94      0.93     39461\n",
      "\n"
     ]
    }
   ],
   "source": [
    "#Checking Training Accuracy\n",
    "y_pred = classifier.predict(X_train_W)\n",
    "print(confusion_matrix(y_train, y_pred))\n",
    "print(classification_report(y_train, y_pred))"
   ]
  },
  {
   "cell_type": "code",
   "execution_count": 123,
   "metadata": {
    "ExecuteTime": {
     "end_time": "2021-05-31T17:05:00.065562Z",
     "start_time": "2021-05-31T17:04:59.883333Z"
    },
    "colab": {
     "base_uri": "https://localhost:8080/"
    },
    "hidden": true,
    "id": "7YUpSUfFIWPn",
    "outputId": "61b285d3-8430-436b-e779-a42e398ab0f7"
   },
   "outputs": [
    {
     "name": "stdout",
     "output_type": "stream",
     "text": [
      "[[5615   19]\n",
      " [ 318  186]]\n",
      "              precision    recall  f1-score   support\n",
      "\n",
      "           0       0.95      1.00      0.97      5634\n",
      "           1       0.91      0.37      0.52       504\n",
      "\n",
      "    accuracy                           0.95      6138\n",
      "   macro avg       0.93      0.68      0.75      6138\n",
      "weighted avg       0.94      0.95      0.93      6138\n",
      "\n"
     ]
    }
   ],
   "source": [
    "#Checking Validation Accuracy\n",
    "y_pred = classifier.predict(X_validation_W)\n",
    "print(confusion_matrix(y_validation, y_pred))\n",
    "print(classification_report(y_validation, y_pred))"
   ]
  },
  {
   "cell_type": "code",
   "execution_count": 124,
   "metadata": {
    "ExecuteTime": {
     "end_time": "2021-05-31T17:05:01.758571Z",
     "start_time": "2021-05-31T17:05:01.509233Z"
    },
    "colab": {
     "base_uri": "https://localhost:8080/"
    },
    "hidden": true,
    "id": "WrqfEBxfIWPo",
    "outputId": "f0d88e28-42ce-451c-94a8-c483125f1db2"
   },
   "outputs": [
    {
     "name": "stdout",
     "output_type": "stream",
     "text": [
      "[[8435   28]\n",
      " [ 494  252]]\n",
      "              precision    recall  f1-score   support\n",
      "\n",
      "           0       0.94      1.00      0.97      8463\n",
      "           1       0.90      0.34      0.49       746\n",
      "\n",
      "    accuracy                           0.94      9209\n",
      "   macro avg       0.92      0.67      0.73      9209\n",
      "weighted avg       0.94      0.94      0.93      9209\n",
      "\n"
     ]
    }
   ],
   "source": [
    "#Checking test Accuracy\n",
    "y_pred = classifier.predict(X_test_W)\n",
    "print(confusion_matrix(y_test, y_pred))\n",
    "print(classification_report(y_test, y_pred))"
   ]
  },
  {
   "cell_type": "markdown",
   "metadata": {
    "heading_collapsed": true,
    "hidden": true,
    "id": "X2-E0sviIWPo"
   },
   "source": [
    "#### XGBoost"
   ]
  },
  {
   "cell_type": "markdown",
   "metadata": {
    "heading_collapsed": true,
    "hidden": true,
    "id": "knLndRVwIWPo"
   },
   "source": [
    "##### Default Parameters"
   ]
  },
  {
   "cell_type": "code",
   "execution_count": 125,
   "metadata": {
    "ExecuteTime": {
     "end_time": "2021-05-31T17:05:24.943323Z",
     "start_time": "2021-05-31T17:05:24.032095Z"
    },
    "hidden": true,
    "id": "I0916M98IWPo",
    "outputId": "5b3437de-3efe-47bd-eb90-ff61e31931d1"
   },
   "outputs": [
    {
     "name": "stdout",
     "output_type": "stream",
     "text": [
      "[22:35:24] WARNING: C:/Users/Administrator/workspace/xgboost-win64_release_1.4.0/src/learner.cc:1095: Starting in XGBoost 1.3.0, the default evaluation metric used with the objective 'binary:logistic' was changed from 'error' to 'logloss'. Explicitly set eval_metric if you'd like to restore the old behavior.\n"
     ]
    },
    {
     "data": {
      "text/plain": [
       "XGBClassifier(base_score=0.5, booster='gbtree', colsample_bylevel=1,\n",
       "              colsample_bynode=1, colsample_bytree=1, gamma=0, gpu_id=-1,\n",
       "              importance_type='gain', interaction_constraints='',\n",
       "              learning_rate=0.300000012, max_delta_step=0, max_depth=6,\n",
       "              min_child_weight=1, missing=nan, monotone_constraints='()',\n",
       "              n_estimators=100, n_jobs=8, num_parallel_tree=1, random_state=0,\n",
       "              reg_alpha=0, reg_lambda=1, scale_pos_weight=1, subsample=1,\n",
       "              tree_method='exact', validate_parameters=1, verbosity=None)"
      ]
     },
     "execution_count": 125,
     "metadata": {},
     "output_type": "execute_result"
    }
   ],
   "source": [
    "# Fitting XGBoost to the Training Set\n",
    "classifier = XGBClassifier()\n",
    "classifier.fit(X_train_W, y_train)"
   ]
  },
  {
   "cell_type": "code",
   "execution_count": 126,
   "metadata": {
    "ExecuteTime": {
     "end_time": "2021-05-31T17:05:26.445811Z",
     "start_time": "2021-05-31T17:05:26.286579Z"
    },
    "hidden": true,
    "id": "l1x4qaoyIWPo",
    "outputId": "33f858ad-7eae-46bf-a49a-a796ef27ca41"
   },
   "outputs": [
    {
     "name": "stdout",
     "output_type": "stream",
     "text": [
      "[[35997    46]\n",
      " [ 2207  1211]]\n",
      "              precision    recall  f1-score   support\n",
      "\n",
      "           0       0.94      1.00      0.97     36043\n",
      "           1       0.96      0.35      0.52      3418\n",
      "\n",
      "    accuracy                           0.94     39461\n",
      "   macro avg       0.95      0.68      0.74     39461\n",
      "weighted avg       0.94      0.94      0.93     39461\n",
      "\n"
     ]
    }
   ],
   "source": [
    "#Checking Training Accuracy\n",
    "y_pred = classifier.predict(X_train_W)\n",
    "print(confusion_matrix(y_train, y_pred))\n",
    "print(classification_report(y_train, y_pred))"
   ]
  },
  {
   "cell_type": "code",
   "execution_count": 127,
   "metadata": {
    "ExecuteTime": {
     "end_time": "2021-05-31T17:05:27.816042Z",
     "start_time": "2021-05-31T17:05:27.757704Z"
    },
    "hidden": true,
    "id": "weNWObvAIWPp",
    "outputId": "d152344a-95ef-4f0b-d0fa-1ffa915d52e8"
   },
   "outputs": [
    {
     "name": "stdout",
     "output_type": "stream",
     "text": [
      "[[5615   19]\n",
      " [ 318  186]]\n",
      "              precision    recall  f1-score   support\n",
      "\n",
      "           0       0.95      1.00      0.97      5634\n",
      "           1       0.91      0.37      0.52       504\n",
      "\n",
      "    accuracy                           0.95      6138\n",
      "   macro avg       0.93      0.68      0.75      6138\n",
      "weighted avg       0.94      0.95      0.93      6138\n",
      "\n"
     ]
    }
   ],
   "source": [
    "#Checking Validation Accuracy\n",
    "y_pred = classifier.predict(X_validation_W)\n",
    "print(confusion_matrix(y_validation, y_pred))\n",
    "print(classification_report(y_validation, y_pred))"
   ]
  },
  {
   "cell_type": "code",
   "execution_count": 128,
   "metadata": {
    "ExecuteTime": {
     "end_time": "2021-05-31T17:05:29.249388Z",
     "start_time": "2021-05-31T17:05:29.179802Z"
    },
    "hidden": true,
    "id": "X21s9msBIWPp",
    "outputId": "d31e80eb-4a4d-4590-deb8-6c057f0ff46c"
   },
   "outputs": [
    {
     "name": "stdout",
     "output_type": "stream",
     "text": [
      "[[8439   24]\n",
      " [ 491  255]]\n",
      "              precision    recall  f1-score   support\n",
      "\n",
      "           0       0.95      1.00      0.97      8463\n",
      "           1       0.91      0.34      0.50       746\n",
      "\n",
      "    accuracy                           0.94      9209\n",
      "   macro avg       0.93      0.67      0.73      9209\n",
      "weighted avg       0.94      0.94      0.93      9209\n",
      "\n"
     ]
    }
   ],
   "source": [
    "#Checking test Accuracy\n",
    "y_pred = classifier.predict(X_test_W)\n",
    "print(confusion_matrix(y_test, y_pred))\n",
    "print(classification_report(y_test, y_pred))"
   ]
  },
  {
   "cell_type": "markdown",
   "metadata": {
    "heading_collapsed": true,
    "hidden": true,
    "id": "logXygLsIWPp"
   },
   "source": [
    "##### Grid Search Cross Validation"
   ]
  },
  {
   "cell_type": "code",
   "execution_count": 129,
   "metadata": {
    "ExecuteTime": {
     "end_time": "2021-05-31T17:05:45.473175Z",
     "start_time": "2021-05-31T17:05:45.466196Z"
    },
    "hidden": true,
    "id": "iQv6dIboIWPp",
    "outputId": "d35d4bbc-86b1-4007-ad56-1d5a09560920"
   },
   "outputs": [
    {
     "data": {
      "text/plain": [
       "[{'learning_rate': [0.1, 0.2, 0.3, 0.4],\n",
       "  'n_estimators': [10, 50, 75, 100, 150, 200, 300, 400],\n",
       "  'gamma': [0, 0.1, 0.2, 0.3, 0.4]}]"
      ]
     },
     "execution_count": 129,
     "metadata": {},
     "output_type": "execute_result"
    }
   ],
   "source": [
    "#Making a matrix of hyperparameters\n",
    "parameters = [{'learning_rate': [0.1, 0.2, 0.3, 0.4],\n",
    "                'n_estimators': [10, 50, 75, 100, 150, 200 , 300, 400],\n",
    "               'gamma': [0, 0.1, 0.2, 0.3, 0.4]}]\n",
    "\n",
    "parameters"
   ]
  },
  {
   "cell_type": "code",
   "execution_count": 130,
   "metadata": {
    "ExecuteTime": {
     "end_time": "2021-05-31T17:08:13.125702Z",
     "start_time": "2021-05-31T17:05:49.766953Z"
    },
    "hidden": true,
    "id": "vsHASLvfIWPq",
    "outputId": "f62f4a0d-5e8d-4080-ff4f-96838b66693d"
   },
   "outputs": [
    {
     "name": "stdout",
     "output_type": "stream",
     "text": [
      "[22:38:13] WARNING: C:/Users/Administrator/workspace/xgboost-win64_release_1.4.0/src/learner.cc:1095: Starting in XGBoost 1.3.0, the default evaluation metric used with the objective 'binary:logistic' was changed from 'error' to 'logloss'. Explicitly set eval_metric if you'd like to restore the old behavior.\n"
     ]
    }
   ],
   "source": [
    "#Fitting grid search CV with the validation set\n",
    "grid_search = GridSearchCV(estimator=classifier, param_grid=parameters, scoring='roc_auc', n_jobs=-1)\n",
    "grid_search = grid_search.fit(X_validation_W, y_validation)"
   ]
  },
  {
   "cell_type": "code",
   "execution_count": 131,
   "metadata": {
    "ExecuteTime": {
     "end_time": "2021-05-31T17:16:38.434194Z",
     "start_time": "2021-05-31T17:16:38.428211Z"
    },
    "hidden": true,
    "id": "PX4aq1AqIWPq",
    "outputId": "43f67496-76da-432c-fda9-0cb3a746f6ee"
   },
   "outputs": [
    {
     "data": {
      "text/plain": [
       "0.886238359243276"
      ]
     },
     "execution_count": 131,
     "metadata": {},
     "output_type": "execute_result"
    }
   ],
   "source": [
    "#Observing roc_auc score (higher the better)\n",
    "grid_search.best_score_"
   ]
  },
  {
   "cell_type": "code",
   "execution_count": 132,
   "metadata": {
    "ExecuteTime": {
     "end_time": "2021-05-31T17:16:39.845402Z",
     "start_time": "2021-05-31T17:16:39.838418Z"
    },
    "hidden": true,
    "id": "CuhB5SFhIWPr",
    "outputId": "ac64c5a6-d960-4120-d968-991b221f9903"
   },
   "outputs": [
    {
     "data": {
      "text/plain": [
       "{'gamma': 0.3, 'learning_rate': 0.4, 'n_estimators': 10}"
      ]
     },
     "execution_count": 132,
     "metadata": {},
     "output_type": "execute_result"
    }
   ],
   "source": [
    "#Finding the best hyperparameters\n",
    "grid_search.best_params_"
   ]
  },
  {
   "cell_type": "markdown",
   "metadata": {
    "heading_collapsed": true,
    "hidden": true,
    "id": "1c2RxAhiIWPr"
   },
   "source": [
    "##### NEW HYPER-PARAMETERS"
   ]
  },
  {
   "cell_type": "code",
   "execution_count": 133,
   "metadata": {
    "ExecuteTime": {
     "end_time": "2021-05-31T17:16:44.369709Z",
     "start_time": "2021-05-31T17:16:43.473317Z"
    },
    "hidden": true,
    "id": "HputCn5OIWPr",
    "outputId": "7f80e8b1-3039-428a-e003-aea9b0fb4ab4"
   },
   "outputs": [
    {
     "name": "stdout",
     "output_type": "stream",
     "text": [
      "[22:46:43] WARNING: C:/Users/Administrator/workspace/xgboost-win64_release_1.4.0/src/learner.cc:1095: Starting in XGBoost 1.3.0, the default evaluation metric used with the objective 'binary:logistic' was changed from 'error' to 'logloss'. Explicitly set eval_metric if you'd like to restore the old behavior.\n"
     ]
    },
    {
     "data": {
      "text/plain": [
       "XGBClassifier(base_score=0.5, booster='gbtree', colsample_bylevel=1,\n",
       "              colsample_bynode=1, colsample_bytree=1, gamma=0.3, gpu_id=-1,\n",
       "              importance_type='gain', interaction_constraints='',\n",
       "              learning_rate=0.3, max_delta_step=0, max_depth=4,\n",
       "              min_child_weight=1, missing=nan, monotone_constraints='()',\n",
       "              n_estimators=150, n_jobs=8, num_parallel_tree=1, random_state=0,\n",
       "              reg_alpha=0, reg_lambda=1, scale_pos_weight=1, subsample=1,\n",
       "              tree_method='exact', validate_parameters=1, verbosity=None)"
      ]
     },
     "execution_count": 133,
     "metadata": {},
     "output_type": "execute_result"
    }
   ],
   "source": [
    "# Fitting XGBoost to the Training Set\n",
    "classifier = XGBClassifier(learning_rate=0.3, n_estimators=150, max_depth=4,\n",
    "                      gamma=0.3)\n",
    "classifier.fit(X_train_W, y_train)"
   ]
  },
  {
   "cell_type": "code",
   "execution_count": 134,
   "metadata": {
    "ExecuteTime": {
     "end_time": "2021-05-31T17:16:45.927189Z",
     "start_time": "2021-05-31T17:16:45.772105Z"
    },
    "hidden": true,
    "id": "l-ifSy4oIWPs",
    "outputId": "fc464e33-9b91-4833-bbc6-569e2a6c2701"
   },
   "outputs": [
    {
     "name": "stdout",
     "output_type": "stream",
     "text": [
      "[[35997    46]\n",
      " [ 2225  1193]]\n",
      "              precision    recall  f1-score   support\n",
      "\n",
      "           0       0.94      1.00      0.97     36043\n",
      "           1       0.96      0.35      0.51      3418\n",
      "\n",
      "    accuracy                           0.94     39461\n",
      "   macro avg       0.95      0.67      0.74     39461\n",
      "weighted avg       0.94      0.94      0.93     39461\n",
      "\n"
     ]
    }
   ],
   "source": [
    "#Checking Training Accuracy\n",
    "y_pred = classifier.predict(X_train_W)\n",
    "print(confusion_matrix(y_train, y_pred))\n",
    "print(classification_report(y_train, y_pred))"
   ]
  },
  {
   "cell_type": "code",
   "execution_count": 135,
   "metadata": {
    "ExecuteTime": {
     "end_time": "2021-05-31T17:16:47.341354Z",
     "start_time": "2021-05-31T17:16:47.289021Z"
    },
    "hidden": true,
    "id": "qmEtlCT7IWPs",
    "outputId": "8ff7da4e-0031-45d2-e90c-09e7e88e551a"
   },
   "outputs": [
    {
     "name": "stdout",
     "output_type": "stream",
     "text": [
      "[[5618   16]\n",
      " [ 317  187]]\n",
      "              precision    recall  f1-score   support\n",
      "\n",
      "           0       0.95      1.00      0.97      5634\n",
      "           1       0.92      0.37      0.53       504\n",
      "\n",
      "    accuracy                           0.95      6138\n",
      "   macro avg       0.93      0.68      0.75      6138\n",
      "weighted avg       0.94      0.95      0.93      6138\n",
      "\n"
     ]
    }
   ],
   "source": [
    "#Checking Validation Accuracy\n",
    "y_pred = classifier.predict(X_validation_W)\n",
    "print(confusion_matrix(y_validation, y_pred))\n",
    "print(classification_report(y_validation, y_pred))"
   ]
  },
  {
   "cell_type": "code",
   "execution_count": 136,
   "metadata": {
    "ExecuteTime": {
     "end_time": "2021-05-31T17:16:55.327553Z",
     "start_time": "2021-05-31T17:16:55.276675Z"
    },
    "hidden": true,
    "id": "6wa6pB5pIWPs",
    "outputId": "d16a5f02-f829-43eb-9e5c-87fc620ea283"
   },
   "outputs": [
    {
     "name": "stdout",
     "output_type": "stream",
     "text": [
      "[[8444   19]\n",
      " [ 493  253]]\n",
      "              precision    recall  f1-score   support\n",
      "\n",
      "           0       0.94      1.00      0.97      8463\n",
      "           1       0.93      0.34      0.50       746\n",
      "\n",
      "    accuracy                           0.94      9209\n",
      "   macro avg       0.94      0.67      0.73      9209\n",
      "weighted avg       0.94      0.94      0.93      9209\n",
      "\n"
     ]
    }
   ],
   "source": [
    "#Checking test Accuracy\n",
    "y_pred = classifier.predict(X_test_W)\n",
    "print(confusion_matrix(y_test, y_pred))\n",
    "print(classification_report(y_test, y_pred))"
   ]
  },
  {
   "cell_type": "markdown",
   "metadata": {
    "hidden": true
   },
   "source": [
    "#### Conclusion"
   ]
  },
  {
   "cell_type": "markdown",
   "metadata": {
    "hidden": true
   },
   "source": [
    "**XGBoost** outperforms Random forest in this subset of features in terms of precision, Recall and F1 score."
   ]
  },
  {
   "cell_type": "markdown",
   "metadata": {
    "heading_collapsed": true,
    "hidden": true,
    "id": "8lzQOaYhJgAv"
   },
   "source": [
    "### **Embedded** suggested Features"
   ]
  },
  {
   "cell_type": "markdown",
   "metadata": {
    "heading_collapsed": true,
    "hidden": true,
    "id": "AM_GJ98fJgAv"
   },
   "source": [
    "#### Random Forest"
   ]
  },
  {
   "cell_type": "markdown",
   "metadata": {
    "heading_collapsed": true,
    "hidden": true,
    "id": "JuCx4dYNJgAw"
   },
   "source": [
    "##### Default Parameters"
   ]
  },
  {
   "cell_type": "code",
   "execution_count": 137,
   "metadata": {
    "ExecuteTime": {
     "end_time": "2021-05-31T17:17:50.294832Z",
     "start_time": "2021-05-31T17:17:47.814935Z"
    },
    "colab": {
     "base_uri": "https://localhost:8080/"
    },
    "hidden": true,
    "id": "0ldYN438JgAw",
    "outputId": "a1929784-e2a7-4ada-e409-264e49be521b"
   },
   "outputs": [
    {
     "data": {
      "text/plain": [
       "RandomForestClassifier(random_state=42)"
      ]
     },
     "execution_count": 137,
     "metadata": {},
     "output_type": "execute_result"
    }
   ],
   "source": [
    "#Fitting Random Forest Classifier with default parameters to the Training Set\n",
    "classifier = RandomForestClassifier(random_state=42)\n",
    "classifier.fit(X_trainF, y_train)"
   ]
  },
  {
   "cell_type": "code",
   "execution_count": 138,
   "metadata": {
    "ExecuteTime": {
     "end_time": "2021-05-31T17:17:52.344818Z",
     "start_time": "2021-05-31T17:17:51.616895Z"
    },
    "colab": {
     "base_uri": "https://localhost:8080/"
    },
    "hidden": true,
    "id": "s4yzEXdYJgAx",
    "outputId": "ce8c0c2d-a3c5-414c-9a5a-0f1c1dbf6f7a"
   },
   "outputs": [
    {
     "name": "stdout",
     "output_type": "stream",
     "text": [
      "[[36022    21]\n",
      " [   77  3341]]\n",
      "              precision    recall  f1-score   support\n",
      "\n",
      "           0       1.00      1.00      1.00     36043\n",
      "           1       0.99      0.98      0.99      3418\n",
      "\n",
      "    accuracy                           1.00     39461\n",
      "   macro avg       1.00      0.99      0.99     39461\n",
      "weighted avg       1.00      1.00      1.00     39461\n",
      "\n"
     ]
    }
   ],
   "source": [
    "#Checking Training Accuracy\n",
    "y_pred = classifier.predict(X_trainF)\n",
    "print(confusion_matrix(y_train, y_pred))\n",
    "print(classification_report(y_train, y_pred))"
   ]
  },
  {
   "cell_type": "code",
   "execution_count": 139,
   "metadata": {
    "ExecuteTime": {
     "end_time": "2021-05-31T17:17:53.919725Z",
     "start_time": "2021-05-31T17:17:53.739208Z"
    },
    "colab": {
     "base_uri": "https://localhost:8080/"
    },
    "hidden": true,
    "id": "Q9I1XD_5JgAx",
    "outputId": "d61bef04-b00c-4904-bef3-9b5874c5126c"
   },
   "outputs": [
    {
     "name": "stdout",
     "output_type": "stream",
     "text": [
      "[[5577   57]\n",
      " [ 341  163]]\n",
      "              precision    recall  f1-score   support\n",
      "\n",
      "           0       0.94      0.99      0.97      5634\n",
      "           1       0.74      0.32      0.45       504\n",
      "\n",
      "    accuracy                           0.94      6138\n",
      "   macro avg       0.84      0.66      0.71      6138\n",
      "weighted avg       0.93      0.94      0.92      6138\n",
      "\n"
     ]
    }
   ],
   "source": [
    "#Checking Validation Accuracy\n",
    "y_pred = classifier.predict(X_validationF)\n",
    "print(confusion_matrix(y_validation, y_pred))\n",
    "print(classification_report(y_validation, y_pred))"
   ]
  },
  {
   "cell_type": "code",
   "execution_count": 140,
   "metadata": {
    "ExecuteTime": {
     "end_time": "2021-05-31T17:17:55.478863Z",
     "start_time": "2021-05-31T17:17:55.277759Z"
    },
    "colab": {
     "base_uri": "https://localhost:8080/"
    },
    "hidden": true,
    "id": "580FEEX1JgAy",
    "outputId": "d15461b0-288d-4e2a-9a3e-acf19afcd403"
   },
   "outputs": [
    {
     "name": "stdout",
     "output_type": "stream",
     "text": [
      "[[8376   87]\n",
      " [ 507  239]]\n",
      "              precision    recall  f1-score   support\n",
      "\n",
      "           0       0.94      0.99      0.97      8463\n",
      "           1       0.73      0.32      0.45       746\n",
      "\n",
      "    accuracy                           0.94      9209\n",
      "   macro avg       0.84      0.66      0.71      9209\n",
      "weighted avg       0.93      0.94      0.92      9209\n",
      "\n"
     ]
    }
   ],
   "source": [
    "#Checking test Accuracy\n",
    "y_pred = classifier.predict(X_testF)\n",
    "print(confusion_matrix(y_test, y_pred))\n",
    "print(classification_report(y_test, y_pred))"
   ]
  },
  {
   "cell_type": "markdown",
   "metadata": {
    "heading_collapsed": true,
    "hidden": true,
    "id": "KKCFLeoUJgAy"
   },
   "source": [
    "##### Grid Search Cross Validation"
   ]
  },
  {
   "cell_type": "code",
   "execution_count": 142,
   "metadata": {
    "ExecuteTime": {
     "end_time": "2021-05-31T17:18:14.813966Z",
     "start_time": "2021-05-31T17:18:14.804723Z"
    },
    "colab": {
     "base_uri": "https://localhost:8080/"
    },
    "hidden": true,
    "id": "YQKJP7KtJgAz",
    "outputId": "c344fd7d-b9e6-4931-ac36-f22d0d336f11"
   },
   "outputs": [
    {
     "data": {
      "text/plain": [
       "[{'n_estimators': [10, 50, 75, 100, 200, 300],\n",
       "  'max_depth': [1, 2, 3, 4, 5, None],\n",
       "  'min_samples_split': [2, 3],\n",
       "  'min_samples_leaf': [1, 2],\n",
       "  'max_leaf_nodes': [1, 2, None]}]"
      ]
     },
     "execution_count": 142,
     "metadata": {},
     "output_type": "execute_result"
    }
   ],
   "source": [
    "#Making a matrix of hyperparameters\n",
    "parameters = [{'n_estimators': [10, 50, 75, 100, 200, 300],\n",
    "               'max_depth': [1,2,3,4,5, None],\n",
    "               'min_samples_split': [2, 3],\n",
    "               'min_samples_leaf': [1, 2],\n",
    "               'max_leaf_nodes': [1, 2, None]}]\n",
    "\n",
    "parameters"
   ]
  },
  {
   "cell_type": "code",
   "execution_count": 143,
   "metadata": {
    "ExecuteTime": {
     "end_time": "2021-05-31T17:20:50.996801Z",
     "start_time": "2021-05-31T17:18:21.530657Z"
    },
    "hidden": true,
    "id": "wZUgHgvJJgAz"
   },
   "outputs": [],
   "source": [
    "#Fitting grid search CV with the validation set\n",
    "grid_search = GridSearchCV(estimator=classifier, param_grid=parameters, scoring='roc_auc', n_jobs=-1)\n",
    "grid_search = grid_search.fit(X_validationF, y_validation)"
   ]
  },
  {
   "cell_type": "code",
   "execution_count": 144,
   "metadata": {
    "ExecuteTime": {
     "end_time": "2021-05-31T17:26:22.542768Z",
     "start_time": "2021-05-31T17:26:22.532794Z"
    },
    "colab": {
     "base_uri": "https://localhost:8080/"
    },
    "hidden": true,
    "id": "keDAD6N-JgAz",
    "outputId": "437bb867-1db9-4810-947a-b430c3be38e4"
   },
   "outputs": [
    {
     "data": {
      "text/plain": [
       "0.8719898238111836"
      ]
     },
     "execution_count": 144,
     "metadata": {},
     "output_type": "execute_result"
    }
   ],
   "source": [
    "#Observing roc_auc score (higher the better)\n",
    "grid_search.best_score_"
   ]
  },
  {
   "cell_type": "code",
   "execution_count": 145,
   "metadata": {
    "ExecuteTime": {
     "end_time": "2021-05-31T17:26:24.051306Z",
     "start_time": "2021-05-31T17:26:24.035658Z"
    },
    "colab": {
     "base_uri": "https://localhost:8080/"
    },
    "hidden": true,
    "id": "zrb1T-NWJgAz",
    "outputId": "c5de9022-855a-485f-879c-1e4d33b916fa"
   },
   "outputs": [
    {
     "data": {
      "text/plain": [
       "{'max_depth': None,\n",
       " 'max_leaf_nodes': None,\n",
       " 'min_samples_leaf': 1,\n",
       " 'min_samples_split': 3,\n",
       " 'n_estimators': 300}"
      ]
     },
     "execution_count": 145,
     "metadata": {},
     "output_type": "execute_result"
    }
   ],
   "source": [
    "#Finding the best hyperparameters\n",
    "grid_search.best_params_"
   ]
  },
  {
   "cell_type": "markdown",
   "metadata": {
    "heading_collapsed": true,
    "hidden": true,
    "id": "41gxYxCGJgA0"
   },
   "source": [
    "##### NEW HYPER-PARAMETERS"
   ]
  },
  {
   "cell_type": "code",
   "execution_count": 146,
   "metadata": {
    "ExecuteTime": {
     "end_time": "2021-05-31T17:26:37.977448Z",
     "start_time": "2021-05-31T17:26:30.541764Z"
    },
    "colab": {
     "base_uri": "https://localhost:8080/"
    },
    "hidden": true,
    "id": "2dm120pLJgA0",
    "outputId": "deba9c8e-1acf-429c-c021-b4a37f987912"
   },
   "outputs": [
    {
     "data": {
      "text/plain": [
       "RandomForestClassifier(min_samples_split=3, n_estimators=300, random_state=42)"
      ]
     },
     "execution_count": 146,
     "metadata": {},
     "output_type": "execute_result"
    }
   ],
   "source": [
    "#Fitting Random Forest Classifier to the Training Set with new hyperparameters\n",
    "classifier = RandomForestClassifier(random_state=42, n_estimators = 300, min_samples_leaf=1, min_samples_split=3)\n",
    "classifier.fit(X_trainF, y_train)"
   ]
  },
  {
   "cell_type": "code",
   "execution_count": 147,
   "metadata": {
    "ExecuteTime": {
     "end_time": "2021-05-31T17:26:41.373051Z",
     "start_time": "2021-05-31T17:26:39.395417Z"
    },
    "colab": {
     "base_uri": "https://localhost:8080/"
    },
    "hidden": true,
    "id": "IUkMJnQ7JgA0",
    "outputId": "5b4207df-ea00-43b3-ee2e-3f616cba1ddc"
   },
   "outputs": [
    {
     "name": "stdout",
     "output_type": "stream",
     "text": [
      "[[36035     8]\n",
      " [  354  3064]]\n",
      "              precision    recall  f1-score   support\n",
      "\n",
      "           0       0.99      1.00      1.00     36043\n",
      "           1       1.00      0.90      0.94      3418\n",
      "\n",
      "    accuracy                           0.99     39461\n",
      "   macro avg       0.99      0.95      0.97     39461\n",
      "weighted avg       0.99      0.99      0.99     39461\n",
      "\n"
     ]
    }
   ],
   "source": [
    "#Checking Training Accuracy\n",
    "y_pred = classifier.predict(X_trainF)\n",
    "print(confusion_matrix(y_train, y_pred))\n",
    "print(classification_report(y_train, y_pred))"
   ]
  },
  {
   "cell_type": "code",
   "execution_count": 148,
   "metadata": {
    "ExecuteTime": {
     "end_time": "2021-05-31T17:26:43.156026Z",
     "start_time": "2021-05-31T17:26:42.773486Z"
    },
    "colab": {
     "base_uri": "https://localhost:8080/"
    },
    "hidden": true,
    "id": "IwvNNXmHJgA0",
    "outputId": "ab3e53ce-1478-46d3-8ab0-ba541e387cdd"
   },
   "outputs": [
    {
     "name": "stdout",
     "output_type": "stream",
     "text": [
      "[[5594   40]\n",
      " [ 344  160]]\n",
      "              precision    recall  f1-score   support\n",
      "\n",
      "           0       0.94      0.99      0.97      5634\n",
      "           1       0.80      0.32      0.45       504\n",
      "\n",
      "    accuracy                           0.94      6138\n",
      "   macro avg       0.87      0.66      0.71      6138\n",
      "weighted avg       0.93      0.94      0.92      6138\n",
      "\n"
     ]
    }
   ],
   "source": [
    "#Checking Validation Accuracy\n",
    "y_pred = classifier.predict(X_validationF)\n",
    "print(confusion_matrix(y_validation, y_pred))\n",
    "print(classification_report(y_validation, y_pred))"
   ]
  },
  {
   "cell_type": "code",
   "execution_count": 149,
   "metadata": {
    "ExecuteTime": {
     "end_time": "2021-05-31T17:26:45.129795Z",
     "start_time": "2021-05-31T17:26:44.594331Z"
    },
    "colab": {
     "base_uri": "https://localhost:8080/"
    },
    "hidden": true,
    "id": "3s80i81TJgA1",
    "outputId": "37f85731-195c-44ec-cc8e-33abed595f20"
   },
   "outputs": [
    {
     "name": "stdout",
     "output_type": "stream",
     "text": [
      "[[8412   51]\n",
      " [ 514  232]]\n",
      "              precision    recall  f1-score   support\n",
      "\n",
      "           0       0.94      0.99      0.97      8463\n",
      "           1       0.82      0.31      0.45       746\n",
      "\n",
      "    accuracy                           0.94      9209\n",
      "   macro avg       0.88      0.65      0.71      9209\n",
      "weighted avg       0.93      0.94      0.93      9209\n",
      "\n"
     ]
    }
   ],
   "source": [
    "#Checking test Accuracy\n",
    "y_pred = classifier.predict(X_testF)\n",
    "print(confusion_matrix(y_test, y_pred))\n",
    "print(classification_report(y_test, y_pred))"
   ]
  },
  {
   "cell_type": "markdown",
   "metadata": {
    "heading_collapsed": true,
    "hidden": true,
    "id": "eDUTiOEnJgA1"
   },
   "source": [
    "#### XGBoost"
   ]
  },
  {
   "cell_type": "markdown",
   "metadata": {
    "heading_collapsed": true,
    "hidden": true,
    "id": "f429HIdzJgA1"
   },
   "source": [
    "##### Default Parameters"
   ]
  },
  {
   "cell_type": "code",
   "execution_count": 150,
   "metadata": {
    "ExecuteTime": {
     "end_time": "2021-05-31T17:27:26.069622Z",
     "start_time": "2021-05-31T17:27:25.022543Z"
    },
    "colab": {
     "base_uri": "https://localhost:8080/"
    },
    "hidden": true,
    "id": "PEbL0wPJJgA1",
    "outputId": "c38879c3-a47d-4e24-e473-937da4f5435e"
   },
   "outputs": [
    {
     "name": "stdout",
     "output_type": "stream",
     "text": [
      "[22:57:25] WARNING: C:/Users/Administrator/workspace/xgboost-win64_release_1.4.0/src/learner.cc:1095: Starting in XGBoost 1.3.0, the default evaluation metric used with the objective 'binary:logistic' was changed from 'error' to 'logloss'. Explicitly set eval_metric if you'd like to restore the old behavior.\n"
     ]
    },
    {
     "data": {
      "text/plain": [
       "XGBClassifier(base_score=0.5, booster='gbtree', colsample_bylevel=1,\n",
       "              colsample_bynode=1, colsample_bytree=1, gamma=0, gpu_id=-1,\n",
       "              importance_type='gain', interaction_constraints='',\n",
       "              learning_rate=0.300000012, max_delta_step=0, max_depth=6,\n",
       "              min_child_weight=1, missing=nan, monotone_constraints='()',\n",
       "              n_estimators=100, n_jobs=8, num_parallel_tree=1, random_state=0,\n",
       "              reg_alpha=0, reg_lambda=1, scale_pos_weight=1, subsample=1,\n",
       "              tree_method='exact', validate_parameters=1, verbosity=None)"
      ]
     },
     "execution_count": 150,
     "metadata": {},
     "output_type": "execute_result"
    }
   ],
   "source": [
    "# Fitting XGBoost to the Training Set\n",
    "classifier = XGBClassifier()\n",
    "classifier.fit(X_trainF, y_train)"
   ]
  },
  {
   "cell_type": "code",
   "execution_count": 151,
   "metadata": {
    "ExecuteTime": {
     "end_time": "2021-05-31T17:27:27.580109Z",
     "start_time": "2021-05-31T17:27:27.401371Z"
    },
    "colab": {
     "base_uri": "https://localhost:8080/"
    },
    "hidden": true,
    "id": "FoO6fOLNJgA1",
    "outputId": "53391b01-5a28-496f-f5c1-dd8aef5b9c5f"
   },
   "outputs": [
    {
     "name": "stdout",
     "output_type": "stream",
     "text": [
      "[[36023    20]\n",
      " [ 2049  1369]]\n",
      "              precision    recall  f1-score   support\n",
      "\n",
      "           0       0.95      1.00      0.97     36043\n",
      "           1       0.99      0.40      0.57      3418\n",
      "\n",
      "    accuracy                           0.95     39461\n",
      "   macro avg       0.97      0.70      0.77     39461\n",
      "weighted avg       0.95      0.95      0.94     39461\n",
      "\n"
     ]
    }
   ],
   "source": [
    "#Checking Training Accuracy\n",
    "y_pred = classifier.predict(X_trainF)\n",
    "print(confusion_matrix(y_train, y_pred))\n",
    "print(classification_report(y_train, y_pred))"
   ]
  },
  {
   "cell_type": "code",
   "execution_count": 152,
   "metadata": {
    "ExecuteTime": {
     "end_time": "2021-05-31T17:27:29.079750Z",
     "start_time": "2021-05-31T17:27:29.020334Z"
    },
    "colab": {
     "base_uri": "https://localhost:8080/"
    },
    "hidden": true,
    "id": "2PbTEaffJgA2",
    "outputId": "f77a879d-2368-4adf-833b-00d4724b94c2"
   },
   "outputs": [
    {
     "name": "stdout",
     "output_type": "stream",
     "text": [
      "[[5614   20]\n",
      " [ 325  179]]\n",
      "              precision    recall  f1-score   support\n",
      "\n",
      "           0       0.95      1.00      0.97      5634\n",
      "           1       0.90      0.36      0.51       504\n",
      "\n",
      "    accuracy                           0.94      6138\n",
      "   macro avg       0.92      0.68      0.74      6138\n",
      "weighted avg       0.94      0.94      0.93      6138\n",
      "\n"
     ]
    }
   ],
   "source": [
    "#Checking Validation Accuracy\n",
    "y_pred = classifier.predict(X_validationF)\n",
    "print(confusion_matrix(y_validation, y_pred))\n",
    "print(classification_report(y_validation, y_pred))"
   ]
  },
  {
   "cell_type": "code",
   "execution_count": 153,
   "metadata": {
    "ExecuteTime": {
     "end_time": "2021-05-31T17:27:30.635299Z",
     "start_time": "2021-05-31T17:27:30.557928Z"
    },
    "colab": {
     "base_uri": "https://localhost:8080/"
    },
    "hidden": true,
    "id": "9B8deZLdJgA2",
    "outputId": "31965c70-527b-4e6c-8786-1a47665f0c9a"
   },
   "outputs": [
    {
     "name": "stdout",
     "output_type": "stream",
     "text": [
      "[[8431   32]\n",
      " [ 492  254]]\n",
      "              precision    recall  f1-score   support\n",
      "\n",
      "           0       0.94      1.00      0.97      8463\n",
      "           1       0.89      0.34      0.49       746\n",
      "\n",
      "    accuracy                           0.94      9209\n",
      "   macro avg       0.92      0.67      0.73      9209\n",
      "weighted avg       0.94      0.94      0.93      9209\n",
      "\n"
     ]
    }
   ],
   "source": [
    "#Checking test Accuracy\n",
    "y_pred = classifier.predict(X_testF)\n",
    "print(confusion_matrix(y_test, y_pred))\n",
    "print(classification_report(y_test, y_pred))"
   ]
  },
  {
   "cell_type": "markdown",
   "metadata": {
    "heading_collapsed": true,
    "hidden": true,
    "id": "sJjXT_A_JgA2"
   },
   "source": [
    "##### Grid Search Cross Validation"
   ]
  },
  {
   "cell_type": "code",
   "execution_count": 154,
   "metadata": {
    "ExecuteTime": {
     "end_time": "2021-05-31T17:27:44.541474Z",
     "start_time": "2021-05-31T17:27:44.528229Z"
    },
    "colab": {
     "base_uri": "https://localhost:8080/"
    },
    "hidden": true,
    "id": "adkdvW6eJgA3",
    "outputId": "89e22a70-a95d-4612-f60c-b31ba8a30cbd"
   },
   "outputs": [
    {
     "data": {
      "text/plain": [
       "[{'learning_rate': [0.1, 0.2, 0.3, 0.4],\n",
       "  'n_estimators': [10, 50, 75, 100, 150, 200, 300, 400],\n",
       "  'gamma': [0, 0.1, 0.2, 0.3, 0.4]}]"
      ]
     },
     "execution_count": 154,
     "metadata": {},
     "output_type": "execute_result"
    }
   ],
   "source": [
    "#Making a matrix of hyperparameters\n",
    "parameters = [{'learning_rate': [0.1, 0.2, 0.3, 0.4],\n",
    "                'n_estimators': [10, 50, 75, 100, 150, 200 , 300, 400],\n",
    "               'gamma': [0, 0.1, 0.2, 0.3, 0.4]}]\n",
    "\n",
    "parameters"
   ]
  },
  {
   "cell_type": "code",
   "execution_count": 155,
   "metadata": {
    "ExecuteTime": {
     "end_time": "2021-05-31T17:31:31.111263Z",
     "start_time": "2021-05-31T17:27:47.033719Z"
    },
    "hidden": true,
    "id": "QAHJIRKmJgA3"
   },
   "outputs": [
    {
     "name": "stdout",
     "output_type": "stream",
     "text": [
      "[23:01:31] WARNING: C:/Users/Administrator/workspace/xgboost-win64_release_1.4.0/src/learner.cc:1095: Starting in XGBoost 1.3.0, the default evaluation metric used with the objective 'binary:logistic' was changed from 'error' to 'logloss'. Explicitly set eval_metric if you'd like to restore the old behavior.\n"
     ]
    }
   ],
   "source": [
    "#Fitting grid search CV with the validation set\n",
    "grid_search = GridSearchCV(estimator=classifier, param_grid=parameters, scoring='roc_auc', n_jobs=-1)\n",
    "grid_search = grid_search.fit(X_validationF, y_validation)"
   ]
  },
  {
   "cell_type": "code",
   "execution_count": 156,
   "metadata": {
    "ExecuteTime": {
     "end_time": "2021-05-31T17:32:30.909977Z",
     "start_time": "2021-05-31T17:32:30.904029Z"
    },
    "colab": {
     "base_uri": "https://localhost:8080/"
    },
    "hidden": true,
    "id": "zZVuYuz3JgA3",
    "outputId": "c6737c22-f3ac-45e7-af5f-a69cf5ea77fb"
   },
   "outputs": [
    {
     "data": {
      "text/plain": [
       "0.8870680846869906"
      ]
     },
     "execution_count": 156,
     "metadata": {},
     "output_type": "execute_result"
    }
   ],
   "source": [
    "#Observing roc_auc score (higher the better)\n",
    "grid_search.best_score_"
   ]
  },
  {
   "cell_type": "code",
   "execution_count": 157,
   "metadata": {
    "ExecuteTime": {
     "end_time": "2021-05-31T17:32:32.612793Z",
     "start_time": "2021-05-31T17:32:32.606809Z"
    },
    "colab": {
     "base_uri": "https://localhost:8080/"
    },
    "hidden": true,
    "id": "oqQUDIrsJgA3",
    "outputId": "d1c40c59-8ec8-479b-a331-d50c0178ed31"
   },
   "outputs": [
    {
     "data": {
      "text/plain": [
       "{'gamma': 0, 'learning_rate': 0.4, 'n_estimators': 10}"
      ]
     },
     "execution_count": 157,
     "metadata": {},
     "output_type": "execute_result"
    }
   ],
   "source": [
    "#Finding the best hyperparameters\n",
    "grid_search.best_params_"
   ]
  },
  {
   "cell_type": "markdown",
   "metadata": {
    "heading_collapsed": true,
    "hidden": true,
    "id": "4gWqjQx9JgA4"
   },
   "source": [
    "##### NEW HYPER-PARAMETERS"
   ]
  },
  {
   "cell_type": "code",
   "execution_count": 158,
   "metadata": {
    "ExecuteTime": {
     "end_time": "2021-05-31T17:32:43.016542Z",
     "start_time": "2021-05-31T17:32:40.813696Z"
    },
    "colab": {
     "base_uri": "https://localhost:8080/"
    },
    "hidden": true,
    "id": "EgzuVSCqJgA4",
    "outputId": "af8bd659-8256-4824-dc5b-4fb0b7fd340b"
   },
   "outputs": [
    {
     "name": "stdout",
     "output_type": "stream",
     "text": [
      "[23:02:40] WARNING: C:/Users/Administrator/workspace/xgboost-win64_release_1.4.0/src/learner.cc:1095: Starting in XGBoost 1.3.0, the default evaluation metric used with the objective 'binary:logistic' was changed from 'error' to 'logloss'. Explicitly set eval_metric if you'd like to restore the old behavior.\n"
     ]
    },
    {
     "data": {
      "text/plain": [
       "XGBClassifier(base_score=0.5, booster='gbtree', colsample_bylevel=1,\n",
       "              colsample_bynode=1, colsample_bytree=1, gamma=0.2, gpu_id=-1,\n",
       "              importance_type='gain', interaction_constraints='',\n",
       "              learning_rate=0.1, max_delta_step=0, max_depth=6,\n",
       "              min_child_weight=1, missing=nan, monotone_constraints='()',\n",
       "              n_estimators=200, n_jobs=8, num_parallel_tree=1, random_state=0,\n",
       "              reg_alpha=0, reg_lambda=1, scale_pos_weight=1, subsample=1,\n",
       "              tree_method='exact', validate_parameters=1, verbosity=None)"
      ]
     },
     "execution_count": 158,
     "metadata": {},
     "output_type": "execute_result"
    }
   ],
   "source": [
    "# Fitting XGBoost to the Training Set\n",
    "classifier = XGBClassifier(learning_rate=0.1, n_estimators=200, gamma=0.2)\n",
    "classifier.fit(X_trainF, y_train)"
   ]
  },
  {
   "cell_type": "code",
   "execution_count": 159,
   "metadata": {
    "ExecuteTime": {
     "end_time": "2021-05-31T17:32:44.683126Z",
     "start_time": "2021-05-31T17:32:44.504591Z"
    },
    "colab": {
     "base_uri": "https://localhost:8080/"
    },
    "hidden": true,
    "id": "C0IKIfHhJgA4",
    "outputId": "68c970a5-652e-40d4-ebc8-fa348f417c94"
   },
   "outputs": [
    {
     "name": "stdout",
     "output_type": "stream",
     "text": [
      "[[36021    22]\n",
      " [ 2159  1259]]\n",
      "              precision    recall  f1-score   support\n",
      "\n",
      "           0       0.94      1.00      0.97     36043\n",
      "           1       0.98      0.37      0.54      3418\n",
      "\n",
      "    accuracy                           0.94     39461\n",
      "   macro avg       0.96      0.68      0.75     39461\n",
      "weighted avg       0.95      0.94      0.93     39461\n",
      "\n"
     ]
    }
   ],
   "source": [
    "#Checking Training Accuracy\n",
    "y_pred = classifier.predict(X_trainF)\n",
    "print(confusion_matrix(y_train, y_pred))\n",
    "print(classification_report(y_train, y_pred))"
   ]
  },
  {
   "cell_type": "code",
   "execution_count": 160,
   "metadata": {
    "ExecuteTime": {
     "end_time": "2021-05-31T17:32:46.140302Z",
     "start_time": "2021-05-31T17:32:46.092434Z"
    },
    "colab": {
     "base_uri": "https://localhost:8080/"
    },
    "hidden": true,
    "id": "JKR09StAJgA4",
    "outputId": "13d4b511-372a-486d-c525-6d2144802f22"
   },
   "outputs": [
    {
     "name": "stdout",
     "output_type": "stream",
     "text": [
      "[[5618   16]\n",
      " [ 325  179]]\n",
      "              precision    recall  f1-score   support\n",
      "\n",
      "           0       0.95      1.00      0.97      5634\n",
      "           1       0.92      0.36      0.51       504\n",
      "\n",
      "    accuracy                           0.94      6138\n",
      "   macro avg       0.93      0.68      0.74      6138\n",
      "weighted avg       0.94      0.94      0.93      6138\n",
      "\n"
     ]
    }
   ],
   "source": [
    "#Checking Validation Accuracy\n",
    "y_pred = classifier.predict(X_validationF)\n",
    "print(confusion_matrix(y_validation, y_pred))\n",
    "print(classification_report(y_validation, y_pred))"
   ]
  },
  {
   "cell_type": "code",
   "execution_count": 161,
   "metadata": {
    "ExecuteTime": {
     "end_time": "2021-05-31T17:32:47.608136Z",
     "start_time": "2021-05-31T17:32:47.545303Z"
    },
    "colab": {
     "base_uri": "https://localhost:8080/"
    },
    "hidden": true,
    "id": "EjzgWOfKJgA4",
    "outputId": "6a360d11-f116-4077-bc5f-03979782f524"
   },
   "outputs": [
    {
     "name": "stdout",
     "output_type": "stream",
     "text": [
      "[[8446   17]\n",
      " [ 492  254]]\n",
      "              precision    recall  f1-score   support\n",
      "\n",
      "           0       0.94      1.00      0.97      8463\n",
      "           1       0.94      0.34      0.50       746\n",
      "\n",
      "    accuracy                           0.94      9209\n",
      "   macro avg       0.94      0.67      0.74      9209\n",
      "weighted avg       0.94      0.94      0.93      9209\n",
      "\n"
     ]
    }
   ],
   "source": [
    "#Checking test Accuracy\n",
    "y_pred = classifier.predict(X_testF)\n",
    "print(confusion_matrix(y_test, y_pred))\n",
    "print(classification_report(y_test, y_pred))"
   ]
  },
  {
   "cell_type": "markdown",
   "metadata": {
    "hidden": true,
    "id": "REBBlEH0WjW9"
   },
   "source": [
    "#### Conclusion"
   ]
  },
  {
   "cell_type": "markdown",
   "metadata": {
    "hidden": true
   },
   "source": [
    "**XGBoost** out performs Random Forest in this subset of features in terms f1 score, recall and precision"
   ]
  },
  {
   "cell_type": "markdown",
   "metadata": {
    "heading_collapsed": true
   },
   "source": [
    "## **FINAL MODEL**"
   ]
  },
  {
   "cell_type": "markdown",
   "metadata": {
    "hidden": true
   },
   "source": [
    "Based on Precision, Recall and F1 Score, **XGBoost** on the **wrapper suggested** subset of features performs the best. So we will consider that model with those specific hyper-parameters."
   ]
  },
  {
   "cell_type": "code",
   "execution_count": 162,
   "metadata": {
    "ExecuteTime": {
     "end_time": "2021-05-31T17:33:39.370693Z",
     "start_time": "2021-05-31T17:33:38.535494Z"
    },
    "hidden": true
   },
   "outputs": [
    {
     "name": "stdout",
     "output_type": "stream",
     "text": [
      "[23:03:38] WARNING: C:/Users/Administrator/workspace/xgboost-win64_release_1.4.0/src/learner.cc:1095: Starting in XGBoost 1.3.0, the default evaluation metric used with the objective 'binary:logistic' was changed from 'error' to 'logloss'. Explicitly set eval_metric if you'd like to restore the old behavior.\n"
     ]
    },
    {
     "data": {
      "text/plain": [
       "XGBClassifier(base_score=0.5, booster='gbtree', colsample_bylevel=1,\n",
       "              colsample_bynode=1, colsample_bytree=1, gamma=0.3, gpu_id=-1,\n",
       "              importance_type='gain', interaction_constraints='',\n",
       "              learning_rate=0.3, max_delta_step=0, max_depth=4,\n",
       "              min_child_weight=1, missing=nan, monotone_constraints='()',\n",
       "              n_estimators=150, n_jobs=8, num_parallel_tree=1, random_state=0,\n",
       "              reg_alpha=0, reg_lambda=1, scale_pos_weight=1, subsample=1,\n",
       "              tree_method='exact', validate_parameters=1, verbosity=None)"
      ]
     },
     "execution_count": 162,
     "metadata": {},
     "output_type": "execute_result"
    }
   ],
   "source": [
    "#FINAL MODEL\n",
    "model = XGBClassifier(learning_rate=0.3, n_estimators=150, max_depth=4,\n",
    "                      gamma=0.3)\n",
    "model.fit(X_train_W, y_train)"
   ]
  },
  {
   "cell_type": "markdown",
   "metadata": {
    "heading_collapsed": true,
    "hidden": true
   },
   "source": [
    "### Test set Predictions"
   ]
  },
  {
   "cell_type": "code",
   "execution_count": 163,
   "metadata": {
    "ExecuteTime": {
     "end_time": "2021-05-31T17:33:47.467044Z",
     "start_time": "2021-05-31T17:33:47.397233Z"
    },
    "hidden": true
   },
   "outputs": [
    {
     "data": {
      "text/html": [
       "<div>\n",
       "<style scoped>\n",
       "    .dataframe tbody tr th:only-of-type {\n",
       "        vertical-align: middle;\n",
       "    }\n",
       "\n",
       "    .dataframe tbody tr th {\n",
       "        vertical-align: top;\n",
       "    }\n",
       "\n",
       "    .dataframe thead th {\n",
       "        text-align: right;\n",
       "    }\n",
       "</style>\n",
       "<table border=\"1\" class=\"dataframe\">\n",
       "  <thead>\n",
       "    <tr style=\"text-align: right;\">\n",
       "      <th></th>\n",
       "      <th>employee_id</th>\n",
       "      <th>department</th>\n",
       "      <th>region</th>\n",
       "      <th>education</th>\n",
       "      <th>gender</th>\n",
       "      <th>recruitment_channel</th>\n",
       "      <th>no_of_trainings</th>\n",
       "      <th>age</th>\n",
       "      <th>previous_year_rating</th>\n",
       "      <th>length_of_service</th>\n",
       "      <th>KPIs_met &gt;80%</th>\n",
       "      <th>awards_won?</th>\n",
       "      <th>avg_training_score</th>\n",
       "    </tr>\n",
       "  </thead>\n",
       "  <tbody>\n",
       "    <tr>\n",
       "      <th>0</th>\n",
       "      <td>8724</td>\n",
       "      <td>Technology</td>\n",
       "      <td>region_26</td>\n",
       "      <td>Bachelor's</td>\n",
       "      <td>m</td>\n",
       "      <td>sourcing</td>\n",
       "      <td>1</td>\n",
       "      <td>24</td>\n",
       "      <td>NaN</td>\n",
       "      <td>1</td>\n",
       "      <td>1</td>\n",
       "      <td>0</td>\n",
       "      <td>77</td>\n",
       "    </tr>\n",
       "    <tr>\n",
       "      <th>1</th>\n",
       "      <td>74430</td>\n",
       "      <td>HR</td>\n",
       "      <td>region_4</td>\n",
       "      <td>Bachelor's</td>\n",
       "      <td>f</td>\n",
       "      <td>other</td>\n",
       "      <td>1</td>\n",
       "      <td>31</td>\n",
       "      <td>3.0</td>\n",
       "      <td>5</td>\n",
       "      <td>0</td>\n",
       "      <td>0</td>\n",
       "      <td>51</td>\n",
       "    </tr>\n",
       "    <tr>\n",
       "      <th>2</th>\n",
       "      <td>72255</td>\n",
       "      <td>Sales &amp; Marketing</td>\n",
       "      <td>region_13</td>\n",
       "      <td>Bachelor's</td>\n",
       "      <td>m</td>\n",
       "      <td>other</td>\n",
       "      <td>1</td>\n",
       "      <td>31</td>\n",
       "      <td>1.0</td>\n",
       "      <td>4</td>\n",
       "      <td>0</td>\n",
       "      <td>0</td>\n",
       "      <td>47</td>\n",
       "    </tr>\n",
       "    <tr>\n",
       "      <th>3</th>\n",
       "      <td>38562</td>\n",
       "      <td>Procurement</td>\n",
       "      <td>region_2</td>\n",
       "      <td>Bachelor's</td>\n",
       "      <td>f</td>\n",
       "      <td>other</td>\n",
       "      <td>3</td>\n",
       "      <td>31</td>\n",
       "      <td>2.0</td>\n",
       "      <td>9</td>\n",
       "      <td>0</td>\n",
       "      <td>0</td>\n",
       "      <td>65</td>\n",
       "    </tr>\n",
       "    <tr>\n",
       "      <th>4</th>\n",
       "      <td>64486</td>\n",
       "      <td>Finance</td>\n",
       "      <td>region_29</td>\n",
       "      <td>Bachelor's</td>\n",
       "      <td>m</td>\n",
       "      <td>sourcing</td>\n",
       "      <td>1</td>\n",
       "      <td>30</td>\n",
       "      <td>4.0</td>\n",
       "      <td>7</td>\n",
       "      <td>0</td>\n",
       "      <td>0</td>\n",
       "      <td>61</td>\n",
       "    </tr>\n",
       "    <tr>\n",
       "      <th>...</th>\n",
       "      <td>...</td>\n",
       "      <td>...</td>\n",
       "      <td>...</td>\n",
       "      <td>...</td>\n",
       "      <td>...</td>\n",
       "      <td>...</td>\n",
       "      <td>...</td>\n",
       "      <td>...</td>\n",
       "      <td>...</td>\n",
       "      <td>...</td>\n",
       "      <td>...</td>\n",
       "      <td>...</td>\n",
       "      <td>...</td>\n",
       "    </tr>\n",
       "    <tr>\n",
       "      <th>23485</th>\n",
       "      <td>53478</td>\n",
       "      <td>Legal</td>\n",
       "      <td>region_2</td>\n",
       "      <td>Below Secondary</td>\n",
       "      <td>m</td>\n",
       "      <td>sourcing</td>\n",
       "      <td>1</td>\n",
       "      <td>24</td>\n",
       "      <td>3.0</td>\n",
       "      <td>1</td>\n",
       "      <td>0</td>\n",
       "      <td>0</td>\n",
       "      <td>61</td>\n",
       "    </tr>\n",
       "    <tr>\n",
       "      <th>23486</th>\n",
       "      <td>25600</td>\n",
       "      <td>Technology</td>\n",
       "      <td>region_25</td>\n",
       "      <td>Bachelor's</td>\n",
       "      <td>m</td>\n",
       "      <td>sourcing</td>\n",
       "      <td>1</td>\n",
       "      <td>31</td>\n",
       "      <td>3.0</td>\n",
       "      <td>7</td>\n",
       "      <td>0</td>\n",
       "      <td>0</td>\n",
       "      <td>74</td>\n",
       "    </tr>\n",
       "    <tr>\n",
       "      <th>23487</th>\n",
       "      <td>45409</td>\n",
       "      <td>HR</td>\n",
       "      <td>region_16</td>\n",
       "      <td>Bachelor's</td>\n",
       "      <td>f</td>\n",
       "      <td>sourcing</td>\n",
       "      <td>1</td>\n",
       "      <td>26</td>\n",
       "      <td>4.0</td>\n",
       "      <td>4</td>\n",
       "      <td>0</td>\n",
       "      <td>0</td>\n",
       "      <td>50</td>\n",
       "    </tr>\n",
       "    <tr>\n",
       "      <th>23488</th>\n",
       "      <td>1186</td>\n",
       "      <td>Procurement</td>\n",
       "      <td>region_31</td>\n",
       "      <td>Bachelor's</td>\n",
       "      <td>m</td>\n",
       "      <td>sourcing</td>\n",
       "      <td>3</td>\n",
       "      <td>27</td>\n",
       "      <td>NaN</td>\n",
       "      <td>1</td>\n",
       "      <td>0</td>\n",
       "      <td>0</td>\n",
       "      <td>70</td>\n",
       "    </tr>\n",
       "    <tr>\n",
       "      <th>23489</th>\n",
       "      <td>5973</td>\n",
       "      <td>Technology</td>\n",
       "      <td>region_17</td>\n",
       "      <td>Master's &amp; above</td>\n",
       "      <td>m</td>\n",
       "      <td>other</td>\n",
       "      <td>3</td>\n",
       "      <td>40</td>\n",
       "      <td>5.0</td>\n",
       "      <td>5</td>\n",
       "      <td>1</td>\n",
       "      <td>0</td>\n",
       "      <td>89</td>\n",
       "    </tr>\n",
       "  </tbody>\n",
       "</table>\n",
       "<p>23490 rows × 13 columns</p>\n",
       "</div>"
      ],
      "text/plain": [
       "       employee_id         department     region         education gender  \\\n",
       "0             8724         Technology  region_26        Bachelor's      m   \n",
       "1            74430                 HR   region_4        Bachelor's      f   \n",
       "2            72255  Sales & Marketing  region_13        Bachelor's      m   \n",
       "3            38562        Procurement   region_2        Bachelor's      f   \n",
       "4            64486            Finance  region_29        Bachelor's      m   \n",
       "...            ...                ...        ...               ...    ...   \n",
       "23485        53478              Legal   region_2   Below Secondary      m   \n",
       "23486        25600         Technology  region_25        Bachelor's      m   \n",
       "23487        45409                 HR  region_16        Bachelor's      f   \n",
       "23488         1186        Procurement  region_31        Bachelor's      m   \n",
       "23489         5973         Technology  region_17  Master's & above      m   \n",
       "\n",
       "      recruitment_channel  no_of_trainings  age  previous_year_rating  \\\n",
       "0                sourcing                1   24                   NaN   \n",
       "1                   other                1   31                   3.0   \n",
       "2                   other                1   31                   1.0   \n",
       "3                   other                3   31                   2.0   \n",
       "4                sourcing                1   30                   4.0   \n",
       "...                   ...              ...  ...                   ...   \n",
       "23485            sourcing                1   24                   3.0   \n",
       "23486            sourcing                1   31                   3.0   \n",
       "23487            sourcing                1   26                   4.0   \n",
       "23488            sourcing                3   27                   NaN   \n",
       "23489               other                3   40                   5.0   \n",
       "\n",
       "       length_of_service  KPIs_met >80%  awards_won?  avg_training_score  \n",
       "0                      1              1            0                  77  \n",
       "1                      5              0            0                  51  \n",
       "2                      4              0            0                  47  \n",
       "3                      9              0            0                  65  \n",
       "4                      7              0            0                  61  \n",
       "...                  ...            ...          ...                 ...  \n",
       "23485                  1              0            0                  61  \n",
       "23486                  7              0            0                  74  \n",
       "23487                  4              0            0                  50  \n",
       "23488                  1              0            0                  70  \n",
       "23489                  5              1            0                  89  \n",
       "\n",
       "[23490 rows x 13 columns]"
      ]
     },
     "execution_count": 163,
     "metadata": {},
     "output_type": "execute_result"
    }
   ],
   "source": [
    "# Loading the test set\n",
    "test = pd.read_csv('test.csv')\n",
    "test"
   ]
  },
  {
   "cell_type": "code",
   "execution_count": 164,
   "metadata": {
    "ExecuteTime": {
     "end_time": "2021-05-31T17:33:50.006123Z",
     "start_time": "2021-05-31T17:33:49.981175Z"
    },
    "hidden": true
   },
   "outputs": [
    {
     "data": {
      "text/plain": [
       "employee_id                0\n",
       "department                 0\n",
       "region                     0\n",
       "education               1034\n",
       "gender                     0\n",
       "recruitment_channel        0\n",
       "no_of_trainings            0\n",
       "age                        0\n",
       "previous_year_rating    1812\n",
       "length_of_service          0\n",
       "KPIs_met >80%              0\n",
       "awards_won?                0\n",
       "avg_training_score         0\n",
       "dtype: int64"
      ]
     },
     "execution_count": 164,
     "metadata": {},
     "output_type": "execute_result"
    }
   ],
   "source": [
    "#Observing if any null\n",
    "test.isna().sum()"
   ]
  },
  {
   "cell_type": "code",
   "execution_count": 165,
   "metadata": {
    "ExecuteTime": {
     "end_time": "2021-05-31T17:34:11.007790Z",
     "start_time": "2021-05-31T17:34:10.993077Z"
    },
    "hidden": true
   },
   "outputs": [],
   "source": [
    "#Handling nulls (using the same null imputation mechanism used for train data)\n",
    "test['education'].fillna(value = 'Not Defined', inplace=True)\n",
    "test.fillna(value=0, inplace = True)"
   ]
  },
  {
   "cell_type": "code",
   "execution_count": 166,
   "metadata": {
    "ExecuteTime": {
     "end_time": "2021-05-31T17:34:31.634247Z",
     "start_time": "2021-05-31T17:34:31.622276Z"
    },
    "hidden": true
   },
   "outputs": [],
   "source": [
    "#Feature encoding our selected features and dropping all other features(same feature encoding techniques used for train data)\n",
    "test['department'] = test['department'].map(department_encoder)\n",
    "test = test.drop(test.columns.difference(['department', 'KPIs_met >80%', 'awards_won?', 'avg_training_score']), 1)"
   ]
  },
  {
   "cell_type": "code",
   "execution_count": 170,
   "metadata": {
    "ExecuteTime": {
     "end_time": "2021-05-31T17:36:02.725589Z",
     "start_time": "2021-05-31T17:36:02.713119Z"
    },
    "hidden": true
   },
   "outputs": [
    {
     "data": {
      "text/html": [
       "<div>\n",
       "<style scoped>\n",
       "    .dataframe tbody tr th:only-of-type {\n",
       "        vertical-align: middle;\n",
       "    }\n",
       "\n",
       "    .dataframe tbody tr th {\n",
       "        vertical-align: top;\n",
       "    }\n",
       "\n",
       "    .dataframe thead th {\n",
       "        text-align: right;\n",
       "    }\n",
       "</style>\n",
       "<table border=\"1\" class=\"dataframe\">\n",
       "  <thead>\n",
       "    <tr style=\"text-align: right;\">\n",
       "      <th></th>\n",
       "      <th>department</th>\n",
       "      <th>KPIs_met &gt;80%</th>\n",
       "      <th>awards_won?</th>\n",
       "      <th>avg_training_score</th>\n",
       "    </tr>\n",
       "  </thead>\n",
       "  <tbody>\n",
       "    <tr>\n",
       "      <th>0</th>\n",
       "      <td>0.129216</td>\n",
       "      <td>1</td>\n",
       "      <td>0</td>\n",
       "      <td>77</td>\n",
       "    </tr>\n",
       "    <tr>\n",
       "      <th>1</th>\n",
       "      <td>0.043891</td>\n",
       "      <td>0</td>\n",
       "      <td>0</td>\n",
       "      <td>51</td>\n",
       "    </tr>\n",
       "    <tr>\n",
       "      <th>2</th>\n",
       "      <td>0.307671</td>\n",
       "      <td>0</td>\n",
       "      <td>0</td>\n",
       "      <td>47</td>\n",
       "    </tr>\n",
       "    <tr>\n",
       "      <th>3</th>\n",
       "      <td>0.131725</td>\n",
       "      <td>0</td>\n",
       "      <td>0</td>\n",
       "      <td>65</td>\n",
       "    </tr>\n",
       "    <tr>\n",
       "      <th>4</th>\n",
       "      <td>0.047186</td>\n",
       "      <td>0</td>\n",
       "      <td>0</td>\n",
       "      <td>61</td>\n",
       "    </tr>\n",
       "    <tr>\n",
       "      <th>...</th>\n",
       "      <td>...</td>\n",
       "      <td>...</td>\n",
       "      <td>...</td>\n",
       "      <td>...</td>\n",
       "    </tr>\n",
       "    <tr>\n",
       "      <th>23485</th>\n",
       "      <td>0.018981</td>\n",
       "      <td>0</td>\n",
       "      <td>0</td>\n",
       "      <td>61</td>\n",
       "    </tr>\n",
       "    <tr>\n",
       "      <th>23486</th>\n",
       "      <td>0.129216</td>\n",
       "      <td>0</td>\n",
       "      <td>0</td>\n",
       "      <td>74</td>\n",
       "    </tr>\n",
       "    <tr>\n",
       "      <th>23487</th>\n",
       "      <td>0.043891</td>\n",
       "      <td>0</td>\n",
       "      <td>0</td>\n",
       "      <td>50</td>\n",
       "    </tr>\n",
       "    <tr>\n",
       "      <th>23488</th>\n",
       "      <td>0.131725</td>\n",
       "      <td>0</td>\n",
       "      <td>0</td>\n",
       "      <td>70</td>\n",
       "    </tr>\n",
       "    <tr>\n",
       "      <th>23489</th>\n",
       "      <td>0.129216</td>\n",
       "      <td>1</td>\n",
       "      <td>0</td>\n",
       "      <td>89</td>\n",
       "    </tr>\n",
       "  </tbody>\n",
       "</table>\n",
       "<p>23490 rows × 4 columns</p>\n",
       "</div>"
      ],
      "text/plain": [
       "       department  KPIs_met >80%  awards_won?  avg_training_score\n",
       "0        0.129216              1            0                  77\n",
       "1        0.043891              0            0                  51\n",
       "2        0.307671              0            0                  47\n",
       "3        0.131725              0            0                  65\n",
       "4        0.047186              0            0                  61\n",
       "...           ...            ...          ...                 ...\n",
       "23485    0.018981              0            0                  61\n",
       "23486    0.129216              0            0                  74\n",
       "23487    0.043891              0            0                  50\n",
       "23488    0.131725              0            0                  70\n",
       "23489    0.129216              1            0                  89\n",
       "\n",
       "[23490 rows x 4 columns]"
      ]
     },
     "execution_count": 170,
     "metadata": {},
     "output_type": "execute_result"
    }
   ],
   "source": [
    "#Test Feature Set\n",
    "test"
   ]
  },
  {
   "cell_type": "code",
   "execution_count": 171,
   "metadata": {
    "ExecuteTime": {
     "end_time": "2021-05-31T17:36:06.119053Z",
     "start_time": "2021-05-31T17:36:06.090622Z"
    },
    "hidden": true
   },
   "outputs": [
    {
     "data": {
      "text/plain": [
       "0    22789\n",
       "1      701\n",
       "dtype: int64"
      ]
     },
     "execution_count": 171,
     "metadata": {},
     "output_type": "execute_result"
    }
   ],
   "source": [
    "#TEST SET PREDICTIONS\n",
    "predictions = model.predict(test)\n",
    "pd.Series(predictions).value_counts()"
   ]
  }
 ],
 "metadata": {
  "colab": {
   "collapsed_sections": [
    "OJZooLs8Qf0J",
    "oRXxVT5vQmtQ",
    "0uO11jjG0NBb",
    "afNZY8wx0YZ7",
    "B20tn--U3dfA",
    "p5e_2hhTIWPK",
    "gQT0j8FjIWPc",
    "Xr0uYNcNIWPm",
    "knLndRVwIWPo",
    "logXygLsIWPp",
    "1c2RxAhiIWPr",
    "eDUTiOEnJgA1",
    "sJjXT_A_JgA2"
   ],
   "name": "HR_ANALYTICS.ipynb",
   "provenance": []
  },
  "hide_input": false,
  "kernelspec": {
   "display_name": "Python 3",
   "language": "python",
   "name": "python3"
  },
  "language_info": {
   "codemirror_mode": {
    "name": "ipython",
    "version": 3
   },
   "file_extension": ".py",
   "mimetype": "text/x-python",
   "name": "python",
   "nbconvert_exporter": "python",
   "pygments_lexer": "ipython3",
   "version": "3.8.5"
  },
  "toc": {
   "base_numbering": 1,
   "nav_menu": {
    "height": "218px",
    "width": "546px"
   },
   "number_sections": true,
   "sideBar": true,
   "skip_h1_title": false,
   "title_cell": "Table of Contents",
   "title_sidebar": "Contents",
   "toc_cell": false,
   "toc_position": {
    "height": "calc(100% - 180px)",
    "left": "10px",
    "top": "150px",
    "width": "196px"
   },
   "toc_section_display": false,
   "toc_window_display": true
  },
  "varInspector": {
   "cols": {
    "lenName": 16,
    "lenType": 16,
    "lenVar": 40
   },
   "kernels_config": {
    "python": {
     "delete_cmd_postfix": "",
     "delete_cmd_prefix": "del ",
     "library": "var_list.py",
     "varRefreshCmd": "print(var_dic_list())"
    },
    "r": {
     "delete_cmd_postfix": ") ",
     "delete_cmd_prefix": "rm(",
     "library": "var_list.r",
     "varRefreshCmd": "cat(var_dic_list()) "
    }
   },
   "oldHeight": 265.667,
   "position": {
    "height": "287.667px",
    "left": "918px",
    "right": "20px",
    "top": "120px",
    "width": "342px"
   },
   "types_to_exclude": [
    "module",
    "function",
    "builtin_function_or_method",
    "instance",
    "_Feature"
   ],
   "varInspector_section_display": "block",
   "window_display": false
  }
 },
 "nbformat": 4,
 "nbformat_minor": 1
}

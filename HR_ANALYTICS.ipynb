{
 "cells": [
  {
   "cell_type": "markdown",
   "metadata": {
    "heading_collapsed": true,
    "id": "OJZooLs8Qf0J"
   },
   "source": [
    "## **IMPORTING LIBRARIES**"
   ]
  },
  {
   "cell_type": "code",
   "execution_count": null,
   "metadata": {
    "ExecuteTime": {
     "end_time": "2021-05-27T04:49:28.589150Z",
     "start_time": "2021-05-27T04:49:27.030566Z"
    },
    "hidden": true,
    "id": "6ZiTKJixltUL"
   },
   "outputs": [],
   "source": [
    "#Importing Libraries\n",
    "import numpy as np\n",
    "import pandas as pd\n",
    "import seaborn as sns\n",
    "import matplotlib.pyplot as plt\n",
    "import warnings\n",
    "warnings.filterwarnings(\"ignore\")"
   ]
  },
  {
   "cell_type": "markdown",
   "metadata": {
    "heading_collapsed": true,
    "id": "oRXxVT5vQmtQ"
   },
   "source": [
    "## **DATA PREPROCESSING**"
   ]
  },
  {
   "cell_type": "code",
   "execution_count": null,
   "metadata": {
    "ExecuteTime": {
     "end_time": "2021-05-27T04:49:29.984102Z",
     "start_time": "2021-05-27T04:49:29.897068Z"
    },
    "hidden": true,
    "id": "vRFSkrobmblu"
   },
   "outputs": [],
   "source": [
    "#Importing Dataset\n",
    "dataset = pd.read_csv('train.csv')\n",
    "df = dataset.copy()"
   ]
  },
  {
   "cell_type": "code",
   "execution_count": null,
   "metadata": {
    "ExecuteTime": {
     "end_time": "2021-05-27T04:45:08.806491Z",
     "start_time": "2021-05-27T04:45:08.763900Z"
    },
    "hidden": true,
    "id": "Cv0E05MpIWO8"
   },
   "outputs": [],
   "source": [
    "df"
   ]
  },
  {
   "cell_type": "code",
   "execution_count": null,
   "metadata": {
    "ExecuteTime": {
     "end_time": "2021-05-26T17:36:56.792926Z",
     "start_time": "2021-05-26T17:36:56.753034Z"
    },
    "hidden": true,
    "id": "TPPoZT_DIWO8"
   },
   "outputs": [],
   "source": [
    "dataset.nunique()"
   ]
  },
  {
   "cell_type": "code",
   "execution_count": null,
   "metadata": {
    "ExecuteTime": {
     "end_time": "2021-05-26T17:36:56.809882Z",
     "start_time": "2021-05-26T17:36:56.796914Z"
    },
    "hidden": true,
    "id": "tIhL78L9OlZr"
   },
   "outputs": [],
   "source": [
    "#Observing data types\n",
    "dataset.dtypes"
   ]
  },
  {
   "cell_type": "code",
   "execution_count": null,
   "metadata": {
    "ExecuteTime": {
     "end_time": "2021-05-26T17:36:56.856754Z",
     "start_time": "2021-05-26T17:36:56.814871Z"
    },
    "hidden": true,
    "id": "twiIR06EIWO9"
   },
   "outputs": [],
   "source": [
    "dataset.info()"
   ]
  },
  {
   "cell_type": "markdown",
   "metadata": {
    "heading_collapsed": true,
    "hidden": true,
    "id": "0uO11jjG0NBb"
   },
   "source": [
    "### Handling Null"
   ]
  },
  {
   "cell_type": "code",
   "execution_count": null,
   "metadata": {
    "ExecuteTime": {
     "end_time": "2021-05-26T17:36:56.886674Z",
     "start_time": "2021-05-26T17:36:56.858749Z"
    },
    "hidden": true,
    "id": "yvG2QqP_mls6"
   },
   "outputs": [],
   "source": [
    "#Checking for null values\n",
    "dataset.isna().sum()"
   ]
  },
  {
   "cell_type": "code",
   "execution_count": null,
   "metadata": {
    "ExecuteTime": {
     "end_time": "2021-05-26T17:36:57.026749Z",
     "start_time": "2021-05-26T17:36:56.889666Z"
    },
    "hidden": true,
    "id": "0oMtAuK9Q_UQ"
   },
   "outputs": [],
   "source": [
    "#Observing null value percentage\n",
    "dataset.isna().mean()*100"
   ]
  },
  {
   "cell_type": "code",
   "execution_count": null,
   "metadata": {
    "ExecuteTime": {
     "end_time": "2021-05-26T17:36:57.039649Z",
     "start_time": "2021-05-26T17:36:57.028747Z"
    },
    "hidden": true,
    "id": "oJLD1MHiTEO9"
   },
   "outputs": [],
   "source": [
    "#Analysing education\n",
    "dataset.education.value_counts()"
   ]
  },
  {
   "cell_type": "markdown",
   "metadata": {
    "hidden": true,
    "id": "2gMGP7yrWznc"
   },
   "source": [
    "**null in education**\n",
    "\n",
    "    Education is a nominal categorical variable so null imputation can be done with mode. If education turns out to be a very good feature then null imputation with mode will change data integrity resulting in a bad model. Null imputing it with a 'Not Defined' will help us identifying patterns of these null values."
   ]
  },
  {
   "cell_type": "code",
   "execution_count": null,
   "metadata": {
    "ExecuteTime": {
     "end_time": "2021-05-26T17:36:57.055545Z",
     "start_time": "2021-05-26T17:36:57.042578Z"
    },
    "hidden": true,
    "id": "EghfSDWZRwjX"
   },
   "outputs": [],
   "source": [
    "#Analysing previous_year_rating\n",
    "dataset.previous_year_rating.value_counts()"
   ]
  },
  {
   "cell_type": "code",
   "execution_count": null,
   "metadata": {
    "ExecuteTime": {
     "end_time": "2021-05-26T17:36:57.074505Z",
     "start_time": "2021-05-26T17:36:57.059535Z"
    },
    "hidden": true,
    "id": "NOJkvExPZ9TB"
   },
   "outputs": [],
   "source": [
    "dataset[dataset.previous_year_rating.isna()]['education'].value_counts()"
   ]
  },
  {
   "cell_type": "code",
   "execution_count": null,
   "metadata": {
    "ExecuteTime": {
     "end_time": "2021-05-26T17:36:57.096434Z",
     "start_time": "2021-05-26T17:36:57.076488Z"
    },
    "hidden": true,
    "id": "VMhiZ9COa2j7"
   },
   "outputs": [],
   "source": [
    "dataset[dataset.previous_year_rating.isna()]['length_of_service'].value_counts()"
   ]
  },
  {
   "cell_type": "code",
   "execution_count": null,
   "metadata": {
    "ExecuteTime": {
     "end_time": "2021-05-26T17:36:57.110396Z",
     "start_time": "2021-05-26T17:36:57.101421Z"
    },
    "hidden": true,
    "id": "klAblBmhem9h"
   },
   "outputs": [],
   "source": [
    "dataset.length_of_service.value_counts()"
   ]
  },
  {
   "cell_type": "markdown",
   "metadata": {
    "hidden": true,
    "id": "IeW10_VWe6Pf"
   },
   "source": [
    "**null in previous_year_rating**\n",
    "\n",
    "Ordinal categorical variable with null value percentage ~7.5%\n",
    "\n",
    "\n",
    "**Missing Values might indicate FRESHERS or NEW JOINEES** because\n",
    "\n",
    "- Length of service for all is equal to 1. This 1 might indicate their training period.\n",
    "\n",
    "- Maximum have their education qualification as bachelors. Minimum have their education qualification as masters. Usually, people having masters already has some cooperate experience. If length of service indicates total work experience, then it means they are all freshers. If length of service indicates work experience in this specific company, then it means they are all new joinees\n",
    "\n",
    "- Ratings include (1, 2, 3, 4, 5). There is nothing as 0, which means the people who did not have a previous year might have left the previous year rating column as null. \n",
    "\n",
    "Based on these inferences, null values are MAR (missing at random) and should be imputed with 0 indicating they are all new joinees or freshers and did not have a previous year in the company\n",
    "\n"
   ]
  },
  {
   "cell_type": "code",
   "execution_count": null,
   "metadata": {
    "ExecuteTime": {
     "end_time": "2021-05-27T04:44:19.683184Z",
     "start_time": "2021-05-27T04:44:18.948082Z"
    },
    "hidden": true,
    "id": "jjNTp5UjIWPA"
   },
   "outputs": [],
   "source": [
    "#Handling nulls in education (filling it with 'Not Defined')\n",
    "dataset['education'].fillna(value = 'Not Defined', inplace=True)"
   ]
  },
  {
   "cell_type": "code",
   "execution_count": null,
   "metadata": {
    "ExecuteTime": {
     "end_time": "2021-05-27T04:44:19.685178Z",
     "start_time": "2021-05-27T04:44:19.400Z"
    },
    "hidden": true,
    "id": "gM21HHUeydtX"
   },
   "outputs": [],
   "source": [
    "#Null imputation in previous_year_rating\n",
    "dataset.fillna(value=0, inplace = True)"
   ]
  },
  {
   "cell_type": "markdown",
   "metadata": {
    "heading_collapsed": true,
    "hidden": true,
    "id": "afNZY8wx0YZ7"
   },
   "source": [
    "### Handling Duplicates"
   ]
  },
  {
   "cell_type": "code",
   "execution_count": null,
   "metadata": {
    "ExecuteTime": {
     "end_time": "2021-05-26T17:36:57.219119Z",
     "start_time": "2021-05-26T17:36:57.166248Z"
    },
    "hidden": true,
    "id": "MiSWkTqp0cSv"
   },
   "outputs": [],
   "source": [
    "#Checking Duplicate rows\n",
    "dataset.duplicated().sum()"
   ]
  },
  {
   "cell_type": "code",
   "execution_count": null,
   "metadata": {
    "ExecuteTime": {
     "end_time": "2021-05-26T17:37:26.336846Z",
     "start_time": "2021-05-26T17:37:12.660684Z"
    },
    "hidden": true,
    "id": "ercdszBx07aV"
   },
   "outputs": [],
   "source": [
    "#Checking Duplicate columns\n",
    "dataset_transposed = dataset.T\n",
    "dataset_transposed.duplicated().sum()"
   ]
  },
  {
   "cell_type": "markdown",
   "metadata": {
    "hidden": true,
    "id": "FApQBFRe2KLa"
   },
   "source": [
    "There are no duplicates in the dataframe"
   ]
  },
  {
   "cell_type": "markdown",
   "metadata": {
    "heading_collapsed": true,
    "hidden": true,
    "id": "BilSlXbAIWPC"
   },
   "source": [
    "### Splitting Data"
   ]
  },
  {
   "cell_type": "code",
   "execution_count": null,
   "metadata": {
    "ExecuteTime": {
     "end_time": "2021-05-26T19:35:21.724962Z",
     "start_time": "2021-05-26T19:35:21.716499Z"
    },
    "hidden": true,
    "id": "iuYU2Z8-IWPC"
   },
   "outputs": [],
   "source": [
    "from sklearn.model_selection import train_test_split\n",
    "X = dataset.iloc[:, :-1] #X is the featureset. Dataframe excluding Target Variable (is_promoted)\n",
    "y = dataset.iloc[:, -1:] #y is the target variable (is_promoted)"
   ]
  },
  {
   "cell_type": "code",
   "execution_count": null,
   "metadata": {
    "ExecuteTime": {
     "end_time": "2021-05-26T19:35:22.206043Z",
     "start_time": "2021-05-26T19:35:22.182882Z"
    },
    "hidden": true,
    "id": "txT0BAKDIWPC"
   },
   "outputs": [],
   "source": [
    "#Splitting the dataframe into training and test sets\n",
    "X_train, X_test, y_train, y_test = train_test_split(X, y, train_size = 0.72, random_state = 42)"
   ]
  },
  {
   "cell_type": "code",
   "execution_count": null,
   "metadata": {
    "ExecuteTime": {
     "end_time": "2021-05-26T19:35:22.663779Z",
     "start_time": "2021-05-26T19:35:22.653007Z"
    },
    "hidden": true,
    "id": "8ghe-gbPIWPC"
   },
   "outputs": [],
   "source": [
    "#Further splitting the test set into validation and testing sets\n",
    "X_validation, X_test, y_validation, y_test = train_test_split(X_test, y_test, train_size = 0.4, random_state = 42)"
   ]
  },
  {
   "cell_type": "code",
   "execution_count": null,
   "metadata": {
    "ExecuteTime": {
     "end_time": "2021-05-26T19:35:23.103402Z",
     "start_time": "2021-05-26T19:35:23.098414Z"
    },
    "hidden": true,
    "id": "DkaMfBD4IWPD"
   },
   "outputs": [],
   "source": [
    "#Observing Shapes of the splitted dataframes\n",
    "print(X_train.shape, y_train.shape)\n",
    "print(X_test.shape, y_test.shape)\n",
    "print(X_validation.shape, y_validation.shape)"
   ]
  },
  {
   "cell_type": "markdown",
   "metadata": {
    "heading_collapsed": true,
    "id": "B20tn--U3dfA"
   },
   "source": [
    "## **EDA**"
   ]
  },
  {
   "cell_type": "code",
   "execution_count": null,
   "metadata": {
    "ExecuteTime": {
     "end_time": "2021-05-27T07:54:32.486760Z",
     "start_time": "2021-05-27T07:54:32.440836Z"
    },
    "hidden": true,
    "id": "U9mGcKBFIWPD",
    "outputId": "6a573c82-e7cd-499a-a800-0ffe0076168e"
   },
   "outputs": [
    {
     "data": {
      "text/html": [
       "<div>\n",
       "<style scoped>\n",
       "    .dataframe tbody tr th:only-of-type {\n",
       "        vertical-align: middle;\n",
       "    }\n",
       "\n",
       "    .dataframe tbody tr th {\n",
       "        vertical-align: top;\n",
       "    }\n",
       "\n",
       "    .dataframe thead th {\n",
       "        text-align: right;\n",
       "    }\n",
       "</style>\n",
       "<table border=\"1\" class=\"dataframe\">\n",
       "  <thead>\n",
       "    <tr style=\"text-align: right;\">\n",
       "      <th></th>\n",
       "      <th>department</th>\n",
       "      <th>region</th>\n",
       "      <th>education</th>\n",
       "      <th>gender</th>\n",
       "      <th>recruitment_channel</th>\n",
       "      <th>no_of_trainings</th>\n",
       "      <th>age</th>\n",
       "      <th>previous_year_rating</th>\n",
       "      <th>length_of_service</th>\n",
       "      <th>KPIs_met &gt;80%</th>\n",
       "      <th>awards_won?</th>\n",
       "      <th>avg_training_score</th>\n",
       "      <th>is_promoted</th>\n",
       "    </tr>\n",
       "  </thead>\n",
       "  <tbody>\n",
       "    <tr>\n",
       "      <th>50114</th>\n",
       "      <td>0.307671</td>\n",
       "      <td>0.014698</td>\n",
       "      <td>2</td>\n",
       "      <td>1</td>\n",
       "      <td>0.556068</td>\n",
       "      <td>1</td>\n",
       "      <td>41</td>\n",
       "      <td>4.0</td>\n",
       "      <td>6</td>\n",
       "      <td>0</td>\n",
       "      <td>0</td>\n",
       "      <td>52</td>\n",
       "      <td>0</td>\n",
       "    </tr>\n",
       "    <tr>\n",
       "      <th>5038</th>\n",
       "      <td>0.047186</td>\n",
       "      <td>0.088315</td>\n",
       "      <td>3</td>\n",
       "      <td>1</td>\n",
       "      <td>0.422417</td>\n",
       "      <td>1</td>\n",
       "      <td>33</td>\n",
       "      <td>5.0</td>\n",
       "      <td>7</td>\n",
       "      <td>0</td>\n",
       "      <td>0</td>\n",
       "      <td>71</td>\n",
       "      <td>1</td>\n",
       "    </tr>\n",
       "    <tr>\n",
       "      <th>26158</th>\n",
       "      <td>0.129216</td>\n",
       "      <td>0.005018</td>\n",
       "      <td>2</td>\n",
       "      <td>0</td>\n",
       "      <td>0.556068</td>\n",
       "      <td>1</td>\n",
       "      <td>33</td>\n",
       "      <td>1.0</td>\n",
       "      <td>2</td>\n",
       "      <td>0</td>\n",
       "      <td>0</td>\n",
       "      <td>79</td>\n",
       "      <td>0</td>\n",
       "    </tr>\n",
       "    <tr>\n",
       "      <th>48838</th>\n",
       "      <td>0.047186</td>\n",
       "      <td>0.227034</td>\n",
       "      <td>2</td>\n",
       "      <td>1</td>\n",
       "      <td>0.422417</td>\n",
       "      <td>1</td>\n",
       "      <td>27</td>\n",
       "      <td>3.0</td>\n",
       "      <td>5</td>\n",
       "      <td>0</td>\n",
       "      <td>0</td>\n",
       "      <td>59</td>\n",
       "      <td>0</td>\n",
       "    </tr>\n",
       "    <tr>\n",
       "      <th>13179</th>\n",
       "      <td>0.206736</td>\n",
       "      <td>0.030460</td>\n",
       "      <td>2</td>\n",
       "      <td>0</td>\n",
       "      <td>0.556068</td>\n",
       "      <td>1</td>\n",
       "      <td>32</td>\n",
       "      <td>3.0</td>\n",
       "      <td>3</td>\n",
       "      <td>0</td>\n",
       "      <td>0</td>\n",
       "      <td>55</td>\n",
       "      <td>0</td>\n",
       "    </tr>\n",
       "    <tr>\n",
       "      <th>...</th>\n",
       "      <td>...</td>\n",
       "      <td>...</td>\n",
       "      <td>...</td>\n",
       "      <td>...</td>\n",
       "      <td>...</td>\n",
       "      <td>...</td>\n",
       "      <td>...</td>\n",
       "      <td>...</td>\n",
       "      <td>...</td>\n",
       "      <td>...</td>\n",
       "      <td>...</td>\n",
       "      <td>...</td>\n",
       "      <td>...</td>\n",
       "    </tr>\n",
       "    <tr>\n",
       "      <th>44732</th>\n",
       "      <td>0.131725</td>\n",
       "      <td>0.117382</td>\n",
       "      <td>3</td>\n",
       "      <td>0</td>\n",
       "      <td>0.422417</td>\n",
       "      <td>3</td>\n",
       "      <td>36</td>\n",
       "      <td>3.0</td>\n",
       "      <td>4</td>\n",
       "      <td>0</td>\n",
       "      <td>0</td>\n",
       "      <td>67</td>\n",
       "      <td>0</td>\n",
       "    </tr>\n",
       "    <tr>\n",
       "      <th>54343</th>\n",
       "      <td>0.131725</td>\n",
       "      <td>0.227034</td>\n",
       "      <td>2</td>\n",
       "      <td>0</td>\n",
       "      <td>0.422417</td>\n",
       "      <td>1</td>\n",
       "      <td>27</td>\n",
       "      <td>0.0</td>\n",
       "      <td>1</td>\n",
       "      <td>0</td>\n",
       "      <td>0</td>\n",
       "      <td>68</td>\n",
       "      <td>0</td>\n",
       "    </tr>\n",
       "    <tr>\n",
       "      <th>38158</th>\n",
       "      <td>0.206736</td>\n",
       "      <td>0.024049</td>\n",
       "      <td>2</td>\n",
       "      <td>0</td>\n",
       "      <td>0.422417</td>\n",
       "      <td>1</td>\n",
       "      <td>34</td>\n",
       "      <td>5.0</td>\n",
       "      <td>7</td>\n",
       "      <td>1</td>\n",
       "      <td>0</td>\n",
       "      <td>65</td>\n",
       "      <td>0</td>\n",
       "    </tr>\n",
       "    <tr>\n",
       "      <th>860</th>\n",
       "      <td>0.096247</td>\n",
       "      <td>0.052406</td>\n",
       "      <td>3</td>\n",
       "      <td>1</td>\n",
       "      <td>0.556068</td>\n",
       "      <td>3</td>\n",
       "      <td>35</td>\n",
       "      <td>5.0</td>\n",
       "      <td>3</td>\n",
       "      <td>0</td>\n",
       "      <td>0</td>\n",
       "      <td>86</td>\n",
       "      <td>0</td>\n",
       "    </tr>\n",
       "    <tr>\n",
       "      <th>15795</th>\n",
       "      <td>0.043891</td>\n",
       "      <td>0.117382</td>\n",
       "      <td>2</td>\n",
       "      <td>1</td>\n",
       "      <td>0.422417</td>\n",
       "      <td>1</td>\n",
       "      <td>30</td>\n",
       "      <td>1.0</td>\n",
       "      <td>2</td>\n",
       "      <td>0</td>\n",
       "      <td>0</td>\n",
       "      <td>53</td>\n",
       "      <td>0</td>\n",
       "    </tr>\n",
       "  </tbody>\n",
       "</table>\n",
       "<p>39461 rows × 13 columns</p>\n",
       "</div>"
      ],
      "text/plain": [
       "       department    region  education  gender  recruitment_channel  \\\n",
       "50114    0.307671  0.014698          2       1             0.556068   \n",
       "5038     0.047186  0.088315          3       1             0.422417   \n",
       "26158    0.129216  0.005018          2       0             0.556068   \n",
       "48838    0.047186  0.227034          2       1             0.422417   \n",
       "13179    0.206736  0.030460          2       0             0.556068   \n",
       "...           ...       ...        ...     ...                  ...   \n",
       "44732    0.131725  0.117382          3       0             0.422417   \n",
       "54343    0.131725  0.227034          2       0             0.422417   \n",
       "38158    0.206736  0.024049          2       0             0.422417   \n",
       "860      0.096247  0.052406          3       1             0.556068   \n",
       "15795    0.043891  0.117382          2       1             0.422417   \n",
       "\n",
       "       no_of_trainings  age  previous_year_rating  length_of_service  \\\n",
       "50114                1   41                   4.0                  6   \n",
       "5038                 1   33                   5.0                  7   \n",
       "26158                1   33                   1.0                  2   \n",
       "48838                1   27                   3.0                  5   \n",
       "13179                1   32                   3.0                  3   \n",
       "...                ...  ...                   ...                ...   \n",
       "44732                3   36                   3.0                  4   \n",
       "54343                1   27                   0.0                  1   \n",
       "38158                1   34                   5.0                  7   \n",
       "860                  3   35                   5.0                  3   \n",
       "15795                1   30                   1.0                  2   \n",
       "\n",
       "       KPIs_met >80%  awards_won?  avg_training_score  is_promoted  \n",
       "50114              0            0                  52            0  \n",
       "5038               0            0                  71            1  \n",
       "26158              0            0                  79            0  \n",
       "48838              0            0                  59            0  \n",
       "13179              0            0                  55            0  \n",
       "...              ...          ...                 ...          ...  \n",
       "44732              0            0                  67            0  \n",
       "54343              0            0                  68            0  \n",
       "38158              1            0                  65            0  \n",
       "860                0            0                  86            0  \n",
       "15795              0            0                  53            0  \n",
       "\n",
       "[39461 rows x 13 columns]"
      ]
     },
     "execution_count": 7,
     "metadata": {
      "tags": []
     },
     "output_type": "execute_result"
    }
   ],
   "source": [
    "#Concating Featureset with target of the training set for EDA\n",
    "dataset_eda = pd.concat([X_train, y_train], axis = 1)\n",
    "dataset_eda"
   ]
  },
  {
   "cell_type": "code",
   "execution_count": null,
   "metadata": {
    "ExecuteTime": {
     "end_time": "2021-05-26T18:18:10.911071Z",
     "start_time": "2021-05-26T18:18:10.671859Z"
    },
    "hidden": true,
    "hide_input": false,
    "id": "8dH3Bty94JgA"
   },
   "outputs": [],
   "source": [
    "#Grouping by Department on the basis of getting a promotion\n",
    "print(dataset_eda.groupby('department')['is_promoted'].mean())\n",
    "dataset_eda.groupby('department')['is_promoted'].mean().plot(kind = 'bar', xlabel = 'Department', ylabel = 'Probability of getting a promotion', title = 'Department as a factor for promotion')"
   ]
  },
  {
   "cell_type": "markdown",
   "metadata": {
    "hidden": true,
    "id": "y6v_7mR0IWPE"
   },
   "source": [
    "This gives us a brief idea about what kind of a growth each department has. Departments with less probability of getting a promotion signifies leveling up in that department is tough or there aren't many levels to climb. HR and Legal has low probability as compared to others which is quite reasonable as in an organization this department has very few members and thus not much levels to climb hence lower promotions. Departments like Technology, Analytics and Procurement is usually a bigger division where there are more levels depending upon the company and hence more promotion opportunities which is quite evident from the barplot. "
   ]
  },
  {
   "cell_type": "code",
   "execution_count": null,
   "metadata": {
    "ExecuteTime": {
     "end_time": "2021-05-26T18:18:46.657198Z",
     "start_time": "2021-05-26T18:18:46.444689Z"
    },
    "hidden": true,
    "id": "XiUOUbnBJ7EB"
   },
   "outputs": [],
   "source": [
    "#Grouping by education on the basis of getting a promotion\n",
    "print(dataset_eda.groupby('education')['is_promoted'].mean())\n",
    "dataset_eda.groupby('education')['is_promoted'].mean().plot(kind = 'bar', xlabel = 'Education', ylabel = 'Probability of getting a promotion', title = 'Education as a factor for promotion')"
   ]
  },
  {
   "cell_type": "markdown",
   "metadata": {
    "hidden": true,
    "id": "medkeDcCIWPF"
   },
   "source": [
    "Not defined are those which had null values in education. According to the barplot, Not Defined has a low probability of getting a promotion as compared to the others. This might imply those categories who somehow managed to get the job without the bare minimum education qualification and now facing difficulties in getting a promotion. Employees with a master's and above education qualification has a higher probability in getting a promotion as it should be. This can be considered as a good feature."
   ]
  },
  {
   "cell_type": "code",
   "execution_count": null,
   "metadata": {
    "ExecuteTime": {
     "end_time": "2021-05-26T14:12:12.193119Z",
     "start_time": "2021-05-26T14:12:12.178139Z"
    },
    "hidden": true,
    "id": "RLdCoc1cKnrw"
   },
   "outputs": [],
   "source": [
    "dataset.groupby('gender')['is_promoted'].mean()"
   ]
  },
  {
   "cell_type": "code",
   "execution_count": null,
   "metadata": {
    "ExecuteTime": {
     "end_time": "2021-05-26T18:19:43.441912Z",
     "start_time": "2021-05-26T18:19:43.232354Z"
    },
    "hidden": true,
    "id": "Ep5WMw0mK0IU"
   },
   "outputs": [],
   "source": [
    "#Grouping by recruitment channel on the basis of getting a promotion\n",
    "print(dataset_eda.groupby('recruitment_channel')['is_promoted'].mean())\n",
    "dataset_eda.groupby('recruitment_channel')['is_promoted'].mean().plot(kind = 'bar', xlabel = 'Recruitment Channel', ylabel = 'Probability of getting a promotion', title = 'Recruitment Channel as a factor for promotion')"
   ]
  },
  {
   "cell_type": "markdown",
   "metadata": {
    "hidden": true,
    "id": "KD_IuMS-IWPG"
   },
   "source": [
    "The above figure shows that employees whose recruitment channel was **referred** has a higher probability of getting promoted.\n",
    "Recruiment Channel can be a good feature"
   ]
  },
  {
   "cell_type": "code",
   "execution_count": null,
   "metadata": {
    "ExecuteTime": {
     "end_time": "2021-05-26T18:20:32.868413Z",
     "start_time": "2021-05-26T18:20:32.647370Z"
    },
    "hidden": true,
    "id": "MjoU8iwVLBuE"
   },
   "outputs": [],
   "source": [
    "#Grouping by No of Trainings on the basis of getting a promotion\n",
    "print(dataset_eda.groupby('no_of_trainings')['is_promoted'].mean())\n",
    "dataset_eda.groupby('no_of_trainings')['is_promoted'].mean().plot(kind = 'bar', xlabel = 'No of Trainings', ylabel = 'Probability of getting a promotion', title = 'No of Trainings as a factor for promotion')"
   ]
  },
  {
   "cell_type": "markdown",
   "metadata": {
    "hidden": true,
    "id": "oUlDVSBvIWPG"
   },
   "source": [
    "Employees with lesser no of trainings has a higher probability in getting promotion. This is because this organization might conduct extra trainings for the weaker employees who aren't promotion deserving. This can be a good feature."
   ]
  },
  {
   "cell_type": "code",
   "execution_count": null,
   "metadata": {
    "ExecuteTime": {
     "end_time": "2021-05-26T18:22:47.376911Z",
     "start_time": "2021-05-26T18:22:47.198389Z"
    },
    "hidden": true,
    "id": "ICJhk4rVVVsf"
   },
   "outputs": [],
   "source": [
    "#Finding promotion probability on the basis of age of employees\n",
    "age = {'20 - 30': dataset_eda.query('age > 20 and age < 30')['is_promoted'].mean(),\n",
    "      '30 - 40': dataset_eda.query('age > 30 and age < 40')['is_promoted'].mean(),\n",
    "      '40 up': dataset_eda.query('age > 40')['is_promoted'].mean()}\n",
    "print(age)\n",
    "plt.bar(*zip(*age.items()))\n",
    "plt.title('Age as a factor for promotion')\n",
    "plt.xlabel('Age')\n",
    "plt.ylabel('Probability of getting a promotion')\n",
    "plt.show()"
   ]
  },
  {
   "cell_type": "markdown",
   "metadata": {
    "ExecuteTime": {
     "end_time": "2021-05-21T04:02:22.547297Z",
     "start_time": "2021-05-21T04:02:22.540316Z"
    },
    "hidden": true,
    "id": "upOvHBIeIWPH"
   },
   "source": [
    "Employees having age between 30 - 40 has a slightly higher probability in getting a promotion. Might be a feature though not a good one since the difference between these categories probabilities is not that high."
   ]
  },
  {
   "cell_type": "code",
   "execution_count": null,
   "metadata": {
    "ExecuteTime": {
     "end_time": "2021-05-26T18:28:27.398211Z",
     "start_time": "2021-05-26T18:28:26.885584Z"
    },
    "hidden": true,
    "id": "yFtqFijQVxfd"
   },
   "outputs": [],
   "source": [
    "#Grouping on the basis of region on the basis of promotion\n",
    "print(dataset_eda.groupby('region')['is_promoted'].mean().sort_values(ascending = False))\n",
    "dataset_eda.groupby('region')['is_promoted'].mean().plot(kind = 'bar', xlabel = 'Region', ylabel = 'Probability of getting a promotion', title = 'Region as a factor for promotion', figsize = (12,4))"
   ]
  },
  {
   "cell_type": "markdown",
   "metadata": {
    "hidden": true,
    "id": "9C1FPHTHIWPH"
   },
   "source": [
    "Regions with a higher promotion probability might signify that specific region has growth, good upper management so that employees learn from the best and perform better or that region might include headquarters where there is higher opportunities for promotions. All in all this could be used as a feature."
   ]
  },
  {
   "cell_type": "code",
   "execution_count": null,
   "metadata": {
    "ExecuteTime": {
     "end_time": "2021-05-26T18:31:39.712549Z",
     "start_time": "2021-05-26T18:31:39.494493Z"
    },
    "hidden": true,
    "id": "uYDLYw_Yjzb7"
   },
   "outputs": [],
   "source": [
    "#Grouping by previous year rating on the basis of getting a promotion\n",
    "print(dataset_eda.groupby('previous_year_rating')['is_promoted'].mean().sort_values(ascending = False))\n",
    "dataset_eda.groupby('previous_year_rating')['is_promoted'].mean().plot(kind = 'bar', xlabel = 'Previous Year Rating', ylabel = 'Probability of getting a promotion', title = 'Previous Year Rating as a factor for promotion')"
   ]
  },
  {
   "cell_type": "markdown",
   "metadata": {
    "hidden": true,
    "id": "M8VEUmi-IWPI"
   },
   "source": [
    "There is high difference between values. It clearly shows employees with higher previous year rating has a higher chance of getting a promotion. 0.0 signifies employees with no previous year (new joinees or freshers) and their probability of getting a promotion is also very high. This might be because freshers start from a very grassroot level and getting a promotion is easy in that level (Intern to a Full Time Employee). All in all this is a very good feature."
   ]
  },
  {
   "cell_type": "code",
   "execution_count": null,
   "metadata": {
    "ExecuteTime": {
     "end_time": "2021-05-26T18:32:44.242218Z",
     "start_time": "2021-05-26T18:32:44.070677Z"
    },
    "hidden": true,
    "id": "BxWy--TQmy4D"
   },
   "outputs": [],
   "source": [
    "#Finding promotion probability on the basis of length of Service\n",
    "los = {'Less than 10': dataset_eda.query('length_of_service < 10')['is_promoted'].mean(),\n",
    "      '10 - 20': dataset_eda.query('length_of_service >= 10 and length_of_service < 20')['is_promoted'].mean(),\n",
    "      '20 - 30': dataset_eda.query('length_of_service >= 20 and length_of_service < 30')['is_promoted'].mean(),\n",
    "      'More than 30': dataset_eda.query('length_of_service >= 30')['is_promoted'].mean()}\n",
    "\n",
    "print(los)\n",
    "plt.bar(*zip(*los.items()))\n",
    "plt.title('Length of Service as a factor for promotion')\n",
    "plt.xlabel('Length of Service')\n",
    "plt.ylabel('Probability of getting a promotion')\n",
    "plt.show()"
   ]
  },
  {
   "cell_type": "markdown",
   "metadata": {
    "hidden": true,
    "id": "l-zeT3xtIWPI"
   },
   "source": [
    "Employees with lesser length of service are more prone to getting promotions. It might be because employees with higher length of service might be inefficient since they are stuck on the same profile for a long time. Although the differences between the values are very less, still it can be considered as a feature."
   ]
  },
  {
   "cell_type": "code",
   "execution_count": null,
   "metadata": {
    "ExecuteTime": {
     "end_time": "2021-05-26T18:34:06.919666Z",
     "start_time": "2021-05-26T18:34:06.707622Z"
    },
    "hidden": true,
    "id": "bZcsYiZqn-dc"
   },
   "outputs": [],
   "source": [
    "#Grouping by KPI's met on the basis of getting a promotion\n",
    "print(dataset_eda.groupby('KPIs_met >80%')['is_promoted'].mean())\n",
    "dataset_eda.groupby('KPIs_met >80%')['is_promoted'].mean().plot(kind = 'bar', xlabel = \"KPI's met > 80 %\", ylabel = 'Probability of getting a promotion', title = 'KPI as a factor for promotion')"
   ]
  },
  {
   "cell_type": "markdown",
   "metadata": {
    "hidden": true,
    "id": "6ilH0M80IWPJ"
   },
   "source": [
    "1 denotes yes and 0 denotes no on the x-axis. Employees who met the KPI criteria (more than 80 %) has significantly a higher probability of getting a promotion as compared to those who couldn't. This is a very good feature as KPI is one of the key factors for promotion."
   ]
  },
  {
   "cell_type": "code",
   "execution_count": null,
   "metadata": {
    "ExecuteTime": {
     "end_time": "2021-05-26T18:34:48.180305Z",
     "start_time": "2021-05-26T18:34:48.022098Z"
    },
    "hidden": true,
    "id": "HXZrfmUKorKr"
   },
   "outputs": [],
   "source": [
    "#Grouping by awards won on the basis of getting a promotion\n",
    "print(dataset_eda.groupby('awards_won?')['is_promoted'].mean())\n",
    "dataset_eda.groupby('awards_won?')['is_promoted'].mean().plot(kind = 'bar', xlabel = \"Awards Won?\", ylabel = 'Probability of getting a promotion', title = 'Awards won as a factor for promotion')"
   ]
  },
  {
   "cell_type": "markdown",
   "metadata": {
    "hidden": true,
    "id": "hbzG2wjPIWPJ"
   },
   "source": [
    "1 denotes yes and 0 denotes on the x-axis. Employees who have won an award has a very high chance in getting a promotion. This is a very good feature and is one of the biggest factors for promotion. "
   ]
  },
  {
   "cell_type": "code",
   "execution_count": null,
   "metadata": {
    "ExecuteTime": {
     "end_time": "2021-05-26T18:35:51.482024Z",
     "start_time": "2021-05-26T18:35:51.256455Z"
    },
    "hidden": true,
    "id": "kPizUEALo7dO"
   },
   "outputs": [],
   "source": [
    "#Finding promotion probability on the basis of training score\n",
    "training_score = {\n",
    "    '99 - 89': dataset_eda.query('avg_training_score <= 99 and avg_training_score > 89')['is_promoted'].mean(),\n",
    "    '89 - 79': dataset_eda.query('avg_training_score <= 89 and avg_training_score > 79')['is_promoted'].mean(),\n",
    "    '79 - 69': dataset_eda.query('avg_training_score <= 79 and avg_training_score > 69')['is_promoted'].mean(),\n",
    "    '69 - 59': dataset_eda.query('avg_training_score <= 69 and avg_training_score > 59')['is_promoted'].mean(),\n",
    "    '59 - 49': dataset_eda.query('avg_training_score <= 59 and avg_training_score > 49')['is_promoted'].mean(),\n",
    "    '49 - 39': dataset_eda.query('avg_training_score <= 49 and avg_training_score > 39')['is_promoted'].mean()\n",
    "}\n",
    "\n",
    "print(training_score)\n",
    "plt.bar(*zip(*training_score.items()))\n",
    "plt.title('Training Score as a factor for promotion')\n",
    "plt.xlabel('Training Score')\n",
    "plt.ylabel('Probability of getting a promotion')\n",
    "plt.show()"
   ]
  },
  {
   "cell_type": "markdown",
   "metadata": {
    "hidden": true,
    "id": "48qVmae-IWPJ"
   },
   "source": [
    "From the bar plot, it is quite evident that employees with a higher training score especially in the bracket (99 - 89) is more probable in getting a promotion. Training Score is an extremely good feature."
   ]
  },
  {
   "cell_type": "code",
   "execution_count": null,
   "metadata": {
    "ExecuteTime": {
     "end_time": "2021-05-27T07:54:37.980661Z",
     "start_time": "2021-05-27T07:54:37.245337Z"
    },
    "hidden": true,
    "id": "Zj8FlnRUIWPK",
    "outputId": "5ceb3843-2e8c-42db-ddab-4a6734323400"
   },
   "outputs": [
    {
     "data": {
      "text/plain": [
       "<AxesSubplot:>"
      ]
     },
     "execution_count": 8,
     "metadata": {
      "tags": []
     },
     "output_type": "execute_result"
    },
    {
     "data": {
      "image/png": "[encoded data removed]",
      "text/plain": [
       "<Figure size 432x288 with 2 Axes>"
      ]
     },
     "metadata": {
      "needs_background": "light",
      "tags": []
     },
     "output_type": "display_data"
    }
   ],
   "source": [
    "#Plotting a heatmap to understand the correlation between the variables\n",
    "sns.heatmap(dataset_eda.corr())"
   ]
  },
  {
   "cell_type": "markdown",
   "metadata": {
    "hidden": true,
    "id": "UI0h0_jIIWPK"
   },
   "source": [
    "From the above heatmap, it can be observed that Age and Length of Service has high correlation. Only one of these features should be used since multicollinearity undermines statistical significance of an independent variable, Age or length of service in this case."
   ]
  },
  {
   "cell_type": "markdown",
   "metadata": {
    "heading_collapsed": true,
    "id": "p5e_2hhTIWPK"
   },
   "source": [
    "## **FEATURE ENGINEERING**"
   ]
  },
  {
   "cell_type": "code",
   "execution_count": null,
   "metadata": {
    "ExecuteTime": {
     "end_time": "2021-05-27T04:45:24.704587Z",
     "start_time": "2021-05-27T04:45:24.658770Z"
    },
    "hidden": true,
    "id": "oUS0MMK6IWPK"
   },
   "outputs": [],
   "source": [
    "from sklearn.model_selection import train_test_split\n",
    "X = dataset.iloc[:, :-1] #X is the featureset. Dataframe excluding Target Variable (is_promoted)\n",
    "y = dataset.iloc[:, -1:] #y is the target variable (is_promoted)\n",
    "#Splitting the dataframe into training and test sets\n",
    "X_train, X_test, y_train, y_test = train_test_split(X, y, train_size = 0.72, random_state = 42)\n",
    "#Further splitting the test set into validation and testing sets\n",
    "X_validation, X_test, y_validation, y_test = train_test_split(X_test, y_test, train_size = 0.4, random_state = 42)\n",
    "#Observing Shapes of the splitted dataframes\n",
    "print(X_train.shape, y_train.shape)\n",
    "print(X_test.shape, y_test.shape)\n",
    "print(X_validation.shape, y_validation.shape)\n",
    "#Dropping employee_id because all unique values\n",
    "X_train = X_train.iloc[:, 1:]\n",
    "X_validation = X_validation.iloc[:, 1:]\n",
    "X_test = X_test.iloc[:, 1:]"
   ]
  },
  {
   "cell_type": "code",
   "execution_count": null,
   "metadata": {
    "ExecuteTime": {
     "end_time": "2021-05-26T19:14:49.430318Z",
     "start_time": "2021-05-26T19:14:49.410164Z"
    },
    "hidden": true,
    "id": "dFYpVle8IWPL",
    "scrolled": false
   },
   "outputs": [],
   "source": [
    "X_train"
   ]
  },
  {
   "cell_type": "markdown",
   "metadata": {
    "hidden": true,
    "id": "8HM1DiG4IWPL"
   },
   "source": [
    "From the above Feature Set, employee_id has all unique values. It should be dropped.\n",
    "\n",
    "\n",
    "There are 5 categories [Deparment, Region, Education, Gender, Recruitment Channel] which has to be encoded."
   ]
  },
  {
   "cell_type": "code",
   "execution_count": null,
   "metadata": {
    "ExecuteTime": {
     "end_time": "2021-05-26T19:36:37.979115Z",
     "start_time": "2021-05-26T19:36:37.969142Z"
    },
    "hidden": true,
    "id": "wmbwm3TQIWPL"
   },
   "outputs": [],
   "source": [
    "#Dropping employee_id because all unique values\n",
    "X_train = X_train.iloc[:, 1:]\n",
    "X_validation = X_validation.iloc[:, 1:]\n",
    "X_test = X_test.iloc[:, 1:]"
   ]
  },
  {
   "cell_type": "markdown",
   "metadata": {
    "hidden": true,
    "id": "hQXTNT6KIWPL"
   },
   "source": [
    "### Department"
   ]
  },
  {
   "cell_type": "code",
   "execution_count": null,
   "metadata": {
    "ExecuteTime": {
     "end_time": "2021-05-26T19:03:51.670338Z",
     "start_time": "2021-05-26T19:03:51.656339Z"
    },
    "hidden": true,
    "id": "6kjAfEcAIWPL"
   },
   "outputs": [],
   "source": [
    "#Observing Department\n",
    "X_train['department'].value_counts()"
   ]
  },
  {
   "cell_type": "markdown",
   "metadata": {
    "hidden": true,
    "id": "_kTixQg2IWPL"
   },
   "source": [
    "All values are unique in value counts. So we will perform **frequency encoding** for department categorical variable."
   ]
  },
  {
   "cell_type": "code",
   "execution_count": null,
   "metadata": {
    "ExecuteTime": {
     "end_time": "2021-05-26T19:35:35.311144Z",
     "start_time": "2021-05-26T19:35:35.301135Z"
    },
    "hidden": true,
    "id": "LAp5M36LIWPM"
   },
   "outputs": [],
   "source": [
    "#Creating the encoding dictionary for department\n",
    "department_encoder = dict(X_train['department'].value_counts(normalize=True))\n",
    "department_encoder"
   ]
  },
  {
   "cell_type": "code",
   "execution_count": null,
   "metadata": {
    "ExecuteTime": {
     "end_time": "2021-05-26T19:35:38.059949Z",
     "start_time": "2021-05-26T19:35:38.046969Z"
    },
    "hidden": true,
    "id": "4BK5Xe1WIWPM"
   },
   "outputs": [],
   "source": [
    "#Mapping the department encoder to all the three sets\n",
    "X_train['department'] = X_train['department'].map(department_encoder)\n",
    "X_validation['department'] = X_validation['department'].map(department_encoder)\n",
    "X_test['department'] = X_test['department'].map(department_encoder)"
   ]
  },
  {
   "cell_type": "markdown",
   "metadata": {
    "ExecuteTime": {
     "end_time": "2021-05-26T19:15:16.827602Z",
     "start_time": "2021-05-26T19:15:16.804663Z"
    },
    "hidden": true,
    "id": "KGbvMC13IWPM"
   },
   "source": [
    "### Region"
   ]
  },
  {
   "cell_type": "code",
   "execution_count": null,
   "metadata": {
    "ExecuteTime": {
     "end_time": "2021-05-26T19:35:41.326372Z",
     "start_time": "2021-05-26T19:35:41.314904Z"
    },
    "hidden": true,
    "id": "hhXvvkF7IWPM"
   },
   "outputs": [],
   "source": [
    "#Observing Region\n",
    "print(X_train['region'].nunique())\n",
    "print(X_train['region'].value_counts(normalize = True).nunique())"
   ]
  },
  {
   "cell_type": "markdown",
   "metadata": {
    "hidden": true,
    "id": "KLDNecRnIWPM"
   },
   "source": [
    "All values are unique in value counts. So here also, we will perform frequency encoding for Region categorical variable"
   ]
  },
  {
   "cell_type": "code",
   "execution_count": null,
   "metadata": {
    "ExecuteTime": {
     "end_time": "2021-05-27T04:47:38.932453Z",
     "start_time": "2021-05-27T04:47:38.870318Z"
    },
    "hidden": true,
    "id": "zRquUnFGIWPM"
   },
   "outputs": [],
   "source": [
    "#Creating the encoding dictionary for region\n",
    "region_encoder = dict(X_train['region'].value_counts(normalize=True))\n",
    "region_encoder"
   ]
  },
  {
   "cell_type": "code",
   "execution_count": null,
   "metadata": {
    "ExecuteTime": {
     "end_time": "2021-05-26T19:35:47.298389Z",
     "start_time": "2021-05-26T19:35:47.287354Z"
    },
    "hidden": true,
    "id": "suG2wEaaIWPN"
   },
   "outputs": [],
   "source": [
    "#Mapping the region encoder to all the three sets\n",
    "X_train['region'] = X_train['region'].map(region_encoder)\n",
    "X_validation['region'] = X_validation['region'].map(region_encoder)\n",
    "X_test['region'] = X_test['region'].map(region_encoder)"
   ]
  },
  {
   "cell_type": "markdown",
   "metadata": {
    "hidden": true,
    "id": "bDAGMYJ-IWPN"
   },
   "source": [
    "### Education"
   ]
  },
  {
   "cell_type": "code",
   "execution_count": null,
   "metadata": {
    "ExecuteTime": {
     "end_time": "2021-05-26T19:35:51.132074Z",
     "start_time": "2021-05-26T19:35:51.122064Z"
    },
    "hidden": true,
    "id": "GENkTB2aIWPN"
   },
   "outputs": [],
   "source": [
    "#Observing Education\n",
    "X_train['education'].value_counts()"
   ]
  },
  {
   "cell_type": "markdown",
   "metadata": {
    "hidden": true,
    "id": "c5zfQyLUIWPN"
   },
   "source": [
    "Education has ordinal values. So we will make a custom encoder"
   ]
  },
  {
   "cell_type": "code",
   "execution_count": null,
   "metadata": {
    "ExecuteTime": {
     "end_time": "2021-05-26T19:35:53.290130Z",
     "start_time": "2021-05-26T19:35:53.284601Z"
    },
    "hidden": true,
    "id": "v77WtS3GIWPN"
   },
   "outputs": [],
   "source": [
    "#Creating the encoding dictionary for education\n",
    "education_encoder = {'Not Defined': 0,\n",
    "                    'Below Secondary': 1,\n",
    "                    \"Bachelor's\": 2,\n",
    "                    \"Master's & above\": 3}\n",
    "education_encoder"
   ]
  },
  {
   "cell_type": "code",
   "execution_count": null,
   "metadata": {
    "ExecuteTime": {
     "end_time": "2021-05-26T19:36:18.611936Z",
     "start_time": "2021-05-26T19:36:18.598659Z"
    },
    "hidden": true,
    "id": "GZViUEXHIWPO"
   },
   "outputs": [],
   "source": [
    "#Mapping the education encoder to all the three sets\n",
    "X_train['education'] = X_train['education'].map(education_encoder)\n",
    "X_validation['education'] = X_validation['education'].map(education_encoder)\n",
    "X_test['education'] = X_test['education'].map(education_encoder)"
   ]
  },
  {
   "cell_type": "markdown",
   "metadata": {
    "hidden": true,
    "id": "TuFPfd5SIWPO"
   },
   "source": [
    "### Gender"
   ]
  },
  {
   "cell_type": "code",
   "execution_count": null,
   "metadata": {
    "ExecuteTime": {
     "end_time": "2021-05-26T19:48:23.500825Z",
     "start_time": "2021-05-26T19:48:23.490853Z"
    },
    "hidden": true,
    "id": "YIUO89dsIWPO"
   },
   "outputs": [],
   "source": [
    "#Observing Gender\n",
    "X_train['gender'].value_counts()"
   ]
  },
  {
   "cell_type": "markdown",
   "metadata": {
    "hidden": true,
    "id": "59GyqxW9IWPO"
   },
   "source": [
    "Gender has two categories. So, we will encode gender with labelencoder."
   ]
  },
  {
   "cell_type": "code",
   "execution_count": null,
   "metadata": {
    "ExecuteTime": {
     "end_time": "2021-05-26T19:54:48.962315Z",
     "start_time": "2021-05-26T19:54:48.941476Z"
    },
    "hidden": true,
    "id": "sLXh9OBtIWPO"
   },
   "outputs": [],
   "source": [
    "#Creating Encoder for gender (Label Encoder)\n",
    "from sklearn.preprocessing import LabelEncoder\n",
    "gender_encoder = LabelEncoder()\n",
    "gender_encoder.fit(X_train['gender'])"
   ]
  },
  {
   "cell_type": "code",
   "execution_count": null,
   "metadata": {
    "ExecuteTime": {
     "end_time": "2021-05-26T19:57:13.088972Z",
     "start_time": "2021-05-26T19:57:13.074501Z"
    },
    "hidden": true,
    "id": "S5E7v_fDIWPO"
   },
   "outputs": [],
   "source": [
    "#Transforming the gender with label encoder\n",
    "X_train['gender'] = gender_encoder.transform(X_train['gender'])\n",
    "X_validation['gender'] = gender_encoder.transform(X_validation['gender'])\n",
    "X_test['gender'] = gender_encoder.transform(X_test['gender'])"
   ]
  },
  {
   "cell_type": "markdown",
   "metadata": {
    "hidden": true,
    "id": "pygqBBSdIWPP"
   },
   "source": [
    "### Recruitment Channel"
   ]
  },
  {
   "cell_type": "code",
   "execution_count": null,
   "metadata": {
    "ExecuteTime": {
     "end_time": "2021-05-26T20:02:53.210800Z",
     "start_time": "2021-05-26T20:02:53.199829Z"
    },
    "hidden": true,
    "id": "vKooWctLIWPP"
   },
   "outputs": [],
   "source": [
    "#Observing Recruitment Channel\n",
    "X_train['recruitment_channel'].value_counts()"
   ]
  },
  {
   "cell_type": "markdown",
   "metadata": {
    "hidden": true,
    "id": "U7clqbdnIWPP"
   },
   "source": [
    "All values are unique in value counts. So we will perform frequency encoding for recruitment channel categorical variable."
   ]
  },
  {
   "cell_type": "code",
   "execution_count": null,
   "metadata": {
    "ExecuteTime": {
     "end_time": "2021-05-26T20:05:04.914537Z",
     "start_time": "2021-05-26T20:05:04.904564Z"
    },
    "hidden": true,
    "id": "QBDls9xMIWPP"
   },
   "outputs": [],
   "source": [
    "#Creating the encoding dictionary for recruitment channel\n",
    "rc_encoder = dict(X_train['recruitment_channel'].value_counts(normalize=True))\n",
    "rc_encoder"
   ]
  },
  {
   "cell_type": "code",
   "execution_count": null,
   "metadata": {
    "ExecuteTime": {
     "end_time": "2021-05-26T20:06:18.762828Z",
     "start_time": "2021-05-26T20:06:18.752155Z"
    },
    "hidden": true,
    "id": "_-oXVUcyIWPP"
   },
   "outputs": [],
   "source": [
    "#Mapping the recruitment channel encoder to all the three sets\n",
    "X_train['recruitment_channel'] = X_train['recruitment_channel'].map(rc_encoder)\n",
    "X_validation['recruitment_channel'] = X_validation['recruitment_channel'].map(rc_encoder)\n",
    "X_test['recruitment_channel'] = X_test['recruitment_channel'].map(rc_encoder)"
   ]
  },
  {
   "cell_type": "markdown",
   "metadata": {
    "heading_collapsed": true,
    "id": "uZjkSUmaIWPP"
   },
   "source": [
    "## **FEATURE SELECTION**"
   ]
  },
  {
   "cell_type": "markdown",
   "metadata": {
    "heading_collapsed": true,
    "hidden": true,
    "id": "0YKF2EH8IWPQ"
   },
   "source": [
    "### pre"
   ]
  },
  {
   "cell_type": "code",
   "execution_count": 14,
   "metadata": {
    "ExecuteTime": {
     "end_time": "2021-05-29T13:05:10.792121Z",
     "start_time": "2021-05-29T13:05:04.105674Z"
    },
    "colab": {
     "base_uri": "https://localhost:8080/"
    },
    "hidden": true,
    "id": "tR1Pdz5dIWPQ",
    "outputId": "891d316f-0049-4a04-ed65-7b028c97285c"
   },
   "outputs": [
    {
     "name": "stdout",
     "output_type": "stream",
     "text": [
      "(39461, 13) (39461, 1)\n",
      "(9209, 13) (9209, 1)\n",
      "(6138, 13) (6138, 1)\n"
     ]
    }
   ],
   "source": [
    "#Importing Libraries\n",
    "import numpy as np\n",
    "import pandas as pd\n",
    "import seaborn as sns\n",
    "import matplotlib.pyplot as plt\n",
    "import warnings\n",
    "warnings.filterwarnings(\"ignore\")\n",
    "#Importing Dataset\n",
    "dataset = pd.read_csv('train.csv')\n",
    "df = dataset.copy()\n",
    "#Handling nulls in education (filling it with 'Not Defined')\n",
    "dataset['education'].fillna(value = 'Not Defined', inplace=True)\n",
    "#Null imputation in previous_year_rating\n",
    "dataset.fillna(value=0, inplace = True)\n",
    "from sklearn.model_selection import train_test_split\n",
    "X = dataset.iloc[:, :-1] #X is the featureset. Dataframe excluding Target Variable (is_promoted)\n",
    "y = dataset.iloc[:, -1:] #y is the target variable (is_promoted)\n",
    "#Splitting the dataframe into training and test sets\n",
    "X_train, X_test, y_train, y_test = train_test_split(X, y, train_size = 0.72, random_state = 42)\n",
    "#Further splitting the test set into validation and testing sets\n",
    "X_validation, X_test, y_validation, y_test = train_test_split(X_test, y_test, train_size = 0.4, random_state = 42)\n",
    "#Observing Shapes of the splitted dataframes\n",
    "print(X_train.shape, y_train.shape)\n",
    "print(X_test.shape, y_test.shape)\n",
    "print(X_validation.shape, y_validation.shape)\n",
    "#Dropping employee_id because all unique values\n",
    "X_train = X_train.iloc[:, 1:]\n",
    "X_validation = X_validation.iloc[:, 1:]\n",
    "X_test = X_test.iloc[:, 1:]\n",
    "#Creating the encoding dictionary for department\n",
    "department_encoder = dict(X_train['department'].value_counts(normalize=True))\n",
    "department_encoder\n",
    "#Mapping the department encoder to all the three sets\n",
    "X_train['department'] = X_train['department'].map(department_encoder)\n",
    "X_validation['department'] = X_validation['department'].map(department_encoder)\n",
    "X_test['department'] = X_test['department'].map(department_encoder)\n",
    "#Creating the encoding dictionary for region\n",
    "region_encoder = dict(X_train['region'].value_counts(normalize=True))\n",
    "region_encoder\n",
    "#Mapping the region encoder to all the three sets\n",
    "X_train['region'] = X_train['region'].map(region_encoder)\n",
    "X_validation['region'] = X_validation['region'].map(region_encoder)\n",
    "X_test['region'] = X_test['region'].map(region_encoder)\n",
    "#Creating the encoding dictionary for education\n",
    "education_encoder = {'Not Defined': 0,\n",
    "                    'Below Secondary': 1,\n",
    "                    \"Bachelor's\": 2,\n",
    "                    \"Master's & above\": 3}\n",
    "education_encoder\n",
    "#Mapping the education encoder to all the three sets\n",
    "X_train['education'] = X_train['education'].map(education_encoder)\n",
    "X_validation['education'] = X_validation['education'].map(education_encoder)\n",
    "X_test['education'] = X_test['education'].map(education_encoder)\n",
    "#Creating Encoder for gender (Label Encoder)\n",
    "from sklearn.preprocessing import LabelEncoder\n",
    "gender_encoder = LabelEncoder()\n",
    "gender_encoder.fit(X_train['gender'])\n",
    "#Transforming the gender with label encoder\n",
    "X_train['gender'] = gender_encoder.transform(X_train['gender'])\n",
    "X_validation['gender'] = gender_encoder.transform(X_validation['gender'])\n",
    "X_test['gender'] = gender_encoder.transform(X_test['gender'])\n",
    "#Creating the encoding dictionary for recruitment channel\n",
    "rc_encoder = dict(X_train['recruitment_channel'].value_counts(normalize=True))\n",
    "rc_encoder\n",
    "#Mapping the recruitment channel encoder to all the three sets\n",
    "X_train['recruitment_channel'] = X_train['recruitment_channel'].map(rc_encoder)\n",
    "X_validation['recruitment_channel'] = X_validation['recruitment_channel'].map(rc_encoder)\n",
    "X_test['recruitment_channel'] = X_test['recruitment_channel'].map(rc_encoder)"
   ]
  },
  {
   "cell_type": "markdown",
   "metadata": {
    "hidden": true,
    "id": "VVypu8R1IWPQ"
   },
   "source": [
    "### Wrapper Methods"
   ]
  },
  {
   "cell_type": "markdown",
   "metadata": {
    "hidden": true,
    "id": "urossnG-IWPQ"
   },
   "source": [
    "The model which we will use for feature selection is **Random Forest Classifier**"
   ]
  },
  {
   "cell_type": "code",
   "execution_count": null,
   "metadata": {
    "ExecuteTime": {
     "end_time": "2021-05-27T07:42:27.490585Z",
     "start_time": "2021-05-27T07:42:26.834824Z"
    },
    "hidden": true,
    "id": "aNKblfVwIWPQ"
   },
   "outputs": [],
   "source": [
    "#Importing necessary Libraries\n",
    "from sklearn.ensemble import RandomForestClassifier\n",
    "from sklearn.metrics import roc_auc_score\n",
    "from mlxtend.feature_selection import SequentialFeatureSelector"
   ]
  },
  {
   "cell_type": "markdown",
   "metadata": {
    "hidden": true,
    "id": "e6ehegxxIWPR"
   },
   "source": [
    "#### Step Forward Feature Selection"
   ]
  },
  {
   "cell_type": "code",
   "execution_count": null,
   "metadata": {
    "ExecuteTime": {
     "end_time": "2021-05-27T07:43:00.182666Z",
     "start_time": "2021-05-27T07:43:00.177680Z"
    },
    "hidden": true,
    "id": "kLr_6dXMIWPR"
   },
   "outputs": [],
   "source": [
    "#Initialising step forward feature selector\n",
    "sfs_feature_selector = SequentialFeatureSelector(RandomForestClassifier(n_jobs=-1, random_state=42),\n",
    "           forward=True,\n",
    "           verbose=2,\n",
    "           scoring='roc_auc',\n",
    "           cv=4,\n",
    "           k_features = 12)"
   ]
  },
  {
   "cell_type": "code",
   "execution_count": null,
   "metadata": {
    "ExecuteTime": {
     "end_time": "2021-05-27T07:46:35.902078Z",
     "start_time": "2021-05-27T07:43:20.320833Z"
    },
    "hidden": true,
    "id": "aJon3yXmIWPR",
    "scrolled": false
   },
   "outputs": [],
   "source": [
    "#Fitting the feature selector and observing features\n",
    "features_sfs = sfs_feature_selector.fit(X_train, y_train)\n",
    "pd.DataFrame.from_dict(features_sfs.get_metric_dict()).T"
   ]
  },
  {
   "cell_type": "markdown",
   "metadata": {
    "hidden": true,
    "id": "khcyOYibIWPR"
   },
   "source": [
    "Sfs feature selection suggests **[department, KPI's met, awards won, avg training score]** as features."
   ]
  },
  {
   "cell_type": "code",
   "execution_count": 15,
   "metadata": {
    "ExecuteTime": {
     "end_time": "2021-05-29T13:07:24.573326Z",
     "start_time": "2021-05-29T13:07:24.553139Z"
    },
    "hidden": true,
    "id": "nEzcHJjAIWPR"
   },
   "outputs": [],
   "source": [
    "X_train_W = X_train.drop(X_train.columns.difference(['department', 'KPIs_met >80%', 'awards_won?', 'avg_training_score']), 1)\n",
    "X_validation_W = X_validation.drop(X_validation.columns.difference(['department', 'KPIs_met >80%', 'awards_won?', 'avg_training_score']), 1)\n",
    "X_test_W = X_test.drop(X_test.columns.difference(['department', 'KPIs_met >80%', 'awards_won?', 'avg_training_score']), 1)"
   ]
  },
  {
   "cell_type": "code",
   "execution_count": null,
   "metadata": {
    "ExecuteTime": {
     "end_time": "2021-05-29T13:07:38.682750Z",
     "start_time": "2021-05-29T13:07:38.666792Z"
    },
    "collapsed": true,
    "hidden": true,
    "id": "J1CcoyHoIWPS"
   },
   "outputs": [],
   "source": [
    "X_train_W"
   ]
  },
  {
   "cell_type": "markdown",
   "metadata": {
    "heading_collapsed": true,
    "hidden": true,
    "id": "n4o6sj6GIWPS"
   },
   "source": [
    "#### Step Backwards Feature Selection"
   ]
  },
  {
   "cell_type": "code",
   "execution_count": null,
   "metadata": {
    "ExecuteTime": {
     "end_time": "2021-05-27T07:48:21.482606Z",
     "start_time": "2021-05-27T07:48:21.466649Z"
    },
    "hidden": true,
    "id": "-0V8z-yMIWPS"
   },
   "outputs": [],
   "source": [
    "#Initialising Step Backwards feature selector\n",
    "sbs_feature_selector = SequentialFeatureSelector(RandomForestClassifier(n_jobs=-1, random_state=42),\n",
    "           forward=False,\n",
    "           verbose=2,\n",
    "           scoring='roc_auc',\n",
    "           cv=4)"
   ]
  },
  {
   "cell_type": "code",
   "execution_count": null,
   "metadata": {
    "ExecuteTime": {
     "end_time": "2021-05-27T07:52:58.877184Z",
     "start_time": "2021-05-27T07:48:22.806979Z"
    },
    "collapsed": true,
    "hidden": true,
    "id": "5aJOPxF6IWPS",
    "outputId": "aed61a7c-3273-4a73-f94d-da09662df565"
   },
   "outputs": [
    {
     "name": "stderr",
     "output_type": "stream",
     "text": [
      "[Parallel(n_jobs=1)]: Using backend SequentialBackend with 1 concurrent workers.\n",
      "[Parallel(n_jobs=1)]: Done   1 out of   1 | elapsed:    3.7s remaining:    0.0s\n",
      "[Parallel(n_jobs=1)]: Done  12 out of  12 | elapsed:   47.2s finished\n",
      "\n",
      "[2021-05-27 13:19:13] Features: 11/1 -- score: 0.8816362924557256[Parallel(n_jobs=1)]: Using backend SequentialBackend with 1 concurrent workers.\n",
      "[Parallel(n_jobs=1)]: Done   1 out of   1 | elapsed:    4.1s remaining:    0.0s\n",
      "[Parallel(n_jobs=1)]: Done  11 out of  11 | elapsed:   45.0s finished\n",
      "\n",
      "[2021-05-27 13:19:58] Features: 10/1 -- score: 0.8824805387547944[Parallel(n_jobs=1)]: Using backend SequentialBackend with 1 concurrent workers.\n",
      "[Parallel(n_jobs=1)]: Done   1 out of   1 | elapsed:    3.9s remaining:    0.0s\n",
      "[Parallel(n_jobs=1)]: Done  10 out of  10 | elapsed:   41.1s finished\n",
      "\n",
      "[2021-05-27 13:20:40] Features: 9/1 -- score: 0.8802791838489076[Parallel(n_jobs=1)]: Using backend SequentialBackend with 1 concurrent workers.\n",
      "[Parallel(n_jobs=1)]: Done   1 out of   1 | elapsed:    3.5s remaining:    0.0s\n",
      "[Parallel(n_jobs=1)]: Done   9 out of   9 | elapsed:   34.6s finished\n",
      "\n",
      "[2021-05-27 13:21:14] Features: 8/1 -- score: 0.8736761704058015[Parallel(n_jobs=1)]: Using backend SequentialBackend with 1 concurrent workers.\n",
      "[Parallel(n_jobs=1)]: Done   1 out of   1 | elapsed:    4.1s remaining:    0.0s\n",
      "[Parallel(n_jobs=1)]: Done   8 out of   8 | elapsed:   29.5s finished\n",
      "\n",
      "[2021-05-27 13:21:44] Features: 7/1 -- score: 0.8696394153004454[Parallel(n_jobs=1)]: Using backend SequentialBackend with 1 concurrent workers.\n",
      "[Parallel(n_jobs=1)]: Done   1 out of   1 | elapsed:    3.4s remaining:    0.0s\n",
      "[Parallel(n_jobs=1)]: Done   7 out of   7 | elapsed:   24.2s finished\n",
      "\n",
      "[2021-05-27 13:22:08] Features: 6/1 -- score: 0.8615773276533517[Parallel(n_jobs=1)]: Using backend SequentialBackend with 1 concurrent workers.\n",
      "[Parallel(n_jobs=1)]: Done   1 out of   1 | elapsed:    3.1s remaining:    0.0s\n",
      "[Parallel(n_jobs=1)]: Done   6 out of   6 | elapsed:   19.2s finished\n",
      "\n",
      "[2021-05-27 13:22:27] Features: 5/1 -- score: 0.8450044608912775[Parallel(n_jobs=1)]: Using backend SequentialBackend with 1 concurrent workers.\n",
      "[Parallel(n_jobs=1)]: Done   1 out of   1 | elapsed:    2.7s remaining:    0.0s\n",
      "[Parallel(n_jobs=1)]: Done   5 out of   5 | elapsed:   14.7s finished\n",
      "\n",
      "[2021-05-27 13:22:42] Features: 4/1 -- score: 0.8475060718406667[Parallel(n_jobs=1)]: Using backend SequentialBackend with 1 concurrent workers.\n",
      "[Parallel(n_jobs=1)]: Done   1 out of   1 | elapsed:    2.3s remaining:    0.0s\n",
      "[Parallel(n_jobs=1)]: Done   4 out of   4 | elapsed:    8.5s finished\n",
      "\n",
      "[2021-05-27 13:22:51] Features: 3/1 -- score: 0.8811163554900006[Parallel(n_jobs=1)]: Using backend SequentialBackend with 1 concurrent workers.\n",
      "[Parallel(n_jobs=1)]: Done   1 out of   1 | elapsed:    1.3s remaining:    0.0s\n",
      "[Parallel(n_jobs=1)]: Done   3 out of   3 | elapsed:    4.7s finished\n",
      "\n",
      "[2021-05-27 13:22:56] Features: 2/1 -- score: 0.7836430181943014[Parallel(n_jobs=1)]: Using backend SequentialBackend with 1 concurrent workers.\n",
      "[Parallel(n_jobs=1)]: Done   1 out of   1 | elapsed:    1.1s remaining:    0.0s\n",
      "[Parallel(n_jobs=1)]: Done   2 out of   2 | elapsed:    2.6s finished\n",
      "\n",
      "[2021-05-27 13:22:58] Features: 1/1 -- score: 0.6861374169578304"
     ]
    },
    {
     "data": {
      "text/html": [
       "<div>\n",
       "<style scoped>\n",
       "    .dataframe tbody tr th:only-of-type {\n",
       "        vertical-align: middle;\n",
       "    }\n",
       "\n",
       "    .dataframe tbody tr th {\n",
       "        vertical-align: top;\n",
       "    }\n",
       "\n",
       "    .dataframe thead th {\n",
       "        text-align: right;\n",
       "    }\n",
       "</style>\n",
       "<table border=\"1\" class=\"dataframe\">\n",
       "  <thead>\n",
       "    <tr style=\"text-align: right;\">\n",
       "      <th></th>\n",
       "      <th>feature_idx</th>\n",
       "      <th>cv_scores</th>\n",
       "      <th>avg_score</th>\n",
       "      <th>feature_names</th>\n",
       "      <th>ci_bound</th>\n",
       "      <th>std_dev</th>\n",
       "      <th>std_err</th>\n",
       "    </tr>\n",
       "  </thead>\n",
       "  <tbody>\n",
       "    <tr>\n",
       "      <th>12</th>\n",
       "      <td>(0, 1, 2, 3, 4, 5, 6, 7, 8, 9, 10, 11)</td>\n",
       "      <td>[0.8830839630055792, 0.881480467406867, 0.8851...</td>\n",
       "      <td>0.880882</td>\n",
       "      <td>(department, region, education, gender, recrui...</td>\n",
       "      <td>0.006817</td>\n",
       "      <td>0.0042527</td>\n",
       "      <td>0.0024553</td>\n",
       "    </tr>\n",
       "    <tr>\n",
       "      <th>11</th>\n",
       "      <td>(0, 1, 3, 4, 5, 6, 7, 8, 9, 10, 11)</td>\n",
       "      <td>[0.8806134282919965, 0.8866500532656287, 0.885...</td>\n",
       "      <td>0.881636</td>\n",
       "      <td>(department, region, gender, recruitment_chann...</td>\n",
       "      <td>0.00850687</td>\n",
       "      <td>0.0053069</td>\n",
       "      <td>0.00306394</td>\n",
       "    </tr>\n",
       "    <tr>\n",
       "      <th>10</th>\n",
       "      <td>(0, 1, 3, 5, 6, 7, 8, 9, 10, 11)</td>\n",
       "      <td>[0.8874787215884938, 0.8854666180834926, 0.882...</td>\n",
       "      <td>0.882481</td>\n",
       "      <td>(department, region, gender, no_of_trainings, ...</td>\n",
       "      <td>0.0078209</td>\n",
       "      <td>0.00487897</td>\n",
       "      <td>0.00281688</td>\n",
       "    </tr>\n",
       "    <tr>\n",
       "      <th>9</th>\n",
       "      <td>(0, 1, 3, 6, 7, 8, 9, 10, 11)</td>\n",
       "      <td>[0.8823377665114956, 0.8859441115035827, 0.879...</td>\n",
       "      <td>0.880279</td>\n",
       "      <td>(department, region, gender, age, previous_yea...</td>\n",
       "      <td>0.00751522</td>\n",
       "      <td>0.00468827</td>\n",
       "      <td>0.00270678</td>\n",
       "    </tr>\n",
       "    <tr>\n",
       "      <th>8</th>\n",
       "      <td>(0, 1, 3, 6, 7, 8, 9, 11)</td>\n",
       "      <td>[0.8759528477539797, 0.8781015630908566, 0.872...</td>\n",
       "      <td>0.873676</td>\n",
       "      <td>(department, region, gender, age, previous_yea...</td>\n",
       "      <td>0.00613987</td>\n",
       "      <td>0.00383028</td>\n",
       "      <td>0.00221141</td>\n",
       "    </tr>\n",
       "    <tr>\n",
       "      <th>7</th>\n",
       "      <td>(0, 1, 6, 7, 8, 9, 11)</td>\n",
       "      <td>[0.8719759020975661, 0.8733549575239422, 0.871...</td>\n",
       "      <td>0.869639</td>\n",
       "      <td>(department, region, age, previous_year_rating...</td>\n",
       "      <td>0.00703486</td>\n",
       "      <td>0.00438861</td>\n",
       "      <td>0.00253376</td>\n",
       "    </tr>\n",
       "    <tr>\n",
       "      <th>6</th>\n",
       "      <td>(0, 1, 6, 7, 9, 11)</td>\n",
       "      <td>[0.8645502800021545, 0.8661894374738967, 0.862...</td>\n",
       "      <td>0.861577</td>\n",
       "      <td>(department, region, age, previous_year_rating...</td>\n",
       "      <td>0.00815591</td>\n",
       "      <td>0.00508796</td>\n",
       "      <td>0.00293754</td>\n",
       "    </tr>\n",
       "    <tr>\n",
       "      <th>5</th>\n",
       "      <td>(0, 1, 6, 9, 11)</td>\n",
       "      <td>[0.8490445401040054, 0.8555834178211017, 0.840...</td>\n",
       "      <td>0.845004</td>\n",
       "      <td>(department, region, age, KPIs_met &gt;80%, avg_t...</td>\n",
       "      <td>0.0126642</td>\n",
       "      <td>0.00790039</td>\n",
       "      <td>0.00456129</td>\n",
       "    </tr>\n",
       "    <tr>\n",
       "      <th>4</th>\n",
       "      <td>(0, 1, 9, 11)</td>\n",
       "      <td>[0.8518321012459755, 0.8399100163032589, 0.851...</td>\n",
       "      <td>0.847506</td>\n",
       "      <td>(department, region, KPIs_met &gt;80%, avg_traini...</td>\n",
       "      <td>0.00781355</td>\n",
       "      <td>0.00487439</td>\n",
       "      <td>0.00281423</td>\n",
       "    </tr>\n",
       "    <tr>\n",
       "      <th>3</th>\n",
       "      <td>(0, 9, 11)</td>\n",
       "      <td>[0.8887391044473908, 0.8802592173967962, 0.876...</td>\n",
       "      <td>0.881116</td>\n",
       "      <td>(department, KPIs_met &gt;80%, avg_training_score)</td>\n",
       "      <td>0.00732466</td>\n",
       "      <td>0.0045694</td>\n",
       "      <td>0.00263814</td>\n",
       "    </tr>\n",
       "    <tr>\n",
       "      <th>2</th>\n",
       "      <td>(9, 11)</td>\n",
       "      <td>[0.7851433043823631, 0.7854649807404274, 0.787...</td>\n",
       "      <td>0.783643</td>\n",
       "      <td>(KPIs_met &gt;80%, avg_training_score)</td>\n",
       "      <td>0.00640457</td>\n",
       "      <td>0.00399541</td>\n",
       "      <td>0.00230675</td>\n",
       "    </tr>\n",
       "    <tr>\n",
       "      <th>1</th>\n",
       "      <td>(9,)</td>\n",
       "      <td>[0.6794320911218971, 0.6871879464521244, 0.689...</td>\n",
       "      <td>0.686137</td>\n",
       "      <td>(KPIs_met &gt;80%,)</td>\n",
       "      <td>0.00637043</td>\n",
       "      <td>0.00397412</td>\n",
       "      <td>0.00229446</td>\n",
       "    </tr>\n",
       "  </tbody>\n",
       "</table>\n",
       "</div>"
      ],
      "text/plain": [
       "                               feature_idx  \\\n",
       "12  (0, 1, 2, 3, 4, 5, 6, 7, 8, 9, 10, 11)   \n",
       "11     (0, 1, 3, 4, 5, 6, 7, 8, 9, 10, 11)   \n",
       "10        (0, 1, 3, 5, 6, 7, 8, 9, 10, 11)   \n",
       "9            (0, 1, 3, 6, 7, 8, 9, 10, 11)   \n",
       "8                (0, 1, 3, 6, 7, 8, 9, 11)   \n",
       "7                   (0, 1, 6, 7, 8, 9, 11)   \n",
       "6                      (0, 1, 6, 7, 9, 11)   \n",
       "5                         (0, 1, 6, 9, 11)   \n",
       "4                            (0, 1, 9, 11)   \n",
       "3                               (0, 9, 11)   \n",
       "2                                  (9, 11)   \n",
       "1                                     (9,)   \n",
       "\n",
       "                                            cv_scores avg_score  \\\n",
       "12  [0.8830839630055792, 0.881480467406867, 0.8851...  0.880882   \n",
       "11  [0.8806134282919965, 0.8866500532656287, 0.885...  0.881636   \n",
       "10  [0.8874787215884938, 0.8854666180834926, 0.882...  0.882481   \n",
       "9   [0.8823377665114956, 0.8859441115035827, 0.879...  0.880279   \n",
       "8   [0.8759528477539797, 0.8781015630908566, 0.872...  0.873676   \n",
       "7   [0.8719759020975661, 0.8733549575239422, 0.871...  0.869639   \n",
       "6   [0.8645502800021545, 0.8661894374738967, 0.862...  0.861577   \n",
       "5   [0.8490445401040054, 0.8555834178211017, 0.840...  0.845004   \n",
       "4   [0.8518321012459755, 0.8399100163032589, 0.851...  0.847506   \n",
       "3   [0.8887391044473908, 0.8802592173967962, 0.876...  0.881116   \n",
       "2   [0.7851433043823631, 0.7854649807404274, 0.787...  0.783643   \n",
       "1   [0.6794320911218971, 0.6871879464521244, 0.689...  0.686137   \n",
       "\n",
       "                                        feature_names    ci_bound     std_dev  \\\n",
       "12  (department, region, education, gender, recrui...    0.006817   0.0042527   \n",
       "11  (department, region, gender, recruitment_chann...  0.00850687   0.0053069   \n",
       "10  (department, region, gender, no_of_trainings, ...   0.0078209  0.00487897   \n",
       "9   (department, region, gender, age, previous_yea...  0.00751522  0.00468827   \n",
       "8   (department, region, gender, age, previous_yea...  0.00613987  0.00383028   \n",
       "7   (department, region, age, previous_year_rating...  0.00703486  0.00438861   \n",
       "6   (department, region, age, previous_year_rating...  0.00815591  0.00508796   \n",
       "5   (department, region, age, KPIs_met >80%, avg_t...   0.0126642  0.00790039   \n",
       "4   (department, region, KPIs_met >80%, avg_traini...  0.00781355  0.00487439   \n",
       "3     (department, KPIs_met >80%, avg_training_score)  0.00732466   0.0045694   \n",
       "2                 (KPIs_met >80%, avg_training_score)  0.00640457  0.00399541   \n",
       "1                                    (KPIs_met >80%,)  0.00637043  0.00397412   \n",
       "\n",
       "       std_err  \n",
       "12   0.0024553  \n",
       "11  0.00306394  \n",
       "10  0.00281688  \n",
       "9   0.00270678  \n",
       "8   0.00221141  \n",
       "7   0.00253376  \n",
       "6   0.00293754  \n",
       "5   0.00456129  \n",
       "4   0.00281423  \n",
       "3   0.00263814  \n",
       "2   0.00230675  \n",
       "1   0.00229446  "
      ]
     },
     "execution_count": 6,
     "metadata": {
      "tags": []
     },
     "output_type": "execute_result"
    }
   ],
   "source": [
    "#Fitting the step backward feature selector\n",
    "features_sbs = sbs_feature_selector.fit(X_train, y_train)\n",
    "pd.DataFrame.from_dict(features_sbs.get_metric_dict()).T"
   ]
  },
  {
   "cell_type": "markdown",
   "metadata": {
    "hidden": true,
    "id": "4ITGW9pKIWPT"
   },
   "source": [
    "Sbs feature selection suggests we take 10 features. **[department, KPI's, avg training score]** are good features according to both sbs and sfs. "
   ]
  },
  {
   "cell_type": "markdown",
   "metadata": {
    "heading_collapsed": true,
    "hidden": true,
    "id": "8k_oRq-KIWPT"
   },
   "source": [
    "### Embedded Methods"
   ]
  },
  {
   "cell_type": "markdown",
   "metadata": {
    "hidden": true,
    "id": "wBukZRnJIWPT"
   },
   "source": [
    "#### Random Forest Feature Importance"
   ]
  },
  {
   "cell_type": "code",
   "execution_count": null,
   "metadata": {
    "ExecuteTime": {
     "end_time": "2021-05-27T08:21:40.417349Z",
     "start_time": "2021-05-27T08:21:34.906594Z"
    },
    "hidden": true,
    "id": "qT-nzsU3IWPT",
    "outputId": "c7378490-6eb2-4358-a43e-afdd3b80ec86"
   },
   "outputs": [
    {
     "name": "stderr",
     "output_type": "stream",
     "text": [
      "[Parallel(n_jobs=1)]: Using backend SequentialBackend with 1 concurrent workers.\n",
      "[Parallel(n_jobs=1)]: Done 200 out of 200 | elapsed:    5.0s finished\n"
     ]
    },
    {
     "data": {
      "image/png": "[encoded data removed]",
      "text/plain": [
       "<Figure size 432x288 with 1 Axes>"
      ]
     },
     "metadata": {
      "needs_background": "light",
      "tags": []
     },
     "output_type": "display_data"
    }
   ],
   "source": [
    "from sklearn.ensemble import RandomForestClassifier\n",
    "model = RandomForestClassifier(random_state = 42, verbose = 1, n_estimators=200, criterion='entropy', max_features=2)\n",
    "model.fit(X_train,y_train)\n",
    "feat_importances = pd.Series(model.feature_importances_, index=X_train.columns)\n",
    "feat_importances.nlargest(12).plot(kind='barh')\n",
    "plt.show()"
   ]
  },
  {
   "cell_type": "markdown",
   "metadata": {
    "hidden": true,
    "id": "b9DbSlKAIWPT"
   },
   "source": [
    "From the above plot, **[gender, education, no of trainings, recruitment channel, awards won]** aren't considered good features. Rest all are acceptable."
   ]
  },
  {
   "cell_type": "code",
   "execution_count": 16,
   "metadata": {
    "ExecuteTime": {
     "end_time": "2021-05-29T13:06:12.016054Z",
     "start_time": "2021-05-29T13:06:12.001054Z"
    },
    "hidden": true,
    "id": "YoUqQ1ZnIWPU"
   },
   "outputs": [],
   "source": [
    "#Creating a featureset based on these\n",
    "X_trainF = X_train.drop(columns=['gender', 'education', 'no_of_trainings', 'recruitment_channel', 'awards_won?'], axis=1)\n",
    "X_validationF = X_validation.drop(columns=['gender', 'education', 'no_of_trainings', 'recruitment_channel', 'awards_won?'], axis=1)\n",
    "X_testF = X_test.drop(columns=['gender', 'education', 'no_of_trainings', 'recruitment_channel', 'awards_won?'], axis=1)"
   ]
  },
  {
   "cell_type": "code",
   "execution_count": null,
   "metadata": {
    "ExecuteTime": {
     "end_time": "2021-05-29T04:40:47.567469Z",
     "start_time": "2021-05-29T04:40:47.537550Z"
    },
    "collapsed": true,
    "hidden": true,
    "id": "K4Qg0tiDIWPU"
   },
   "outputs": [],
   "source": [
    "X_trainF"
   ]
  },
  {
   "cell_type": "markdown",
   "metadata": {
    "heading_collapsed": true,
    "id": "yi8fhsbWIWPU"
   },
   "source": [
    "## **MODEL TRAINING**"
   ]
  },
  {
   "cell_type": "markdown",
   "metadata": {
    "heading_collapsed": true,
    "hidden": true,
    "id": "Fucw_uNrIWPU"
   },
   "source": [
    "### Importing Libraries"
   ]
  },
  {
   "cell_type": "code",
   "execution_count": 17,
   "metadata": {
    "ExecuteTime": {
     "end_time": "2021-05-29T13:40:54.993661Z",
     "start_time": "2021-05-29T13:40:54.245903Z"
    },
    "hidden": true,
    "id": "zdVS9jpNIWPU"
   },
   "outputs": [],
   "source": [
    "#Importing necessary Libraries\n",
    "from sklearn.linear_model import LogisticRegression\n",
    "from sklearn.svm import SVC\n",
    "from sklearn.neighbors import KNeighborsClassifier\n",
    "from sklearn.tree import DecisionTreeClassifier\n",
    "from sklearn.ensemble import RandomForestClassifier\n",
    "from xgboost import XGBClassifier\n",
    "from sklearn.metrics import classification_report, confusion_matrix"
   ]
  },
  {
   "cell_type": "markdown",
   "metadata": {
    "heading_collapsed": true,
    "hidden": true,
    "id": "zqEmh8a9IWPV"
   },
   "source": [
    "### **With WRAPPER method suggested features**"
   ]
  },
  {
   "cell_type": "markdown",
   "metadata": {
    "heading_collapsed": true,
    "hidden": true,
    "id": "kodkMKKBIWPV"
   },
   "source": [
    "#### Logistic Regression Classifier"
   ]
  },
  {
   "cell_type": "code",
   "execution_count": null,
   "metadata": {
    "ExecuteTime": {
     "end_time": "2021-05-29T05:28:30.278871Z",
     "start_time": "2021-05-29T05:28:30.120974Z"
    },
    "hidden": true,
    "id": "AFse4oqyIWPV",
    "outputId": "bc03eb44-99f3-4d60-816d-29d79305ce4b"
   },
   "outputs": [
    {
     "data": {
      "text/plain": [
       "LogisticRegression()"
      ]
     },
     "execution_count": 29,
     "metadata": {
      "tags": []
     },
     "output_type": "execute_result"
    }
   ],
   "source": [
    "#Fitting Logistic Regression in training Set\n",
    "classifier = LogisticRegression()\n",
    "classifier.fit(X_train_W, y_train)"
   ]
  },
  {
   "cell_type": "code",
   "execution_count": null,
   "metadata": {
    "ExecuteTime": {
     "end_time": "2021-05-29T05:28:30.505249Z",
     "start_time": "2021-05-29T05:28:30.498267Z"
    },
    "hidden": true,
    "id": "g7GigKtCIWPV"
   },
   "outputs": [],
   "source": [
    "#Predicting Test Set Results\n",
    "y_pred = classifier.predict(X_test_W)"
   ]
  },
  {
   "cell_type": "code",
   "execution_count": null,
   "metadata": {
    "ExecuteTime": {
     "end_time": "2021-05-29T05:28:30.894239Z",
     "start_time": "2021-05-29T05:28:30.865283Z"
    },
    "hidden": true,
    "id": "dhT5S15jIWPV",
    "outputId": "93813cb5-eb06-483b-eaf2-f4d7aa2077ff"
   },
   "outputs": [
    {
     "name": "stdout",
     "output_type": "stream",
     "text": [
      "[[8433   30]\n",
      " [ 665   81]]\n",
      "              precision    recall  f1-score   support\n",
      "\n",
      "           0       0.93      1.00      0.96      8463\n",
      "           1       0.73      0.11      0.19       746\n",
      "\n",
      "    accuracy                           0.92      9209\n",
      "   macro avg       0.83      0.55      0.57      9209\n",
      "weighted avg       0.91      0.92      0.90      9209\n",
      "\n"
     ]
    }
   ],
   "source": [
    "#Checking Accuracies\n",
    "print(confusion_matrix(y_test, y_pred))\n",
    "print(classification_report(y_test, y_pred))"
   ]
  },
  {
   "cell_type": "markdown",
   "metadata": {
    "heading_collapsed": true,
    "hidden": true,
    "id": "WtLoJ9zjIWPW"
   },
   "source": [
    "#### KNN Classifier"
   ]
  },
  {
   "cell_type": "code",
   "execution_count": null,
   "metadata": {
    "ExecuteTime": {
     "end_time": "2021-05-29T05:28:38.775578Z",
     "start_time": "2021-05-29T05:28:38.663043Z"
    },
    "hidden": true,
    "id": "jkaDyjAuIWPW",
    "outputId": "7f7182e8-e4c4-4da8-82f8-4ae57e2de7a4"
   },
   "outputs": [
    {
     "data": {
      "text/plain": [
       "KNeighborsClassifier()"
      ]
     },
     "execution_count": 32,
     "metadata": {
      "tags": []
     },
     "output_type": "execute_result"
    }
   ],
   "source": [
    "#Fitting KNN to the training Set\n",
    "classifier = KNeighborsClassifier()\n",
    "classifier.fit(X_train_W, y_train)"
   ]
  },
  {
   "cell_type": "code",
   "execution_count": null,
   "metadata": {
    "ExecuteTime": {
     "end_time": "2021-05-29T05:28:39.409037Z",
     "start_time": "2021-05-29T05:28:38.957057Z"
    },
    "hidden": true,
    "id": "dS_H2OCdIWPW"
   },
   "outputs": [],
   "source": [
    "#Predicting Test Set Results\n",
    "y_pred = classifier.predict(X_test_W)"
   ]
  },
  {
   "cell_type": "code",
   "execution_count": null,
   "metadata": {
    "ExecuteTime": {
     "end_time": "2021-05-29T05:28:39.609442Z",
     "start_time": "2021-05-29T05:28:39.584200Z"
    },
    "hidden": true,
    "id": "foVaQD1iIWPW",
    "outputId": "224b113c-06b7-44b1-9afc-ab04cb76bbdd"
   },
   "outputs": [
    {
     "name": "stdout",
     "output_type": "stream",
     "text": [
      "[[8376   87]\n",
      " [ 487  259]]\n",
      "              precision    recall  f1-score   support\n",
      "\n",
      "           0       0.95      0.99      0.97      8463\n",
      "           1       0.75      0.35      0.47       746\n",
      "\n",
      "    accuracy                           0.94      9209\n",
      "   macro avg       0.85      0.67      0.72      9209\n",
      "weighted avg       0.93      0.94      0.93      9209\n",
      "\n"
     ]
    }
   ],
   "source": [
    "#Checking Accuracies\n",
    "print(confusion_matrix(y_test, y_pred))\n",
    "print(classification_report(y_test, y_pred))"
   ]
  },
  {
   "cell_type": "markdown",
   "metadata": {
    "heading_collapsed": true,
    "hidden": true,
    "id": "Ug9B0TA7IWPW"
   },
   "source": [
    "#### SVM Classifier"
   ]
  },
  {
   "cell_type": "markdown",
   "metadata": {
    "heading_collapsed": true,
    "hidden": true,
    "id": "JUg312-bIWPX"
   },
   "source": [
    "##### Linear Kernel"
   ]
  },
  {
   "cell_type": "code",
   "execution_count": null,
   "metadata": {
    "ExecuteTime": {
     "end_time": "2021-05-29T05:32:50.967404Z",
     "start_time": "2021-05-29T05:28:47.709121Z"
    },
    "hidden": true,
    "id": "IunmZ4BoIWPX",
    "outputId": "bd631173-9f51-44c4-caa6-88a3643be2a3"
   },
   "outputs": [
    {
     "data": {
      "text/plain": [
       "SVC(kernel='linear')"
      ]
     },
     "execution_count": 35,
     "metadata": {
      "tags": []
     },
     "output_type": "execute_result"
    }
   ],
   "source": [
    "# Fitting Linear Kernel SVM to the Training Set\n",
    "classifier = SVC(kernel = 'linear')\n",
    "classifier.fit(X_train_W, y_train)"
   ]
  },
  {
   "cell_type": "code",
   "execution_count": null,
   "metadata": {
    "ExecuteTime": {
     "end_time": "2021-05-29T05:32:51.574429Z",
     "start_time": "2021-05-29T05:32:51.171322Z"
    },
    "hidden": true,
    "id": "NHdKwfI1IWPX"
   },
   "outputs": [],
   "source": [
    "#Predicting Test Set Results\n",
    "y_pred = classifier.predict(X_test_W)"
   ]
  },
  {
   "cell_type": "code",
   "execution_count": null,
   "metadata": {
    "ExecuteTime": {
     "end_time": "2021-05-29T05:32:51.758263Z",
     "start_time": "2021-05-29T05:32:51.732803Z"
    },
    "hidden": true,
    "id": "UxgK6x5PIWPX",
    "outputId": "f5dc1f24-bb5d-46e2-92bb-5840653023eb"
   },
   "outputs": [
    {
     "name": "stdout",
     "output_type": "stream",
     "text": [
      "[[8463    0]\n",
      " [ 746    0]]\n",
      "              precision    recall  f1-score   support\n",
      "\n",
      "           0       0.92      1.00      0.96      8463\n",
      "           1       0.00      0.00      0.00       746\n",
      "\n",
      "    accuracy                           0.92      9209\n",
      "   macro avg       0.46      0.50      0.48      9209\n",
      "weighted avg       0.84      0.92      0.88      9209\n",
      "\n"
     ]
    }
   ],
   "source": [
    "#Checking Accuracies\n",
    "print(confusion_matrix(y_test, y_pred))\n",
    "print(classification_report(y_test, y_pred))"
   ]
  },
  {
   "cell_type": "markdown",
   "metadata": {
    "heading_collapsed": true,
    "hidden": true,
    "id": "FUIkT43SIWPX"
   },
   "source": [
    "##### Gaussian Kernel"
   ]
  },
  {
   "cell_type": "code",
   "execution_count": null,
   "metadata": {
    "ExecuteTime": {
     "end_time": "2021-05-29T05:33:04.435219Z",
     "start_time": "2021-05-29T05:32:51.932798Z"
    },
    "hidden": true,
    "id": "EjcJDMGGIWPY",
    "outputId": "fbe93b7a-b0f4-4c1c-d191-4f41e8fc7e6d"
   },
   "outputs": [
    {
     "data": {
      "text/plain": [
       "SVC()"
      ]
     },
     "execution_count": 38,
     "metadata": {
      "tags": []
     },
     "output_type": "execute_result"
    }
   ],
   "source": [
    "# Fitting Gaussian Kernel SVM to the Training Set\n",
    "classifier = SVC(kernel = 'rbf')\n",
    "classifier.fit(X_train_W, y_train)"
   ]
  },
  {
   "cell_type": "code",
   "execution_count": null,
   "metadata": {
    "ExecuteTime": {
     "end_time": "2021-05-29T05:33:05.646893Z",
     "start_time": "2021-05-29T05:33:04.641461Z"
    },
    "hidden": true,
    "id": "1EjLGB10IWPY"
   },
   "outputs": [],
   "source": [
    "#Predicting Test Set Results\n",
    "y_pred = classifier.predict(X_test_W)"
   ]
  },
  {
   "cell_type": "code",
   "execution_count": null,
   "metadata": {
    "ExecuteTime": {
     "end_time": "2021-05-29T05:33:05.917197Z",
     "start_time": "2021-05-29T05:33:05.893017Z"
    },
    "hidden": true,
    "id": "-aFZXZ3FIWPY",
    "outputId": "7a47069c-f301-4287-af89-54d42d2c655f"
   },
   "outputs": [
    {
     "name": "stdout",
     "output_type": "stream",
     "text": [
      "[[8463    0]\n",
      " [ 746    0]]\n",
      "              precision    recall  f1-score   support\n",
      "\n",
      "           0       0.92      1.00      0.96      8463\n",
      "           1       0.00      0.00      0.00       746\n",
      "\n",
      "    accuracy                           0.92      9209\n",
      "   macro avg       0.46      0.50      0.48      9209\n",
      "weighted avg       0.84      0.92      0.88      9209\n",
      "\n"
     ]
    }
   ],
   "source": [
    "#Checking Accuracies\n",
    "print(confusion_matrix(y_test, y_pred))\n",
    "print(classification_report(y_test, y_pred))"
   ]
  },
  {
   "cell_type": "markdown",
   "metadata": {
    "heading_collapsed": true,
    "hidden": true,
    "id": "VhVqS34YIWPY"
   },
   "source": [
    "##### Poly Kernel"
   ]
  },
  {
   "cell_type": "code",
   "execution_count": null,
   "metadata": {
    "ExecuteTime": {
     "end_time": "2021-05-29T05:33:31.377080Z",
     "start_time": "2021-05-29T05:33:06.073738Z"
    },
    "hidden": true,
    "id": "lx2h7zDAIWPZ",
    "outputId": "2114c23d-e9b6-4d3b-9f5c-c6571aaa6b37"
   },
   "outputs": [
    {
     "data": {
      "text/plain": [
       "SVC(kernel='poly')"
      ]
     },
     "execution_count": 41,
     "metadata": {
      "tags": []
     },
     "output_type": "execute_result"
    }
   ],
   "source": [
    "# Fitting Gaussian Kernel SVM to the Training Set\n",
    "classifier = SVC(kernel = 'poly')\n",
    "classifier.fit(X_train_W, y_train)"
   ]
  },
  {
   "cell_type": "code",
   "execution_count": null,
   "metadata": {
    "ExecuteTime": {
     "end_time": "2021-05-29T05:33:32.180118Z",
     "start_time": "2021-05-29T05:33:31.610760Z"
    },
    "hidden": true,
    "id": "c17GfWH_IWPZ"
   },
   "outputs": [],
   "source": [
    "#Predicting Test Set Results\n",
    "y_pred = classifier.predict(X_test_W)"
   ]
  },
  {
   "cell_type": "code",
   "execution_count": null,
   "metadata": {
    "ExecuteTime": {
     "end_time": "2021-05-29T05:33:32.382682Z",
     "start_time": "2021-05-29T05:33:32.357651Z"
    },
    "hidden": true,
    "id": "1st6lBxOIWPZ",
    "outputId": "fb7cb3f7-e670-4e94-dcc2-e71c305c7eeb"
   },
   "outputs": [
    {
     "name": "stdout",
     "output_type": "stream",
     "text": [
      "[[8463    0]\n",
      " [ 746    0]]\n",
      "              precision    recall  f1-score   support\n",
      "\n",
      "           0       0.92      1.00      0.96      8463\n",
      "           1       0.00      0.00      0.00       746\n",
      "\n",
      "    accuracy                           0.92      9209\n",
      "   macro avg       0.46      0.50      0.48      9209\n",
      "weighted avg       0.84      0.92      0.88      9209\n",
      "\n"
     ]
    }
   ],
   "source": [
    "#Checking Accuracies\n",
    "print(confusion_matrix(y_test, y_pred))\n",
    "print(classification_report(y_test, y_pred))"
   ]
  },
  {
   "cell_type": "markdown",
   "metadata": {
    "heading_collapsed": true,
    "hidden": true,
    "id": "4Ug4gZG1IWPZ"
   },
   "source": [
    "#### Decision Tree Classifier"
   ]
  },
  {
   "cell_type": "code",
   "execution_count": null,
   "metadata": {
    "ExecuteTime": {
     "end_time": "2021-05-29T05:34:11.612126Z",
     "start_time": "2021-05-29T05:34:11.583203Z"
    },
    "hidden": true,
    "id": "jRPsFImTIWPZ",
    "outputId": "8d2bf8a8-1931-4144-b482-4df2cb09b5d1"
   },
   "outputs": [
    {
     "data": {
      "text/plain": [
       "DecisionTreeClassifier()"
      ]
     },
     "execution_count": 44,
     "metadata": {
      "tags": []
     },
     "output_type": "execute_result"
    }
   ],
   "source": [
    "# Fitting Decision Tree Classifier to the Training Set\n",
    "classifier = DecisionTreeClassifier()\n",
    "classifier.fit(X_train_W, y_train)"
   ]
  },
  {
   "cell_type": "code",
   "execution_count": null,
   "metadata": {
    "ExecuteTime": {
     "end_time": "2021-05-29T05:34:11.989737Z",
     "start_time": "2021-05-29T05:34:11.980760Z"
    },
    "hidden": true,
    "id": "fKQ2r_rnIWPa"
   },
   "outputs": [],
   "source": [
    "# Predicting the Test Set Results\n",
    "y_pred = classifier.predict(X_test_W)"
   ]
  },
  {
   "cell_type": "code",
   "execution_count": null,
   "metadata": {
    "ExecuteTime": {
     "end_time": "2021-05-29T05:34:12.714658Z",
     "start_time": "2021-05-29T05:34:12.689139Z"
    },
    "hidden": true,
    "id": "zP2SaK0xIWPa",
    "outputId": "0e11974d-7ade-4749-fc32-d54a963848c0"
   },
   "outputs": [
    {
     "name": "stdout",
     "output_type": "stream",
     "text": [
      "[[8439   24]\n",
      " [ 493  253]]\n",
      "              precision    recall  f1-score   support\n",
      "\n",
      "           0       0.94      1.00      0.97      8463\n",
      "           1       0.91      0.34      0.49       746\n",
      "\n",
      "    accuracy                           0.94      9209\n",
      "   macro avg       0.93      0.67      0.73      9209\n",
      "weighted avg       0.94      0.94      0.93      9209\n",
      "\n"
     ]
    }
   ],
   "source": [
    "#Checking Accuracies\n",
    "print(confusion_matrix(y_test, y_pred))\n",
    "print(classification_report(y_test, y_pred))"
   ]
  },
  {
   "cell_type": "markdown",
   "metadata": {
    "heading_collapsed": true,
    "hidden": true,
    "id": "DMAfguNIIWPa"
   },
   "source": [
    "#### Random Forest Classifier"
   ]
  },
  {
   "cell_type": "code",
   "execution_count": null,
   "metadata": {
    "ExecuteTime": {
     "end_time": "2021-05-29T05:34:33.620447Z",
     "start_time": "2021-05-29T05:34:32.361477Z"
    },
    "hidden": true,
    "id": "Ztp-9pDzIWPa",
    "outputId": "ecaf1411-af9c-4d17-d725-12a2f61d3996"
   },
   "outputs": [
    {
     "data": {
      "text/plain": [
       "RandomForestClassifier(random_state=42)"
      ]
     },
     "execution_count": 47,
     "metadata": {
      "tags": []
     },
     "output_type": "execute_result"
    }
   ],
   "source": [
    "#Fitting Random Forest Classifier to the Training Set\n",
    "classifier = RandomForestClassifier(random_state=42)\n",
    "classifier.fit(X_train_W, y_train)"
   ]
  },
  {
   "cell_type": "code",
   "execution_count": null,
   "metadata": {
    "ExecuteTime": {
     "end_time": "2021-05-29T05:34:33.952816Z",
     "start_time": "2021-05-29T05:34:33.823864Z"
    },
    "hidden": true,
    "id": "yqTAke2OIWPa"
   },
   "outputs": [],
   "source": [
    "# Predicting the Test Set Results\n",
    "y_pred = classifier.predict(X_test_W)"
   ]
  },
  {
   "cell_type": "code",
   "execution_count": null,
   "metadata": {
    "ExecuteTime": {
     "end_time": "2021-05-29T05:34:34.155423Z",
     "start_time": "2021-05-29T05:34:34.129585Z"
    },
    "hidden": true,
    "id": "T2H6-NnXIWPb",
    "outputId": "bd524cd5-d500-4304-9e82-71759ef66923"
   },
   "outputs": [
    {
     "name": "stdout",
     "output_type": "stream",
     "text": [
      "[[8432   31]\n",
      " [ 492  254]]\n",
      "              precision    recall  f1-score   support\n",
      "\n",
      "           0       0.94      1.00      0.97      8463\n",
      "           1       0.89      0.34      0.49       746\n",
      "\n",
      "    accuracy                           0.94      9209\n",
      "   macro avg       0.92      0.67      0.73      9209\n",
      "weighted avg       0.94      0.94      0.93      9209\n",
      "\n"
     ]
    }
   ],
   "source": [
    "#Checking Accuracies\n",
    "print(confusion_matrix(y_test, y_pred))\n",
    "print(classification_report(y_test, y_pred))"
   ]
  },
  {
   "cell_type": "markdown",
   "metadata": {
    "heading_collapsed": true,
    "hidden": true,
    "id": "rbAJp-_xIWPb"
   },
   "source": [
    "#### XGBoost Classifier"
   ]
  },
  {
   "cell_type": "code",
   "execution_count": null,
   "metadata": {
    "ExecuteTime": {
     "end_time": "2021-05-29T05:34:39.940154Z",
     "start_time": "2021-05-29T05:34:39.084263Z"
    },
    "collapsed": true,
    "hidden": true,
    "id": "DzcoWo2wIWPb",
    "outputId": "9059fd31-dc88-496b-de5e-2c825531be18"
   },
   "outputs": [
    {
     "name": "stdout",
     "output_type": "stream",
     "text": [
      "[11:04:39] WARNING: C:/Users/Administrator/workspace/xgboost-win64_release_1.4.0/src/learner.cc:1095: Starting in XGBoost 1.3.0, the default evaluation metric used with the objective 'binary:logistic' was changed from 'error' to 'logloss'. Explicitly set eval_metric if you'd like to restore the old behavior.\n"
     ]
    },
    {
     "data": {
      "text/plain": [
       "XGBClassifier(base_score=0.5, booster='gbtree', colsample_bylevel=1,\n",
       "              colsample_bynode=1, colsample_bytree=1, gamma=0, gpu_id=-1,\n",
       "              importance_type='gain', interaction_constraints='',\n",
       "              learning_rate=0.300000012, max_delta_step=0, max_depth=6,\n",
       "              min_child_weight=1, missing=nan, monotone_constraints='()',\n",
       "              n_estimators=100, n_jobs=8, num_parallel_tree=1, random_state=0,\n",
       "              reg_alpha=0, reg_lambda=1, scale_pos_weight=1, subsample=1,\n",
       "              tree_method='exact', validate_parameters=1, verbosity=None)"
      ]
     },
     "execution_count": 50,
     "metadata": {
      "tags": []
     },
     "output_type": "execute_result"
    }
   ],
   "source": [
    "# Fitting XGBoost to the Training Set\n",
    "classifier = XGBClassifier()\n",
    "classifier.fit(X_train_W, y_train)"
   ]
  },
  {
   "cell_type": "code",
   "execution_count": null,
   "metadata": {
    "ExecuteTime": {
     "end_time": "2021-05-29T05:34:40.147068Z",
     "start_time": "2021-05-29T05:34:40.130090Z"
    },
    "hidden": true,
    "id": "L_0fr9lXIWPb"
   },
   "outputs": [],
   "source": [
    "# Predicting the Test Set Results\n",
    "y_pred = classifier.predict(X_test_W)"
   ]
  },
  {
   "cell_type": "code",
   "execution_count": null,
   "metadata": {
    "ExecuteTime": {
     "end_time": "2021-05-29T05:34:40.453780Z",
     "start_time": "2021-05-29T05:34:40.423331Z"
    },
    "hidden": true,
    "id": "5_CE4RvAIWPb",
    "outputId": "6946d8fe-25aa-40f7-c0d5-825906878ed9"
   },
   "outputs": [
    {
     "name": "stdout",
     "output_type": "stream",
     "text": [
      "[[8439   24]\n",
      " [ 491  255]]\n",
      "              precision    recall  f1-score   support\n",
      "\n",
      "           0       0.95      1.00      0.97      8463\n",
      "           1       0.91      0.34      0.50       746\n",
      "\n",
      "    accuracy                           0.94      9209\n",
      "   macro avg       0.93      0.67      0.73      9209\n",
      "weighted avg       0.94      0.94      0.93      9209\n",
      "\n"
     ]
    }
   ],
   "source": [
    "#Checking Accuracies\n",
    "print(confusion_matrix(y_test, y_pred))\n",
    "print(classification_report(y_test, y_pred))"
   ]
  },
  {
   "cell_type": "markdown",
   "metadata": {
    "heading_collapsed": true,
    "hidden": true,
    "id": "gQT0j8FjIWPc"
   },
   "source": [
    "### **With EMBEDDED suggested features**"
   ]
  },
  {
   "cell_type": "markdown",
   "metadata": {
    "heading_collapsed": true,
    "hidden": true,
    "id": "CTDu00A7IWPc"
   },
   "source": [
    "#### Logistic Regression Classifier"
   ]
  },
  {
   "cell_type": "code",
   "execution_count": null,
   "metadata": {
    "ExecuteTime": {
     "end_time": "2021-05-29T04:40:57.130971Z",
     "start_time": "2021-05-29T04:40:56.483884Z"
    },
    "hidden": true,
    "id": "w_UaleF4IWPc",
    "outputId": "97ea3efd-ecca-4f5d-9de9-33fe681c872c"
   },
   "outputs": [
    {
     "data": {
      "text/plain": [
       "LogisticRegression()"
      ]
     },
     "execution_count": 6,
     "metadata": {
      "tags": []
     },
     "output_type": "execute_result"
    }
   ],
   "source": [
    "#Fitting Logistic Regression in training Set\n",
    "classifier = LogisticRegression()\n",
    "classifier.fit(X_trainF, y_train)"
   ]
  },
  {
   "cell_type": "code",
   "execution_count": null,
   "metadata": {
    "ExecuteTime": {
     "end_time": "2021-05-29T04:40:57.580203Z",
     "start_time": "2021-05-29T04:40:57.568075Z"
    },
    "hidden": true,
    "id": "wSF36q1dIWPc"
   },
   "outputs": [],
   "source": [
    "#Predicting Test Set Results\n",
    "y_pred = classifier.predict(X_testF)"
   ]
  },
  {
   "cell_type": "code",
   "execution_count": null,
   "metadata": {
    "ExecuteTime": {
     "end_time": "2021-05-29T04:40:58.115130Z",
     "start_time": "2021-05-29T04:40:58.057285Z"
    },
    "hidden": true,
    "id": "tpT5KjO8IWPd",
    "outputId": "aa2e36af-67a3-4c9d-def8-88598745c83a"
   },
   "outputs": [
    {
     "name": "stdout",
     "output_type": "stream",
     "text": [
      "[[8463    0]\n",
      " [ 679   67]]\n",
      "              precision    recall  f1-score   support\n",
      "\n",
      "           0       0.93      1.00      0.96      8463\n",
      "           1       1.00      0.09      0.16       746\n",
      "\n",
      "    accuracy                           0.93      9209\n",
      "   macro avg       0.96      0.54      0.56      9209\n",
      "weighted avg       0.93      0.93      0.90      9209\n",
      "\n"
     ]
    }
   ],
   "source": [
    "#Checking Accuracies\n",
    "print(confusion_matrix(y_test, y_pred))\n",
    "print(classification_report(y_test, y_pred))"
   ]
  },
  {
   "cell_type": "markdown",
   "metadata": {
    "heading_collapsed": true,
    "hidden": true,
    "id": "LMFJSJVTIWPd"
   },
   "source": [
    "#### KNN Classifier"
   ]
  },
  {
   "cell_type": "code",
   "execution_count": null,
   "metadata": {
    "ExecuteTime": {
     "end_time": "2021-05-29T04:41:06.014173Z",
     "start_time": "2021-05-29T04:41:05.857593Z"
    },
    "hidden": true,
    "id": "Hnk_DJkAIWPd",
    "outputId": "97f2199d-e9c7-467d-ae0e-4942041ce0e8"
   },
   "outputs": [
    {
     "data": {
      "text/plain": [
       "KNeighborsClassifier()"
      ]
     },
     "execution_count": 9,
     "metadata": {
      "tags": []
     },
     "output_type": "execute_result"
    }
   ],
   "source": [
    "#Fitting KNN to the training Set\n",
    "classifier = KNeighborsClassifier()\n",
    "classifier.fit(X_trainF, y_train)"
   ]
  },
  {
   "cell_type": "code",
   "execution_count": null,
   "metadata": {
    "ExecuteTime": {
     "end_time": "2021-05-29T04:41:06.824733Z",
     "start_time": "2021-05-29T04:41:06.258554Z"
    },
    "hidden": true,
    "id": "XhIbjxeFIWPd"
   },
   "outputs": [],
   "source": [
    "#Predicting Test Set Results\n",
    "y_pred = classifier.predict(X_testF)"
   ]
  },
  {
   "cell_type": "code",
   "execution_count": null,
   "metadata": {
    "ExecuteTime": {
     "end_time": "2021-05-29T04:41:07.097551Z",
     "start_time": "2021-05-29T04:41:07.054651Z"
    },
    "hidden": true,
    "id": "7JXpbCwWIWPd",
    "outputId": "b068f639-e8df-4f67-bb44-341731da3788"
   },
   "outputs": [
    {
     "name": "stdout",
     "output_type": "stream",
     "text": [
      "[[8364   99]\n",
      " [ 637  109]]\n",
      "              precision    recall  f1-score   support\n",
      "\n",
      "           0       0.93      0.99      0.96      8463\n",
      "           1       0.52      0.15      0.23       746\n",
      "\n",
      "    accuracy                           0.92      9209\n",
      "   macro avg       0.73      0.57      0.59      9209\n",
      "weighted avg       0.90      0.92      0.90      9209\n",
      "\n"
     ]
    }
   ],
   "source": [
    "#Checking Accuracies\n",
    "print(confusion_matrix(y_test, y_pred))\n",
    "print(classification_report(y_test, y_pred))"
   ]
  },
  {
   "cell_type": "markdown",
   "metadata": {
    "hidden": true,
    "id": "x763yDHHIWPe"
   },
   "source": [
    "#### SVM Classifier"
   ]
  },
  {
   "cell_type": "markdown",
   "metadata": {
    "heading_collapsed": true,
    "hidden": true,
    "id": "mWmLWcWzIWPe"
   },
   "source": [
    "##### Linear kernel"
   ]
  },
  {
   "cell_type": "code",
   "execution_count": null,
   "metadata": {
    "ExecuteTime": {
     "end_time": "2021-05-27T12:01:29.210090Z",
     "start_time": "2021-05-27T11:58:17.925278Z"
    },
    "hidden": true,
    "id": "z9z29g-NIWPe",
    "outputId": "0a2c9911-c919-4eb1-a14a-835290b1d87a"
   },
   "outputs": [
    {
     "data": {
      "text/plain": [
       "SVC(kernel='linear')"
      ]
     },
     "execution_count": 10,
     "metadata": {
      "tags": []
     },
     "output_type": "execute_result"
    }
   ],
   "source": [
    "# Fitting Linear Kernel SVM to the Training Set\n",
    "classifier = SVC(kernel = 'linear')\n",
    "classifier.fit(X_trainF, y_train)"
   ]
  },
  {
   "cell_type": "code",
   "execution_count": null,
   "metadata": {
    "ExecuteTime": {
     "end_time": "2021-05-27T12:05:28.424131Z",
     "start_time": "2021-05-27T12:05:27.913334Z"
    },
    "hidden": true,
    "id": "F2W2w6oYIWPe"
   },
   "outputs": [],
   "source": [
    "#Predicting Test Set Results\n",
    "y_pred = classifier.predict(X_testF)"
   ]
  },
  {
   "cell_type": "code",
   "execution_count": null,
   "metadata": {
    "ExecuteTime": {
     "end_time": "2021-05-27T12:18:45.012872Z",
     "start_time": "2021-05-27T12:18:44.980958Z"
    },
    "hidden": true,
    "id": "FkV7aA2IIWPe",
    "outputId": "aca0b546-186e-4cf2-b109-aabe071aa224"
   },
   "outputs": [
    {
     "name": "stdout",
     "output_type": "stream",
     "text": [
      "[[8463    0]\n",
      " [ 746    0]]\n",
      "              precision    recall  f1-score   support\n",
      "\n",
      "           0       0.92      1.00      0.96      8463\n",
      "           1       0.00      0.00      0.00       746\n",
      "\n",
      "    accuracy                           0.92      9209\n",
      "   macro avg       0.46      0.50      0.48      9209\n",
      "weighted avg       0.84      0.92      0.88      9209\n",
      "\n"
     ]
    }
   ],
   "source": [
    "#Checking Accuracies\n",
    "print(confusion_matrix(y_test, y_pred))\n",
    "print(classification_report(y_test, y_pred))"
   ]
  },
  {
   "cell_type": "markdown",
   "metadata": {
    "heading_collapsed": true,
    "hidden": true,
    "id": "NK4RPASbIWPf"
   },
   "source": [
    "##### Gaussian Kernel"
   ]
  },
  {
   "cell_type": "code",
   "execution_count": null,
   "metadata": {
    "ExecuteTime": {
     "end_time": "2021-05-27T12:21:18.180093Z",
     "start_time": "2021-05-27T12:21:03.300573Z"
    },
    "hidden": true,
    "id": "Db942EaEIWPf",
    "outputId": "aa4992f7-5bbd-4050-a0f1-1f1e17284bb1"
   },
   "outputs": [
    {
     "data": {
      "text/plain": [
       "SVC()"
      ]
     },
     "execution_count": 14,
     "metadata": {
      "tags": []
     },
     "output_type": "execute_result"
    }
   ],
   "source": [
    "# Fitting Gaussian Kernel SVM to the Training Set\n",
    "classifier = SVC(kernel = 'rbf')\n",
    "classifier.fit(X_trainF, y_train)"
   ]
  },
  {
   "cell_type": "code",
   "execution_count": null,
   "metadata": {
    "ExecuteTime": {
     "end_time": "2021-05-27T12:21:19.576824Z",
     "start_time": "2021-05-27T12:21:18.371636Z"
    },
    "hidden": true,
    "id": "amcu4ZTPIWPf"
   },
   "outputs": [],
   "source": [
    "#Predicting Test Set Results\n",
    "y_pred = classifier.predict(X_testF)"
   ]
  },
  {
   "cell_type": "code",
   "execution_count": null,
   "metadata": {
    "ExecuteTime": {
     "end_time": "2021-05-27T12:21:19.796624Z",
     "start_time": "2021-05-27T12:21:19.756549Z"
    },
    "hidden": true,
    "id": "iPnXMJ97IWPf",
    "outputId": "aa06542d-51af-495c-e39c-0f62d75708a0"
   },
   "outputs": [
    {
     "name": "stdout",
     "output_type": "stream",
     "text": [
      "[[8463    0]\n",
      " [ 746    0]]\n",
      "              precision    recall  f1-score   support\n",
      "\n",
      "           0       0.92      1.00      0.96      8463\n",
      "           1       0.00      0.00      0.00       746\n",
      "\n",
      "    accuracy                           0.92      9209\n",
      "   macro avg       0.46      0.50      0.48      9209\n",
      "weighted avg       0.84      0.92      0.88      9209\n",
      "\n"
     ]
    }
   ],
   "source": [
    "#Checking Accuracies\n",
    "print(confusion_matrix(y_test, y_pred))\n",
    "print(classification_report(y_test, y_pred))"
   ]
  },
  {
   "cell_type": "markdown",
   "metadata": {
    "heading_collapsed": true,
    "hidden": true,
    "id": "qaKNgX5gIWPf"
   },
   "source": [
    "##### Poly Kernel"
   ]
  },
  {
   "cell_type": "code",
   "execution_count": null,
   "metadata": {
    "ExecuteTime": {
     "end_time": "2021-05-27T12:30:52.400829Z",
     "start_time": "2021-05-27T12:30:06.176323Z"
    },
    "hidden": true,
    "id": "rzuf-9czIWPg",
    "outputId": "bc2fb7c6-dbb6-43a8-f94a-649a137fdffb"
   },
   "outputs": [
    {
     "data": {
      "text/plain": [
       "SVC(kernel='poly')"
      ]
     },
     "execution_count": 17,
     "metadata": {
      "tags": []
     },
     "output_type": "execute_result"
    }
   ],
   "source": [
    "# Fitting Gaussian Kernel SVM to the Training Set\n",
    "classifier = SVC(kernel = 'poly')\n",
    "classifier.fit(X_trainF, y_train)"
   ]
  },
  {
   "cell_type": "code",
   "execution_count": null,
   "metadata": {
    "ExecuteTime": {
     "end_time": "2021-05-27T12:38:03.840312Z",
     "start_time": "2021-05-27T12:38:03.142309Z"
    },
    "hidden": true,
    "id": "WTGjrC4sIWPg"
   },
   "outputs": [],
   "source": [
    "#Predicting Test Set Results\n",
    "y_pred = classifier.predict(X_testF)"
   ]
  },
  {
   "cell_type": "code",
   "execution_count": null,
   "metadata": {
    "ExecuteTime": {
     "end_time": "2021-05-27T12:38:14.274284Z",
     "start_time": "2021-05-27T12:38:14.251328Z"
    },
    "hidden": true,
    "id": "LrTTLbIjIWPg",
    "outputId": "592e22e5-0fc7-4568-e3f5-ee71e23a619c"
   },
   "outputs": [
    {
     "name": "stdout",
     "output_type": "stream",
     "text": [
      "[[8463    0]\n",
      " [ 746    0]]\n",
      "              precision    recall  f1-score   support\n",
      "\n",
      "           0       0.92      1.00      0.96      8463\n",
      "           1       0.00      0.00      0.00       746\n",
      "\n",
      "    accuracy                           0.92      9209\n",
      "   macro avg       0.46      0.50      0.48      9209\n",
      "weighted avg       0.84      0.92      0.88      9209\n",
      "\n"
     ]
    }
   ],
   "source": [
    "#Checking Accuracies\n",
    "print(confusion_matrix(y_test, y_pred))\n",
    "print(classification_report(y_test, y_pred))"
   ]
  },
  {
   "cell_type": "markdown",
   "metadata": {
    "heading_collapsed": true,
    "hidden": true,
    "id": "BRc_tOWAIWPg"
   },
   "source": [
    "#### Decision Tree Classifier"
   ]
  },
  {
   "cell_type": "code",
   "execution_count": null,
   "metadata": {
    "ExecuteTime": {
     "end_time": "2021-05-29T04:41:21.788446Z",
     "start_time": "2021-05-29T04:41:21.664775Z"
    },
    "hidden": true,
    "id": "0f7filmQIWPh",
    "outputId": "a9fd9c94-91d4-4d32-f6ab-8c1bd6e2da86"
   },
   "outputs": [
    {
     "data": {
      "text/plain": [
       "DecisionTreeClassifier()"
      ]
     },
     "execution_count": 12,
     "metadata": {
      "tags": []
     },
     "output_type": "execute_result"
    }
   ],
   "source": [
    "# Fitting Decision Tree Classifier to the Training Set\n",
    "classifier = DecisionTreeClassifier()\n",
    "classifier.fit(X_trainF, y_train)"
   ]
  },
  {
   "cell_type": "code",
   "execution_count": null,
   "metadata": {
    "ExecuteTime": {
     "end_time": "2021-05-29T04:41:22.070065Z",
     "start_time": "2021-05-29T04:41:22.058098Z"
    },
    "hidden": true,
    "id": "VU6JSKrmIWPh"
   },
   "outputs": [],
   "source": [
    "# Predicting the Test Set Results\n",
    "y_pred = classifier.predict(X_testF)"
   ]
  },
  {
   "cell_type": "code",
   "execution_count": null,
   "metadata": {
    "ExecuteTime": {
     "end_time": "2021-05-29T04:41:22.701837Z",
     "start_time": "2021-05-29T04:41:22.667405Z"
    },
    "hidden": true,
    "id": "qnJkrRemIWPh",
    "outputId": "f080efee-9ade-4fb9-8f8d-49920b867e15"
   },
   "outputs": [
    {
     "name": "stdout",
     "output_type": "stream",
     "text": [
      "[[7929  534]\n",
      " [ 420  326]]\n",
      "              precision    recall  f1-score   support\n",
      "\n",
      "           0       0.95      0.94      0.94      8463\n",
      "           1       0.38      0.44      0.41       746\n",
      "\n",
      "    accuracy                           0.90      9209\n",
      "   macro avg       0.66      0.69      0.67      9209\n",
      "weighted avg       0.90      0.90      0.90      9209\n",
      "\n"
     ]
    }
   ],
   "source": [
    "#Checking Accuracies\n",
    "print(confusion_matrix(y_test, y_pred))\n",
    "print(classification_report(y_test, y_pred))"
   ]
  },
  {
   "cell_type": "markdown",
   "metadata": {
    "heading_collapsed": true,
    "hidden": true,
    "id": "3mv6g6NTIWPh"
   },
   "source": [
    "#### Random Forest Classifier"
   ]
  },
  {
   "cell_type": "code",
   "execution_count": null,
   "metadata": {
    "ExecuteTime": {
     "end_time": "2021-05-29T04:41:41.281075Z",
     "start_time": "2021-05-29T04:41:37.343349Z"
    },
    "hidden": true,
    "id": "hf7zkAQUIWPh",
    "outputId": "7c83a736-41e1-4ff2-f0ef-3c220e1f786b"
   },
   "outputs": [
    {
     "data": {
      "text/plain": [
       "RandomForestClassifier(random_state=42)"
      ]
     },
     "execution_count": 15,
     "metadata": {
      "tags": []
     },
     "output_type": "execute_result"
    }
   ],
   "source": [
    "#Fitting Random Forest Classifier to the Training Set\n",
    "classifier = RandomForestClassifier(random_state=42)\n",
    "classifier.fit(X_trainF, y_train)"
   ]
  },
  {
   "cell_type": "code",
   "execution_count": null,
   "metadata": {
    "ExecuteTime": {
     "end_time": "2021-05-29T04:41:41.801754Z",
     "start_time": "2021-05-29T04:41:41.558339Z"
    },
    "hidden": true,
    "id": "qr_cb82eIWPi"
   },
   "outputs": [],
   "source": [
    "# Predicting the Test Set Results\n",
    "y_pred = classifier.predict(X_testF)"
   ]
  },
  {
   "cell_type": "code",
   "execution_count": null,
   "metadata": {
    "ExecuteTime": {
     "end_time": "2021-05-29T04:41:42.031923Z",
     "start_time": "2021-05-29T04:41:41.997019Z"
    },
    "hidden": true,
    "id": "eAN3CPCPIWPi",
    "outputId": "41eccec2-835e-45a0-d536-d098e1c6409d"
   },
   "outputs": [
    {
     "name": "stdout",
     "output_type": "stream",
     "text": [
      "[[8376   87]\n",
      " [ 507  239]]\n",
      "              precision    recall  f1-score   support\n",
      "\n",
      "           0       0.94      0.99      0.97      8463\n",
      "           1       0.73      0.32      0.45       746\n",
      "\n",
      "    accuracy                           0.94      9209\n",
      "   macro avg       0.84      0.66      0.71      9209\n",
      "weighted avg       0.93      0.94      0.92      9209\n",
      "\n"
     ]
    }
   ],
   "source": [
    "#Checking Accuracies\n",
    "print(confusion_matrix(y_test, y_pred))\n",
    "print(classification_report(y_test, y_pred))"
   ]
  },
  {
   "cell_type": "markdown",
   "metadata": {
    "heading_collapsed": true,
    "hidden": true,
    "id": "md8jNUobIWPi"
   },
   "source": [
    "#### XGBoost Classifier"
   ]
  },
  {
   "cell_type": "code",
   "execution_count": null,
   "metadata": {
    "ExecuteTime": {
     "end_time": "2021-05-29T04:41:55.332576Z",
     "start_time": "2021-05-29T04:41:53.097328Z"
    },
    "collapsed": true,
    "hidden": true,
    "id": "8mGnzzIcIWPi",
    "outputId": "3cf13090-29e8-4531-a71a-53ec03ed9d26"
   },
   "outputs": [
    {
     "name": "stdout",
     "output_type": "stream",
     "text": [
      "[10:11:53] WARNING: C:/Users/Administrator/workspace/xgboost-win64_release_1.4.0/src/learner.cc:1095: Starting in XGBoost 1.3.0, the default evaluation metric used with the objective 'binary:logistic' was changed from 'error' to 'logloss'. Explicitly set eval_metric if you'd like to restore the old behavior.\n"
     ]
    },
    {
     "data": {
      "text/plain": [
       "XGBClassifier(base_score=0.5, booster='gbtree', colsample_bylevel=1,\n",
       "              colsample_bynode=1, colsample_bytree=1, gamma=0, gpu_id=-1,\n",
       "              importance_type='gain', interaction_constraints='',\n",
       "              learning_rate=0.300000012, max_delta_step=0, max_depth=6,\n",
       "              min_child_weight=1, missing=nan, monotone_constraints='()',\n",
       "              n_estimators=100, n_jobs=8, num_parallel_tree=1, random_state=0,\n",
       "              reg_alpha=0, reg_lambda=1, scale_pos_weight=1, subsample=1,\n",
       "              tree_method='exact', validate_parameters=1, verbosity=None)"
      ]
     },
     "execution_count": 18,
     "metadata": {
      "tags": []
     },
     "output_type": "execute_result"
    }
   ],
   "source": [
    "# Fitting XGBoost to the Training Set\n",
    "classifier = XGBClassifier()\n",
    "classifier.fit(X_trainF, y_train)"
   ]
  },
  {
   "cell_type": "code",
   "execution_count": null,
   "metadata": {
    "ExecuteTime": {
     "end_time": "2021-05-29T04:41:55.705578Z",
     "start_time": "2021-05-29T04:41:55.675658Z"
    },
    "hidden": true,
    "id": "H4lzoBJXIWPi"
   },
   "outputs": [],
   "source": [
    "# Predicting the Test Set Results\n",
    "y_pred = classifier.predict(X_testF)"
   ]
  },
  {
   "cell_type": "code",
   "execution_count": null,
   "metadata": {
    "ExecuteTime": {
     "end_time": "2021-05-29T04:41:56.069616Z",
     "start_time": "2021-05-29T04:41:56.029714Z"
    },
    "hidden": true,
    "id": "GHithyzgIWPj",
    "outputId": "28abf3e1-98ef-4f59-f5ad-4f45c2f5f431"
   },
   "outputs": [
    {
     "name": "stdout",
     "output_type": "stream",
     "text": [
      "[[8431   32]\n",
      " [ 492  254]]\n",
      "              precision    recall  f1-score   support\n",
      "\n",
      "           0       0.94      1.00      0.97      8463\n",
      "           1       0.89      0.34      0.49       746\n",
      "\n",
      "    accuracy                           0.94      9209\n",
      "   macro avg       0.92      0.67      0.73      9209\n",
      "weighted avg       0.94      0.94      0.93      9209\n",
      "\n"
     ]
    }
   ],
   "source": [
    "#Checking Accuracies\n",
    "print(confusion_matrix(y_test, y_pred))\n",
    "print(classification_report(y_test, y_pred))"
   ]
  },
  {
   "cell_type": "markdown",
   "metadata": {
    "heading_collapsed": true,
    "hidden": true,
    "id": "3-NyigmcIWPj"
   },
   "source": [
    "### **INFERENCE** "
   ]
  },
  {
   "cell_type": "markdown",
   "metadata": {
    "hidden": true,
    "id": "7xguqmq3IWPj"
   },
   "source": [
    "Based on all the Model Scores, **Random Forest** and **XGBoost** performs very good on both the subset of features (**Wrapper** suggested & **Embedded** suggested). So, we will focus on these models and try to make them perform even better with hyper-parameter tuning."
   ]
  },
  {
   "cell_type": "markdown",
   "metadata": {
    "heading_collapsed": true,
    "id": "QDRBfb41IWPj"
   },
   "source": [
    "## **HYPER-PARAMETER TUNING**"
   ]
  },
  {
   "cell_type": "markdown",
   "metadata": {
    "heading_collapsed": true,
    "hidden": true,
    "id": "9-zBGhs1IWPj"
   },
   "source": [
    "### **Wrapper** suggested Features"
   ]
  },
  {
   "cell_type": "markdown",
   "metadata": {
    "heading_collapsed": true,
    "hidden": true,
    "id": "73ktaGvrIWPk"
   },
   "source": [
    "#### Random Forest"
   ]
  },
  {
   "cell_type": "markdown",
   "metadata": {
    "heading_collapsed": true,
    "hidden": true,
    "id": "0mU6nZVlIWPk"
   },
   "source": [
    "##### Default Parameters"
   ]
  },
  {
   "cell_type": "code",
   "execution_count": 18,
   "metadata": {
    "ExecuteTime": {
     "end_time": "2021-05-29T14:00:52.745645Z",
     "start_time": "2021-05-29T14:00:51.517774Z"
    },
    "colab": {
     "base_uri": "https://localhost:8080/"
    },
    "hidden": true,
    "id": "-mSp7qcAIWPk",
    "outputId": "8a907ec3-b707-4359-b17a-702835fd49f7"
   },
   "outputs": [
    {
     "data": {
      "text/plain": [
       "RandomForestClassifier(bootstrap=True, ccp_alpha=0.0, class_weight=None,\n",
       "                       criterion='gini', max_depth=None, max_features='auto',\n",
       "                       max_leaf_nodes=None, max_samples=None,\n",
       "                       min_impurity_decrease=0.0, min_impurity_split=None,\n",
       "                       min_samples_leaf=1, min_samples_split=2,\n",
       "                       min_weight_fraction_leaf=0.0, n_estimators=100,\n",
       "                       n_jobs=None, oob_score=False, random_state=42, verbose=0,\n",
       "                       warm_start=False)"
      ]
     },
     "execution_count": 18,
     "metadata": {
      "tags": []
     },
     "output_type": "execute_result"
    }
   ],
   "source": [
    "#Fitting Random Forest Classifier with default parameters to the Training Set\n",
    "classifier = RandomForestClassifier(random_state=42)\n",
    "classifier.fit(X_train_W, y_train)"
   ]
  },
  {
   "cell_type": "code",
   "execution_count": 19,
   "metadata": {
    "ExecuteTime": {
     "end_time": "2021-05-29T14:00:55.746091Z",
     "start_time": "2021-05-29T14:00:55.234545Z"
    },
    "colab": {
     "base_uri": "https://localhost:8080/"
    },
    "hidden": true,
    "id": "gGWCwfMOIWPk",
    "outputId": "90e316da-1590-43a5-ef54-6211d01db15d"
   },
   "outputs": [
    {
     "name": "stdout",
     "output_type": "stream",
     "text": [
      "[[35989    54]\n",
      " [ 2194  1224]]\n",
      "              precision    recall  f1-score   support\n",
      "\n",
      "           0       0.94      1.00      0.97     36043\n",
      "           1       0.96      0.36      0.52      3418\n",
      "\n",
      "    accuracy                           0.94     39461\n",
      "   macro avg       0.95      0.68      0.75     39461\n",
      "weighted avg       0.94      0.94      0.93     39461\n",
      "\n"
     ]
    }
   ],
   "source": [
    "#Checking Training Accuracy\n",
    "y_pred = classifier.predict(X_train_W)\n",
    "print(confusion_matrix(y_train, y_pred))\n",
    "print(classification_report(y_train, y_pred))"
   ]
  },
  {
   "cell_type": "code",
   "execution_count": 20,
   "metadata": {
    "ExecuteTime": {
     "end_time": "2021-05-29T14:01:06.640769Z",
     "start_time": "2021-05-29T14:01:06.535052Z"
    },
    "colab": {
     "base_uri": "https://localhost:8080/"
    },
    "hidden": true,
    "id": "HjMUQ3V1IWPk",
    "outputId": "f4c9b260-c38c-4d13-cf94-d807b7f83629"
   },
   "outputs": [
    {
     "name": "stdout",
     "output_type": "stream",
     "text": [
      "[[5613   21]\n",
      " [ 318  186]]\n",
      "              precision    recall  f1-score   support\n",
      "\n",
      "           0       0.95      1.00      0.97      5634\n",
      "           1       0.90      0.37      0.52       504\n",
      "\n",
      "    accuracy                           0.94      6138\n",
      "   macro avg       0.92      0.68      0.75      6138\n",
      "weighted avg       0.94      0.94      0.93      6138\n",
      "\n"
     ]
    }
   ],
   "source": [
    "#Checking Validation Accuracy\n",
    "y_pred = classifier.predict(X_validation_W)\n",
    "print(confusion_matrix(y_validation, y_pred))\n",
    "print(classification_report(y_validation, y_pred))"
   ]
  },
  {
   "cell_type": "code",
   "execution_count": 21,
   "metadata": {
    "ExecuteTime": {
     "end_time": "2021-05-29T14:01:32.181960Z",
     "start_time": "2021-05-29T14:01:32.038186Z"
    },
    "colab": {
     "base_uri": "https://localhost:8080/"
    },
    "hidden": true,
    "id": "bmCK2XcJIWPl",
    "outputId": "61c55ca9-ee43-4953-a4a1-fd4d1d83b73d"
   },
   "outputs": [
    {
     "name": "stdout",
     "output_type": "stream",
     "text": [
      "[[8432   31]\n",
      " [ 492  254]]\n",
      "              precision    recall  f1-score   support\n",
      "\n",
      "           0       0.94      1.00      0.97      8463\n",
      "           1       0.89      0.34      0.49       746\n",
      "\n",
      "    accuracy                           0.94      9209\n",
      "   macro avg       0.92      0.67      0.73      9209\n",
      "weighted avg       0.94      0.94      0.93      9209\n",
      "\n"
     ]
    }
   ],
   "source": [
    "#Checking test Accuracy\n",
    "y_pred = classifier.predict(X_test_W)\n",
    "print(confusion_matrix(y_test, y_pred))\n",
    "print(classification_report(y_test, y_pred))"
   ]
  },
  {
   "cell_type": "markdown",
   "metadata": {
    "heading_collapsed": true,
    "hidden": true,
    "id": "hou7NKuNIWPl"
   },
   "source": [
    "##### Grid Search Cross Validation"
   ]
  },
  {
   "cell_type": "code",
   "execution_count": 22,
   "metadata": {
    "ExecuteTime": {
     "end_time": "2021-05-29T13:49:47.410035Z",
     "start_time": "2021-05-29T13:49:47.406090Z"
    },
    "hidden": true,
    "id": "OcfRyMutIWPl"
   },
   "outputs": [],
   "source": [
    "#Importing Grid Search Cross Validation and roc auc scoring metric\n",
    "from sklearn.model_selection import GridSearchCV\n",
    "from sklearn.metrics import roc_auc_score"
   ]
  },
  {
   "cell_type": "code",
   "execution_count": 23,
   "metadata": {
    "ExecuteTime": {
     "end_time": "2021-05-29T14:21:32.392308Z",
     "start_time": "2021-05-29T14:21:32.385970Z"
    },
    "colab": {
     "base_uri": "https://localhost:8080/"
    },
    "hidden": true,
    "id": "ydhEn4zLIWPl",
    "outputId": "29a88707-698e-4d49-a8ca-9448f8896501"
   },
   "outputs": [
    {
     "data": {
      "text/plain": [
       "[{'max_depth': [1, 2, 3, 4, 5, None],\n",
       "  'max_leaf_nodes': [1, 2, None],\n",
       "  'min_samples_leaf': [1, 2],\n",
       "  'min_samples_split': [2, 3],\n",
       "  'n_estimators': [10, 50, 75, 100, 200, 300, 400]}]"
      ]
     },
     "execution_count": 23,
     "metadata": {
      "tags": []
     },
     "output_type": "execute_result"
    }
   ],
   "source": [
    "#Making a matrix of hyperparameters\n",
    "parameters = [{'n_estimators': [10, 50, 75, 100, 200, 300, 400],\n",
    "               'max_depth': [1,2,3,4,5, None],\n",
    "               'min_samples_split': [2, 3],\n",
    "               'min_samples_leaf': [1, 2],\n",
    "               'max_leaf_nodes': [1, 2, None]}]\n",
    "\n",
    "parameters"
   ]
  },
  {
   "cell_type": "code",
   "execution_count": 24,
   "metadata": {
    "ExecuteTime": {
     "end_time": "2021-05-29T14:33:54.237654Z",
     "start_time": "2021-05-29T14:21:39.461391Z"
    },
    "hidden": true,
    "id": "tVK74EirIWPm"
   },
   "outputs": [],
   "source": [
    "#Fitting grid search CV with the validation set\n",
    "grid_search = GridSearchCV(estimator=classifier, param_grid=parameters, scoring='roc_auc', n_jobs=-1)\n",
    "grid_search = grid_search.fit(X_validation_W, y_validation)"
   ]
  },
  {
   "cell_type": "code",
   "execution_count": 25,
   "metadata": {
    "ExecuteTime": {
     "end_time": "2021-05-29T14:34:39.055739Z",
     "start_time": "2021-05-29T14:34:39.050756Z"
    },
    "colab": {
     "base_uri": "https://localhost:8080/"
    },
    "hidden": true,
    "id": "1wxnPHBxIWPm",
    "outputId": "1a43d670-0219-444f-888c-2e1f979bc3ab"
   },
   "outputs": [
    {
     "data": {
      "text/plain": [
       "0.8821157396922858"
      ]
     },
     "execution_count": 25,
     "metadata": {
      "tags": []
     },
     "output_type": "execute_result"
    }
   ],
   "source": [
    "#Observing roc_auc score (higher the better)\n",
    "grid_search.best_score_"
   ]
  },
  {
   "cell_type": "code",
   "execution_count": 26,
   "metadata": {
    "ExecuteTime": {
     "end_time": "2021-05-29T14:33:54.560051Z",
     "start_time": "2021-05-29T14:33:54.523150Z"
    },
    "colab": {
     "base_uri": "https://localhost:8080/"
    },
    "hidden": true,
    "id": "0h_lPiczIWPm",
    "outputId": "aba3449f-8f70-41ec-ce8b-6662b504051d"
   },
   "outputs": [
    {
     "data": {
      "text/plain": [
       "{'max_depth': None,\n",
       " 'max_leaf_nodes': None,\n",
       " 'min_samples_leaf': 2,\n",
       " 'min_samples_split': 2,\n",
       " 'n_estimators': 200}"
      ]
     },
     "execution_count": 26,
     "metadata": {
      "tags": []
     },
     "output_type": "execute_result"
    }
   ],
   "source": [
    "#Finding the best hyperparameters\n",
    "grid_search.best_params_"
   ]
  },
  {
   "cell_type": "markdown",
   "metadata": {
    "heading_collapsed": true,
    "hidden": true,
    "id": "Xr0uYNcNIWPm"
   },
   "source": [
    "##### NEW HYPER-PARAMETERS"
   ]
  },
  {
   "cell_type": "code",
   "execution_count": 27,
   "metadata": {
    "ExecuteTime": {
     "end_time": "2021-05-29T14:50:48.417719Z",
     "start_time": "2021-05-29T14:50:44.919419Z"
    },
    "colab": {
     "base_uri": "https://localhost:8080/"
    },
    "hidden": true,
    "id": "RWvF8IZdIWPm",
    "outputId": "ba846dcb-5a6d-4c82-a5c7-59fd099bfe27"
   },
   "outputs": [
    {
     "data": {
      "text/plain": [
       "RandomForestClassifier(bootstrap=True, ccp_alpha=0.0, class_weight=None,\n",
       "                       criterion='gini', max_depth=None, max_features='auto',\n",
       "                       max_leaf_nodes=None, max_samples=None,\n",
       "                       min_impurity_decrease=0.0, min_impurity_split=None,\n",
       "                       min_samples_leaf=2, min_samples_split=2,\n",
       "                       min_weight_fraction_leaf=0.0, n_estimators=200,\n",
       "                       n_jobs=None, oob_score=False, random_state=42, verbose=0,\n",
       "                       warm_start=False)"
      ]
     },
     "execution_count": 27,
     "metadata": {
      "tags": []
     },
     "output_type": "execute_result"
    }
   ],
   "source": [
    "#Fitting Random Forest Classifier to the Training Set with new hyperparameters\n",
    "classifier = RandomForestClassifier(random_state=42, n_estimators = 200, min_samples_leaf=2, min_samples_split=2)\n",
    "classifier.fit(X_train_W, y_train)"
   ]
  },
  {
   "cell_type": "code",
   "execution_count": 28,
   "metadata": {
    "ExecuteTime": {
     "end_time": "2021-05-29T14:50:54.447802Z",
     "start_time": "2021-05-29T14:50:53.079176Z"
    },
    "colab": {
     "base_uri": "https://localhost:8080/"
    },
    "hidden": true,
    "id": "8JpnB3oLIWPn",
    "outputId": "8d189589-0d27-49e3-8929-d2cc8f41c267"
   },
   "outputs": [
    {
     "name": "stdout",
     "output_type": "stream",
     "text": [
      "[[35993    50]\n",
      " [ 2204  1214]]\n",
      "              precision    recall  f1-score   support\n",
      "\n",
      "           0       0.94      1.00      0.97     36043\n",
      "           1       0.96      0.36      0.52      3418\n",
      "\n",
      "    accuracy                           0.94     39461\n",
      "   macro avg       0.95      0.68      0.74     39461\n",
      "weighted avg       0.94      0.94      0.93     39461\n",
      "\n"
     ]
    }
   ],
   "source": [
    "#Checking Training Accuracy\n",
    "y_pred = classifier.predict(X_train_W)\n",
    "print(confusion_matrix(y_train, y_pred))\n",
    "print(classification_report(y_train, y_pred))"
   ]
  },
  {
   "cell_type": "code",
   "execution_count": 29,
   "metadata": {
    "ExecuteTime": {
     "end_time": "2021-05-29T14:51:05.228715Z",
     "start_time": "2021-05-29T14:51:04.925515Z"
    },
    "colab": {
     "base_uri": "https://localhost:8080/"
    },
    "hidden": true,
    "id": "7YUpSUfFIWPn",
    "outputId": "61b285d3-8430-436b-e779-a42e398ab0f7"
   },
   "outputs": [
    {
     "name": "stdout",
     "output_type": "stream",
     "text": [
      "[[5615   19]\n",
      " [ 318  186]]\n",
      "              precision    recall  f1-score   support\n",
      "\n",
      "           0       0.95      1.00      0.97      5634\n",
      "           1       0.91      0.37      0.52       504\n",
      "\n",
      "    accuracy                           0.95      6138\n",
      "   macro avg       0.93      0.68      0.75      6138\n",
      "weighted avg       0.94      0.95      0.93      6138\n",
      "\n"
     ]
    }
   ],
   "source": [
    "#Checking Validation Accuracy\n",
    "y_pred = classifier.predict(X_validation_W)\n",
    "print(confusion_matrix(y_validation, y_pred))\n",
    "print(classification_report(y_validation, y_pred))"
   ]
  },
  {
   "cell_type": "code",
   "execution_count": 30,
   "metadata": {
    "ExecuteTime": {
     "end_time": "2021-05-29T14:51:13.996195Z",
     "start_time": "2021-05-29T14:51:13.640416Z"
    },
    "colab": {
     "base_uri": "https://localhost:8080/"
    },
    "hidden": true,
    "id": "WrqfEBxfIWPo",
    "outputId": "f0d88e28-42ce-451c-94a8-c483125f1db2"
   },
   "outputs": [
    {
     "name": "stdout",
     "output_type": "stream",
     "text": [
      "[[8435   28]\n",
      " [ 494  252]]\n",
      "              precision    recall  f1-score   support\n",
      "\n",
      "           0       0.94      1.00      0.97      8463\n",
      "           1       0.90      0.34      0.49       746\n",
      "\n",
      "    accuracy                           0.94      9209\n",
      "   macro avg       0.92      0.67      0.73      9209\n",
      "weighted avg       0.94      0.94      0.93      9209\n",
      "\n"
     ]
    }
   ],
   "source": [
    "#Checking test Accuracy\n",
    "y_pred = classifier.predict(X_test_W)\n",
    "print(confusion_matrix(y_test, y_pred))\n",
    "print(classification_report(y_test, y_pred))"
   ]
  },
  {
   "cell_type": "markdown",
   "metadata": {
    "heading_collapsed": true,
    "hidden": true,
    "id": "X2-E0sviIWPo"
   },
   "source": [
    "#### XGBoost"
   ]
  },
  {
   "cell_type": "markdown",
   "metadata": {
    "heading_collapsed": true,
    "hidden": true,
    "id": "knLndRVwIWPo"
   },
   "source": [
    "##### Default Parameters"
   ]
  },
  {
   "cell_type": "code",
   "execution_count": null,
   "metadata": {
    "ExecuteTime": {
     "end_time": "2021-05-29T15:05:54.988336Z",
     "start_time": "2021-05-29T15:05:53.988268Z"
    },
    "hidden": true,
    "id": "I0916M98IWPo",
    "outputId": "5b3437de-3efe-47bd-eb90-ff61e31931d1"
   },
   "outputs": [
    {
     "name": "stdout",
     "output_type": "stream",
     "text": [
      "[20:35:54] WARNING: C:/Users/Administrator/workspace/xgboost-win64_release_1.4.0/src/learner.cc:1095: Starting in XGBoost 1.3.0, the default evaluation metric used with the objective 'binary:logistic' was changed from 'error' to 'logloss'. Explicitly set eval_metric if you'd like to restore the old behavior.\n"
     ]
    },
    {
     "data": {
      "text/plain": [
       "XGBClassifier(base_score=0.5, booster='gbtree', colsample_bylevel=1,\n",
       "              colsample_bynode=1, colsample_bytree=1, gamma=0, gpu_id=-1,\n",
       "              importance_type='gain', interaction_constraints='',\n",
       "              learning_rate=0.300000012, max_delta_step=0, max_depth=6,\n",
       "              min_child_weight=1, missing=nan, monotone_constraints='()',\n",
       "              n_estimators=100, n_jobs=8, num_parallel_tree=1, random_state=0,\n",
       "              reg_alpha=0, reg_lambda=1, scale_pos_weight=1, subsample=1,\n",
       "              tree_method='exact', validate_parameters=1, verbosity=None)"
      ]
     },
     "execution_count": 52,
     "metadata": {
      "tags": []
     },
     "output_type": "execute_result"
    }
   ],
   "source": [
    "# Fitting XGBoost to the Training Set\n",
    "classifier = XGBClassifier()\n",
    "classifier.fit(X_train_W, y_train)"
   ]
  },
  {
   "cell_type": "code",
   "execution_count": null,
   "metadata": {
    "ExecuteTime": {
     "end_time": "2021-05-29T15:06:09.061317Z",
     "start_time": "2021-05-29T15:06:08.875125Z"
    },
    "hidden": true,
    "id": "l1x4qaoyIWPo",
    "outputId": "33f858ad-7eae-46bf-a49a-a796ef27ca41"
   },
   "outputs": [
    {
     "name": "stdout",
     "output_type": "stream",
     "text": [
      "[[35997    46]\n",
      " [ 2207  1211]]\n",
      "              precision    recall  f1-score   support\n",
      "\n",
      "           0       0.94      1.00      0.97     36043\n",
      "           1       0.96      0.35      0.52      3418\n",
      "\n",
      "    accuracy                           0.94     39461\n",
      "   macro avg       0.95      0.68      0.74     39461\n",
      "weighted avg       0.94      0.94      0.93     39461\n",
      "\n"
     ]
    }
   ],
   "source": [
    "#Checking Training Accuracy\n",
    "y_pred = classifier.predict(X_train_W)\n",
    "print(confusion_matrix(y_train, y_pred))\n",
    "print(classification_report(y_train, y_pred))"
   ]
  },
  {
   "cell_type": "code",
   "execution_count": null,
   "metadata": {
    "ExecuteTime": {
     "end_time": "2021-05-29T15:06:20.778758Z",
     "start_time": "2021-05-29T15:06:20.725937Z"
    },
    "hidden": true,
    "id": "weNWObvAIWPp",
    "outputId": "d152344a-95ef-4f0b-d0fa-1ffa915d52e8"
   },
   "outputs": [
    {
     "name": "stdout",
     "output_type": "stream",
     "text": [
      "[[5615   19]\n",
      " [ 318  186]]\n",
      "              precision    recall  f1-score   support\n",
      "\n",
      "           0       0.95      1.00      0.97      5634\n",
      "           1       0.91      0.37      0.52       504\n",
      "\n",
      "    accuracy                           0.95      6138\n",
      "   macro avg       0.93      0.68      0.75      6138\n",
      "weighted avg       0.94      0.95      0.93      6138\n",
      "\n"
     ]
    }
   ],
   "source": [
    "#Checking Validation Accuracy\n",
    "y_pred = classifier.predict(X_validation_W)\n",
    "print(confusion_matrix(y_validation, y_pred))\n",
    "print(classification_report(y_validation, y_pred))"
   ]
  },
  {
   "cell_type": "code",
   "execution_count": null,
   "metadata": {
    "ExecuteTime": {
     "end_time": "2021-05-29T15:06:25.313398Z",
     "start_time": "2021-05-29T15:06:25.247586Z"
    },
    "hidden": true,
    "id": "X21s9msBIWPp",
    "outputId": "d31e80eb-4a4d-4590-deb8-6c057f0ff46c"
   },
   "outputs": [
    {
     "name": "stdout",
     "output_type": "stream",
     "text": [
      "[[8439   24]\n",
      " [ 491  255]]\n",
      "              precision    recall  f1-score   support\n",
      "\n",
      "           0       0.95      1.00      0.97      8463\n",
      "           1       0.91      0.34      0.50       746\n",
      "\n",
      "    accuracy                           0.94      9209\n",
      "   macro avg       0.93      0.67      0.73      9209\n",
      "weighted avg       0.94      0.94      0.93      9209\n",
      "\n"
     ]
    }
   ],
   "source": [
    "#Checking test Accuracy\n",
    "y_pred = classifier.predict(X_test_W)\n",
    "print(confusion_matrix(y_test, y_pred))\n",
    "print(classification_report(y_test, y_pred))"
   ]
  },
  {
   "cell_type": "markdown",
   "metadata": {
    "heading_collapsed": true,
    "hidden": true,
    "id": "logXygLsIWPp"
   },
   "source": [
    "##### Grid Search Cross Validation"
   ]
  },
  {
   "cell_type": "code",
   "execution_count": null,
   "metadata": {
    "ExecuteTime": {
     "end_time": "2021-05-29T15:06:45.552906Z",
     "start_time": "2021-05-29T15:06:45.536017Z"
    },
    "hidden": true,
    "id": "2uAfTvgUIWPp"
   },
   "outputs": [],
   "source": [
    "#Importing Grid Search Cross Validation and roc auc scoring metric\n",
    "from sklearn.model_selection import GridSearchCV\n",
    "from sklearn.metrics import roc_auc_score"
   ]
  },
  {
   "cell_type": "code",
   "execution_count": null,
   "metadata": {
    "ExecuteTime": {
     "end_time": "2021-05-29T17:05:20.312039Z",
     "start_time": "2021-05-29T17:05:20.291997Z"
    },
    "hidden": true,
    "id": "iQv6dIboIWPp",
    "outputId": "d35d4bbc-86b1-4007-ad56-1d5a09560920"
   },
   "outputs": [
    {
     "data": {
      "text/plain": [
       "[{'learning_rate': [0.1, 0.2, 0.3, 0.4],\n",
       "  'n_estimators': [10, 50, 75, 100, 150, 200, 300, 400],\n",
       "  'gamma': [0, 0.1, 0.2, 0.3, 0.4]}]"
      ]
     },
     "execution_count": 71,
     "metadata": {
      "tags": []
     },
     "output_type": "execute_result"
    }
   ],
   "source": [
    "#Making a matrix of hyperparameters\n",
    "parameters = [{'learning_rate': [0.1, 0.2, 0.3, 0.4],\n",
    "                'n_estimators': [10, 50, 75, 100, 150, 200 , 300, 400],\n",
    "               'gamma': [0, 0.1, 0.2, 0.3, 0.4]}]\n",
    "\n",
    "parameters"
   ]
  },
  {
   "cell_type": "code",
   "execution_count": null,
   "metadata": {
    "ExecuteTime": {
     "end_time": "2021-05-29T17:07:57.957253Z",
     "start_time": "2021-05-29T17:05:49.798368Z"
    },
    "hidden": true,
    "id": "vsHASLvfIWPq",
    "outputId": "f62f4a0d-5e8d-4080-ff4f-96838b66693d"
   },
   "outputs": [
    {
     "name": "stdout",
     "output_type": "stream",
     "text": [
      "[22:37:57] WARNING: C:/Users/Administrator/workspace/xgboost-win64_release_1.4.0/src/learner.cc:1095: Starting in XGBoost 1.3.0, the default evaluation metric used with the objective 'binary:logistic' was changed from 'error' to 'logloss'. Explicitly set eval_metric if you'd like to restore the old behavior.\n"
     ]
    }
   ],
   "source": [
    "#Fitting grid search CV with the validation set\n",
    "grid_search = GridSearchCV(estimator=classifier, param_grid=parameters, scoring='roc_auc', n_jobs=-1)\n",
    "grid_search = grid_search.fit(X_validation_W, y_validation)"
   ]
  },
  {
   "cell_type": "code",
   "execution_count": null,
   "metadata": {
    "ExecuteTime": {
     "end_time": "2021-05-29T17:07:58.226522Z",
     "start_time": "2021-05-29T17:07:58.212562Z"
    },
    "hidden": true,
    "id": "PX4aq1AqIWPq",
    "outputId": "43f67496-76da-432c-fda9-0cb3a746f6ee"
   },
   "outputs": [
    {
     "data": {
      "text/plain": [
       "0.8868488462618345"
      ]
     },
     "execution_count": 73,
     "metadata": {
      "tags": []
     },
     "output_type": "execute_result"
    }
   ],
   "source": [
    "#Observing roc_auc score (higher the better)\n",
    "grid_search.best_score_"
   ]
  },
  {
   "cell_type": "code",
   "execution_count": null,
   "metadata": {
    "ExecuteTime": {
     "end_time": "2021-05-29T17:07:58.449365Z",
     "start_time": "2021-05-29T17:07:58.434988Z"
    },
    "hidden": true,
    "id": "CuhB5SFhIWPr",
    "outputId": "ac64c5a6-d960-4120-d968-991b221f9903"
   },
   "outputs": [
    {
     "data": {
      "text/plain": [
       "{'gamma': 0.3, 'learning_rate': 0.3, 'n_estimators': 150}"
      ]
     },
     "execution_count": 74,
     "metadata": {
      "tags": []
     },
     "output_type": "execute_result"
    }
   ],
   "source": [
    "#Finding the best hyperparameters\n",
    "grid_search.best_params_"
   ]
  },
  {
   "cell_type": "markdown",
   "metadata": {
    "heading_collapsed": true,
    "hidden": true,
    "id": "1c2RxAhiIWPr"
   },
   "source": [
    "##### NEW HYPER-PARAMETERS"
   ]
  },
  {
   "cell_type": "code",
   "execution_count": null,
   "metadata": {
    "ExecuteTime": {
     "end_time": "2021-05-29T17:10:17.780311Z",
     "start_time": "2021-05-29T17:10:16.880575Z"
    },
    "hidden": true,
    "id": "HputCn5OIWPr",
    "outputId": "7f80e8b1-3039-428a-e003-aea9b0fb4ab4"
   },
   "outputs": [
    {
     "name": "stdout",
     "output_type": "stream",
     "text": [
      "[22:40:16] WARNING: C:/Users/Administrator/workspace/xgboost-win64_release_1.4.0/src/learner.cc:1095: Starting in XGBoost 1.3.0, the default evaluation metric used with the objective 'binary:logistic' was changed from 'error' to 'logloss'. Explicitly set eval_metric if you'd like to restore the old behavior.\n"
     ]
    },
    {
     "data": {
      "text/plain": [
       "XGBClassifier(base_score=0.5, booster='gbtree', colsample_bylevel=1,\n",
       "              colsample_bynode=1, colsample_bytree=1, gamma=0.3, gpu_id=-1,\n",
       "              importance_type='gain', interaction_constraints='',\n",
       "              learning_rate=0.3, max_delta_step=0, max_depth=4,\n",
       "              min_child_weight=1, missing=nan, monotone_constraints='()',\n",
       "              n_estimators=150, n_jobs=8, num_parallel_tree=1, random_state=0,\n",
       "              reg_alpha=0, reg_lambda=1, scale_pos_weight=1, subsample=1,\n",
       "              tree_method='exact', validate_parameters=1, verbosity=None)"
      ]
     },
     "execution_count": 79,
     "metadata": {
      "tags": []
     },
     "output_type": "execute_result"
    }
   ],
   "source": [
    "# Fitting XGBoost to the Training Set\n",
    "classifier = XGBClassifier(learning_rate=0.3, n_estimators=150, max_depth=4,\n",
    "                      gamma=0.3)\n",
    "classifier.fit(X_train_W, y_train)"
   ]
  },
  {
   "cell_type": "code",
   "execution_count": null,
   "metadata": {
    "ExecuteTime": {
     "end_time": "2021-05-29T17:10:22.820514Z",
     "start_time": "2021-05-29T17:10:22.661938Z"
    },
    "hidden": true,
    "id": "l-ifSy4oIWPs",
    "outputId": "fc464e33-9b91-4833-bbc6-569e2a6c2701"
   },
   "outputs": [
    {
     "name": "stdout",
     "output_type": "stream",
     "text": [
      "[[35997    46]\n",
      " [ 2225  1193]]\n",
      "              precision    recall  f1-score   support\n",
      "\n",
      "           0       0.94      1.00      0.97     36043\n",
      "           1       0.96      0.35      0.51      3418\n",
      "\n",
      "    accuracy                           0.94     39461\n",
      "   macro avg       0.95      0.67      0.74     39461\n",
      "weighted avg       0.94      0.94      0.93     39461\n",
      "\n"
     ]
    }
   ],
   "source": [
    "#Checking Training Accuracy\n",
    "y_pred = classifier.predict(X_train_W)\n",
    "print(confusion_matrix(y_train, y_pred))\n",
    "print(classification_report(y_train, y_pred))"
   ]
  },
  {
   "cell_type": "code",
   "execution_count": null,
   "metadata": {
    "ExecuteTime": {
     "end_time": "2021-05-29T17:10:36.655411Z",
     "start_time": "2021-05-29T17:10:36.610554Z"
    },
    "hidden": true,
    "id": "qmEtlCT7IWPs",
    "outputId": "8ff7da4e-0031-45d2-e90c-09e7e88e551a"
   },
   "outputs": [
    {
     "name": "stdout",
     "output_type": "stream",
     "text": [
      "[[5618   16]\n",
      " [ 317  187]]\n",
      "              precision    recall  f1-score   support\n",
      "\n",
      "           0       0.95      1.00      0.97      5634\n",
      "           1       0.92      0.37      0.53       504\n",
      "\n",
      "    accuracy                           0.95      6138\n",
      "   macro avg       0.93      0.68      0.75      6138\n",
      "weighted avg       0.94      0.95      0.93      6138\n",
      "\n"
     ]
    }
   ],
   "source": [
    "#Checking Validation Accuracy\n",
    "y_pred = classifier.predict(X_validation_W)\n",
    "print(confusion_matrix(y_validation, y_pred))\n",
    "print(classification_report(y_validation, y_pred))"
   ]
  },
  {
   "cell_type": "code",
   "execution_count": null,
   "metadata": {
    "ExecuteTime": {
     "end_time": "2021-05-29T17:10:46.323104Z",
     "start_time": "2021-05-29T17:10:46.261296Z"
    },
    "hidden": true,
    "id": "6wa6pB5pIWPs",
    "outputId": "d16a5f02-f829-43eb-9e5c-87fc620ea283"
   },
   "outputs": [
    {
     "name": "stdout",
     "output_type": "stream",
     "text": [
      "[[8444   19]\n",
      " [ 493  253]]\n",
      "              precision    recall  f1-score   support\n",
      "\n",
      "           0       0.94      1.00      0.97      8463\n",
      "           1       0.93      0.34      0.50       746\n",
      "\n",
      "    accuracy                           0.94      9209\n",
      "   macro avg       0.94      0.67      0.73      9209\n",
      "weighted avg       0.94      0.94      0.93      9209\n",
      "\n"
     ]
    }
   ],
   "source": [
    "#Checking test Accuracy\n",
    "y_pred = classifier.predict(X_test_W)\n",
    "print(confusion_matrix(y_test, y_pred))\n",
    "print(classification_report(y_test, y_pred))"
   ]
  },
  {
   "cell_type": "markdown",
   "metadata": {
    "heading_collapsed": true,
    "hidden": true,
    "id": "8lzQOaYhJgAv"
   },
   "source": [
    "### **Embedded** suggested Features"
   ]
  },
  {
   "cell_type": "markdown",
   "metadata": {
    "heading_collapsed": true,
    "hidden": true,
    "id": "AM_GJ98fJgAv"
   },
   "source": [
    "#### Random Forest"
   ]
  },
  {
   "cell_type": "markdown",
   "metadata": {
    "heading_collapsed": true,
    "hidden": true,
    "id": "JuCx4dYNJgAw"
   },
   "source": [
    "##### Default Parameters"
   ]
  },
  {
   "cell_type": "code",
   "execution_count": 7,
   "metadata": {
    "ExecuteTime": {
     "end_time": "2021-05-29T14:00:52.745645Z",
     "start_time": "2021-05-29T14:00:51.517774Z"
    },
    "colab": {
     "base_uri": "https://localhost:8080/"
    },
    "hidden": true,
    "id": "0ldYN438JgAw",
    "outputId": "a1929784-e2a7-4ada-e409-264e49be521b"
   },
   "outputs": [
    {
     "data": {
      "text/plain": [
       "RandomForestClassifier(bootstrap=True, ccp_alpha=0.0, class_weight=None,\n",
       "                       criterion='gini', max_depth=None, max_features='auto',\n",
       "                       max_leaf_nodes=None, max_samples=None,\n",
       "                       min_impurity_decrease=0.0, min_impurity_split=None,\n",
       "                       min_samples_leaf=1, min_samples_split=2,\n",
       "                       min_weight_fraction_leaf=0.0, n_estimators=100,\n",
       "                       n_jobs=None, oob_score=False, random_state=42, verbose=0,\n",
       "                       warm_start=False)"
      ]
     },
     "execution_count": 7,
     "metadata": {
      "tags": []
     },
     "output_type": "execute_result"
    }
   ],
   "source": [
    "#Fitting Random Forest Classifier with default parameters to the Training Set\n",
    "classifier = RandomForestClassifier(random_state=42)\n",
    "classifier.fit(X_trainF, y_train)"
   ]
  },
  {
   "cell_type": "code",
   "execution_count": 8,
   "metadata": {
    "ExecuteTime": {
     "end_time": "2021-05-29T14:00:55.746091Z",
     "start_time": "2021-05-29T14:00:55.234545Z"
    },
    "colab": {
     "base_uri": "https://localhost:8080/"
    },
    "hidden": true,
    "id": "s4yzEXdYJgAx",
    "outputId": "ce8c0c2d-a3c5-414c-9a5a-0f1c1dbf6f7a"
   },
   "outputs": [
    {
     "name": "stdout",
     "output_type": "stream",
     "text": [
      "[[36022    21]\n",
      " [   77  3341]]\n",
      "              precision    recall  f1-score   support\n",
      "\n",
      "           0       1.00      1.00      1.00     36043\n",
      "           1       0.99      0.98      0.99      3418\n",
      "\n",
      "    accuracy                           1.00     39461\n",
      "   macro avg       1.00      0.99      0.99     39461\n",
      "weighted avg       1.00      1.00      1.00     39461\n",
      "\n"
     ]
    }
   ],
   "source": [
    "#Checking Training Accuracy\n",
    "y_pred = classifier.predict(X_trainF)\n",
    "print(confusion_matrix(y_train, y_pred))\n",
    "print(classification_report(y_train, y_pred))"
   ]
  },
  {
   "cell_type": "code",
   "execution_count": 9,
   "metadata": {
    "ExecuteTime": {
     "end_time": "2021-05-29T14:01:06.640769Z",
     "start_time": "2021-05-29T14:01:06.535052Z"
    },
    "colab": {
     "base_uri": "https://localhost:8080/"
    },
    "hidden": true,
    "id": "Q9I1XD_5JgAx",
    "outputId": "d61bef04-b00c-4904-bef3-9b5874c5126c"
   },
   "outputs": [
    {
     "name": "stdout",
     "output_type": "stream",
     "text": [
      "[[5577   57]\n",
      " [ 341  163]]\n",
      "              precision    recall  f1-score   support\n",
      "\n",
      "           0       0.94      0.99      0.97      5634\n",
      "           1       0.74      0.32      0.45       504\n",
      "\n",
      "    accuracy                           0.94      6138\n",
      "   macro avg       0.84      0.66      0.71      6138\n",
      "weighted avg       0.93      0.94      0.92      6138\n",
      "\n"
     ]
    }
   ],
   "source": [
    "#Checking Validation Accuracy\n",
    "y_pred = classifier.predict(X_validationF)\n",
    "print(confusion_matrix(y_validation, y_pred))\n",
    "print(classification_report(y_validation, y_pred))"
   ]
  },
  {
   "cell_type": "code",
   "execution_count": 10,
   "metadata": {
    "ExecuteTime": {
     "end_time": "2021-05-29T14:01:32.181960Z",
     "start_time": "2021-05-29T14:01:32.038186Z"
    },
    "colab": {
     "base_uri": "https://localhost:8080/"
    },
    "hidden": true,
    "id": "580FEEX1JgAy",
    "outputId": "d15461b0-288d-4e2a-9a3e-acf19afcd403"
   },
   "outputs": [
    {
     "name": "stdout",
     "output_type": "stream",
     "text": [
      "[[8376   87]\n",
      " [ 507  239]]\n",
      "              precision    recall  f1-score   support\n",
      "\n",
      "           0       0.94      0.99      0.97      8463\n",
      "           1       0.73      0.32      0.45       746\n",
      "\n",
      "    accuracy                           0.94      9209\n",
      "   macro avg       0.84      0.66      0.71      9209\n",
      "weighted avg       0.93      0.94      0.92      9209\n",
      "\n"
     ]
    }
   ],
   "source": [
    "#Checking test Accuracy\n",
    "y_pred = classifier.predict(X_testF)\n",
    "print(confusion_matrix(y_test, y_pred))\n",
    "print(classification_report(y_test, y_pred))"
   ]
  },
  {
   "cell_type": "markdown",
   "metadata": {
    "heading_collapsed": true,
    "hidden": true,
    "id": "KKCFLeoUJgAy"
   },
   "source": [
    "##### Grid Search Cross Validation"
   ]
  },
  {
   "cell_type": "code",
   "execution_count": 11,
   "metadata": {
    "ExecuteTime": {
     "end_time": "2021-05-29T13:49:47.410035Z",
     "start_time": "2021-05-29T13:49:47.406090Z"
    },
    "hidden": true,
    "id": "RLq3kpgDJgAy"
   },
   "outputs": [],
   "source": [
    "#Importing Grid Search Cross Validation and roc auc scoring metric\n",
    "from sklearn.model_selection import GridSearchCV\n",
    "from sklearn.metrics import roc_auc_score"
   ]
  },
  {
   "cell_type": "code",
   "execution_count": 31,
   "metadata": {
    "ExecuteTime": {
     "end_time": "2021-05-29T14:21:32.392308Z",
     "start_time": "2021-05-29T14:21:32.385970Z"
    },
    "colab": {
     "base_uri": "https://localhost:8080/"
    },
    "hidden": true,
    "id": "YQKJP7KtJgAz",
    "outputId": "c344fd7d-b9e6-4931-ac36-f22d0d336f11"
   },
   "outputs": [
    {
     "data": {
      "text/plain": [
       "[{'max_depth': [1, 2, 3, 4, 5, None],\n",
       "  'max_leaf_nodes': [1, 2, None],\n",
       "  'min_samples_leaf': [1, 2],\n",
       "  'min_samples_split': [2, 3],\n",
       "  'n_estimators': [10, 50, 75, 100, 200, 300]}]"
      ]
     },
     "execution_count": 31,
     "metadata": {
      "tags": []
     },
     "output_type": "execute_result"
    }
   ],
   "source": [
    "#Making a matrix of hyperparameters\n",
    "parameters = [{'n_estimators': [10, 50, 75, 100, 200, 300],\n",
    "               'max_depth': [1,2,3,4,5, None],\n",
    "               'min_samples_split': [2, 3],\n",
    "               'min_samples_leaf': [1, 2],\n",
    "               'max_leaf_nodes': [1, 2, None]}]\n",
    "\n",
    "parameters"
   ]
  },
  {
   "cell_type": "code",
   "execution_count": 32,
   "metadata": {
    "ExecuteTime": {
     "end_time": "2021-05-29T14:33:54.237654Z",
     "start_time": "2021-05-29T14:21:39.461391Z"
    },
    "hidden": true,
    "id": "wZUgHgvJJgAz"
   },
   "outputs": [],
   "source": [
    "#Fitting grid search CV with the validation set\n",
    "grid_search = GridSearchCV(estimator=classifier, param_grid=parameters, scoring='roc_auc', n_jobs=-1)\n",
    "grid_search = grid_search.fit(X_validationF, y_validation)"
   ]
  },
  {
   "cell_type": "code",
   "execution_count": 33,
   "metadata": {
    "ExecuteTime": {
     "end_time": "2021-05-29T14:34:39.055739Z",
     "start_time": "2021-05-29T14:34:39.050756Z"
    },
    "colab": {
     "base_uri": "https://localhost:8080/"
    },
    "hidden": true,
    "id": "keDAD6N-JgAz",
    "outputId": "437bb867-1db9-4810-947a-b430c3be38e4"
   },
   "outputs": [
    {
     "data": {
      "text/plain": [
       "0.8719898238111836"
      ]
     },
     "execution_count": 33,
     "metadata": {
      "tags": []
     },
     "output_type": "execute_result"
    }
   ],
   "source": [
    "#Observing roc_auc score (higher the better)\n",
    "grid_search.best_score_"
   ]
  },
  {
   "cell_type": "code",
   "execution_count": 34,
   "metadata": {
    "ExecuteTime": {
     "end_time": "2021-05-29T14:33:54.560051Z",
     "start_time": "2021-05-29T14:33:54.523150Z"
    },
    "colab": {
     "base_uri": "https://localhost:8080/"
    },
    "hidden": true,
    "id": "zrb1T-NWJgAz",
    "outputId": "c5de9022-855a-485f-879c-1e4d33b916fa"
   },
   "outputs": [
    {
     "data": {
      "text/plain": [
       "{'max_depth': None,\n",
       " 'max_leaf_nodes': None,\n",
       " 'min_samples_leaf': 1,\n",
       " 'min_samples_split': 3,\n",
       " 'n_estimators': 300}"
      ]
     },
     "execution_count": 34,
     "metadata": {
      "tags": []
     },
     "output_type": "execute_result"
    }
   ],
   "source": [
    "#Finding the best hyperparameters\n",
    "grid_search.best_params_"
   ]
  },
  {
   "cell_type": "markdown",
   "metadata": {
    "heading_collapsed": true,
    "hidden": true,
    "id": "41gxYxCGJgA0"
   },
   "source": [
    "##### NEW HYPER-PARAMETERS"
   ]
  },
  {
   "cell_type": "code",
   "execution_count": 35,
   "metadata": {
    "ExecuteTime": {
     "end_time": "2021-05-29T14:50:48.417719Z",
     "start_time": "2021-05-29T14:50:44.919419Z"
    },
    "colab": {
     "base_uri": "https://localhost:8080/"
    },
    "hidden": true,
    "id": "2dm120pLJgA0",
    "outputId": "deba9c8e-1acf-429c-c021-b4a37f987912"
   },
   "outputs": [
    {
     "data": {
      "text/plain": [
       "RandomForestClassifier(bootstrap=True, ccp_alpha=0.0, class_weight=None,\n",
       "                       criterion='gini', max_depth=None, max_features='auto',\n",
       "                       max_leaf_nodes=None, max_samples=None,\n",
       "                       min_impurity_decrease=0.0, min_impurity_split=None,\n",
       "                       min_samples_leaf=1, min_samples_split=3,\n",
       "                       min_weight_fraction_leaf=0.0, n_estimators=300,\n",
       "                       n_jobs=None, oob_score=False, random_state=42, verbose=0,\n",
       "                       warm_start=False)"
      ]
     },
     "execution_count": 35,
     "metadata": {
      "tags": []
     },
     "output_type": "execute_result"
    }
   ],
   "source": [
    "#Fitting Random Forest Classifier to the Training Set with new hyperparameters\n",
    "classifier = RandomForestClassifier(random_state=42, n_estimators = 300, min_samples_leaf=1, min_samples_split=3)\n",
    "classifier.fit(X_trainF, y_train)"
   ]
  },
  {
   "cell_type": "code",
   "execution_count": 36,
   "metadata": {
    "ExecuteTime": {
     "end_time": "2021-05-29T14:50:54.447802Z",
     "start_time": "2021-05-29T14:50:53.079176Z"
    },
    "colab": {
     "base_uri": "https://localhost:8080/"
    },
    "hidden": true,
    "id": "IUkMJnQ7JgA0",
    "outputId": "5b4207df-ea00-43b3-ee2e-3f616cba1ddc"
   },
   "outputs": [
    {
     "name": "stdout",
     "output_type": "stream",
     "text": [
      "[[36035     8]\n",
      " [  354  3064]]\n",
      "              precision    recall  f1-score   support\n",
      "\n",
      "           0       0.99      1.00      1.00     36043\n",
      "           1       1.00      0.90      0.94      3418\n",
      "\n",
      "    accuracy                           0.99     39461\n",
      "   macro avg       0.99      0.95      0.97     39461\n",
      "weighted avg       0.99      0.99      0.99     39461\n",
      "\n"
     ]
    }
   ],
   "source": [
    "#Checking Training Accuracy\n",
    "y_pred = classifier.predict(X_trainF)\n",
    "print(confusion_matrix(y_train, y_pred))\n",
    "print(classification_report(y_train, y_pred))"
   ]
  },
  {
   "cell_type": "code",
   "execution_count": 37,
   "metadata": {
    "ExecuteTime": {
     "end_time": "2021-05-29T14:51:05.228715Z",
     "start_time": "2021-05-29T14:51:04.925515Z"
    },
    "colab": {
     "base_uri": "https://localhost:8080/"
    },
    "hidden": true,
    "id": "IwvNNXmHJgA0",
    "outputId": "ab3e53ce-1478-46d3-8ab0-ba541e387cdd"
   },
   "outputs": [
    {
     "name": "stdout",
     "output_type": "stream",
     "text": [
      "[[5594   40]\n",
      " [ 344  160]]\n",
      "              precision    recall  f1-score   support\n",
      "\n",
      "           0       0.94      0.99      0.97      5634\n",
      "           1       0.80      0.32      0.45       504\n",
      "\n",
      "    accuracy                           0.94      6138\n",
      "   macro avg       0.87      0.66      0.71      6138\n",
      "weighted avg       0.93      0.94      0.92      6138\n",
      "\n"
     ]
    }
   ],
   "source": [
    "#Checking Validation Accuracy\n",
    "y_pred = classifier.predict(X_validationF)\n",
    "print(confusion_matrix(y_validation, y_pred))\n",
    "print(classification_report(y_validation, y_pred))"
   ]
  },
  {
   "cell_type": "code",
   "execution_count": 38,
   "metadata": {
    "ExecuteTime": {
     "end_time": "2021-05-29T14:51:13.996195Z",
     "start_time": "2021-05-29T14:51:13.640416Z"
    },
    "colab": {
     "base_uri": "https://localhost:8080/"
    },
    "hidden": true,
    "id": "3s80i81TJgA1",
    "outputId": "37f85731-195c-44ec-cc8e-33abed595f20"
   },
   "outputs": [
    {
     "name": "stdout",
     "output_type": "stream",
     "text": [
      "[[8412   51]\n",
      " [ 514  232]]\n",
      "              precision    recall  f1-score   support\n",
      "\n",
      "           0       0.94      0.99      0.97      8463\n",
      "           1       0.82      0.31      0.45       746\n",
      "\n",
      "    accuracy                           0.94      9209\n",
      "   macro avg       0.88      0.65      0.71      9209\n",
      "weighted avg       0.93      0.94      0.93      9209\n",
      "\n"
     ]
    }
   ],
   "source": [
    "#Checking test Accuracy\n",
    "y_pred = classifier.predict(X_testF)\n",
    "print(confusion_matrix(y_test, y_pred))\n",
    "print(classification_report(y_test, y_pred))"
   ]
  },
  {
   "cell_type": "markdown",
   "metadata": {
    "hidden": true,
    "id": "eDUTiOEnJgA1"
   },
   "source": [
    "#### XGBoost"
   ]
  },
  {
   "cell_type": "markdown",
   "metadata": {
    "heading_collapsed": true,
    "hidden": true,
    "id": "f429HIdzJgA1"
   },
   "source": [
    "##### Default Parameters"
   ]
  },
  {
   "cell_type": "code",
   "execution_count": 39,
   "metadata": {
    "ExecuteTime": {
     "end_time": "2021-05-29T15:05:54.988336Z",
     "start_time": "2021-05-29T15:05:53.988268Z"
    },
    "colab": {
     "base_uri": "https://localhost:8080/"
    },
    "hidden": true,
    "id": "PEbL0wPJJgA1",
    "outputId": "c38879c3-a47d-4e24-e473-937da4f5435e"
   },
   "outputs": [
    {
     "data": {
      "text/plain": [
       "XGBClassifier(base_score=0.5, booster='gbtree', colsample_bylevel=1,\n",
       "              colsample_bynode=1, colsample_bytree=1, gamma=0,\n",
       "              learning_rate=0.1, max_delta_step=0, max_depth=3,\n",
       "              min_child_weight=1, missing=None, n_estimators=100, n_jobs=1,\n",
       "              nthread=None, objective='binary:logistic', random_state=0,\n",
       "              reg_alpha=0, reg_lambda=1, scale_pos_weight=1, seed=None,\n",
       "              silent=None, subsample=1, verbosity=1)"
      ]
     },
     "execution_count": 39,
     "metadata": {
      "tags": []
     },
     "output_type": "execute_result"
    }
   ],
   "source": [
    "# Fitting XGBoost to the Training Set\n",
    "classifier = XGBClassifier()\n",
    "classifier.fit(X_trainF, y_train)"
   ]
  },
  {
   "cell_type": "code",
   "execution_count": 40,
   "metadata": {
    "ExecuteTime": {
     "end_time": "2021-05-29T15:06:09.061317Z",
     "start_time": "2021-05-29T15:06:08.875125Z"
    },
    "colab": {
     "base_uri": "https://localhost:8080/"
    },
    "hidden": true,
    "id": "FoO6fOLNJgA1",
    "outputId": "53391b01-5a28-496f-f5c1-dd8aef5b9c5f"
   },
   "outputs": [
    {
     "name": "stdout",
     "output_type": "stream",
     "text": [
      "[[36023    20]\n",
      " [ 2440   978]]\n",
      "              precision    recall  f1-score   support\n",
      "\n",
      "           0       0.94      1.00      0.97     36043\n",
      "           1       0.98      0.29      0.44      3418\n",
      "\n",
      "    accuracy                           0.94     39461\n",
      "   macro avg       0.96      0.64      0.70     39461\n",
      "weighted avg       0.94      0.94      0.92     39461\n",
      "\n"
     ]
    }
   ],
   "source": [
    "#Checking Training Accuracy\n",
    "y_pred = classifier.predict(X_trainF)\n",
    "print(confusion_matrix(y_train, y_pred))\n",
    "print(classification_report(y_train, y_pred))"
   ]
  },
  {
   "cell_type": "code",
   "execution_count": 41,
   "metadata": {
    "ExecuteTime": {
     "end_time": "2021-05-29T15:06:20.778758Z",
     "start_time": "2021-05-29T15:06:20.725937Z"
    },
    "colab": {
     "base_uri": "https://localhost:8080/"
    },
    "hidden": true,
    "id": "2PbTEaffJgA2",
    "outputId": "f77a879d-2368-4adf-833b-00d4724b94c2"
   },
   "outputs": [
    {
     "name": "stdout",
     "output_type": "stream",
     "text": [
      "[[5627    7]\n",
      " [ 352  152]]\n",
      "              precision    recall  f1-score   support\n",
      "\n",
      "           0       0.94      1.00      0.97      5634\n",
      "           1       0.96      0.30      0.46       504\n",
      "\n",
      "    accuracy                           0.94      6138\n",
      "   macro avg       0.95      0.65      0.71      6138\n",
      "weighted avg       0.94      0.94      0.93      6138\n",
      "\n"
     ]
    }
   ],
   "source": [
    "#Checking Validation Accuracy\n",
    "y_pred = classifier.predict(X_validationF)\n",
    "print(confusion_matrix(y_validation, y_pred))\n",
    "print(classification_report(y_validation, y_pred))"
   ]
  },
  {
   "cell_type": "code",
   "execution_count": 42,
   "metadata": {
    "ExecuteTime": {
     "end_time": "2021-05-29T15:06:25.313398Z",
     "start_time": "2021-05-29T15:06:25.247586Z"
    },
    "colab": {
     "base_uri": "https://localhost:8080/"
    },
    "hidden": true,
    "id": "9B8deZLdJgA2",
    "outputId": "31965c70-527b-4e6c-8786-1a47665f0c9a"
   },
   "outputs": [
    {
     "name": "stdout",
     "output_type": "stream",
     "text": [
      "[[8456    7]\n",
      " [ 530  216]]\n",
      "              precision    recall  f1-score   support\n",
      "\n",
      "           0       0.94      1.00      0.97      8463\n",
      "           1       0.97      0.29      0.45       746\n",
      "\n",
      "    accuracy                           0.94      9209\n",
      "   macro avg       0.95      0.64      0.71      9209\n",
      "weighted avg       0.94      0.94      0.93      9209\n",
      "\n"
     ]
    }
   ],
   "source": [
    "#Checking test Accuracy\n",
    "y_pred = classifier.predict(X_testF)\n",
    "print(confusion_matrix(y_test, y_pred))\n",
    "print(classification_report(y_test, y_pred))"
   ]
  },
  {
   "cell_type": "markdown",
   "metadata": {
    "heading_collapsed": true,
    "hidden": true,
    "id": "sJjXT_A_JgA2"
   },
   "source": [
    "##### Grid Search Cross Validation"
   ]
  },
  {
   "cell_type": "code",
   "execution_count": 43,
   "metadata": {
    "ExecuteTime": {
     "end_time": "2021-05-29T15:06:45.552906Z",
     "start_time": "2021-05-29T15:06:45.536017Z"
    },
    "hidden": true,
    "id": "-zBLUQpxJgA2"
   },
   "outputs": [],
   "source": [
    "#Importing Grid Search Cross Validation and roc auc scoring metric\n",
    "from sklearn.model_selection import GridSearchCV\n",
    "from sklearn.metrics import roc_auc_score"
   ]
  },
  {
   "cell_type": "code",
   "execution_count": 44,
   "metadata": {
    "ExecuteTime": {
     "end_time": "2021-05-29T17:05:20.312039Z",
     "start_time": "2021-05-29T17:05:20.291997Z"
    },
    "colab": {
     "base_uri": "https://localhost:8080/"
    },
    "hidden": true,
    "id": "adkdvW6eJgA3",
    "outputId": "89e22a70-a95d-4612-f60c-b31ba8a30cbd"
   },
   "outputs": [
    {
     "data": {
      "text/plain": [
       "[{'gamma': [0, 0.1, 0.2, 0.3, 0.4],\n",
       "  'learning_rate': [0.1, 0.2, 0.3, 0.4],\n",
       "  'n_estimators': [10, 50, 75, 100, 150, 200, 300, 400]}]"
      ]
     },
     "execution_count": 44,
     "metadata": {
      "tags": []
     },
     "output_type": "execute_result"
    }
   ],
   "source": [
    "#Making a matrix of hyperparameters\n",
    "parameters = [{'learning_rate': [0.1, 0.2, 0.3, 0.4],\n",
    "                'n_estimators': [10, 50, 75, 100, 150, 200 , 300, 400],\n",
    "               'gamma': [0, 0.1, 0.2, 0.3, 0.4]}]\n",
    "\n",
    "parameters"
   ]
  },
  {
   "cell_type": "code",
   "execution_count": 45,
   "metadata": {
    "ExecuteTime": {
     "end_time": "2021-05-29T17:07:57.957253Z",
     "start_time": "2021-05-29T17:05:49.798368Z"
    },
    "hidden": true,
    "id": "QAHJIRKmJgA3"
   },
   "outputs": [],
   "source": [
    "#Fitting grid search CV with the validation set\n",
    "grid_search = GridSearchCV(estimator=classifier, param_grid=parameters, scoring='roc_auc', n_jobs=-1)\n",
    "grid_search = grid_search.fit(X_validationF, y_validation)"
   ]
  },
  {
   "cell_type": "code",
   "execution_count": 46,
   "metadata": {
    "ExecuteTime": {
     "end_time": "2021-05-29T17:07:58.226522Z",
     "start_time": "2021-05-29T17:07:58.212562Z"
    },
    "colab": {
     "base_uri": "https://localhost:8080/"
    },
    "hidden": true,
    "id": "zZVuYuz3JgA3",
    "outputId": "c6737c22-f3ac-45e7-af5f-a69cf5ea77fb"
   },
   "outputs": [
    {
     "data": {
      "text/plain": [
       "0.8889617684285808"
      ]
     },
     "execution_count": 46,
     "metadata": {
      "tags": []
     },
     "output_type": "execute_result"
    }
   ],
   "source": [
    "#Observing roc_auc score (higher the better)\n",
    "grid_search.best_score_"
   ]
  },
  {
   "cell_type": "code",
   "execution_count": 47,
   "metadata": {
    "ExecuteTime": {
     "end_time": "2021-05-29T17:07:58.449365Z",
     "start_time": "2021-05-29T17:07:58.434988Z"
    },
    "colab": {
     "base_uri": "https://localhost:8080/"
    },
    "hidden": true,
    "id": "oqQUDIrsJgA3",
    "outputId": "d1c40c59-8ec8-479b-a331-d50c0178ed31"
   },
   "outputs": [
    {
     "data": {
      "text/plain": [
       "{'gamma': 0.2, 'learning_rate': 0.1, 'n_estimators': 200}"
      ]
     },
     "execution_count": 47,
     "metadata": {
      "tags": []
     },
     "output_type": "execute_result"
    }
   ],
   "source": [
    "#Finding the best hyperparameters\n",
    "grid_search.best_params_"
   ]
  },
  {
   "cell_type": "markdown",
   "metadata": {
    "heading_collapsed": true,
    "hidden": true,
    "id": "4gWqjQx9JgA4"
   },
   "source": [
    "##### NEW HYPER-PARAMETERS"
   ]
  },
  {
   "cell_type": "code",
   "execution_count": 48,
   "metadata": {
    "ExecuteTime": {
     "end_time": "2021-05-29T17:10:17.780311Z",
     "start_time": "2021-05-29T17:10:16.880575Z"
    },
    "colab": {
     "base_uri": "https://localhost:8080/"
    },
    "hidden": true,
    "id": "EgzuVSCqJgA4",
    "outputId": "af8bd659-8256-4824-dc5b-4fb0b7fd340b"
   },
   "outputs": [
    {
     "data": {
      "text/plain": [
       "XGBClassifier(base_score=0.5, booster='gbtree', colsample_bylevel=1,\n",
       "              colsample_bynode=1, colsample_bytree=1, gamma=0.2,\n",
       "              learning_rate=0.1, max_delta_step=0, max_depth=3,\n",
       "              min_child_weight=1, missing=None, n_estimators=200, n_jobs=1,\n",
       "              nthread=None, objective='binary:logistic', random_state=0,\n",
       "              reg_alpha=0, reg_lambda=1, scale_pos_weight=1, seed=None,\n",
       "              silent=None, subsample=1, verbosity=1)"
      ]
     },
     "execution_count": 48,
     "metadata": {
      "tags": []
     },
     "output_type": "execute_result"
    }
   ],
   "source": [
    "# Fitting XGBoost to the Training Set\n",
    "classifier = XGBClassifier(learning_rate=0.1, n_estimators=200, gamma=0.2)\n",
    "classifier.fit(X_trainF, y_train)"
   ]
  },
  {
   "cell_type": "code",
   "execution_count": 49,
   "metadata": {
    "ExecuteTime": {
     "end_time": "2021-05-29T17:10:22.820514Z",
     "start_time": "2021-05-29T17:10:22.661938Z"
    },
    "colab": {
     "base_uri": "https://localhost:8080/"
    },
    "hidden": true,
    "id": "C0IKIfHhJgA4",
    "outputId": "68c970a5-652e-40d4-ebc8-fa348f417c94"
   },
   "outputs": [
    {
     "name": "stdout",
     "output_type": "stream",
     "text": [
      "[[36011    32]\n",
      " [ 2307  1111]]\n",
      "              precision    recall  f1-score   support\n",
      "\n",
      "           0       0.94      1.00      0.97     36043\n",
      "           1       0.97      0.33      0.49      3418\n",
      "\n",
      "    accuracy                           0.94     39461\n",
      "   macro avg       0.96      0.66      0.73     39461\n",
      "weighted avg       0.94      0.94      0.93     39461\n",
      "\n"
     ]
    }
   ],
   "source": [
    "#Checking Training Accuracy\n",
    "y_pred = classifier.predict(X_trainF)\n",
    "print(confusion_matrix(y_train, y_pred))\n",
    "print(classification_report(y_train, y_pred))"
   ]
  },
  {
   "cell_type": "code",
   "execution_count": 50,
   "metadata": {
    "ExecuteTime": {
     "end_time": "2021-05-29T17:10:36.655411Z",
     "start_time": "2021-05-29T17:10:36.610554Z"
    },
    "colab": {
     "base_uri": "https://localhost:8080/"
    },
    "hidden": true,
    "id": "JKR09StAJgA4",
    "outputId": "13d4b511-372a-486d-c525-6d2144802f22"
   },
   "outputs": [
    {
     "name": "stdout",
     "output_type": "stream",
     "text": [
      "[[5626    8]\n",
      " [ 332  172]]\n",
      "              precision    recall  f1-score   support\n",
      "\n",
      "           0       0.94      1.00      0.97      5634\n",
      "           1       0.96      0.34      0.50       504\n",
      "\n",
      "    accuracy                           0.94      6138\n",
      "   macro avg       0.95      0.67      0.74      6138\n",
      "weighted avg       0.95      0.94      0.93      6138\n",
      "\n"
     ]
    }
   ],
   "source": [
    "#Checking Validation Accuracy\n",
    "y_pred = classifier.predict(X_validationF)\n",
    "print(confusion_matrix(y_validation, y_pred))\n",
    "print(classification_report(y_validation, y_pred))"
   ]
  },
  {
   "cell_type": "code",
   "execution_count": 51,
   "metadata": {
    "ExecuteTime": {
     "end_time": "2021-05-29T17:10:46.323104Z",
     "start_time": "2021-05-29T17:10:46.261296Z"
    },
    "colab": {
     "base_uri": "https://localhost:8080/"
    },
    "hidden": true,
    "id": "EjzgWOfKJgA4",
    "outputId": "6a360d11-f116-4077-bc5f-03979782f524"
   },
   "outputs": [
    {
     "name": "stdout",
     "output_type": "stream",
     "text": [
      "[[8454    9]\n",
      " [ 503  243]]\n",
      "              precision    recall  f1-score   support\n",
      "\n",
      "           0       0.94      1.00      0.97      8463\n",
      "           1       0.96      0.33      0.49       746\n",
      "\n",
      "    accuracy                           0.94      9209\n",
      "   macro avg       0.95      0.66      0.73      9209\n",
      "weighted avg       0.95      0.94      0.93      9209\n",
      "\n"
     ]
    }
   ],
   "source": [
    "#Checking test Accuracy\n",
    "y_pred = classifier.predict(X_testF)\n",
    "print(confusion_matrix(y_test, y_pred))\n",
    "print(classification_report(y_test, y_pred))"
   ]
  },
  {
   "cell_type": "code",
   "execution_count": null,
   "metadata": {
    "hidden": true,
    "id": "REBBlEH0WjW9"
   },
   "outputs": [],
   "source": []
  }
 ],
 "metadata": {
  "colab": {
   "collapsed_sections": [
    "OJZooLs8Qf0J",
    "oRXxVT5vQmtQ",
    "0uO11jjG0NBb",
    "afNZY8wx0YZ7",
    "B20tn--U3dfA",
    "p5e_2hhTIWPK",
    "gQT0j8FjIWPc",
    "Xr0uYNcNIWPm",
    "knLndRVwIWPo",
    "logXygLsIWPp",
    "1c2RxAhiIWPr",
    "eDUTiOEnJgA1",
    "sJjXT_A_JgA2"
   ],
   "name": "HR_ANALYTICS.ipynb",
   "provenance": []
  },
  "hide_input": false,
  "kernelspec": {
   "display_name": "Python 3",
   "language": "python",
   "name": "python3"
  },
  "language_info": {
   "codemirror_mode": {
    "name": "ipython",
    "version": 3
   },
   "file_extension": ".py",
   "mimetype": "text/x-python",
   "name": "python",
   "nbconvert_exporter": "python",
   "pygments_lexer": "ipython3",
   "version": "3.8.5"
  },
  "toc": {
   "base_numbering": 1,
   "nav_menu": {
    "height": "218px",
    "width": "546px"
   },
   "number_sections": true,
   "sideBar": true,
   "skip_h1_title": false,
   "title_cell": "Table of Contents",
   "title_sidebar": "Contents",
   "toc_cell": false,
   "toc_position": {
    "height": "calc(100% - 180px)",
    "left": "10px",
    "top": "150px",
    "width": "196px"
   },
   "toc_section_display": false,
   "toc_window_display": true
  },
  "varInspector": {
   "cols": {
    "lenName": 16,
    "lenType": 16,
    "lenVar": 40
   },
   "kernels_config": {
    "python": {
     "delete_cmd_postfix": "",
     "delete_cmd_prefix": "del ",
     "library": "var_list.py",
     "varRefreshCmd": "print(var_dic_list())"
    },
    "r": {
     "delete_cmd_postfix": ") ",
     "delete_cmd_prefix": "rm(",
     "library": "var_list.r",
     "varRefreshCmd": "cat(var_dic_list()) "
    }
   },
   "oldHeight": 265.667,
   "position": {
    "height": "287.667px",
    "left": "918px",
    "right": "20px",
    "top": "120px",
    "width": "342px"
   },
   "types_to_exclude": [
    "module",
    "function",
    "builtin_function_or_method",
    "instance",
    "_Feature"
   ],
   "varInspector_section_display": "block",
   "window_display": false
  }
 },
 "nbformat": 4,
 "nbformat_minor": 1
}
